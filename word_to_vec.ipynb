{
 "cells": [
  {
   "cell_type": "code",
   "execution_count": 1,
   "metadata": {
    "collapsed": true
   },
   "outputs": [],
   "source": [
    "#load the csv to the notebook\n",
    "import pandas as pd"
   ]
  },
  {
   "cell_type": "code",
   "execution_count": 2,
   "metadata": {},
   "outputs": [
    {
     "data": {
      "text/html": [
       "<div>\n",
       "<style>\n",
       "    .dataframe thead tr:only-child th {\n",
       "        text-align: right;\n",
       "    }\n",
       "\n",
       "    .dataframe thead th {\n",
       "        text-align: left;\n",
       "    }\n",
       "\n",
       "    .dataframe tbody tr th {\n",
       "        vertical-align: top;\n",
       "    }\n",
       "</style>\n",
       "<table border=\"1\" class=\"dataframe\">\n",
       "  <thead>\n",
       "    <tr style=\"text-align: right;\">\n",
       "      <th></th>\n",
       "      <th>Unnamed: 0</th>\n",
       "      <th>user</th>\n",
       "      <th>location</th>\n",
       "      <th>date</th>\n",
       "      <th>rating</th>\n",
       "      <th>title</th>\n",
       "      <th>comments</th>\n",
       "    </tr>\n",
       "  </thead>\n",
       "  <tbody>\n",
       "    <tr>\n",
       "      <th>0</th>\n",
       "      <td>0</td>\n",
       "      <td>NaN</td>\n",
       "      <td>unknown</td>\n",
       "      <td>June 21, 2018</td>\n",
       "      <td>50</td>\n",
       "      <td>Thanks again Go Card</td>\n",
       "      <td>Go early. They have weekend yoga activities. L...</td>\n",
       "    </tr>\n",
       "    <tr>\n",
       "      <th>1</th>\n",
       "      <td>0</td>\n",
       "      <td>NaN</td>\n",
       "      <td>NaN</td>\n",
       "      <td>June 21, 2018</td>\n",
       "      <td>50</td>\n",
       "      <td>Great people watching, skyline viewing</td>\n",
       "      <td>Really enjoyed the Gospel Fest, so much to see...</td>\n",
       "    </tr>\n",
       "    <tr>\n",
       "      <th>2</th>\n",
       "      <td>0</td>\n",
       "      <td>NaN</td>\n",
       "      <td>unknown</td>\n",
       "      <td>June 21, 2018</td>\n",
       "      <td>40</td>\n",
       "      <td>Very Interesting</td>\n",
       "      <td>I love the atmosphere, the art, and the struct...</td>\n",
       "    </tr>\n",
       "    <tr>\n",
       "      <th>3</th>\n",
       "      <td>0</td>\n",
       "      <td>NaN</td>\n",
       "      <td>NaN</td>\n",
       "      <td>June 20, 2018</td>\n",
       "      <td>40</td>\n",
       "      <td>Lovely place</td>\n",
       "      <td>Second visit to this smashing park between the...</td>\n",
       "    </tr>\n",
       "    <tr>\n",
       "      <th>4</th>\n",
       "      <td>0</td>\n",
       "      <td>NaN</td>\n",
       "      <td>unknown</td>\n",
       "      <td>June 20, 2018</td>\n",
       "      <td>40</td>\n",
       "      <td>great greenery sightseeing</td>\n",
       "      <td>A perfect place for photos and driving a bike,...</td>\n",
       "    </tr>\n",
       "  </tbody>\n",
       "</table>\n",
       "</div>"
      ],
      "text/plain": [
       "   Unnamed: 0  user location           date  rating  \\\n",
       "0           0   NaN  unknown  June 21, 2018      50   \n",
       "1           0   NaN      NaN  June 21, 2018      50   \n",
       "2           0   NaN  unknown  June 21, 2018      40   \n",
       "3           0   NaN      NaN  June 20, 2018      40   \n",
       "4           0   NaN  unknown  June 20, 2018      40   \n",
       "\n",
       "                                    title  \\\n",
       "0                    Thanks again Go Card   \n",
       "1  Great people watching, skyline viewing   \n",
       "2                        Very Interesting   \n",
       "3                            Lovely place   \n",
       "4              great greenery sightseeing   \n",
       "\n",
       "                                            comments  \n",
       "0  Go early. They have weekend yoga activities. L...  \n",
       "1  Really enjoyed the Gospel Fest, so much to see...  \n",
       "2  I love the atmosphere, the art, and the struct...  \n",
       "3  Second visit to this smashing park between the...  \n",
       "4  A perfect place for photos and driving a bike,...  "
      ]
     },
     "execution_count": 2,
     "metadata": {},
     "output_type": "execute_result"
    }
   ],
   "source": [
    "rawInput=pd.read_csv('tripadvisor millimum park.csv',encoding=\"ISO-8859-1\")\n",
    "rawInput.head()"
   ]
  },
  {
   "cell_type": "markdown",
   "metadata": {},
   "source": [
    "## preprocess text"
   ]
  },
  {
   "cell_type": "code",
   "execution_count": 6,
   "metadata": {
    "collapsed": true
   },
   "outputs": [],
   "source": [
    "#import the nltk lib for preprocessing\n",
    "import nltk\n",
    "from nltk.corpus import stopwords \n",
    "from nltk.stem.wordnet import WordNetLemmatizer"
   ]
  },
  {
   "cell_type": "code",
   "execution_count": 7,
   "metadata": {
    "collapsed": true
   },
   "outputs": [],
   "source": [
    "#nltk.download() #make sure the computer has all nltk corpus"
   ]
  },
  {
   "cell_type": "code",
   "execution_count": 8,
   "metadata": {},
   "outputs": [],
   "source": [
    "import string #for getting punctuation\n",
    "import gensim"
   ]
  },
  {
   "cell_type": "code",
   "execution_count": 9,
   "metadata": {
    "collapsed": true
   },
   "outputs": [],
   "source": [
    "stop = set(stopwords.words('english'))\n",
    "exclude = set(string.punctuation) \n",
    "lemma = WordNetLemmatizer()##WordNetLemmatizer is a class"
   ]
  },
  {
   "cell_type": "code",
   "execution_count": 10,
   "metadata": {
    "collapsed": true
   },
   "outputs": [],
   "source": [
    "##a def to clean the text(typical way), very nice\n",
    "def clean(doc):\n",
    "    stop_free = \" \".join([i for i in gensim.utils.simple_preprocess(doc,min_len=3) if i not in stop])\n",
    "    ##simple_preprocess can lowercase words and tokenize them,you can set up min len of token too,here is 3, so word like AI will not be included\n",
    "    punc_free = ''.join(ch for ch in stop_free if ch not in exclude)\n",
    "    normalized = \" \".join(lemma.lemmatize(word) for word in punc_free.split())##这个用来找stem\n",
    "    return normalized"
   ]
  },
  {
   "cell_type": "code",
   "execution_count": 11,
   "metadata": {
    "collapsed": true
   },
   "outputs": [],
   "source": [
    "doc_complete=rawInput['comments'][:100]"
   ]
  },
  {
   "cell_type": "code",
   "execution_count": 12,
   "metadata": {
    "collapsed": true
   },
   "outputs": [],
   "source": [
    "doc_clean = [clean(doc).split() for doc in doc_complete]    \n",
    "#doc_clean is a list中包list,每个item是一个doc的tokens"
   ]
  },
  {
   "cell_type": "code",
   "execution_count": 43,
   "metadata": {},
   "outputs": [
    {
     "data": {
      "text/plain": [
       "[['early',\n",
       "  'weekend',\n",
       "  'yoga',\n",
       "  'activity',\n",
       "  'lot',\n",
       "  'great',\n",
       "  'area',\n",
       "  'take',\n",
       "  'picture',\n",
       "  'restaurant',\n",
       "  'line',\n",
       "  'side',\n",
       "  'visit',\n",
       "  'gift',\n",
       "  'shop',\n",
       "  'reasonable',\n",
       "  'priced',\n",
       "  'souvenir'],\n",
       " ['really',\n",
       "  'enjoyed',\n",
       "  'gospel',\n",
       "  'fest',\n",
       "  'much',\n",
       "  'see',\n",
       "  'around',\n",
       "  'stage',\n",
       "  'awesome',\n",
       "  'could',\n",
       "  'spend',\n",
       "  'hour']]"
      ]
     },
     "execution_count": 43,
     "metadata": {},
     "output_type": "execute_result"
    }
   ],
   "source": [
    "doc_clean[:2]"
   ]
  },
  {
   "cell_type": "markdown",
   "metadata": {},
   "source": [
    "## Train Word2Vec"
   ]
  },
  {
   "cell_type": "code",
   "execution_count": 17,
   "metadata": {
    "collapsed": true
   },
   "outputs": [],
   "source": [
    "#import gensim.models.word2vec as w2v\n",
    "import gensim\n",
    "from gensim import corpora\n",
    "import multiprocessing\n"
   ]
  },
  {
   "cell_type": "code",
   "execution_count": 18,
   "metadata": {},
   "outputs": [],
   "source": [
    "#build model\n",
    "#3 main tasks that vectors help with\n",
    "#DISTANCE, SIMILARITY, RANKING\n",
    "\n",
    "# Dimensionality of the resulting word vectors.\n",
    "#more dimensions, more computationally expensive to train but also more accurate\n",
    "#more dimensions = more generalized\n",
    "num_features = 300\n",
    "# Minimum word count threshold.\n",
    "min_word_count = 3\n",
    "\n",
    "# Number of threads to run in parallel, more workers, faster we train\n",
    "num_workers = multiprocessing.cpu_count()\n",
    "\n",
    "# Context window length.\n",
    "context_size = 7\n",
    "\n",
    "# Downsample setting for frequent words.\n",
    "#0 - 1e-5 is good for this\n",
    "downsampling = 1e-3\n",
    "\n",
    "# Seed for the RNG, to make the results reproducible.\n",
    "#random number generator\n",
    "#deterministic, good for debugging\n",
    "seed = 1"
   ]
  },
  {
   "cell_type": "code",
   "execution_count": 77,
   "metadata": {},
   "outputs": [],
   "source": [
    "word2vec = gensim.models.word2vec.Word2Vec(doc_clean,\n",
    "    sg=1,\n",
    "    seed=seed,\n",
    "    workers=num_workers,\n",
    "    size=num_features,\n",
    "    min_count=min_word_count,\n",
    "    window=context_size,\n",
    "    sample=downsampling\n",
    ")"
   ]
  },
  {
   "cell_type": "code",
   "execution_count": 78,
   "metadata": {},
   "outputs": [
    {
     "name": "stderr",
     "output_type": "stream",
     "text": [
      "C:\\Users\\thean\\Anaconda3\\lib\\site-packages\\ipykernel_launcher.py:2: DeprecationWarning: Call to deprecated `iter` (Attribute will be removed in 4.0.0, use self.epochs instead).\n",
      "  \n"
     ]
    },
    {
     "data": {
      "text/plain": [
       "(4706, 11665)"
      ]
     },
     "execution_count": 78,
     "metadata": {},
     "output_type": "execute_result"
    }
   ],
   "source": [
    "#train the sentences\n",
    "word2vec.train(doc_clean,total_examples=len(doc_clean), epochs=word2vec.iter)#epochs is training iterations"
   ]
  },
  {
   "cell_type": "code",
   "execution_count": 85,
   "metadata": {},
   "outputs": [
    {
     "name": "stderr",
     "output_type": "stream",
     "text": [
      "C:\\Users\\thean\\Anaconda3\\lib\\site-packages\\ipykernel_launcher.py:2: DeprecationWarning: Call to deprecated `most_similar` (Method will be removed in 4.0.0, use self.wv.most_similar() instead).\n",
      "  \n"
     ]
    },
    {
     "data": {
      "text/plain": [
       "[('free', 0.999837338924408),\n",
       " ('nice', 0.9998323917388916),\n",
       " ('food', 0.9998291730880737),\n",
       " ('park', 0.9998283386230469),\n",
       " ('take', 0.9998214244842529),\n",
       " ('garden', 0.9998208284378052),\n",
       " ('kid', 0.9998206496238708),\n",
       " ('easy', 0.9998193383216858),\n",
       " ('water', 0.9998184442520142),\n",
       " ('place', 0.9998180866241455),\n",
       " ('also', 0.9998164772987366),\n",
       " ('picture', 0.999816358089447),\n",
       " ('concert', 0.9998162388801575),\n",
       " ('music', 0.9998158812522888),\n",
       " ('right', 0.999815046787262),\n",
       " ('picnic', 0.9998116493225098),\n",
       " ('view', 0.9998114705085754),\n",
       " ('around', 0.999810516834259),\n",
       " ('photo', 0.9998100996017456),\n",
       " ('keep', 0.9998099207878113)]"
      ]
     },
     "execution_count": 85,
     "metadata": {},
     "output_type": "execute_result"
    }
   ],
   "source": [
    "#explore the trained model\n",
    "word2vec.most_similar('enjoy',topn=20)#topn is the number of similar words"
   ]
  },
  {
   "cell_type": "code",
   "execution_count": null,
   "metadata": {
    "collapsed": true
   },
   "outputs": [],
   "source": []
  },
  {
   "cell_type": "code",
   "execution_count": null,
   "metadata": {
    "collapsed": true
   },
   "outputs": [],
   "source": []
  },
  {
   "cell_type": "code",
   "execution_count": null,
   "metadata": {
    "collapsed": true
   },
   "outputs": [],
   "source": []
  },
  {
   "cell_type": "code",
   "execution_count": null,
   "metadata": {
    "collapsed": true
   },
   "outputs": [],
   "source": []
  }
 ],
 "metadata": {
  "kernelspec": {
   "display_name": "Python 3",
   "language": "python",
   "name": "python3"
  },
  "language_info": {
   "codemirror_mode": {
    "name": "ipython",
    "version": 3
   },
   "file_extension": ".py",
   "mimetype": "text/x-python",
   "name": "python",
   "nbconvert_exporter": "python",
   "pygments_lexer": "ipython3",
   "version": "3.6.3"
  }
 },
 "nbformat": 4,
 "nbformat_minor": 2
}
