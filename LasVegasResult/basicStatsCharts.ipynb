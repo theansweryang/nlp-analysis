{
  "cells": [
    {
      "cell_type": "code",
      "execution_count": 29,
      "metadata": {
        "collapsed": true,
        "pycharm": {
          "is_executing": false
        }
      },
      "outputs": [],
      "source": "import pandas as pd\nimport collections\nimport os\nimport numpy as np"
    },
    {
      "cell_type": "markdown",
      "source": "## Import data",
      "metadata": {
        "pycharm": {
          "metadata": false
        }
      }
    },
    {
      "cell_type": "code",
      "execution_count": 4,
      "outputs": [
        {
          "data": {
            "text/plain": "  season  year month rate         0         1         2         3         4  \\\n0     sp    17   Mar    C  0.002381  0.573810  0.002381  0.002381  0.002381   \n1      a    16   Nov    D  0.093939  0.366667  0.003030  0.003030  0.093939   \n2     sp    12   Mar    B  0.003704  0.337037  0.003704  0.003704  0.225926   \n3     sp    18   Apr    A  0.001449  0.305797  0.001449  0.001449  0.001449   \n4      w    11   Dec    A  0.003030  0.275758  0.003030  0.003030  0.003030   \n\n          5  ...        20        21        22        23        24        25  \\\n0  0.002381  ...  0.002381  0.002381  0.002381  0.002381  0.002381  0.359524   \n1  0.003030  ...  0.003030  0.003030  0.003030  0.003030  0.003030  0.366667   \n2  0.003704  ...  0.003704  0.003704  0.003704  0.003704  0.003704  0.337037   \n3  0.001449  ...  0.001449  0.001449  0.001449  0.001449  0.001449  0.088900   \n4  0.003030  ...  0.003030  0.003030  0.003030  0.003030  0.003030  0.639394   \n\n         26        27        28        29  \n0  0.002381  0.002381  0.002381  0.002381  \n1  0.003030  0.003030  0.003030  0.003030  \n2  0.003704  0.003704  0.003704  0.003704  \n3  0.001449  0.001449  0.001449  0.001449  \n4  0.003030  0.003030  0.003030  0.003030  \n\n[5 rows x 34 columns]",
            "text/html": "\u003cdiv\u003e\n\u003cstyle scoped\u003e\n    .dataframe tbody tr th:only-of-type {\n        vertical-align: middle;\n    }\n\n    .dataframe tbody tr th {\n        vertical-align: top;\n    }\n\n    .dataframe thead th {\n        text-align: right;\n    }\n\u003c/style\u003e\n\u003ctable border\u003d\"1\" class\u003d\"dataframe\"\u003e\n  \u003cthead\u003e\n    \u003ctr style\u003d\"text-align: right;\"\u003e\n      \u003cth\u003e\u003c/th\u003e\n      \u003cth\u003eseason\u003c/th\u003e\n      \u003cth\u003eyear\u003c/th\u003e\n      \u003cth\u003emonth\u003c/th\u003e\n      \u003cth\u003erate\u003c/th\u003e\n      \u003cth\u003e0\u003c/th\u003e\n      \u003cth\u003e1\u003c/th\u003e\n      \u003cth\u003e2\u003c/th\u003e\n      \u003cth\u003e3\u003c/th\u003e\n      \u003cth\u003e4\u003c/th\u003e\n      \u003cth\u003e5\u003c/th\u003e\n      \u003cth\u003e...\u003c/th\u003e\n      \u003cth\u003e20\u003c/th\u003e\n      \u003cth\u003e21\u003c/th\u003e\n      \u003cth\u003e22\u003c/th\u003e\n      \u003cth\u003e23\u003c/th\u003e\n      \u003cth\u003e24\u003c/th\u003e\n      \u003cth\u003e25\u003c/th\u003e\n      \u003cth\u003e26\u003c/th\u003e\n      \u003cth\u003e27\u003c/th\u003e\n      \u003cth\u003e28\u003c/th\u003e\n      \u003cth\u003e29\u003c/th\u003e\n    \u003c/tr\u003e\n  \u003c/thead\u003e\n  \u003ctbody\u003e\n    \u003ctr\u003e\n      \u003cth\u003e0\u003c/th\u003e\n      \u003ctd\u003esp\u003c/td\u003e\n      \u003ctd\u003e17\u003c/td\u003e\n      \u003ctd\u003eMar\u003c/td\u003e\n      \u003ctd\u003eC\u003c/td\u003e\n      \u003ctd\u003e0.002381\u003c/td\u003e\n      \u003ctd\u003e0.573810\u003c/td\u003e\n      \u003ctd\u003e0.002381\u003c/td\u003e\n      \u003ctd\u003e0.002381\u003c/td\u003e\n      \u003ctd\u003e0.002381\u003c/td\u003e\n      \u003ctd\u003e0.002381\u003c/td\u003e\n      \u003ctd\u003e...\u003c/td\u003e\n      \u003ctd\u003e0.002381\u003c/td\u003e\n      \u003ctd\u003e0.002381\u003c/td\u003e\n      \u003ctd\u003e0.002381\u003c/td\u003e\n      \u003ctd\u003e0.002381\u003c/td\u003e\n      \u003ctd\u003e0.002381\u003c/td\u003e\n      \u003ctd\u003e0.359524\u003c/td\u003e\n      \u003ctd\u003e0.002381\u003c/td\u003e\n      \u003ctd\u003e0.002381\u003c/td\u003e\n      \u003ctd\u003e0.002381\u003c/td\u003e\n      \u003ctd\u003e0.002381\u003c/td\u003e\n    \u003c/tr\u003e\n    \u003ctr\u003e\n      \u003cth\u003e1\u003c/th\u003e\n      \u003ctd\u003ea\u003c/td\u003e\n      \u003ctd\u003e16\u003c/td\u003e\n      \u003ctd\u003eNov\u003c/td\u003e\n      \u003ctd\u003eD\u003c/td\u003e\n      \u003ctd\u003e0.093939\u003c/td\u003e\n      \u003ctd\u003e0.366667\u003c/td\u003e\n      \u003ctd\u003e0.003030\u003c/td\u003e\n      \u003ctd\u003e0.003030\u003c/td\u003e\n      \u003ctd\u003e0.093939\u003c/td\u003e\n      \u003ctd\u003e0.003030\u003c/td\u003e\n      \u003ctd\u003e...\u003c/td\u003e\n      \u003ctd\u003e0.003030\u003c/td\u003e\n      \u003ctd\u003e0.003030\u003c/td\u003e\n      \u003ctd\u003e0.003030\u003c/td\u003e\n      \u003ctd\u003e0.003030\u003c/td\u003e\n      \u003ctd\u003e0.003030\u003c/td\u003e\n      \u003ctd\u003e0.366667\u003c/td\u003e\n      \u003ctd\u003e0.003030\u003c/td\u003e\n      \u003ctd\u003e0.003030\u003c/td\u003e\n      \u003ctd\u003e0.003030\u003c/td\u003e\n      \u003ctd\u003e0.003030\u003c/td\u003e\n    \u003c/tr\u003e\n    \u003ctr\u003e\n      \u003cth\u003e2\u003c/th\u003e\n      \u003ctd\u003esp\u003c/td\u003e\n      \u003ctd\u003e12\u003c/td\u003e\n      \u003ctd\u003eMar\u003c/td\u003e\n      \u003ctd\u003eB\u003c/td\u003e\n      \u003ctd\u003e0.003704\u003c/td\u003e\n      \u003ctd\u003e0.337037\u003c/td\u003e\n      \u003ctd\u003e0.003704\u003c/td\u003e\n      \u003ctd\u003e0.003704\u003c/td\u003e\n      \u003ctd\u003e0.225926\u003c/td\u003e\n      \u003ctd\u003e0.003704\u003c/td\u003e\n      \u003ctd\u003e...\u003c/td\u003e\n      \u003ctd\u003e0.003704\u003c/td\u003e\n      \u003ctd\u003e0.003704\u003c/td\u003e\n      \u003ctd\u003e0.003704\u003c/td\u003e\n      \u003ctd\u003e0.003704\u003c/td\u003e\n      \u003ctd\u003e0.003704\u003c/td\u003e\n      \u003ctd\u003e0.337037\u003c/td\u003e\n      \u003ctd\u003e0.003704\u003c/td\u003e\n      \u003ctd\u003e0.003704\u003c/td\u003e\n      \u003ctd\u003e0.003704\u003c/td\u003e\n      \u003ctd\u003e0.003704\u003c/td\u003e\n    \u003c/tr\u003e\n    \u003ctr\u003e\n      \u003cth\u003e3\u003c/th\u003e\n      \u003ctd\u003esp\u003c/td\u003e\n      \u003ctd\u003e18\u003c/td\u003e\n      \u003ctd\u003eApr\u003c/td\u003e\n      \u003ctd\u003eA\u003c/td\u003e\n      \u003ctd\u003e0.001449\u003c/td\u003e\n      \u003ctd\u003e0.305797\u003c/td\u003e\n      \u003ctd\u003e0.001449\u003c/td\u003e\n      \u003ctd\u003e0.001449\u003c/td\u003e\n      \u003ctd\u003e0.001449\u003c/td\u003e\n      \u003ctd\u003e0.001449\u003c/td\u003e\n      \u003ctd\u003e...\u003c/td\u003e\n      \u003ctd\u003e0.001449\u003c/td\u003e\n      \u003ctd\u003e0.001449\u003c/td\u003e\n      \u003ctd\u003e0.001449\u003c/td\u003e\n      \u003ctd\u003e0.001449\u003c/td\u003e\n      \u003ctd\u003e0.001449\u003c/td\u003e\n      \u003ctd\u003e0.088900\u003c/td\u003e\n      \u003ctd\u003e0.001449\u003c/td\u003e\n      \u003ctd\u003e0.001449\u003c/td\u003e\n      \u003ctd\u003e0.001449\u003c/td\u003e\n      \u003ctd\u003e0.001449\u003c/td\u003e\n    \u003c/tr\u003e\n    \u003ctr\u003e\n      \u003cth\u003e4\u003c/th\u003e\n      \u003ctd\u003ew\u003c/td\u003e\n      \u003ctd\u003e11\u003c/td\u003e\n      \u003ctd\u003eDec\u003c/td\u003e\n      \u003ctd\u003eA\u003c/td\u003e\n      \u003ctd\u003e0.003030\u003c/td\u003e\n      \u003ctd\u003e0.275758\u003c/td\u003e\n      \u003ctd\u003e0.003030\u003c/td\u003e\n      \u003ctd\u003e0.003030\u003c/td\u003e\n      \u003ctd\u003e0.003030\u003c/td\u003e\n      \u003ctd\u003e0.003030\u003c/td\u003e\n      \u003ctd\u003e...\u003c/td\u003e\n      \u003ctd\u003e0.003030\u003c/td\u003e\n      \u003ctd\u003e0.003030\u003c/td\u003e\n      \u003ctd\u003e0.003030\u003c/td\u003e\n      \u003ctd\u003e0.003030\u003c/td\u003e\n      \u003ctd\u003e0.003030\u003c/td\u003e\n      \u003ctd\u003e0.639394\u003c/td\u003e\n      \u003ctd\u003e0.003030\u003c/td\u003e\n      \u003ctd\u003e0.003030\u003c/td\u003e\n      \u003ctd\u003e0.003030\u003c/td\u003e\n      \u003ctd\u003e0.003030\u003c/td\u003e\n    \u003c/tr\u003e\n  \u003c/tbody\u003e\n\u003c/table\u003e\n\u003cp\u003e5 rows × 34 columns\u003c/p\u003e\n\u003c/div\u003e"
          },
          "metadata": {},
          "output_type": "execute_result",
          "execution_count": 4
        }
      ],
      "source": "os.chdir(r\"D:\\NDSUGoogle\\Pyntebook\\nlp analysis\\LasVegasResult\")\nrawData\u003dpd.read_csv(\u0027complete_data.csv\u0027)\nrawData\u003drawData.drop(\u0027Unnamed: 0\u0027, axis\u003d1)\nrawData.head()",
      "metadata": {
        "pycharm": {
          "metadata": false,
          "name": "#%%\n",
          "is_executing": false
        }
      }
    },
    {
      "cell_type": "markdown",
      "source": "1 stats each year",
      "metadata": {
        "pycharm": {
          "metadata": false,
          "name": "#%% md\n",
          "is_executing": false
        }
      }
    },
    {
      "cell_type": "code",
      "execution_count": 10,
      "outputs": [
        {
          "data": {
            "text/plain": "{8: 3,\n 9: 11,\n 10: 12,\n 11: 52,\n 12: 496,\n 13: 346,\n 14: 634,\n 15: 5132,\n 16: 6736,\n 17: 4983,\n 18: 2068}"
          },
          "metadata": {},
          "output_type": "execute_result",
          "execution_count": 10
        }
      ],
      "source": "#numbers each year\nyears\u003d rawData[\u0027year\u0027].to_list()\nyearCount\u003d{}\nfor i in list(set(years)):\n    yearCount[i]\u003dyears.count(i)\nyearCount\n\n",
      "metadata": {
        "pycharm": {
          "metadata": false,
          "name": "#%%\n",
          "is_executing": false
        }
      }
    },
    {
      "cell_type": "markdown",
      "source": "## get saliance(how many reviews the topics cover) of each topics",
      "metadata": {
        "pycharm": {
          "metadata": false,
          "name": "#%% md\n",
          "is_executing": false
        }
      }
    },
    {
      "cell_type": "code",
      "source": "## recode rate to 3 categories\nrawData.loc[rawData[\u0027rate\u0027]\u003d\u003d\"A\", \u0027rate2\u0027]\u003d\u0027pos\u0027\nrawData.loc[rawData[\u0027rate\u0027]\u003d\u003d\"B\", \u0027rate2\u0027]\u003d\u0027pos\u0027\nrawData.loc[rawData[\u0027rate\u0027]\u003d\u003d\"C\", \u0027rate2\u0027]\u003d\u0027neg\u0027\nrawData.loc[rawData[\u0027rate\u0027]\u003d\u003d\"D\", \u0027rate2\u0027]\u003d\u0027neg\u0027\nrawData.loc[rawData[\u0027rate\u0027]\u003d\u003d\"E\", \u0027rate2\u0027]\u003d\u0027neg\u0027\nrawData.head()\n",
      "metadata": {
        "pycharm": {
          "metadata": false,
          "name": "#%%\n",
          "is_executing": false
        }
      },
      "execution_count": 12,
      "outputs": [
        {
          "data": {
            "text/plain": "  season  year month rate         0         1         2         3         4  \\\n0     sp    17   Mar    C  0.002381  0.573810  0.002381  0.002381  0.002381   \n1      a    16   Nov    D  0.093939  0.366667  0.003030  0.003030  0.093939   \n2     sp    12   Mar    B  0.003704  0.337037  0.003704  0.003704  0.225926   \n3     sp    18   Apr    A  0.001449  0.305797  0.001449  0.001449  0.001449   \n4      w    11   Dec    A  0.003030  0.275758  0.003030  0.003030  0.003030   \n\n          5  ...        21        22        23        24        25        26  \\\n0  0.002381  ...  0.002381  0.002381  0.002381  0.002381  0.359524  0.002381   \n1  0.003030  ...  0.003030  0.003030  0.003030  0.003030  0.366667  0.003030   \n2  0.003704  ...  0.003704  0.003704  0.003704  0.003704  0.337037  0.003704   \n3  0.001449  ...  0.001449  0.001449  0.001449  0.001449  0.088900  0.001449   \n4  0.003030  ...  0.003030  0.003030  0.003030  0.003030  0.639394  0.003030   \n\n         27        28        29  rate2  \n0  0.002381  0.002381  0.002381    neg  \n1  0.003030  0.003030  0.003030    neg  \n2  0.003704  0.003704  0.003704    pos  \n3  0.001449  0.001449  0.001449    pos  \n4  0.003030  0.003030  0.003030    pos  \n\n[5 rows x 35 columns]",
            "text/html": "\u003cdiv\u003e\n\u003cstyle scoped\u003e\n    .dataframe tbody tr th:only-of-type {\n        vertical-align: middle;\n    }\n\n    .dataframe tbody tr th {\n        vertical-align: top;\n    }\n\n    .dataframe thead th {\n        text-align: right;\n    }\n\u003c/style\u003e\n\u003ctable border\u003d\"1\" class\u003d\"dataframe\"\u003e\n  \u003cthead\u003e\n    \u003ctr style\u003d\"text-align: right;\"\u003e\n      \u003cth\u003e\u003c/th\u003e\n      \u003cth\u003eseason\u003c/th\u003e\n      \u003cth\u003eyear\u003c/th\u003e\n      \u003cth\u003emonth\u003c/th\u003e\n      \u003cth\u003erate\u003c/th\u003e\n      \u003cth\u003e0\u003c/th\u003e\n      \u003cth\u003e1\u003c/th\u003e\n      \u003cth\u003e2\u003c/th\u003e\n      \u003cth\u003e3\u003c/th\u003e\n      \u003cth\u003e4\u003c/th\u003e\n      \u003cth\u003e5\u003c/th\u003e\n      \u003cth\u003e...\u003c/th\u003e\n      \u003cth\u003e21\u003c/th\u003e\n      \u003cth\u003e22\u003c/th\u003e\n      \u003cth\u003e23\u003c/th\u003e\n      \u003cth\u003e24\u003c/th\u003e\n      \u003cth\u003e25\u003c/th\u003e\n      \u003cth\u003e26\u003c/th\u003e\n      \u003cth\u003e27\u003c/th\u003e\n      \u003cth\u003e28\u003c/th\u003e\n      \u003cth\u003e29\u003c/th\u003e\n      \u003cth\u003erate2\u003c/th\u003e\n    \u003c/tr\u003e\n  \u003c/thead\u003e\n  \u003ctbody\u003e\n    \u003ctr\u003e\n      \u003cth\u003e0\u003c/th\u003e\n      \u003ctd\u003esp\u003c/td\u003e\n      \u003ctd\u003e17\u003c/td\u003e\n      \u003ctd\u003eMar\u003c/td\u003e\n      \u003ctd\u003eC\u003c/td\u003e\n      \u003ctd\u003e0.002381\u003c/td\u003e\n      \u003ctd\u003e0.573810\u003c/td\u003e\n      \u003ctd\u003e0.002381\u003c/td\u003e\n      \u003ctd\u003e0.002381\u003c/td\u003e\n      \u003ctd\u003e0.002381\u003c/td\u003e\n      \u003ctd\u003e0.002381\u003c/td\u003e\n      \u003ctd\u003e...\u003c/td\u003e\n      \u003ctd\u003e0.002381\u003c/td\u003e\n      \u003ctd\u003e0.002381\u003c/td\u003e\n      \u003ctd\u003e0.002381\u003c/td\u003e\n      \u003ctd\u003e0.002381\u003c/td\u003e\n      \u003ctd\u003e0.359524\u003c/td\u003e\n      \u003ctd\u003e0.002381\u003c/td\u003e\n      \u003ctd\u003e0.002381\u003c/td\u003e\n      \u003ctd\u003e0.002381\u003c/td\u003e\n      \u003ctd\u003e0.002381\u003c/td\u003e\n      \u003ctd\u003eneg\u003c/td\u003e\n    \u003c/tr\u003e\n    \u003ctr\u003e\n      \u003cth\u003e1\u003c/th\u003e\n      \u003ctd\u003ea\u003c/td\u003e\n      \u003ctd\u003e16\u003c/td\u003e\n      \u003ctd\u003eNov\u003c/td\u003e\n      \u003ctd\u003eD\u003c/td\u003e\n      \u003ctd\u003e0.093939\u003c/td\u003e\n      \u003ctd\u003e0.366667\u003c/td\u003e\n      \u003ctd\u003e0.003030\u003c/td\u003e\n      \u003ctd\u003e0.003030\u003c/td\u003e\n      \u003ctd\u003e0.093939\u003c/td\u003e\n      \u003ctd\u003e0.003030\u003c/td\u003e\n      \u003ctd\u003e...\u003c/td\u003e\n      \u003ctd\u003e0.003030\u003c/td\u003e\n      \u003ctd\u003e0.003030\u003c/td\u003e\n      \u003ctd\u003e0.003030\u003c/td\u003e\n      \u003ctd\u003e0.003030\u003c/td\u003e\n      \u003ctd\u003e0.366667\u003c/td\u003e\n      \u003ctd\u003e0.003030\u003c/td\u003e\n      \u003ctd\u003e0.003030\u003c/td\u003e\n      \u003ctd\u003e0.003030\u003c/td\u003e\n      \u003ctd\u003e0.003030\u003c/td\u003e\n      \u003ctd\u003eneg\u003c/td\u003e\n    \u003c/tr\u003e\n    \u003ctr\u003e\n      \u003cth\u003e2\u003c/th\u003e\n      \u003ctd\u003esp\u003c/td\u003e\n      \u003ctd\u003e12\u003c/td\u003e\n      \u003ctd\u003eMar\u003c/td\u003e\n      \u003ctd\u003eB\u003c/td\u003e\n      \u003ctd\u003e0.003704\u003c/td\u003e\n      \u003ctd\u003e0.337037\u003c/td\u003e\n      \u003ctd\u003e0.003704\u003c/td\u003e\n      \u003ctd\u003e0.003704\u003c/td\u003e\n      \u003ctd\u003e0.225926\u003c/td\u003e\n      \u003ctd\u003e0.003704\u003c/td\u003e\n      \u003ctd\u003e...\u003c/td\u003e\n      \u003ctd\u003e0.003704\u003c/td\u003e\n      \u003ctd\u003e0.003704\u003c/td\u003e\n      \u003ctd\u003e0.003704\u003c/td\u003e\n      \u003ctd\u003e0.003704\u003c/td\u003e\n      \u003ctd\u003e0.337037\u003c/td\u003e\n      \u003ctd\u003e0.003704\u003c/td\u003e\n      \u003ctd\u003e0.003704\u003c/td\u003e\n      \u003ctd\u003e0.003704\u003c/td\u003e\n      \u003ctd\u003e0.003704\u003c/td\u003e\n      \u003ctd\u003epos\u003c/td\u003e\n    \u003c/tr\u003e\n    \u003ctr\u003e\n      \u003cth\u003e3\u003c/th\u003e\n      \u003ctd\u003esp\u003c/td\u003e\n      \u003ctd\u003e18\u003c/td\u003e\n      \u003ctd\u003eApr\u003c/td\u003e\n      \u003ctd\u003eA\u003c/td\u003e\n      \u003ctd\u003e0.001449\u003c/td\u003e\n      \u003ctd\u003e0.305797\u003c/td\u003e\n      \u003ctd\u003e0.001449\u003c/td\u003e\n      \u003ctd\u003e0.001449\u003c/td\u003e\n      \u003ctd\u003e0.001449\u003c/td\u003e\n      \u003ctd\u003e0.001449\u003c/td\u003e\n      \u003ctd\u003e...\u003c/td\u003e\n      \u003ctd\u003e0.001449\u003c/td\u003e\n      \u003ctd\u003e0.001449\u003c/td\u003e\n      \u003ctd\u003e0.001449\u003c/td\u003e\n      \u003ctd\u003e0.001449\u003c/td\u003e\n      \u003ctd\u003e0.088900\u003c/td\u003e\n      \u003ctd\u003e0.001449\u003c/td\u003e\n      \u003ctd\u003e0.001449\u003c/td\u003e\n      \u003ctd\u003e0.001449\u003c/td\u003e\n      \u003ctd\u003e0.001449\u003c/td\u003e\n      \u003ctd\u003epos\u003c/td\u003e\n    \u003c/tr\u003e\n    \u003ctr\u003e\n      \u003cth\u003e4\u003c/th\u003e\n      \u003ctd\u003ew\u003c/td\u003e\n      \u003ctd\u003e11\u003c/td\u003e\n      \u003ctd\u003eDec\u003c/td\u003e\n      \u003ctd\u003eA\u003c/td\u003e\n      \u003ctd\u003e0.003030\u003c/td\u003e\n      \u003ctd\u003e0.275758\u003c/td\u003e\n      \u003ctd\u003e0.003030\u003c/td\u003e\n      \u003ctd\u003e0.003030\u003c/td\u003e\n      \u003ctd\u003e0.003030\u003c/td\u003e\n      \u003ctd\u003e0.003030\u003c/td\u003e\n      \u003ctd\u003e...\u003c/td\u003e\n      \u003ctd\u003e0.003030\u003c/td\u003e\n      \u003ctd\u003e0.003030\u003c/td\u003e\n      \u003ctd\u003e0.003030\u003c/td\u003e\n      \u003ctd\u003e0.003030\u003c/td\u003e\n      \u003ctd\u003e0.639394\u003c/td\u003e\n      \u003ctd\u003e0.003030\u003c/td\u003e\n      \u003ctd\u003e0.003030\u003c/td\u003e\n      \u003ctd\u003e0.003030\u003c/td\u003e\n      \u003ctd\u003e0.003030\u003c/td\u003e\n      \u003ctd\u003epos\u003c/td\u003e\n    \u003c/tr\u003e\n  \u003c/tbody\u003e\n\u003c/table\u003e\n\u003cp\u003e5 rows × 35 columns\u003c/p\u003e\n\u003c/div\u003e"
          },
          "metadata": {},
          "output_type": "execute_result",
          "execution_count": 12
        }
      ]
    },
    {
      "cell_type": "code",
      "source": "#get the mean of all weights of reviews(document)\n#print (rawData[\u00270\u0027].describe())\nvalue\u003drawData.iloc[:,4:34].values\nallMean\u003dnp.mean(value)\nprint (\u0027mean of all review weights\u003d {}\u0027.format(allMean))\n\n#if a review weight is higher than 0 weight value then we count it as a valid review for its topic.\n#value.shape可知有20473个review\nsalienceTopic\u003d[]\nfor i in range(4,34):\n    salienceTopic.append(sum(rawData.iloc[:,i]\u003e0)/20473)\nprint (salienceTopic)\n",
      "metadata": {
        "pycharm": {
          "metadata": false,
          "name": "#%% \n",
          "is_executing": false
        }
      },
      "execution_count": 64,
      "outputs": [
        {
          "name": "stdout",
          "text": [
            "mean of all review weights\u003d 0.03319943677766164\n[0.7753626727885508, 0.7699408977677917, 0.7749230694084892, 0.7697943633077712, 0.8862892590240805, 0.7717970009280516, 0.7841547403897816, 0.774092707468373, 0.7700385874078054, 0.7621257265666976, 0.7786352757290089, 0.7987104967518195, 0.9637082987349191, 0.78464318858985, 0.7913837737507937, 0.7626630195867729, 0.7838128266497338, 0.7948517559712792, 0.7927514287109853, 0.794021394031163, 0.765935622527231, 0.7592438821862941, 0.7719923802080789, 0.8254774581155668, 0.7778049137888927, 0.9227763395691887, 0.8017388755922434, 0.8612318663605725, 0.7679382601475113, 0.9803155375372442]\n"
          ],
          "output_type": "stream"
        }
      ]
    },
    {
      "cell_type": "markdown",
      "source": "## get the valence(how positive it is ) of each topic \n",
      "metadata": {
        "pycharm": {
          "metadata": false,
          "name": "#%% md\n"
        }
      }
    },
    {
      "cell_type": "code",
      "source": "## valence needs to use logistic regression to do the work; \n##encode label to 0,1\nfrom sklearn.preprocessing import LabelEncoder\nle\u003dLabelEncoder()\nle.fit(rawData.iloc[:,34])\nprint (list(le.classes_))\nlabelY\u003d le.transform(rawData.iloc[:,34])\nprint (labelY)\n\nfrom sklearn.model_selection import train_test_split\nfrom sklearn.linear_model import LogisticRegression\nfeatureX\u003drawData.iloc[:,4:34]\n\n#split train and test\nX_train,X_test,y_train,y_test\u003dtrain_test_split(featureX,labelY,test_size\u003d0.10,random_state\u003d101)\n#create instance of LogisticRegression\nlogmodel\u003dLogisticRegression(random_state\u003d101, class_weight\u003d\u0027balanced\u0027)\n\n\n#fit the model using training data\nlogmodel.fit(X_train,y_train)\ny_predict\u003dlogmodel.predict(X_test)\n\n#evluate the model\nfrom sklearn.metrics import classification_report\nprint (classification_report(y_test,y_predict))\n\n#print coefficient\ncoef\u003dlogmodel.coef_\nprint (coef)\n",
      "metadata": {
        "pycharm": {
          "metadata": false,
          "name": "#%%\n",
          "is_executing": false
        }
      },
      "execution_count": 90,
      "outputs": [
        {
          "name": "stdout",
          "text": [
            "[\u0027neg\u0027, \u0027pos\u0027]\n[0 0 1 ... 1 1 1]\n              precision    recall  f1-score   support\n\n           0       0.29      0.67      0.40       309\n           1       0.92      0.71      0.80      1739\n\n    accuracy                           0.70      2048\n   macro avg       0.61      0.69      0.60      2048\nweighted avg       0.83      0.70      0.74      2048\n\n[[ 0.30521232  0.55843625 -0.73803091  0.96124596  0.47602428 -1.02798605\n  -0.77411636 -0.49403625 -0.24149062  0.56817968 -1.05648848 -1.32156792\n   0.79465093 -0.81902772 -3.05185837 -0.18395346 -0.07401251  2.00101101\n  -1.20897766  0.94964779 -0.32873667 -0.95801578 -0.72254737 -3.17592265\n   2.80295537  4.41441082  2.38844257 -2.48883252 -0.43594473  3.32162242]]\n"
          ],
          "output_type": "stream"
        },
        {
          "name": "stderr",
          "text": [
            "c:\\users\\yang\\appdata\\local\\programs\\python\\python37-32\\lib\\site-packages\\sklearn\\linear_model\\logistic.py:432: FutureWarning: Default solver will be changed to \u0027lbfgs\u0027 in 0.22. Specify a solver to silence this warning.\n  FutureWarning)\n"
          ],
          "output_type": "stream"
        }
      ]
    },
    {
      "cell_type": "code",
      "source": "print (list(coef[0]))\n",
      "metadata": {
        "pycharm": {
          "metadata": false,
          "name": "#%%\n",
          "is_executing": false
        }
      },
      "execution_count": 93,
      "outputs": [
        {
          "name": "stdout",
          "text": [
            "[0.30521231742474675, 0.5584362460607496, -0.7380309138087978, 0.9612459628731078, 0.4760242844906769, -1.0279860471189504, -0.7741163573425504, -0.4940362488967026, -0.24149061545693035, 0.568179680356048, -1.0564884806725363, -1.3215679210115587, 0.7946509256183992, -0.8190277237712364, -3.0518583736658287, -0.18395346343928146, -0.074012507415226, 2.001011005512146, -1.2089776639435628, 0.9496477918248761, -0.3287366721128423, -0.9580157755388048, -0.7225473677530211, -3.1759226451296354, 2.802955370060418, 4.41441081615327, 2.38844256907116, -2.488832518486904, -0.43594472967274606, 3.321622423006649]\n"
          ],
          "output_type": "stream"
        }
      ]
    },
    {
      "cell_type": "code",
      "source": "",
      "metadata": {
        "pycharm": {
          "metadata": false,
          "name": "#%%\n",
          "is_executing": false
        }
      },
      "execution_count": 76,
      "outputs": [
        {
          "data": {
            "text/plain": "array([[\u0027sp\u0027, 17, \u0027Mar\u0027, ..., 0.002380953, 0.002380953, \u0027neg\u0027],\n       [\u0027a\u0027, 16, \u0027Nov\u0027, ..., 0.003030303, 0.003030303, \u0027neg\u0027],\n       [\u0027sp\u0027, 12, \u0027Mar\u0027, ..., 0.0037037040000000004,\n        0.0037037040000000004, \u0027pos\u0027],\n       ...,\n       [\u0027sp\u0027, 9, \u0027May\u0027, ..., 0.0, 0.0, \u0027pos\u0027],\n       [\u0027sp\u0027, 9, \u0027Apr\u0027, ..., 0.0, 0.42376488, \u0027pos\u0027],\n       [\u0027sm\u0027, 8, \u0027Jun\u0027, ..., 0.012449799, 0.32882524, \u0027pos\u0027]],\n      dtype\u003dobject)"
          },
          "metadata": {},
          "output_type": "execute_result",
          "execution_count": 76
        }
      ]
    },
    {
      "cell_type": "code",
      "execution_count": null,
      "outputs": [],
      "source": "\n",
      "metadata": {
        "pycharm": {
          "metadata": false,
          "name": "#%%\n"
        }
      }
    }
  ],
  "metadata": {
    "language_info": {
      "codemirror_mode": {
        "name": "ipython",
        "version": 2
      },
      "file_extension": ".py",
      "mimetype": "text/x-python",
      "name": "python",
      "nbconvert_exporter": "python",
      "pygments_lexer": "ipython2",
      "version": "2.7.6"
    },
    "kernelspec": {
      "name": "python3",
      "language": "python",
      "display_name": "Python 3"
    }
  },
  "nbformat": 4,
  "nbformat_minor": 0
}