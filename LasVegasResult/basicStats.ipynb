{
  "cells": [
    {
      "cell_type": "code",
      "execution_count": 27,
      "metadata": {
        "collapsed": true,
        "pycharm": {
          "is_executing": false
        }
      },
      "outputs": [],
      "source": "import pandas as pd\nimport collections\nimport os"
    },
    {
      "cell_type": "markdown",
      "source": "## Import data",
      "metadata": {
        "pycharm": {
          "metadata": false
        }
      }
    },
    {
      "cell_type": "code",
      "execution_count": 9,
      "outputs": [
        {
          "data": {
            "text/plain": "  season  year month rate         0         1         2         3         4  \\\n0     sp    17   Mar    C  0.002381  0.573810  0.002381  0.002381  0.002381   \n1      a    16   Nov    D  0.093939  0.366667  0.003030  0.003030  0.093939   \n2     sp    12   Mar    B  0.003704  0.337037  0.003704  0.003704  0.225926   \n3     sp    18   Apr    A  0.001449  0.305797  0.001449  0.001449  0.001449   \n4      w    11   Dec    A  0.003030  0.275758  0.003030  0.003030  0.003030   \n\n          5  ...        20        21        22        23        24        25  \\\n0  0.002381  ...  0.002381  0.002381  0.002381  0.002381  0.002381  0.359524   \n1  0.003030  ...  0.003030  0.003030  0.003030  0.003030  0.003030  0.366667   \n2  0.003704  ...  0.003704  0.003704  0.003704  0.003704  0.003704  0.337037   \n3  0.001449  ...  0.001449  0.001449  0.001449  0.001449  0.001449  0.088900   \n4  0.003030  ...  0.003030  0.003030  0.003030  0.003030  0.003030  0.639394   \n\n         26        27        28        29  \n0  0.002381  0.002381  0.002381  0.002381  \n1  0.003030  0.003030  0.003030  0.003030  \n2  0.003704  0.003704  0.003704  0.003704  \n3  0.001449  0.001449  0.001449  0.001449  \n4  0.003030  0.003030  0.003030  0.003030  \n\n[5 rows x 34 columns]",
            "text/html": "\u003cdiv\u003e\n\u003cstyle scoped\u003e\n    .dataframe tbody tr th:only-of-type {\n        vertical-align: middle;\n    }\n\n    .dataframe tbody tr th {\n        vertical-align: top;\n    }\n\n    .dataframe thead th {\n        text-align: right;\n    }\n\u003c/style\u003e\n\u003ctable border\u003d\"1\" class\u003d\"dataframe\"\u003e\n  \u003cthead\u003e\n    \u003ctr style\u003d\"text-align: right;\"\u003e\n      \u003cth\u003e\u003c/th\u003e\n      \u003cth\u003eseason\u003c/th\u003e\n      \u003cth\u003eyear\u003c/th\u003e\n      \u003cth\u003emonth\u003c/th\u003e\n      \u003cth\u003erate\u003c/th\u003e\n      \u003cth\u003e0\u003c/th\u003e\n      \u003cth\u003e1\u003c/th\u003e\n      \u003cth\u003e2\u003c/th\u003e\n      \u003cth\u003e3\u003c/th\u003e\n      \u003cth\u003e4\u003c/th\u003e\n      \u003cth\u003e5\u003c/th\u003e\n      \u003cth\u003e...\u003c/th\u003e\n      \u003cth\u003e20\u003c/th\u003e\n      \u003cth\u003e21\u003c/th\u003e\n      \u003cth\u003e22\u003c/th\u003e\n      \u003cth\u003e23\u003c/th\u003e\n      \u003cth\u003e24\u003c/th\u003e\n      \u003cth\u003e25\u003c/th\u003e\n      \u003cth\u003e26\u003c/th\u003e\n      \u003cth\u003e27\u003c/th\u003e\n      \u003cth\u003e28\u003c/th\u003e\n      \u003cth\u003e29\u003c/th\u003e\n    \u003c/tr\u003e\n  \u003c/thead\u003e\n  \u003ctbody\u003e\n    \u003ctr\u003e\n      \u003cth\u003e0\u003c/th\u003e\n      \u003ctd\u003esp\u003c/td\u003e\n      \u003ctd\u003e17\u003c/td\u003e\n      \u003ctd\u003eMar\u003c/td\u003e\n      \u003ctd\u003eC\u003c/td\u003e\n      \u003ctd\u003e0.002381\u003c/td\u003e\n      \u003ctd\u003e0.573810\u003c/td\u003e\n      \u003ctd\u003e0.002381\u003c/td\u003e\n      \u003ctd\u003e0.002381\u003c/td\u003e\n      \u003ctd\u003e0.002381\u003c/td\u003e\n      \u003ctd\u003e0.002381\u003c/td\u003e\n      \u003ctd\u003e...\u003c/td\u003e\n      \u003ctd\u003e0.002381\u003c/td\u003e\n      \u003ctd\u003e0.002381\u003c/td\u003e\n      \u003ctd\u003e0.002381\u003c/td\u003e\n      \u003ctd\u003e0.002381\u003c/td\u003e\n      \u003ctd\u003e0.002381\u003c/td\u003e\n      \u003ctd\u003e0.359524\u003c/td\u003e\n      \u003ctd\u003e0.002381\u003c/td\u003e\n      \u003ctd\u003e0.002381\u003c/td\u003e\n      \u003ctd\u003e0.002381\u003c/td\u003e\n      \u003ctd\u003e0.002381\u003c/td\u003e\n    \u003c/tr\u003e\n    \u003ctr\u003e\n      \u003cth\u003e1\u003c/th\u003e\n      \u003ctd\u003ea\u003c/td\u003e\n      \u003ctd\u003e16\u003c/td\u003e\n      \u003ctd\u003eNov\u003c/td\u003e\n      \u003ctd\u003eD\u003c/td\u003e\n      \u003ctd\u003e0.093939\u003c/td\u003e\n      \u003ctd\u003e0.366667\u003c/td\u003e\n      \u003ctd\u003e0.003030\u003c/td\u003e\n      \u003ctd\u003e0.003030\u003c/td\u003e\n      \u003ctd\u003e0.093939\u003c/td\u003e\n      \u003ctd\u003e0.003030\u003c/td\u003e\n      \u003ctd\u003e...\u003c/td\u003e\n      \u003ctd\u003e0.003030\u003c/td\u003e\n      \u003ctd\u003e0.003030\u003c/td\u003e\n      \u003ctd\u003e0.003030\u003c/td\u003e\n      \u003ctd\u003e0.003030\u003c/td\u003e\n      \u003ctd\u003e0.003030\u003c/td\u003e\n      \u003ctd\u003e0.366667\u003c/td\u003e\n      \u003ctd\u003e0.003030\u003c/td\u003e\n      \u003ctd\u003e0.003030\u003c/td\u003e\n      \u003ctd\u003e0.003030\u003c/td\u003e\n      \u003ctd\u003e0.003030\u003c/td\u003e\n    \u003c/tr\u003e\n    \u003ctr\u003e\n      \u003cth\u003e2\u003c/th\u003e\n      \u003ctd\u003esp\u003c/td\u003e\n      \u003ctd\u003e12\u003c/td\u003e\n      \u003ctd\u003eMar\u003c/td\u003e\n      \u003ctd\u003eB\u003c/td\u003e\n      \u003ctd\u003e0.003704\u003c/td\u003e\n      \u003ctd\u003e0.337037\u003c/td\u003e\n      \u003ctd\u003e0.003704\u003c/td\u003e\n      \u003ctd\u003e0.003704\u003c/td\u003e\n      \u003ctd\u003e0.225926\u003c/td\u003e\n      \u003ctd\u003e0.003704\u003c/td\u003e\n      \u003ctd\u003e...\u003c/td\u003e\n      \u003ctd\u003e0.003704\u003c/td\u003e\n      \u003ctd\u003e0.003704\u003c/td\u003e\n      \u003ctd\u003e0.003704\u003c/td\u003e\n      \u003ctd\u003e0.003704\u003c/td\u003e\n      \u003ctd\u003e0.003704\u003c/td\u003e\n      \u003ctd\u003e0.337037\u003c/td\u003e\n      \u003ctd\u003e0.003704\u003c/td\u003e\n      \u003ctd\u003e0.003704\u003c/td\u003e\n      \u003ctd\u003e0.003704\u003c/td\u003e\n      \u003ctd\u003e0.003704\u003c/td\u003e\n    \u003c/tr\u003e\n    \u003ctr\u003e\n      \u003cth\u003e3\u003c/th\u003e\n      \u003ctd\u003esp\u003c/td\u003e\n      \u003ctd\u003e18\u003c/td\u003e\n      \u003ctd\u003eApr\u003c/td\u003e\n      \u003ctd\u003eA\u003c/td\u003e\n      \u003ctd\u003e0.001449\u003c/td\u003e\n      \u003ctd\u003e0.305797\u003c/td\u003e\n      \u003ctd\u003e0.001449\u003c/td\u003e\n      \u003ctd\u003e0.001449\u003c/td\u003e\n      \u003ctd\u003e0.001449\u003c/td\u003e\n      \u003ctd\u003e0.001449\u003c/td\u003e\n      \u003ctd\u003e...\u003c/td\u003e\n      \u003ctd\u003e0.001449\u003c/td\u003e\n      \u003ctd\u003e0.001449\u003c/td\u003e\n      \u003ctd\u003e0.001449\u003c/td\u003e\n      \u003ctd\u003e0.001449\u003c/td\u003e\n      \u003ctd\u003e0.001449\u003c/td\u003e\n      \u003ctd\u003e0.088900\u003c/td\u003e\n      \u003ctd\u003e0.001449\u003c/td\u003e\n      \u003ctd\u003e0.001449\u003c/td\u003e\n      \u003ctd\u003e0.001449\u003c/td\u003e\n      \u003ctd\u003e0.001449\u003c/td\u003e\n    \u003c/tr\u003e\n    \u003ctr\u003e\n      \u003cth\u003e4\u003c/th\u003e\n      \u003ctd\u003ew\u003c/td\u003e\n      \u003ctd\u003e11\u003c/td\u003e\n      \u003ctd\u003eDec\u003c/td\u003e\n      \u003ctd\u003eA\u003c/td\u003e\n      \u003ctd\u003e0.003030\u003c/td\u003e\n      \u003ctd\u003e0.275758\u003c/td\u003e\n      \u003ctd\u003e0.003030\u003c/td\u003e\n      \u003ctd\u003e0.003030\u003c/td\u003e\n      \u003ctd\u003e0.003030\u003c/td\u003e\n      \u003ctd\u003e0.003030\u003c/td\u003e\n      \u003ctd\u003e...\u003c/td\u003e\n      \u003ctd\u003e0.003030\u003c/td\u003e\n      \u003ctd\u003e0.003030\u003c/td\u003e\n      \u003ctd\u003e0.003030\u003c/td\u003e\n      \u003ctd\u003e0.003030\u003c/td\u003e\n      \u003ctd\u003e0.003030\u003c/td\u003e\n      \u003ctd\u003e0.639394\u003c/td\u003e\n      \u003ctd\u003e0.003030\u003c/td\u003e\n      \u003ctd\u003e0.003030\u003c/td\u003e\n      \u003ctd\u003e0.003030\u003c/td\u003e\n      \u003ctd\u003e0.003030\u003c/td\u003e\n    \u003c/tr\u003e\n  \u003c/tbody\u003e\n\u003c/table\u003e\n\u003cp\u003e5 rows × 34 columns\u003c/p\u003e\n\u003c/div\u003e"
          },
          "metadata": {},
          "output_type": "execute_result",
          "execution_count": 9
        }
      ],
      "source": "os.chdir(r\"D:\\NDSUGoogle\\Pyntebook\\nlp analysis\\LasVegasResult\")\nrawData\u003dpd.read_csv(\u0027complete_data.csv\u0027)\nrawData\u003drawData.drop(\u0027Unnamed: 0\u0027, axis\u003d1)\nrawData.head()",
      "metadata": {
        "pycharm": {
          "metadata": false,
          "name": "#%%\n",
          "is_executing": false
        }
      }
    },
    {
      "cell_type": "code",
      "execution_count": 30,
      "outputs": [
        {
          "traceback": [
            "\u001b[1;31m---------------------------------------------------------------------------\u001b[0m",
            "\u001b[1;31mTypeError\u001b[0m                                 Traceback (most recent call last)",
            "\u001b[1;32m\u003cipython-input-30-936bd3c0894c\u003e\u001b[0m in \u001b[0;36m\u003cmodule\u003e\u001b[1;34m\u001b[0m\n\u001b[0;32m      2\u001b[0m \u001b[0myears\u001b[0m\u001b[1;33m\u003d\u001b[0m \u001b[0mrawData\u001b[0m\u001b[1;33m[\u001b[0m\u001b[1;34m\u0027year\u0027\u001b[0m\u001b[1;33m]\u001b[0m\u001b[1;33m.\u001b[0m\u001b[0mto_list\u001b[0m\u001b[1;33m(\u001b[0m\u001b[1;33m)\u001b[0m\u001b[1;33m\u001b[0m\u001b[1;33m\u001b[0m\u001b[0m\n\u001b[0;32m      3\u001b[0m \u001b[1;32mimport\u001b[0m \u001b[0mcollections\u001b[0m\u001b[1;33m\u001b[0m\u001b[1;33m\u001b[0m\u001b[0m\n\u001b[1;32m----\u003e 4\u001b[1;33m \u001b[0mcnt\u001b[0m\u001b[1;33m\u003d\u001b[0m\u001b[0mcollections\u001b[0m\u001b[1;33m.\u001b[0m\u001b[0mCounter\u001b[0m\u001b[1;33m(\u001b[0m\u001b[1;33m[\u001b[0m\u001b[0myears\u001b[0m\u001b[1;33m]\u001b[0m\u001b[1;33m)\u001b[0m\u001b[1;33m\u001b[0m\u001b[1;33m\u001b[0m\u001b[0m\n\u001b[0m\u001b[0;32m      5\u001b[0m \u001b[1;33m\u001b[0m\u001b[0m\n\u001b[0;32m      6\u001b[0m \u001b[1;33m\u001b[0m\u001b[0m\n",
            "\u001b[1;32mc:\\users\\yang\\appdata\\local\\programs\\python\\python37-32\\lib\\collections\\__init__.py\u001b[0m in \u001b[0;36m__init__\u001b[1;34m(*args, **kwds)\u001b[0m\n\u001b[0;32m    564\u001b[0m             \u001b[1;32mraise\u001b[0m \u001b[0mTypeError\u001b[0m\u001b[1;33m(\u001b[0m\u001b[1;34m\u0027expected at most 1 arguments, got %d\u0027\u001b[0m \u001b[1;33m%\u001b[0m \u001b[0mlen\u001b[0m\u001b[1;33m(\u001b[0m\u001b[0margs\u001b[0m\u001b[1;33m)\u001b[0m\u001b[1;33m)\u001b[0m\u001b[1;33m\u001b[0m\u001b[1;33m\u001b[0m\u001b[0m\n\u001b[0;32m    565\u001b[0m         \u001b[0msuper\u001b[0m\u001b[1;33m(\u001b[0m\u001b[0mCounter\u001b[0m\u001b[1;33m,\u001b[0m \u001b[0mself\u001b[0m\u001b[1;33m)\u001b[0m\u001b[1;33m.\u001b[0m\u001b[0m__init__\u001b[0m\u001b[1;33m(\u001b[0m\u001b[1;33m)\u001b[0m\u001b[1;33m\u001b[0m\u001b[1;33m\u001b[0m\u001b[0m\n\u001b[1;32m--\u003e 566\u001b[1;33m         \u001b[0mself\u001b[0m\u001b[1;33m.\u001b[0m\u001b[0mupdate\u001b[0m\u001b[1;33m(\u001b[0m\u001b[1;33m*\u001b[0m\u001b[0margs\u001b[0m\u001b[1;33m,\u001b[0m \u001b[1;33m**\u001b[0m\u001b[0mkwds\u001b[0m\u001b[1;33m)\u001b[0m\u001b[1;33m\u001b[0m\u001b[1;33m\u001b[0m\u001b[0m\n\u001b[0m\u001b[0;32m    567\u001b[0m \u001b[1;33m\u001b[0m\u001b[0m\n\u001b[0;32m    568\u001b[0m     \u001b[1;32mdef\u001b[0m \u001b[0m__missing__\u001b[0m\u001b[1;33m(\u001b[0m\u001b[0mself\u001b[0m\u001b[1;33m,\u001b[0m \u001b[0mkey\u001b[0m\u001b[1;33m)\u001b[0m\u001b[1;33m:\u001b[0m\u001b[1;33m\u001b[0m\u001b[1;33m\u001b[0m\u001b[0m\n",
            "\u001b[1;32mc:\\users\\yang\\appdata\\local\\programs\\python\\python37-32\\lib\\collections\\__init__.py\u001b[0m in \u001b[0;36mupdate\u001b[1;34m(*args, **kwds)\u001b[0m\n\u001b[0;32m    651\u001b[0m                     \u001b[0msuper\u001b[0m\u001b[1;33m(\u001b[0m\u001b[0mCounter\u001b[0m\u001b[1;33m,\u001b[0m \u001b[0mself\u001b[0m\u001b[1;33m)\u001b[0m\u001b[1;33m.\u001b[0m\u001b[0mupdate\u001b[0m\u001b[1;33m(\u001b[0m\u001b[0miterable\u001b[0m\u001b[1;33m)\u001b[0m \u001b[1;31m# fast path when counter is empty\u001b[0m\u001b[1;33m\u001b[0m\u001b[1;33m\u001b[0m\u001b[0m\n\u001b[0;32m    652\u001b[0m             \u001b[1;32melse\u001b[0m\u001b[1;33m:\u001b[0m\u001b[1;33m\u001b[0m\u001b[1;33m\u001b[0m\u001b[0m\n\u001b[1;32m--\u003e 653\u001b[1;33m                 \u001b[0m_count_elements\u001b[0m\u001b[1;33m(\u001b[0m\u001b[0mself\u001b[0m\u001b[1;33m,\u001b[0m \u001b[0miterable\u001b[0m\u001b[1;33m)\u001b[0m\u001b[1;33m\u001b[0m\u001b[1;33m\u001b[0m\u001b[0m\n\u001b[0m\u001b[0;32m    654\u001b[0m         \u001b[1;32mif\u001b[0m \u001b[0mkwds\u001b[0m\u001b[1;33m:\u001b[0m\u001b[1;33m\u001b[0m\u001b[1;33m\u001b[0m\u001b[0m\n\u001b[0;32m    655\u001b[0m             \u001b[0mself\u001b[0m\u001b[1;33m.\u001b[0m\u001b[0mupdate\u001b[0m\u001b[1;33m(\u001b[0m\u001b[0mkwds\u001b[0m\u001b[1;33m)\u001b[0m\u001b[1;33m\u001b[0m\u001b[1;33m\u001b[0m\u001b[0m\n",
            "\u001b[1;31mTypeError\u001b[0m: unhashable type: \u0027list\u0027"
          ],
          "ename": "TypeError",
          "evalue": "unhashable type: \u0027list\u0027",
          "output_type": "error"
        }
      ],
      "source": "#numbers each year\nyears\u003d rawData[\u0027year\u0027].to_list()\nimport collections\ncnt\u003dcollections.Counter([years])\n\n",
      "metadata": {
        "pycharm": {
          "metadata": false,
          "name": "#%%\n",
          "is_executing": false
        }
      }
    },
    {
      "cell_type": "code",
      "execution_count": null,
      "outputs": [],
      "source": "\n",
      "metadata": {
        "pycharm": {
          "metadata": false,
          "name": "#%%\n"
        }
      }
    }
  ],
  "metadata": {
    "language_info": {
      "codemirror_mode": {
        "name": "ipython",
        "version": 2
      },
      "file_extension": ".py",
      "mimetype": "text/x-python",
      "name": "python",
      "nbconvert_exporter": "python",
      "pygments_lexer": "ipython2",
      "version": "2.7.6"
    },
    "kernelspec": {
      "name": "python3",
      "language": "python",
      "display_name": "Python 3"
    }
  },
  "nbformat": 4,
  "nbformat_minor": 0
}