{
  "cells": [
    {
      "cell_type": "code",
      "execution_count": 98,
      "metadata": {
        "pycharm": {
          "is_executing": false
        }
      },
      "outputs": [],
      "source": "import pandas as pd\n#import numpy as np\n#import matplotlib.pyplot as plt\n\nfrom sklearn.ensemble import RandomForestClassifier\nfrom sklearn.model_selection import train_test_split\nfrom sklearn.metrics import precision_score\nfrom sklearn.metrics import recall_score\nfrom sklearn.metrics import accuracy_score\nfrom sklearn import tree\n#from sklearn.preprocessing import OneHotEncoder #get dummy variables for categories\n#from sklearn.preprocessing import LabelEncoder #get dummy variables for categories  (the pandas get dummies is better)\nfrom imblearn.over_sampling import SMOTE \nfrom imblearn.under_sampling import NearMiss \n"
    },
    {
      "cell_type": "code",
      "execution_count": 99,
      "outputs": [],
      "source": "# graphviz and pydotplus are used for decision tree visualization, need to install graphviz to both windows system and python need to add path to windows environments, refer to this link  https://stackoverflow.com/questions/18438997/why-is-pydot-unable-to-find-graphvizs-executables-in-windows-8\nfrom IPython.display import Image \nimport graphviz \nimport pydotplus\nimport os\nos.environ[\"PATH\"] +\u003d os.pathsep + \u0027C:/Program Files (x86)/Graphviz2.38/bin/\u0027\n",
      "metadata": {
        "pycharm": {
          "metadata": false,
          "name": "#%%\n",
          "is_executing": false
        }
      }
    },
    {
      "cell_type": "markdown",
      "metadata": {
        "pycharm": {}
      },
      "source": "# 1. Prepare and clean data"
    },
    {
      "cell_type": "code",
      "execution_count": 100,
      "metadata": {
        "pycharm": {
          "is_executing": false
        }
      },
      "outputs": [
        {
          "data": {
            "text/plain": "   Unnamed: 0 season  year month rate         0         1         2         3  \\\n0        5748     sp    17   Mar    C  0.002381  0.573810  0.002381  0.002381   \n1        7853      a    16   Nov    D  0.093939  0.366667  0.003030  0.003030   \n2       20335     sp    12   Mar    B  0.003704  0.337037  0.003704  0.003704   \n3         906     sp    18   Apr    A  0.001449  0.305797  0.001449  0.001449   \n4       20401      w    11   Dec    A  0.003030  0.275758  0.003030  0.003030   \n\n          4  ...        20        21        22        23        24        25  \\\n0  0.002381  ...  0.002381  0.002381  0.002381  0.002381  0.002381  0.359524   \n1  0.093939  ...  0.003030  0.003030  0.003030  0.003030  0.003030  0.366667   \n2  0.225926  ...  0.003704  0.003704  0.003704  0.003704  0.003704  0.337037   \n3  0.001449  ...  0.001449  0.001449  0.001449  0.001449  0.001449  0.088900   \n4  0.003030  ...  0.003030  0.003030  0.003030  0.003030  0.003030  0.639394   \n\n         26        27        28        29  \n0  0.002381  0.002381  0.002381  0.002381  \n1  0.003030  0.003030  0.003030  0.003030  \n2  0.003704  0.003704  0.003704  0.003704  \n3  0.001449  0.001449  0.001449  0.001449  \n4  0.003030  0.003030  0.003030  0.003030  \n\n[5 rows x 35 columns]",
            "text/html": "\u003cdiv\u003e\n\u003cstyle scoped\u003e\n    .dataframe tbody tr th:only-of-type {\n        vertical-align: middle;\n    }\n\n    .dataframe tbody tr th {\n        vertical-align: top;\n    }\n\n    .dataframe thead th {\n        text-align: right;\n    }\n\u003c/style\u003e\n\u003ctable border\u003d\"1\" class\u003d\"dataframe\"\u003e\n  \u003cthead\u003e\n    \u003ctr style\u003d\"text-align: right;\"\u003e\n      \u003cth\u003e\u003c/th\u003e\n      \u003cth\u003eUnnamed: 0\u003c/th\u003e\n      \u003cth\u003eseason\u003c/th\u003e\n      \u003cth\u003eyear\u003c/th\u003e\n      \u003cth\u003emonth\u003c/th\u003e\n      \u003cth\u003erate\u003c/th\u003e\n      \u003cth\u003e0\u003c/th\u003e\n      \u003cth\u003e1\u003c/th\u003e\n      \u003cth\u003e2\u003c/th\u003e\n      \u003cth\u003e3\u003c/th\u003e\n      \u003cth\u003e4\u003c/th\u003e\n      \u003cth\u003e...\u003c/th\u003e\n      \u003cth\u003e20\u003c/th\u003e\n      \u003cth\u003e21\u003c/th\u003e\n      \u003cth\u003e22\u003c/th\u003e\n      \u003cth\u003e23\u003c/th\u003e\n      \u003cth\u003e24\u003c/th\u003e\n      \u003cth\u003e25\u003c/th\u003e\n      \u003cth\u003e26\u003c/th\u003e\n      \u003cth\u003e27\u003c/th\u003e\n      \u003cth\u003e28\u003c/th\u003e\n      \u003cth\u003e29\u003c/th\u003e\n    \u003c/tr\u003e\n  \u003c/thead\u003e\n  \u003ctbody\u003e\n    \u003ctr\u003e\n      \u003ctd\u003e0\u003c/td\u003e\n      \u003ctd\u003e5748\u003c/td\u003e\n      \u003ctd\u003esp\u003c/td\u003e\n      \u003ctd\u003e17\u003c/td\u003e\n      \u003ctd\u003eMar\u003c/td\u003e\n      \u003ctd\u003eC\u003c/td\u003e\n      \u003ctd\u003e0.002381\u003c/td\u003e\n      \u003ctd\u003e0.573810\u003c/td\u003e\n      \u003ctd\u003e0.002381\u003c/td\u003e\n      \u003ctd\u003e0.002381\u003c/td\u003e\n      \u003ctd\u003e0.002381\u003c/td\u003e\n      \u003ctd\u003e...\u003c/td\u003e\n      \u003ctd\u003e0.002381\u003c/td\u003e\n      \u003ctd\u003e0.002381\u003c/td\u003e\n      \u003ctd\u003e0.002381\u003c/td\u003e\n      \u003ctd\u003e0.002381\u003c/td\u003e\n      \u003ctd\u003e0.002381\u003c/td\u003e\n      \u003ctd\u003e0.359524\u003c/td\u003e\n      \u003ctd\u003e0.002381\u003c/td\u003e\n      \u003ctd\u003e0.002381\u003c/td\u003e\n      \u003ctd\u003e0.002381\u003c/td\u003e\n      \u003ctd\u003e0.002381\u003c/td\u003e\n    \u003c/tr\u003e\n    \u003ctr\u003e\n      \u003ctd\u003e1\u003c/td\u003e\n      \u003ctd\u003e7853\u003c/td\u003e\n      \u003ctd\u003ea\u003c/td\u003e\n      \u003ctd\u003e16\u003c/td\u003e\n      \u003ctd\u003eNov\u003c/td\u003e\n      \u003ctd\u003eD\u003c/td\u003e\n      \u003ctd\u003e0.093939\u003c/td\u003e\n      \u003ctd\u003e0.366667\u003c/td\u003e\n      \u003ctd\u003e0.003030\u003c/td\u003e\n      \u003ctd\u003e0.003030\u003c/td\u003e\n      \u003ctd\u003e0.093939\u003c/td\u003e\n      \u003ctd\u003e...\u003c/td\u003e\n      \u003ctd\u003e0.003030\u003c/td\u003e\n      \u003ctd\u003e0.003030\u003c/td\u003e\n      \u003ctd\u003e0.003030\u003c/td\u003e\n      \u003ctd\u003e0.003030\u003c/td\u003e\n      \u003ctd\u003e0.003030\u003c/td\u003e\n      \u003ctd\u003e0.366667\u003c/td\u003e\n      \u003ctd\u003e0.003030\u003c/td\u003e\n      \u003ctd\u003e0.003030\u003c/td\u003e\n      \u003ctd\u003e0.003030\u003c/td\u003e\n      \u003ctd\u003e0.003030\u003c/td\u003e\n    \u003c/tr\u003e\n    \u003ctr\u003e\n      \u003ctd\u003e2\u003c/td\u003e\n      \u003ctd\u003e20335\u003c/td\u003e\n      \u003ctd\u003esp\u003c/td\u003e\n      \u003ctd\u003e12\u003c/td\u003e\n      \u003ctd\u003eMar\u003c/td\u003e\n      \u003ctd\u003eB\u003c/td\u003e\n      \u003ctd\u003e0.003704\u003c/td\u003e\n      \u003ctd\u003e0.337037\u003c/td\u003e\n      \u003ctd\u003e0.003704\u003c/td\u003e\n      \u003ctd\u003e0.003704\u003c/td\u003e\n      \u003ctd\u003e0.225926\u003c/td\u003e\n      \u003ctd\u003e...\u003c/td\u003e\n      \u003ctd\u003e0.003704\u003c/td\u003e\n      \u003ctd\u003e0.003704\u003c/td\u003e\n      \u003ctd\u003e0.003704\u003c/td\u003e\n      \u003ctd\u003e0.003704\u003c/td\u003e\n      \u003ctd\u003e0.003704\u003c/td\u003e\n      \u003ctd\u003e0.337037\u003c/td\u003e\n      \u003ctd\u003e0.003704\u003c/td\u003e\n      \u003ctd\u003e0.003704\u003c/td\u003e\n      \u003ctd\u003e0.003704\u003c/td\u003e\n      \u003ctd\u003e0.003704\u003c/td\u003e\n    \u003c/tr\u003e\n    \u003ctr\u003e\n      \u003ctd\u003e3\u003c/td\u003e\n      \u003ctd\u003e906\u003c/td\u003e\n      \u003ctd\u003esp\u003c/td\u003e\n      \u003ctd\u003e18\u003c/td\u003e\n      \u003ctd\u003eApr\u003c/td\u003e\n      \u003ctd\u003eA\u003c/td\u003e\n      \u003ctd\u003e0.001449\u003c/td\u003e\n      \u003ctd\u003e0.305797\u003c/td\u003e\n      \u003ctd\u003e0.001449\u003c/td\u003e\n      \u003ctd\u003e0.001449\u003c/td\u003e\n      \u003ctd\u003e0.001449\u003c/td\u003e\n      \u003ctd\u003e...\u003c/td\u003e\n      \u003ctd\u003e0.001449\u003c/td\u003e\n      \u003ctd\u003e0.001449\u003c/td\u003e\n      \u003ctd\u003e0.001449\u003c/td\u003e\n      \u003ctd\u003e0.001449\u003c/td\u003e\n      \u003ctd\u003e0.001449\u003c/td\u003e\n      \u003ctd\u003e0.088900\u003c/td\u003e\n      \u003ctd\u003e0.001449\u003c/td\u003e\n      \u003ctd\u003e0.001449\u003c/td\u003e\n      \u003ctd\u003e0.001449\u003c/td\u003e\n      \u003ctd\u003e0.001449\u003c/td\u003e\n    \u003c/tr\u003e\n    \u003ctr\u003e\n      \u003ctd\u003e4\u003c/td\u003e\n      \u003ctd\u003e20401\u003c/td\u003e\n      \u003ctd\u003ew\u003c/td\u003e\n      \u003ctd\u003e11\u003c/td\u003e\n      \u003ctd\u003eDec\u003c/td\u003e\n      \u003ctd\u003eA\u003c/td\u003e\n      \u003ctd\u003e0.003030\u003c/td\u003e\n      \u003ctd\u003e0.275758\u003c/td\u003e\n      \u003ctd\u003e0.003030\u003c/td\u003e\n      \u003ctd\u003e0.003030\u003c/td\u003e\n      \u003ctd\u003e0.003030\u003c/td\u003e\n      \u003ctd\u003e...\u003c/td\u003e\n      \u003ctd\u003e0.003030\u003c/td\u003e\n      \u003ctd\u003e0.003030\u003c/td\u003e\n      \u003ctd\u003e0.003030\u003c/td\u003e\n      \u003ctd\u003e0.003030\u003c/td\u003e\n      \u003ctd\u003e0.003030\u003c/td\u003e\n      \u003ctd\u003e0.639394\u003c/td\u003e\n      \u003ctd\u003e0.003030\u003c/td\u003e\n      \u003ctd\u003e0.003030\u003c/td\u003e\n      \u003ctd\u003e0.003030\u003c/td\u003e\n      \u003ctd\u003e0.003030\u003c/td\u003e\n    \u003c/tr\u003e\n  \u003c/tbody\u003e\n\u003c/table\u003e\n\u003cp\u003e5 rows × 35 columns\u003c/p\u003e\n\u003c/div\u003e"
          },
          "metadata": {},
          "output_type": "execute_result",
          "execution_count": 100
        }
      ],
      "source": "os.chdir(r\u0027D:\\NDSUGoogle\\Pyntebook\\nlp analysis\\LasVegasResult\u0027)\ndata\u003dpd.read_csv(\"complete_data.csv\")\ndata.head()"
    },
    {
      "cell_type": "code",
      "execution_count": 101,
      "outputs": [
        {
          "data": {
            "text/plain": "   a  sm  sp  w\n0  0   0   1  0\n1  1   0   0  0\n2  0   0   1  0\n3  0   0   1  0\n4  0   0   0  1",
            "text/html": "\u003cdiv\u003e\n\u003cstyle scoped\u003e\n    .dataframe tbody tr th:only-of-type {\n        vertical-align: middle;\n    }\n\n    .dataframe tbody tr th {\n        vertical-align: top;\n    }\n\n    .dataframe thead th {\n        text-align: right;\n    }\n\u003c/style\u003e\n\u003ctable border\u003d\"1\" class\u003d\"dataframe\"\u003e\n  \u003cthead\u003e\n    \u003ctr style\u003d\"text-align: right;\"\u003e\n      \u003cth\u003e\u003c/th\u003e\n      \u003cth\u003ea\u003c/th\u003e\n      \u003cth\u003esm\u003c/th\u003e\n      \u003cth\u003esp\u003c/th\u003e\n      \u003cth\u003ew\u003c/th\u003e\n    \u003c/tr\u003e\n  \u003c/thead\u003e\n  \u003ctbody\u003e\n    \u003ctr\u003e\n      \u003ctd\u003e0\u003c/td\u003e\n      \u003ctd\u003e0\u003c/td\u003e\n      \u003ctd\u003e0\u003c/td\u003e\n      \u003ctd\u003e1\u003c/td\u003e\n      \u003ctd\u003e0\u003c/td\u003e\n    \u003c/tr\u003e\n    \u003ctr\u003e\n      \u003ctd\u003e1\u003c/td\u003e\n      \u003ctd\u003e1\u003c/td\u003e\n      \u003ctd\u003e0\u003c/td\u003e\n      \u003ctd\u003e0\u003c/td\u003e\n      \u003ctd\u003e0\u003c/td\u003e\n    \u003c/tr\u003e\n    \u003ctr\u003e\n      \u003ctd\u003e2\u003c/td\u003e\n      \u003ctd\u003e0\u003c/td\u003e\n      \u003ctd\u003e0\u003c/td\u003e\n      \u003ctd\u003e1\u003c/td\u003e\n      \u003ctd\u003e0\u003c/td\u003e\n    \u003c/tr\u003e\n    \u003ctr\u003e\n      \u003ctd\u003e3\u003c/td\u003e\n      \u003ctd\u003e0\u003c/td\u003e\n      \u003ctd\u003e0\u003c/td\u003e\n      \u003ctd\u003e1\u003c/td\u003e\n      \u003ctd\u003e0\u003c/td\u003e\n    \u003c/tr\u003e\n    \u003ctr\u003e\n      \u003ctd\u003e4\u003c/td\u003e\n      \u003ctd\u003e0\u003c/td\u003e\n      \u003ctd\u003e0\u003c/td\u003e\n      \u003ctd\u003e0\u003c/td\u003e\n      \u003ctd\u003e1\u003c/td\u003e\n    \u003c/tr\u003e\n  \u003c/tbody\u003e\n\u003c/table\u003e\n\u003c/div\u003e"
          },
          "metadata": {},
          "output_type": "execute_result",
          "execution_count": 101
        }
      ],
      "source": "dummies\u003ddata[\u0027season\u0027].str.get_dummies()\ndummies.head()",
      "metadata": {
        "pycharm": {
          "metadata": false,
          "name": "#%%\n",
          "is_executing": false
        }
      }
    },
    {
      "cell_type": "code",
      "execution_count": 102,
      "metadata": {
        "scrolled": false,
        "pycharm": {
          "is_executing": false
        }
      },
      "outputs": [
        {
          "data": {
            "text/plain": "  season  year month rate         0         1         2         3         4  \\\n0     sp    17   Mar    C  0.002381  0.573810  0.002381  0.002381  0.002381   \n1      a    16   Nov    D  0.093939  0.366667  0.003030  0.003030  0.093939   \n2     sp    12   Mar    B  0.003704  0.337037  0.003704  0.003704  0.225926   \n3     sp    18   Apr    A  0.001449  0.305797  0.001449  0.001449  0.001449   \n4      w    11   Dec    A  0.003030  0.275758  0.003030  0.003030  0.003030   \n\n          5  ...        24        25        26        27        28        29  \\\n0  0.002381  ...  0.002381  0.359524  0.002381  0.002381  0.002381  0.002381   \n1  0.003030  ...  0.003030  0.366667  0.003030  0.003030  0.003030  0.003030   \n2  0.003704  ...  0.003704  0.337037  0.003704  0.003704  0.003704  0.003704   \n3  0.001449  ...  0.001449  0.088900  0.001449  0.001449  0.001449  0.001449   \n4  0.003030  ...  0.003030  0.639394  0.003030  0.003030  0.003030  0.003030   \n\n   a  sm  sp  w  \n0  0   0   1  0  \n1  1   0   0  0  \n2  0   0   1  0  \n3  0   0   1  0  \n4  0   0   0  1  \n\n[5 rows x 38 columns]",
            "text/html": "\u003cdiv\u003e\n\u003cstyle scoped\u003e\n    .dataframe tbody tr th:only-of-type {\n        vertical-align: middle;\n    }\n\n    .dataframe tbody tr th {\n        vertical-align: top;\n    }\n\n    .dataframe thead th {\n        text-align: right;\n    }\n\u003c/style\u003e\n\u003ctable border\u003d\"1\" class\u003d\"dataframe\"\u003e\n  \u003cthead\u003e\n    \u003ctr style\u003d\"text-align: right;\"\u003e\n      \u003cth\u003e\u003c/th\u003e\n      \u003cth\u003eseason\u003c/th\u003e\n      \u003cth\u003eyear\u003c/th\u003e\n      \u003cth\u003emonth\u003c/th\u003e\n      \u003cth\u003erate\u003c/th\u003e\n      \u003cth\u003e0\u003c/th\u003e\n      \u003cth\u003e1\u003c/th\u003e\n      \u003cth\u003e2\u003c/th\u003e\n      \u003cth\u003e3\u003c/th\u003e\n      \u003cth\u003e4\u003c/th\u003e\n      \u003cth\u003e5\u003c/th\u003e\n      \u003cth\u003e...\u003c/th\u003e\n      \u003cth\u003e24\u003c/th\u003e\n      \u003cth\u003e25\u003c/th\u003e\n      \u003cth\u003e26\u003c/th\u003e\n      \u003cth\u003e27\u003c/th\u003e\n      \u003cth\u003e28\u003c/th\u003e\n      \u003cth\u003e29\u003c/th\u003e\n      \u003cth\u003ea\u003c/th\u003e\n      \u003cth\u003esm\u003c/th\u003e\n      \u003cth\u003esp\u003c/th\u003e\n      \u003cth\u003ew\u003c/th\u003e\n    \u003c/tr\u003e\n  \u003c/thead\u003e\n  \u003ctbody\u003e\n    \u003ctr\u003e\n      \u003ctd\u003e0\u003c/td\u003e\n      \u003ctd\u003esp\u003c/td\u003e\n      \u003ctd\u003e17\u003c/td\u003e\n      \u003ctd\u003eMar\u003c/td\u003e\n      \u003ctd\u003eC\u003c/td\u003e\n      \u003ctd\u003e0.002381\u003c/td\u003e\n      \u003ctd\u003e0.573810\u003c/td\u003e\n      \u003ctd\u003e0.002381\u003c/td\u003e\n      \u003ctd\u003e0.002381\u003c/td\u003e\n      \u003ctd\u003e0.002381\u003c/td\u003e\n      \u003ctd\u003e0.002381\u003c/td\u003e\n      \u003ctd\u003e...\u003c/td\u003e\n      \u003ctd\u003e0.002381\u003c/td\u003e\n      \u003ctd\u003e0.359524\u003c/td\u003e\n      \u003ctd\u003e0.002381\u003c/td\u003e\n      \u003ctd\u003e0.002381\u003c/td\u003e\n      \u003ctd\u003e0.002381\u003c/td\u003e\n      \u003ctd\u003e0.002381\u003c/td\u003e\n      \u003ctd\u003e0\u003c/td\u003e\n      \u003ctd\u003e0\u003c/td\u003e\n      \u003ctd\u003e1\u003c/td\u003e\n      \u003ctd\u003e0\u003c/td\u003e\n    \u003c/tr\u003e\n    \u003ctr\u003e\n      \u003ctd\u003e1\u003c/td\u003e\n      \u003ctd\u003ea\u003c/td\u003e\n      \u003ctd\u003e16\u003c/td\u003e\n      \u003ctd\u003eNov\u003c/td\u003e\n      \u003ctd\u003eD\u003c/td\u003e\n      \u003ctd\u003e0.093939\u003c/td\u003e\n      \u003ctd\u003e0.366667\u003c/td\u003e\n      \u003ctd\u003e0.003030\u003c/td\u003e\n      \u003ctd\u003e0.003030\u003c/td\u003e\n      \u003ctd\u003e0.093939\u003c/td\u003e\n      \u003ctd\u003e0.003030\u003c/td\u003e\n      \u003ctd\u003e...\u003c/td\u003e\n      \u003ctd\u003e0.003030\u003c/td\u003e\n      \u003ctd\u003e0.366667\u003c/td\u003e\n      \u003ctd\u003e0.003030\u003c/td\u003e\n      \u003ctd\u003e0.003030\u003c/td\u003e\n      \u003ctd\u003e0.003030\u003c/td\u003e\n      \u003ctd\u003e0.003030\u003c/td\u003e\n      \u003ctd\u003e1\u003c/td\u003e\n      \u003ctd\u003e0\u003c/td\u003e\n      \u003ctd\u003e0\u003c/td\u003e\n      \u003ctd\u003e0\u003c/td\u003e\n    \u003c/tr\u003e\n    \u003ctr\u003e\n      \u003ctd\u003e2\u003c/td\u003e\n      \u003ctd\u003esp\u003c/td\u003e\n      \u003ctd\u003e12\u003c/td\u003e\n      \u003ctd\u003eMar\u003c/td\u003e\n      \u003ctd\u003eB\u003c/td\u003e\n      \u003ctd\u003e0.003704\u003c/td\u003e\n      \u003ctd\u003e0.337037\u003c/td\u003e\n      \u003ctd\u003e0.003704\u003c/td\u003e\n      \u003ctd\u003e0.003704\u003c/td\u003e\n      \u003ctd\u003e0.225926\u003c/td\u003e\n      \u003ctd\u003e0.003704\u003c/td\u003e\n      \u003ctd\u003e...\u003c/td\u003e\n      \u003ctd\u003e0.003704\u003c/td\u003e\n      \u003ctd\u003e0.337037\u003c/td\u003e\n      \u003ctd\u003e0.003704\u003c/td\u003e\n      \u003ctd\u003e0.003704\u003c/td\u003e\n      \u003ctd\u003e0.003704\u003c/td\u003e\n      \u003ctd\u003e0.003704\u003c/td\u003e\n      \u003ctd\u003e0\u003c/td\u003e\n      \u003ctd\u003e0\u003c/td\u003e\n      \u003ctd\u003e1\u003c/td\u003e\n      \u003ctd\u003e0\u003c/td\u003e\n    \u003c/tr\u003e\n    \u003ctr\u003e\n      \u003ctd\u003e3\u003c/td\u003e\n      \u003ctd\u003esp\u003c/td\u003e\n      \u003ctd\u003e18\u003c/td\u003e\n      \u003ctd\u003eApr\u003c/td\u003e\n      \u003ctd\u003eA\u003c/td\u003e\n      \u003ctd\u003e0.001449\u003c/td\u003e\n      \u003ctd\u003e0.305797\u003c/td\u003e\n      \u003ctd\u003e0.001449\u003c/td\u003e\n      \u003ctd\u003e0.001449\u003c/td\u003e\n      \u003ctd\u003e0.001449\u003c/td\u003e\n      \u003ctd\u003e0.001449\u003c/td\u003e\n      \u003ctd\u003e...\u003c/td\u003e\n      \u003ctd\u003e0.001449\u003c/td\u003e\n      \u003ctd\u003e0.088900\u003c/td\u003e\n      \u003ctd\u003e0.001449\u003c/td\u003e\n      \u003ctd\u003e0.001449\u003c/td\u003e\n      \u003ctd\u003e0.001449\u003c/td\u003e\n      \u003ctd\u003e0.001449\u003c/td\u003e\n      \u003ctd\u003e0\u003c/td\u003e\n      \u003ctd\u003e0\u003c/td\u003e\n      \u003ctd\u003e1\u003c/td\u003e\n      \u003ctd\u003e0\u003c/td\u003e\n    \u003c/tr\u003e\n    \u003ctr\u003e\n      \u003ctd\u003e4\u003c/td\u003e\n      \u003ctd\u003ew\u003c/td\u003e\n      \u003ctd\u003e11\u003c/td\u003e\n      \u003ctd\u003eDec\u003c/td\u003e\n      \u003ctd\u003eA\u003c/td\u003e\n      \u003ctd\u003e0.003030\u003c/td\u003e\n      \u003ctd\u003e0.275758\u003c/td\u003e\n      \u003ctd\u003e0.003030\u003c/td\u003e\n      \u003ctd\u003e0.003030\u003c/td\u003e\n      \u003ctd\u003e0.003030\u003c/td\u003e\n      \u003ctd\u003e0.003030\u003c/td\u003e\n      \u003ctd\u003e...\u003c/td\u003e\n      \u003ctd\u003e0.003030\u003c/td\u003e\n      \u003ctd\u003e0.639394\u003c/td\u003e\n      \u003ctd\u003e0.003030\u003c/td\u003e\n      \u003ctd\u003e0.003030\u003c/td\u003e\n      \u003ctd\u003e0.003030\u003c/td\u003e\n      \u003ctd\u003e0.003030\u003c/td\u003e\n      \u003ctd\u003e0\u003c/td\u003e\n      \u003ctd\u003e0\u003c/td\u003e\n      \u003ctd\u003e0\u003c/td\u003e\n      \u003ctd\u003e1\u003c/td\u003e\n    \u003c/tr\u003e\n  \u003c/tbody\u003e\n\u003c/table\u003e\n\u003cp\u003e5 rows × 38 columns\u003c/p\u003e\n\u003c/div\u003e"
          },
          "metadata": {},
          "output_type": "execute_result",
          "execution_count": 102
        }
      ],
      "source": "seasondata\u003dpd.concat([data,dummies],axis\u003d1).drop([\u0027Unnamed: 0\u0027],axis\u003d1)\nseasondata.head()"
    },
    {
      "cell_type": "code",
      "execution_count": 103,
      "metadata": {
        "pycharm": {
          "is_executing": false
        }
      },
      "outputs": [
        {
          "data": {
            "text/plain": "  rate         0         1         2         3         4         5         6  \\\n0    C  0.002381  0.573810  0.002381  0.002381  0.002381  0.002381  0.002381   \n1    D  0.093939  0.366667  0.003030  0.003030  0.093939  0.003030  0.003030   \n2    B  0.003704  0.337037  0.003704  0.003704  0.225926  0.003704  0.003704   \n3    A  0.001449  0.305797  0.001449  0.001449  0.001449  0.001449  0.001449   \n4    A  0.003030  0.275758  0.003030  0.003030  0.003030  0.003030  0.003030   \n\n          7         8  ...        20        21        22        23        24  \\\n0  0.002381  0.002381  ...  0.002381  0.002381  0.002381  0.002381  0.002381   \n1  0.003030  0.003030  ...  0.003030  0.003030  0.003030  0.003030  0.003030   \n2  0.003704  0.003704  ...  0.003704  0.003704  0.003704  0.003704  0.003704   \n3  0.001449  0.001449  ...  0.001449  0.001449  0.001449  0.001449  0.001449   \n4  0.003030  0.003030  ...  0.003030  0.003030  0.003030  0.003030  0.003030   \n\n         25        26        27        28        29  \n0  0.359524  0.002381  0.002381  0.002381  0.002381  \n1  0.366667  0.003030  0.003030  0.003030  0.003030  \n2  0.337037  0.003704  0.003704  0.003704  0.003704  \n3  0.088900  0.001449  0.001449  0.001449  0.001449  \n4  0.639394  0.003030  0.003030  0.003030  0.003030  \n\n[5 rows x 31 columns]",
            "text/html": "\u003cdiv\u003e\n\u003cstyle scoped\u003e\n    .dataframe tbody tr th:only-of-type {\n        vertical-align: middle;\n    }\n\n    .dataframe tbody tr th {\n        vertical-align: top;\n    }\n\n    .dataframe thead th {\n        text-align: right;\n    }\n\u003c/style\u003e\n\u003ctable border\u003d\"1\" class\u003d\"dataframe\"\u003e\n  \u003cthead\u003e\n    \u003ctr style\u003d\"text-align: right;\"\u003e\n      \u003cth\u003e\u003c/th\u003e\n      \u003cth\u003erate\u003c/th\u003e\n      \u003cth\u003e0\u003c/th\u003e\n      \u003cth\u003e1\u003c/th\u003e\n      \u003cth\u003e2\u003c/th\u003e\n      \u003cth\u003e3\u003c/th\u003e\n      \u003cth\u003e4\u003c/th\u003e\n      \u003cth\u003e5\u003c/th\u003e\n      \u003cth\u003e6\u003c/th\u003e\n      \u003cth\u003e7\u003c/th\u003e\n      \u003cth\u003e8\u003c/th\u003e\n      \u003cth\u003e...\u003c/th\u003e\n      \u003cth\u003e20\u003c/th\u003e\n      \u003cth\u003e21\u003c/th\u003e\n      \u003cth\u003e22\u003c/th\u003e\n      \u003cth\u003e23\u003c/th\u003e\n      \u003cth\u003e24\u003c/th\u003e\n      \u003cth\u003e25\u003c/th\u003e\n      \u003cth\u003e26\u003c/th\u003e\n      \u003cth\u003e27\u003c/th\u003e\n      \u003cth\u003e28\u003c/th\u003e\n      \u003cth\u003e29\u003c/th\u003e\n    \u003c/tr\u003e\n  \u003c/thead\u003e\n  \u003ctbody\u003e\n    \u003ctr\u003e\n      \u003ctd\u003e0\u003c/td\u003e\n      \u003ctd\u003eC\u003c/td\u003e\n      \u003ctd\u003e0.002381\u003c/td\u003e\n      \u003ctd\u003e0.573810\u003c/td\u003e\n      \u003ctd\u003e0.002381\u003c/td\u003e\n      \u003ctd\u003e0.002381\u003c/td\u003e\n      \u003ctd\u003e0.002381\u003c/td\u003e\n      \u003ctd\u003e0.002381\u003c/td\u003e\n      \u003ctd\u003e0.002381\u003c/td\u003e\n      \u003ctd\u003e0.002381\u003c/td\u003e\n      \u003ctd\u003e0.002381\u003c/td\u003e\n      \u003ctd\u003e...\u003c/td\u003e\n      \u003ctd\u003e0.002381\u003c/td\u003e\n      \u003ctd\u003e0.002381\u003c/td\u003e\n      \u003ctd\u003e0.002381\u003c/td\u003e\n      \u003ctd\u003e0.002381\u003c/td\u003e\n      \u003ctd\u003e0.002381\u003c/td\u003e\n      \u003ctd\u003e0.359524\u003c/td\u003e\n      \u003ctd\u003e0.002381\u003c/td\u003e\n      \u003ctd\u003e0.002381\u003c/td\u003e\n      \u003ctd\u003e0.002381\u003c/td\u003e\n      \u003ctd\u003e0.002381\u003c/td\u003e\n    \u003c/tr\u003e\n    \u003ctr\u003e\n      \u003ctd\u003e1\u003c/td\u003e\n      \u003ctd\u003eD\u003c/td\u003e\n      \u003ctd\u003e0.093939\u003c/td\u003e\n      \u003ctd\u003e0.366667\u003c/td\u003e\n      \u003ctd\u003e0.003030\u003c/td\u003e\n      \u003ctd\u003e0.003030\u003c/td\u003e\n      \u003ctd\u003e0.093939\u003c/td\u003e\n      \u003ctd\u003e0.003030\u003c/td\u003e\n      \u003ctd\u003e0.003030\u003c/td\u003e\n      \u003ctd\u003e0.003030\u003c/td\u003e\n      \u003ctd\u003e0.003030\u003c/td\u003e\n      \u003ctd\u003e...\u003c/td\u003e\n      \u003ctd\u003e0.003030\u003c/td\u003e\n      \u003ctd\u003e0.003030\u003c/td\u003e\n      \u003ctd\u003e0.003030\u003c/td\u003e\n      \u003ctd\u003e0.003030\u003c/td\u003e\n      \u003ctd\u003e0.003030\u003c/td\u003e\n      \u003ctd\u003e0.366667\u003c/td\u003e\n      \u003ctd\u003e0.003030\u003c/td\u003e\n      \u003ctd\u003e0.003030\u003c/td\u003e\n      \u003ctd\u003e0.003030\u003c/td\u003e\n      \u003ctd\u003e0.003030\u003c/td\u003e\n    \u003c/tr\u003e\n    \u003ctr\u003e\n      \u003ctd\u003e2\u003c/td\u003e\n      \u003ctd\u003eB\u003c/td\u003e\n      \u003ctd\u003e0.003704\u003c/td\u003e\n      \u003ctd\u003e0.337037\u003c/td\u003e\n      \u003ctd\u003e0.003704\u003c/td\u003e\n      \u003ctd\u003e0.003704\u003c/td\u003e\n      \u003ctd\u003e0.225926\u003c/td\u003e\n      \u003ctd\u003e0.003704\u003c/td\u003e\n      \u003ctd\u003e0.003704\u003c/td\u003e\n      \u003ctd\u003e0.003704\u003c/td\u003e\n      \u003ctd\u003e0.003704\u003c/td\u003e\n      \u003ctd\u003e...\u003c/td\u003e\n      \u003ctd\u003e0.003704\u003c/td\u003e\n      \u003ctd\u003e0.003704\u003c/td\u003e\n      \u003ctd\u003e0.003704\u003c/td\u003e\n      \u003ctd\u003e0.003704\u003c/td\u003e\n      \u003ctd\u003e0.003704\u003c/td\u003e\n      \u003ctd\u003e0.337037\u003c/td\u003e\n      \u003ctd\u003e0.003704\u003c/td\u003e\n      \u003ctd\u003e0.003704\u003c/td\u003e\n      \u003ctd\u003e0.003704\u003c/td\u003e\n      \u003ctd\u003e0.003704\u003c/td\u003e\n    \u003c/tr\u003e\n    \u003ctr\u003e\n      \u003ctd\u003e3\u003c/td\u003e\n      \u003ctd\u003eA\u003c/td\u003e\n      \u003ctd\u003e0.001449\u003c/td\u003e\n      \u003ctd\u003e0.305797\u003c/td\u003e\n      \u003ctd\u003e0.001449\u003c/td\u003e\n      \u003ctd\u003e0.001449\u003c/td\u003e\n      \u003ctd\u003e0.001449\u003c/td\u003e\n      \u003ctd\u003e0.001449\u003c/td\u003e\n      \u003ctd\u003e0.001449\u003c/td\u003e\n      \u003ctd\u003e0.001449\u003c/td\u003e\n      \u003ctd\u003e0.001449\u003c/td\u003e\n      \u003ctd\u003e...\u003c/td\u003e\n      \u003ctd\u003e0.001449\u003c/td\u003e\n      \u003ctd\u003e0.001449\u003c/td\u003e\n      \u003ctd\u003e0.001449\u003c/td\u003e\n      \u003ctd\u003e0.001449\u003c/td\u003e\n      \u003ctd\u003e0.001449\u003c/td\u003e\n      \u003ctd\u003e0.088900\u003c/td\u003e\n      \u003ctd\u003e0.001449\u003c/td\u003e\n      \u003ctd\u003e0.001449\u003c/td\u003e\n      \u003ctd\u003e0.001449\u003c/td\u003e\n      \u003ctd\u003e0.001449\u003c/td\u003e\n    \u003c/tr\u003e\n    \u003ctr\u003e\n      \u003ctd\u003e4\u003c/td\u003e\n      \u003ctd\u003eA\u003c/td\u003e\n      \u003ctd\u003e0.003030\u003c/td\u003e\n      \u003ctd\u003e0.275758\u003c/td\u003e\n      \u003ctd\u003e0.003030\u003c/td\u003e\n      \u003ctd\u003e0.003030\u003c/td\u003e\n      \u003ctd\u003e0.003030\u003c/td\u003e\n      \u003ctd\u003e0.003030\u003c/td\u003e\n      \u003ctd\u003e0.003030\u003c/td\u003e\n      \u003ctd\u003e0.003030\u003c/td\u003e\n      \u003ctd\u003e0.003030\u003c/td\u003e\n      \u003ctd\u003e...\u003c/td\u003e\n      \u003ctd\u003e0.003030\u003c/td\u003e\n      \u003ctd\u003e0.003030\u003c/td\u003e\n      \u003ctd\u003e0.003030\u003c/td\u003e\n      \u003ctd\u003e0.003030\u003c/td\u003e\n      \u003ctd\u003e0.003030\u003c/td\u003e\n      \u003ctd\u003e0.639394\u003c/td\u003e\n      \u003ctd\u003e0.003030\u003c/td\u003e\n      \u003ctd\u003e0.003030\u003c/td\u003e\n      \u003ctd\u003e0.003030\u003c/td\u003e\n      \u003ctd\u003e0.003030\u003c/td\u003e\n    \u003c/tr\u003e\n  \u003c/tbody\u003e\n\u003c/table\u003e\n\u003cp\u003e5 rows × 31 columns\u003c/p\u003e\n\u003c/div\u003e"
          },
          "metadata": {},
          "output_type": "execute_result",
          "execution_count": 103
        }
      ],
      "source": [
        "newdata\u003ddata.drop([\u0027season\u0027,\u0027Unnamed: 0\u0027,\u0027year\u0027,\u0027month\u0027],axis\u003d1)\n",
        "newdata.head()"
      ]
    },
    {
      "cell_type": "markdown",
      "metadata": {
        "pycharm": {}
      },
      "source": "## change 12345 to pos,neg"
    },
    {
      "cell_type": "code",
      "execution_count": 106,
      "metadata": {
        "pycharm": {
          "is_executing": false
        }
      },
      "outputs": [
        {
          "data": {
            "text/plain": "          0         1         2         3         4         5         6  \\\n0  0.002381  0.573810  0.002381  0.002381  0.002381  0.002381  0.002381   \n1  0.093939  0.366667  0.003030  0.003030  0.093939  0.003030  0.003030   \n2  0.003704  0.337037  0.003704  0.003704  0.225926  0.003704  0.003704   \n3  0.001449  0.305797  0.001449  0.001449  0.001449  0.001449  0.001449   \n4  0.003030  0.275758  0.003030  0.003030  0.003030  0.003030  0.003030   \n\n          7         8         9  ...        21        22        23        24  \\\n0  0.002381  0.002381  0.002381  ...  0.002381  0.002381  0.002381  0.002381   \n1  0.003030  0.003030  0.003030  ...  0.003030  0.003030  0.003030  0.003030   \n2  0.003704  0.003704  0.003704  ...  0.003704  0.003704  0.003704  0.003704   \n3  0.001449  0.001449  0.001449  ...  0.001449  0.001449  0.001449  0.001449   \n4  0.003030  0.003030  0.003030  ...  0.003030  0.003030  0.003030  0.003030   \n\n         25        26        27        28        29  rate2  \n0  0.359524  0.002381  0.002381  0.002381  0.002381    0.0  \n1  0.366667  0.003030  0.003030  0.003030  0.003030    0.0  \n2  0.337037  0.003704  0.003704  0.003704  0.003704    1.0  \n3  0.088900  0.001449  0.001449  0.001449  0.001449    1.0  \n4  0.639394  0.003030  0.003030  0.003030  0.003030    1.0  \n\n[5 rows x 31 columns]",
            "text/html": "\u003cdiv\u003e\n\u003cstyle scoped\u003e\n    .dataframe tbody tr th:only-of-type {\n        vertical-align: middle;\n    }\n\n    .dataframe tbody tr th {\n        vertical-align: top;\n    }\n\n    .dataframe thead th {\n        text-align: right;\n    }\n\u003c/style\u003e\n\u003ctable border\u003d\"1\" class\u003d\"dataframe\"\u003e\n  \u003cthead\u003e\n    \u003ctr style\u003d\"text-align: right;\"\u003e\n      \u003cth\u003e\u003c/th\u003e\n      \u003cth\u003e0\u003c/th\u003e\n      \u003cth\u003e1\u003c/th\u003e\n      \u003cth\u003e2\u003c/th\u003e\n      \u003cth\u003e3\u003c/th\u003e\n      \u003cth\u003e4\u003c/th\u003e\n      \u003cth\u003e5\u003c/th\u003e\n      \u003cth\u003e6\u003c/th\u003e\n      \u003cth\u003e7\u003c/th\u003e\n      \u003cth\u003e8\u003c/th\u003e\n      \u003cth\u003e9\u003c/th\u003e\n      \u003cth\u003e...\u003c/th\u003e\n      \u003cth\u003e21\u003c/th\u003e\n      \u003cth\u003e22\u003c/th\u003e\n      \u003cth\u003e23\u003c/th\u003e\n      \u003cth\u003e24\u003c/th\u003e\n      \u003cth\u003e25\u003c/th\u003e\n      \u003cth\u003e26\u003c/th\u003e\n      \u003cth\u003e27\u003c/th\u003e\n      \u003cth\u003e28\u003c/th\u003e\n      \u003cth\u003e29\u003c/th\u003e\n      \u003cth\u003erate2\u003c/th\u003e\n    \u003c/tr\u003e\n  \u003c/thead\u003e\n  \u003ctbody\u003e\n    \u003ctr\u003e\n      \u003ctd\u003e0\u003c/td\u003e\n      \u003ctd\u003e0.002381\u003c/td\u003e\n      \u003ctd\u003e0.573810\u003c/td\u003e\n      \u003ctd\u003e0.002381\u003c/td\u003e\n      \u003ctd\u003e0.002381\u003c/td\u003e\n      \u003ctd\u003e0.002381\u003c/td\u003e\n      \u003ctd\u003e0.002381\u003c/td\u003e\n      \u003ctd\u003e0.002381\u003c/td\u003e\n      \u003ctd\u003e0.002381\u003c/td\u003e\n      \u003ctd\u003e0.002381\u003c/td\u003e\n      \u003ctd\u003e0.002381\u003c/td\u003e\n      \u003ctd\u003e...\u003c/td\u003e\n      \u003ctd\u003e0.002381\u003c/td\u003e\n      \u003ctd\u003e0.002381\u003c/td\u003e\n      \u003ctd\u003e0.002381\u003c/td\u003e\n      \u003ctd\u003e0.002381\u003c/td\u003e\n      \u003ctd\u003e0.359524\u003c/td\u003e\n      \u003ctd\u003e0.002381\u003c/td\u003e\n      \u003ctd\u003e0.002381\u003c/td\u003e\n      \u003ctd\u003e0.002381\u003c/td\u003e\n      \u003ctd\u003e0.002381\u003c/td\u003e\n      \u003ctd\u003e0.0\u003c/td\u003e\n    \u003c/tr\u003e\n    \u003ctr\u003e\n      \u003ctd\u003e1\u003c/td\u003e\n      \u003ctd\u003e0.093939\u003c/td\u003e\n      \u003ctd\u003e0.366667\u003c/td\u003e\n      \u003ctd\u003e0.003030\u003c/td\u003e\n      \u003ctd\u003e0.003030\u003c/td\u003e\n      \u003ctd\u003e0.093939\u003c/td\u003e\n      \u003ctd\u003e0.003030\u003c/td\u003e\n      \u003ctd\u003e0.003030\u003c/td\u003e\n      \u003ctd\u003e0.003030\u003c/td\u003e\n      \u003ctd\u003e0.003030\u003c/td\u003e\n      \u003ctd\u003e0.003030\u003c/td\u003e\n      \u003ctd\u003e...\u003c/td\u003e\n      \u003ctd\u003e0.003030\u003c/td\u003e\n      \u003ctd\u003e0.003030\u003c/td\u003e\n      \u003ctd\u003e0.003030\u003c/td\u003e\n      \u003ctd\u003e0.003030\u003c/td\u003e\n      \u003ctd\u003e0.366667\u003c/td\u003e\n      \u003ctd\u003e0.003030\u003c/td\u003e\n      \u003ctd\u003e0.003030\u003c/td\u003e\n      \u003ctd\u003e0.003030\u003c/td\u003e\n      \u003ctd\u003e0.003030\u003c/td\u003e\n      \u003ctd\u003e0.0\u003c/td\u003e\n    \u003c/tr\u003e\n    \u003ctr\u003e\n      \u003ctd\u003e2\u003c/td\u003e\n      \u003ctd\u003e0.003704\u003c/td\u003e\n      \u003ctd\u003e0.337037\u003c/td\u003e\n      \u003ctd\u003e0.003704\u003c/td\u003e\n      \u003ctd\u003e0.003704\u003c/td\u003e\n      \u003ctd\u003e0.225926\u003c/td\u003e\n      \u003ctd\u003e0.003704\u003c/td\u003e\n      \u003ctd\u003e0.003704\u003c/td\u003e\n      \u003ctd\u003e0.003704\u003c/td\u003e\n      \u003ctd\u003e0.003704\u003c/td\u003e\n      \u003ctd\u003e0.003704\u003c/td\u003e\n      \u003ctd\u003e...\u003c/td\u003e\n      \u003ctd\u003e0.003704\u003c/td\u003e\n      \u003ctd\u003e0.003704\u003c/td\u003e\n      \u003ctd\u003e0.003704\u003c/td\u003e\n      \u003ctd\u003e0.003704\u003c/td\u003e\n      \u003ctd\u003e0.337037\u003c/td\u003e\n      \u003ctd\u003e0.003704\u003c/td\u003e\n      \u003ctd\u003e0.003704\u003c/td\u003e\n      \u003ctd\u003e0.003704\u003c/td\u003e\n      \u003ctd\u003e0.003704\u003c/td\u003e\n      \u003ctd\u003e1.0\u003c/td\u003e\n    \u003c/tr\u003e\n    \u003ctr\u003e\n      \u003ctd\u003e3\u003c/td\u003e\n      \u003ctd\u003e0.001449\u003c/td\u003e\n      \u003ctd\u003e0.305797\u003c/td\u003e\n      \u003ctd\u003e0.001449\u003c/td\u003e\n      \u003ctd\u003e0.001449\u003c/td\u003e\n      \u003ctd\u003e0.001449\u003c/td\u003e\n      \u003ctd\u003e0.001449\u003c/td\u003e\n      \u003ctd\u003e0.001449\u003c/td\u003e\n      \u003ctd\u003e0.001449\u003c/td\u003e\n      \u003ctd\u003e0.001449\u003c/td\u003e\n      \u003ctd\u003e0.001449\u003c/td\u003e\n      \u003ctd\u003e...\u003c/td\u003e\n      \u003ctd\u003e0.001449\u003c/td\u003e\n      \u003ctd\u003e0.001449\u003c/td\u003e\n      \u003ctd\u003e0.001449\u003c/td\u003e\n      \u003ctd\u003e0.001449\u003c/td\u003e\n      \u003ctd\u003e0.088900\u003c/td\u003e\n      \u003ctd\u003e0.001449\u003c/td\u003e\n      \u003ctd\u003e0.001449\u003c/td\u003e\n      \u003ctd\u003e0.001449\u003c/td\u003e\n      \u003ctd\u003e0.001449\u003c/td\u003e\n      \u003ctd\u003e1.0\u003c/td\u003e\n    \u003c/tr\u003e\n    \u003ctr\u003e\n      \u003ctd\u003e4\u003c/td\u003e\n      \u003ctd\u003e0.003030\u003c/td\u003e\n      \u003ctd\u003e0.275758\u003c/td\u003e\n      \u003ctd\u003e0.003030\u003c/td\u003e\n      \u003ctd\u003e0.003030\u003c/td\u003e\n      \u003ctd\u003e0.003030\u003c/td\u003e\n      \u003ctd\u003e0.003030\u003c/td\u003e\n      \u003ctd\u003e0.003030\u003c/td\u003e\n      \u003ctd\u003e0.003030\u003c/td\u003e\n      \u003ctd\u003e0.003030\u003c/td\u003e\n      \u003ctd\u003e0.003030\u003c/td\u003e\n      \u003ctd\u003e...\u003c/td\u003e\n      \u003ctd\u003e0.003030\u003c/td\u003e\n      \u003ctd\u003e0.003030\u003c/td\u003e\n      \u003ctd\u003e0.003030\u003c/td\u003e\n      \u003ctd\u003e0.003030\u003c/td\u003e\n      \u003ctd\u003e0.639394\u003c/td\u003e\n      \u003ctd\u003e0.003030\u003c/td\u003e\n      \u003ctd\u003e0.003030\u003c/td\u003e\n      \u003ctd\u003e0.003030\u003c/td\u003e\n      \u003ctd\u003e0.003030\u003c/td\u003e\n      \u003ctd\u003e1.0\u003c/td\u003e\n    \u003c/tr\u003e\n  \u003c/tbody\u003e\n\u003c/table\u003e\n\u003cp\u003e5 rows × 31 columns\u003c/p\u003e\n\u003c/div\u003e"
          },
          "metadata": {},
          "output_type": "execute_result",
          "execution_count": 106
        }
      ],
      "source": "## recode rate to 3 categories\nnewdata.loc[data[\u0027rate\u0027]\u003d\u003d\"A\", \u0027rate2\u0027]\u003d1\nnewdata.loc[data[\u0027rate\u0027]\u003d\u003d\"B\", \u0027rate2\u0027]\u003d1\nnewdata.loc[data[\u0027rate\u0027]\u003d\u003d\"C\", \u0027rate2\u0027]\u003d0\nnewdata.loc[data[\u0027rate\u0027]\u003d\u003d\"D\", \u0027rate2\u0027]\u003d0\nnewdata.loc[data[\u0027rate\u0027]\u003d\u003d\"E\", \u0027rate2\u0027]\u003d0\ndata2\u003dnewdata.drop([\u0027rate\u0027],axis\u003d1)\ndata2.head()\n## 五个精度低，特别少。。。  我们在意的是positive或者negtive。。而不是very positive或者very negtive。。"
    },
    {
      "cell_type": "code",
      "execution_count": 107,
      "metadata": {
        "pycharm": {
          "is_executing": false
        }
      },
      "outputs": [],
      "source": "## sum the weight for pos or neg, to estimate the direction of each topic\ntopicDirection\u003ddata2.groupby([\u0027rate2\u0027]).mean()\ntopicDirection.to_csv(\u0027topicDirection.csv\u0027)"
    },
    {
      "cell_type": "markdown",
      "metadata": {
        "pycharm": {}
      },
      "source": "# 2. try random forest to explore data pre-processing"
    },
    {
      "cell_type": "markdown",
      "metadata": {
        "pycharm": {}
      },
      "source": ""
    },
    {
      "cell_type": "code",
      "execution_count": 108,
      "outputs": [
        {
          "data": {
            "text/plain": "count     20473\nunique        2\ntop         pos\nfreq      17315\nName: rate2, dtype: object"
          },
          "metadata": {},
          "output_type": "execute_result",
          "execution_count": 108
        }
      ],
      "source": "label.describe()",
      "metadata": {
        "pycharm": {
          "metadata": false,
          "name": "#%%\n",
          "is_executing": false
        }
      }
    },
    {
      "cell_type": "markdown",
      "metadata": {
        "pycharm": {}
      },
      "source": "### set value \u003c0.01 to 0 and use smote. OA decrease, but recall increase further"
    },
    {
      "cell_type": "code",
      "execution_count": 118,
      "metadata": {
        "pycharm": {
          "is_executing": false
        }
      },
      "outputs": [
        {
          "name": "stdout",
          "text": [
            "\u003d\u003d\u003d Confusion Matrix \u003d\u003d\u003d\n[[ 36  99]\n [ 55 834]]\n\n\n\u003d\u003d\u003d Classification Report \u003d\u003d\u003d\n              precision    recall  f1-score   support\n\n         0.0       0.40      0.27      0.32       135\n         1.0       0.89      0.94      0.92       889\n\n    accuracy                           0.85      1024\n   macro avg       0.64      0.60      0.62      1024\nweighted avg       0.83      0.85      0.84      1024\n\n\n\n"
          ],
          "output_type": "stream"
        }
      ],
      "source": "### smote通过增加 线性组合的sample把neg和postive的样本量变得差不多。。\n##因为我们的数据大部分都是positive的。。\nfeatures\u003ddata2.drop([\u0027rate2\u0027],axis\u003d1)\n#features[features\u003c0.02]\u003d0\nlabel\u003ddata2.rate2\nX_train, X_test, y_train, y_test \u003d train_test_split(features, label, test_size\u003d0.05, random_state\u003d333)\nsm \u003d SMOTE()\nnm\u003dNearMiss() #near missing is undersampling, which will reduce the number of training set\nX_res, y_res \u003d sm.fit_sample(X_train, y_train)\n\nclf \u003d RandomForestClassifier(random_state\u003d42)\nclf_fit\u003dclf.fit(X_res, y_res)\ny_predict\u003dclf_fit.predict(X_test)\n#evaluate y_predict performance\nfrom sklearn.metrics import classification_report, confusion_matrix\nprint(\"\u003d\u003d\u003d Confusion Matrix \u003d\u003d\u003d\")\nprint(confusion_matrix(y_test, y_predict))\nprint(\u0027\\n\u0027)\nprint(\"\u003d\u003d\u003d Classification Report \u003d\u003d\u003d\")\nprint(classification_report(y_test, y_predict))\nprint(\u0027\\n\u0027)\n"
    },
    {
      "cell_type": "code",
      "execution_count": 119,
      "metadata": {
        "pycharm": {
          "is_executing": false
        }
      },
      "outputs": [
        {
          "name": "stdout",
          "text": [
            "[0.02195538 0.02076753 0.02520255 0.018688   0.04486941 0.02220212\n 0.02608338 0.02200368 0.02108351 0.0200318  0.0253033  0.03793029\n 0.09652744 0.03029267 0.04490259 0.02084376 0.02310686 0.02283947\n 0.03294735 0.02228456 0.02341881 0.02013446 0.02114298 0.06590224\n 0.02040148 0.07944753 0.02277688 0.07237289 0.02091537 0.05362171]\n"
          ],
          "output_type": "stream"
        },
        {
          "data": {
            "text/plain": "[\u002729\u0027, \u002723\u0027, \u002727\u0027, \u002725\u0027, \u002712\u0027]"
          },
          "metadata": {},
          "output_type": "execute_result",
          "execution_count": 119
        }
      ],
      "source": "importance\u003dclf.feature_importances_\nprint(importance)\n## this is the most important feature name\n##用这个看重要不重要\nlargest5\u003dimportance.argsort()[-5:]\n[list(features)[i] for i in largest5]\n"
    },
    {
      "cell_type": "markdown",
      "metadata": {
        "pycharm": {}
      },
      "source": "### try use logistic model"
    },
    {
      "cell_type": "code",
      "execution_count": 122,
      "outputs": [
        {
          "name": "stdout",
          "text": [
            "              precision    recall  f1-score   support\n\n         0.0       0.30      0.69      0.41       161\n         1.0       0.92      0.69      0.79       863\n\n    accuracy                           0.69      1024\n   macro avg       0.61      0.69      0.60      1024\nweighted avg       0.82      0.69      0.73      1024\n\n[[ 0.99603859  0.97997857  0.32109415  1.78474022  1.29591091 -0.46294697\n  -0.34578906 -0.21774214 -0.10085974  0.86776886 -0.85052145  0.15558913\n   1.35071232  0.34529082 -1.02268632  0.74755528  0.90426996  2.30212577\n   0.4528454   0.85735631  0.51380997 -0.07094892 -0.47728944 -1.04013612\n   2.56157378  4.94790164  2.23684212 -2.09589535  0.44532094  3.84008478]]\n"
          ],
          "output_type": "stream"
        }
      ],
      "source": "from sklearn.linear_model import LogisticRegression\n\nfeatures\u003ddata2.drop([\u0027rate2\u0027],axis\u003d1) \nfeatures[features\u003c0.1]\u003d0\nlabel\u003ddata2.rate2\nX_train, X_test, y_train, y_test \u003d train_test_split(features, label, test_size\u003d0.05, random_state\u003d4)\nlogmodel\u003dLogisticRegression( class_weight\u003d\u0027balanced\u0027)# the balanced option will assign inversed weights \nlog_fit\u003dlogmodel.fit(X_train, y_train)\ny_predict\u003dlog_fit.predict(X_test)\n\n#evluate the model\nfrom sklearn.metrics import classification_report\nprint (classification_report(y_test,y_predict))\n\n#print coefficient\ncoef\u003dlogmodel.coef_\nprint (coef)\n",
      "metadata": {
        "pycharm": {
          "metadata": false,
          "name": "#%%\n",
          "is_executing": false
        }
      }
    },
    {
      "cell_type": "code",
      "execution_count": 123,
      "outputs": [
        {
          "name": "stdout",
          "text": [
            "[0.9960385897362978, 0.9799785685122737, 0.3210941533912557, 1.7847402165371933, 1.2959109128427928, -0.46294696666005325, -0.3457890565022754, -0.2177421407496199, -0.10085974450332809, 0.8677688609411798, -0.8505214524038588, 0.15558912933759914, 1.350712319416233, 0.3452908204517974, -1.0226863227311669, 0.7475552764708149, 0.9042699550604921, 2.302125769109948, 0.4528453963124849, 0.8573563083076265, 0.5138099734852941, -0.07094892301320305, -0.47728943847950833, -1.0401361205380535, 2.561573775347796, 4.947901643580021, 2.2368421230283246, -2.095895345153303, 0.44532094384309723, 3.8400847783049126]\n"
          ],
          "output_type": "stream"
        },
        {
          "data": {
            "text/plain": "-1.3141576041974048"
          },
          "metadata": {},
          "output_type": "execute_result",
          "execution_count": 123
        }
      ],
      "source": "print (list(coef[0]))\nfrom sklearn.metrics import r2_score\nr2_score(y_test,y_predict)#the result is negative, meaning rsquare doesnot fit for classification problems.",
      "metadata": {
        "pycharm": {
          "metadata": false,
          "name": "#%%\n",
          "is_executing": false
        }
      }
    },
    {
      "cell_type": "markdown",
      "metadata": {
        "pycharm": {}
      },
      "source": "# 3. Implement decision tree following C.1 for interpretation purpose"
    },
    {
      "cell_type": "code",
      "execution_count": 20,
      "metadata": {
        "pycharm": {
          "is_executing": false
        }
      },
      "outputs": [
        {
          "data": {
            "text/plain": "          0         1    2    3         4    5    6    7    8    9  ...   20  \\\n0  0.000000  0.573810  0.0  0.0  0.000000  0.0  0.0  0.0  0.0  0.0  ...  0.0   \n1  0.093939  0.366667  0.0  0.0  0.093939  0.0  0.0  0.0  0.0  0.0  ...  0.0   \n2  0.000000  0.337037  0.0  0.0  0.225926  0.0  0.0  0.0  0.0  0.0  ...  0.0   \n3  0.000000  0.305797  0.0  0.0  0.000000  0.0  0.0  0.0  0.0  0.0  ...  0.0   \n4  0.000000  0.275758  0.0  0.0  0.000000  0.0  0.0  0.0  0.0  0.0  ...  0.0   \n\n    21   22   23   24        25   26   27   28   29  \n0  0.0  0.0  0.0  0.0  0.359524  0.0  0.0  0.0  0.0  \n1  0.0  0.0  0.0  0.0  0.366667  0.0  0.0  0.0  0.0  \n2  0.0  0.0  0.0  0.0  0.337037  0.0  0.0  0.0  0.0  \n3  0.0  0.0  0.0  0.0  0.088900  0.0  0.0  0.0  0.0  \n4  0.0  0.0  0.0  0.0  0.639394  0.0  0.0  0.0  0.0  \n\n[5 rows x 30 columns]",
            "text/html": "\u003cdiv\u003e\n\u003cstyle scoped\u003e\n    .dataframe tbody tr th:only-of-type {\n        vertical-align: middle;\n    }\n\n    .dataframe tbody tr th {\n        vertical-align: top;\n    }\n\n    .dataframe thead th {\n        text-align: right;\n    }\n\u003c/style\u003e\n\u003ctable border\u003d\"1\" class\u003d\"dataframe\"\u003e\n  \u003cthead\u003e\n    \u003ctr style\u003d\"text-align: right;\"\u003e\n      \u003cth\u003e\u003c/th\u003e\n      \u003cth\u003e0\u003c/th\u003e\n      \u003cth\u003e1\u003c/th\u003e\n      \u003cth\u003e2\u003c/th\u003e\n      \u003cth\u003e3\u003c/th\u003e\n      \u003cth\u003e4\u003c/th\u003e\n      \u003cth\u003e5\u003c/th\u003e\n      \u003cth\u003e6\u003c/th\u003e\n      \u003cth\u003e7\u003c/th\u003e\n      \u003cth\u003e8\u003c/th\u003e\n      \u003cth\u003e9\u003c/th\u003e\n      \u003cth\u003e...\u003c/th\u003e\n      \u003cth\u003e20\u003c/th\u003e\n      \u003cth\u003e21\u003c/th\u003e\n      \u003cth\u003e22\u003c/th\u003e\n      \u003cth\u003e23\u003c/th\u003e\n      \u003cth\u003e24\u003c/th\u003e\n      \u003cth\u003e25\u003c/th\u003e\n      \u003cth\u003e26\u003c/th\u003e\n      \u003cth\u003e27\u003c/th\u003e\n      \u003cth\u003e28\u003c/th\u003e\n      \u003cth\u003e29\u003c/th\u003e\n    \u003c/tr\u003e\n  \u003c/thead\u003e\n  \u003ctbody\u003e\n    \u003ctr\u003e\n      \u003cth\u003e0\u003c/th\u003e\n      \u003ctd\u003e0.000000\u003c/td\u003e\n      \u003ctd\u003e0.573810\u003c/td\u003e\n      \u003ctd\u003e0.0\u003c/td\u003e\n      \u003ctd\u003e0.0\u003c/td\u003e\n      \u003ctd\u003e0.000000\u003c/td\u003e\n      \u003ctd\u003e0.0\u003c/td\u003e\n      \u003ctd\u003e0.0\u003c/td\u003e\n      \u003ctd\u003e0.0\u003c/td\u003e\n      \u003ctd\u003e0.0\u003c/td\u003e\n      \u003ctd\u003e0.0\u003c/td\u003e\n      \u003ctd\u003e...\u003c/td\u003e\n      \u003ctd\u003e0.0\u003c/td\u003e\n      \u003ctd\u003e0.0\u003c/td\u003e\n      \u003ctd\u003e0.0\u003c/td\u003e\n      \u003ctd\u003e0.0\u003c/td\u003e\n      \u003ctd\u003e0.0\u003c/td\u003e\n      \u003ctd\u003e0.359524\u003c/td\u003e\n      \u003ctd\u003e0.0\u003c/td\u003e\n      \u003ctd\u003e0.0\u003c/td\u003e\n      \u003ctd\u003e0.0\u003c/td\u003e\n      \u003ctd\u003e0.0\u003c/td\u003e\n    \u003c/tr\u003e\n    \u003ctr\u003e\n      \u003cth\u003e1\u003c/th\u003e\n      \u003ctd\u003e0.093939\u003c/td\u003e\n      \u003ctd\u003e0.366667\u003c/td\u003e\n      \u003ctd\u003e0.0\u003c/td\u003e\n      \u003ctd\u003e0.0\u003c/td\u003e\n      \u003ctd\u003e0.093939\u003c/td\u003e\n      \u003ctd\u003e0.0\u003c/td\u003e\n      \u003ctd\u003e0.0\u003c/td\u003e\n      \u003ctd\u003e0.0\u003c/td\u003e\n      \u003ctd\u003e0.0\u003c/td\u003e\n      \u003ctd\u003e0.0\u003c/td\u003e\n      \u003ctd\u003e...\u003c/td\u003e\n      \u003ctd\u003e0.0\u003c/td\u003e\n      \u003ctd\u003e0.0\u003c/td\u003e\n      \u003ctd\u003e0.0\u003c/td\u003e\n      \u003ctd\u003e0.0\u003c/td\u003e\n      \u003ctd\u003e0.0\u003c/td\u003e\n      \u003ctd\u003e0.366667\u003c/td\u003e\n      \u003ctd\u003e0.0\u003c/td\u003e\n      \u003ctd\u003e0.0\u003c/td\u003e\n      \u003ctd\u003e0.0\u003c/td\u003e\n      \u003ctd\u003e0.0\u003c/td\u003e\n    \u003c/tr\u003e\n    \u003ctr\u003e\n      \u003cth\u003e2\u003c/th\u003e\n      \u003ctd\u003e0.000000\u003c/td\u003e\n      \u003ctd\u003e0.337037\u003c/td\u003e\n      \u003ctd\u003e0.0\u003c/td\u003e\n      \u003ctd\u003e0.0\u003c/td\u003e\n      \u003ctd\u003e0.225926\u003c/td\u003e\n      \u003ctd\u003e0.0\u003c/td\u003e\n      \u003ctd\u003e0.0\u003c/td\u003e\n      \u003ctd\u003e0.0\u003c/td\u003e\n      \u003ctd\u003e0.0\u003c/td\u003e\n      \u003ctd\u003e0.0\u003c/td\u003e\n      \u003ctd\u003e...\u003c/td\u003e\n      \u003ctd\u003e0.0\u003c/td\u003e\n      \u003ctd\u003e0.0\u003c/td\u003e\n      \u003ctd\u003e0.0\u003c/td\u003e\n      \u003ctd\u003e0.0\u003c/td\u003e\n      \u003ctd\u003e0.0\u003c/td\u003e\n      \u003ctd\u003e0.337037\u003c/td\u003e\n      \u003ctd\u003e0.0\u003c/td\u003e\n      \u003ctd\u003e0.0\u003c/td\u003e\n      \u003ctd\u003e0.0\u003c/td\u003e\n      \u003ctd\u003e0.0\u003c/td\u003e\n    \u003c/tr\u003e\n    \u003ctr\u003e\n      \u003cth\u003e3\u003c/th\u003e\n      \u003ctd\u003e0.000000\u003c/td\u003e\n      \u003ctd\u003e0.305797\u003c/td\u003e\n      \u003ctd\u003e0.0\u003c/td\u003e\n      \u003ctd\u003e0.0\u003c/td\u003e\n      \u003ctd\u003e0.000000\u003c/td\u003e\n      \u003ctd\u003e0.0\u003c/td\u003e\n      \u003ctd\u003e0.0\u003c/td\u003e\n      \u003ctd\u003e0.0\u003c/td\u003e\n      \u003ctd\u003e0.0\u003c/td\u003e\n      \u003ctd\u003e0.0\u003c/td\u003e\n      \u003ctd\u003e...\u003c/td\u003e\n      \u003ctd\u003e0.0\u003c/td\u003e\n      \u003ctd\u003e0.0\u003c/td\u003e\n      \u003ctd\u003e0.0\u003c/td\u003e\n      \u003ctd\u003e0.0\u003c/td\u003e\n      \u003ctd\u003e0.0\u003c/td\u003e\n      \u003ctd\u003e0.088900\u003c/td\u003e\n      \u003ctd\u003e0.0\u003c/td\u003e\n      \u003ctd\u003e0.0\u003c/td\u003e\n      \u003ctd\u003e0.0\u003c/td\u003e\n      \u003ctd\u003e0.0\u003c/td\u003e\n    \u003c/tr\u003e\n    \u003ctr\u003e\n      \u003cth\u003e4\u003c/th\u003e\n      \u003ctd\u003e0.000000\u003c/td\u003e\n      \u003ctd\u003e0.275758\u003c/td\u003e\n      \u003ctd\u003e0.0\u003c/td\u003e\n      \u003ctd\u003e0.0\u003c/td\u003e\n      \u003ctd\u003e0.000000\u003c/td\u003e\n      \u003ctd\u003e0.0\u003c/td\u003e\n      \u003ctd\u003e0.0\u003c/td\u003e\n      \u003ctd\u003e0.0\u003c/td\u003e\n      \u003ctd\u003e0.0\u003c/td\u003e\n      \u003ctd\u003e0.0\u003c/td\u003e\n      \u003ctd\u003e...\u003c/td\u003e\n      \u003ctd\u003e0.0\u003c/td\u003e\n      \u003ctd\u003e0.0\u003c/td\u003e\n      \u003ctd\u003e0.0\u003c/td\u003e\n      \u003ctd\u003e0.0\u003c/td\u003e\n      \u003ctd\u003e0.0\u003c/td\u003e\n      \u003ctd\u003e0.639394\u003c/td\u003e\n      \u003ctd\u003e0.0\u003c/td\u003e\n      \u003ctd\u003e0.0\u003c/td\u003e\n      \u003ctd\u003e0.0\u003c/td\u003e\n      \u003ctd\u003e0.0\u003c/td\u003e\n    \u003c/tr\u003e\n  \u003c/tbody\u003e\n\u003c/table\u003e\n\u003cp\u003e5 rows × 30 columns\u003c/p\u003e\n\u003c/div\u003e"
          },
          "metadata": {},
          "output_type": "execute_result",
          "execution_count": 20
        }
      ],
      "source": "features\u003ddata2.drop([\u0027rate2\u0027],axis\u003d1)\nfeatures[features\u003c0.01]\u003d0\nlabel\u003ddata2.rate2\nfeatures.head()"
    },
    {
      "cell_type": "code",
      "execution_count": 21,
      "metadata": {
        "scrolled": true,
        "pycharm": {
          "is_executing": false
        }
      },
      "outputs": [
        {
          "name": "stdout",
          "text": [
            "0.6903540903540903\n[0.53846154 0.71632828]\n[0.24505327 0.90075512]\n"
          ],
          "output_type": "stream"
        }
      ],
      "source": "X_train, X_test, y_train, y_test \u003d train_test_split(features, label, test_size\u003d0.2, random_state\u003d42)\nsm \u003d SMOTE(random_state\u003d42)\nX_res, y_res \u003d sm.fit_sample(X_train, y_train)\n\nclf\u003dtree.DecisionTreeClassifier(max_depth\u003d4)  ## this max_depth is after trials among [3,4,5]\nclf\u003dclf.fit(X_res, y_res)\ny_predict\u003dclf.predict(X_test)\nprint(accuracy_score(y_test, y_predict))\nprint(recall_score(y_test, y_predict, average\u003dNone))\nprint(precision_score(y_test, y_predict, average\u003dNone))"
    },
    {
      "cell_type": "code",
      "execution_count": 22,
      "metadata": {
        "pycharm": {
          "is_executing": false
        }
      },
      "outputs": [],
      "source": [
        "with open(\"decisionTree_classifier.txt\", \"w\") as f:\n",
        "    f \u003d tree.export_graphviz(clf, out_file\u003df,feature_names\u003dlist(features),class_names\u003d[\"pos\",\u0027neg\u0027])\n",
        "#Use http://webgraphviz.com/ to see the tree graphic"
      ]
    },
    {
      "cell_type": "code",
      "execution_count": 23,
      "metadata": {
        "pycharm": {
          "is_executing": false
        }
      },
      "outputs": [
        {
          "name": "stdout",
          "text": [
            "[\u00270\u0027, \u00271\u0027, \u00272\u0027, \u00273\u0027, \u00274\u0027, \u00275\u0027, \u00276\u0027, \u00277\u0027, \u00278\u0027, \u00279\u0027, \u002710\u0027, \u002711\u0027, \u002712\u0027, \u002713\u0027, \u002714\u0027, \u002715\u0027, \u002716\u0027, \u002717\u0027, \u002718\u0027, \u002719\u0027, \u002720\u0027, \u002721\u0027, \u002722\u0027, \u002723\u0027, \u002724\u0027, \u002725\u0027, \u002726\u0027, \u002727\u0027, \u002728\u0027, \u002729\u0027]\n"
          ],
          "output_type": "stream"
        }
      ],
      "source": [
        "print (list(features))"
      ]
    },
    {
      "cell_type": "code",
      "execution_count": null,
      "metadata": {
        "collapsed": true,
        "pycharm": {}
      },
      "outputs": [],
      "source": [
        "\"\"\"the result gini impurity look at how well the group been splitted. If all the group are Pos, then GINI is 0. If the pos and neg \n",
        "is 50%,50%, then the gini is 0.5, which is not good.48.97% means the 48.97% chance of a new data point being incorrectly \n",
        "classified, based on the observed training data we have at our disposal. "
      ]
    },
    {
      "cell_type": "code",
      "execution_count": null,
      "metadata": {
        "pycharm": {}
      },
      "outputs": [],
      "source": []
    }
  ],
  "metadata": {
    "kernelspec": {
      "name": "python3",
      "language": "python",
      "display_name": "Python 3"
    },
    "language_info": {
      "codemirror_mode": {
        "name": "ipython",
        "version": 3
      },
      "file_extension": ".py",
      "mimetype": "text/x-python",
      "name": "python",
      "nbconvert_exporter": "python",
      "pygments_lexer": "ipython3",
      "version": "3.6.5"
    }
  },
  "nbformat": 4,
  "nbformat_minor": 2
}