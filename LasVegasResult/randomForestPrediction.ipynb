{
  "cells": [
    {
      "cell_type": "code",
      "execution_count": 3,
      "metadata": {
        "pycharm": {
          "is_executing": false
        }
      },
      "outputs": [],
      "source": "import pandas as pd\nimport numpy as np\nimport matplotlib.pyplot as plt\n\nfrom sklearn.ensemble import RandomForestClassifier\nfrom sklearn.model_selection import train_test_split\nfrom sklearn.metrics import precision_score\nfrom sklearn.metrics import recall_score\nfrom sklearn.metrics import accuracy_score\nfrom sklearn.metrics import confusion_matrix\nfrom sklearn import tree\nfrom sklearn.preprocessing import OneHotEncoder #get dummy variables for categories\nfrom sklearn.preprocessing import LabelEncoder #get dummy variables for categories  (the pandas get dummies is better)\nfrom imblearn.over_sampling import SMOTE \nfrom imblearn.over_sampling import ADASYN \n%matplotlib inline"
    },
    {
      "cell_type": "code",
      "execution_count": 4,
      "outputs": [],
      "source": "# graphviz and pydotplus are used for decision tree visualization, need to install graphviz to both windows system and python need to add path to windows environments, refer to this link  https://stackoverflow.com/questions/18438997/why-is-pydot-unable-to-find-graphvizs-executables-in-windows-8\nfrom IPython.display import Image \nimport graphviz \nimport pydotplus\nimport os\nos.environ[\"PATH\"] +\u003d os.pathsep + \u0027C:/Program Files (x86)/Graphviz2.38/bin/\u0027",
      "metadata": {
        "pycharm": {
          "metadata": false,
          "name": "#%%\n",
          "is_executing": false
        }
      }
    },
    {
      "cell_type": "markdown",
      "metadata": {
        "pycharm": {}
      },
      "source": "# 1. Prepare and clean data"
    },
    {
      "cell_type": "code",
      "execution_count": 5,
      "metadata": {
        "pycharm": {
          "is_executing": false
        }
      },
      "outputs": [
        {
          "data": {
            "text/plain": "   Unnamed: 0 season  year month rate         0         1         2         3  \\\n0        5748     sp    17   Mar    C  0.002381  0.573810  0.002381  0.002381   \n1        7853      a    16   Nov    D  0.093939  0.366667  0.003030  0.003030   \n2       20335     sp    12   Mar    B  0.003704  0.337037  0.003704  0.003704   \n3         906     sp    18   Apr    A  0.001449  0.305797  0.001449  0.001449   \n4       20401      w    11   Dec    A  0.003030  0.275758  0.003030  0.003030   \n\n          4  ...        20        21        22        23        24        25  \\\n0  0.002381  ...  0.002381  0.002381  0.002381  0.002381  0.002381  0.359524   \n1  0.093939  ...  0.003030  0.003030  0.003030  0.003030  0.003030  0.366667   \n2  0.225926  ...  0.003704  0.003704  0.003704  0.003704  0.003704  0.337037   \n3  0.001449  ...  0.001449  0.001449  0.001449  0.001449  0.001449  0.088900   \n4  0.003030  ...  0.003030  0.003030  0.003030  0.003030  0.003030  0.639394   \n\n         26        27        28        29  \n0  0.002381  0.002381  0.002381  0.002381  \n1  0.003030  0.003030  0.003030  0.003030  \n2  0.003704  0.003704  0.003704  0.003704  \n3  0.001449  0.001449  0.001449  0.001449  \n4  0.003030  0.003030  0.003030  0.003030  \n\n[5 rows x 35 columns]",
            "text/html": "\u003cdiv\u003e\n\u003cstyle scoped\u003e\n    .dataframe tbody tr th:only-of-type {\n        vertical-align: middle;\n    }\n\n    .dataframe tbody tr th {\n        vertical-align: top;\n    }\n\n    .dataframe thead th {\n        text-align: right;\n    }\n\u003c/style\u003e\n\u003ctable border\u003d\"1\" class\u003d\"dataframe\"\u003e\n  \u003cthead\u003e\n    \u003ctr style\u003d\"text-align: right;\"\u003e\n      \u003cth\u003e\u003c/th\u003e\n      \u003cth\u003eUnnamed: 0\u003c/th\u003e\n      \u003cth\u003eseason\u003c/th\u003e\n      \u003cth\u003eyear\u003c/th\u003e\n      \u003cth\u003emonth\u003c/th\u003e\n      \u003cth\u003erate\u003c/th\u003e\n      \u003cth\u003e0\u003c/th\u003e\n      \u003cth\u003e1\u003c/th\u003e\n      \u003cth\u003e2\u003c/th\u003e\n      \u003cth\u003e3\u003c/th\u003e\n      \u003cth\u003e4\u003c/th\u003e\n      \u003cth\u003e...\u003c/th\u003e\n      \u003cth\u003e20\u003c/th\u003e\n      \u003cth\u003e21\u003c/th\u003e\n      \u003cth\u003e22\u003c/th\u003e\n      \u003cth\u003e23\u003c/th\u003e\n      \u003cth\u003e24\u003c/th\u003e\n      \u003cth\u003e25\u003c/th\u003e\n      \u003cth\u003e26\u003c/th\u003e\n      \u003cth\u003e27\u003c/th\u003e\n      \u003cth\u003e28\u003c/th\u003e\n      \u003cth\u003e29\u003c/th\u003e\n    \u003c/tr\u003e\n  \u003c/thead\u003e\n  \u003ctbody\u003e\n    \u003ctr\u003e\n      \u003cth\u003e0\u003c/th\u003e\n      \u003ctd\u003e5748\u003c/td\u003e\n      \u003ctd\u003esp\u003c/td\u003e\n      \u003ctd\u003e17\u003c/td\u003e\n      \u003ctd\u003eMar\u003c/td\u003e\n      \u003ctd\u003eC\u003c/td\u003e\n      \u003ctd\u003e0.002381\u003c/td\u003e\n      \u003ctd\u003e0.573810\u003c/td\u003e\n      \u003ctd\u003e0.002381\u003c/td\u003e\n      \u003ctd\u003e0.002381\u003c/td\u003e\n      \u003ctd\u003e0.002381\u003c/td\u003e\n      \u003ctd\u003e...\u003c/td\u003e\n      \u003ctd\u003e0.002381\u003c/td\u003e\n      \u003ctd\u003e0.002381\u003c/td\u003e\n      \u003ctd\u003e0.002381\u003c/td\u003e\n      \u003ctd\u003e0.002381\u003c/td\u003e\n      \u003ctd\u003e0.002381\u003c/td\u003e\n      \u003ctd\u003e0.359524\u003c/td\u003e\n      \u003ctd\u003e0.002381\u003c/td\u003e\n      \u003ctd\u003e0.002381\u003c/td\u003e\n      \u003ctd\u003e0.002381\u003c/td\u003e\n      \u003ctd\u003e0.002381\u003c/td\u003e\n    \u003c/tr\u003e\n    \u003ctr\u003e\n      \u003cth\u003e1\u003c/th\u003e\n      \u003ctd\u003e7853\u003c/td\u003e\n      \u003ctd\u003ea\u003c/td\u003e\n      \u003ctd\u003e16\u003c/td\u003e\n      \u003ctd\u003eNov\u003c/td\u003e\n      \u003ctd\u003eD\u003c/td\u003e\n      \u003ctd\u003e0.093939\u003c/td\u003e\n      \u003ctd\u003e0.366667\u003c/td\u003e\n      \u003ctd\u003e0.003030\u003c/td\u003e\n      \u003ctd\u003e0.003030\u003c/td\u003e\n      \u003ctd\u003e0.093939\u003c/td\u003e\n      \u003ctd\u003e...\u003c/td\u003e\n      \u003ctd\u003e0.003030\u003c/td\u003e\n      \u003ctd\u003e0.003030\u003c/td\u003e\n      \u003ctd\u003e0.003030\u003c/td\u003e\n      \u003ctd\u003e0.003030\u003c/td\u003e\n      \u003ctd\u003e0.003030\u003c/td\u003e\n      \u003ctd\u003e0.366667\u003c/td\u003e\n      \u003ctd\u003e0.003030\u003c/td\u003e\n      \u003ctd\u003e0.003030\u003c/td\u003e\n      \u003ctd\u003e0.003030\u003c/td\u003e\n      \u003ctd\u003e0.003030\u003c/td\u003e\n    \u003c/tr\u003e\n    \u003ctr\u003e\n      \u003cth\u003e2\u003c/th\u003e\n      \u003ctd\u003e20335\u003c/td\u003e\n      \u003ctd\u003esp\u003c/td\u003e\n      \u003ctd\u003e12\u003c/td\u003e\n      \u003ctd\u003eMar\u003c/td\u003e\n      \u003ctd\u003eB\u003c/td\u003e\n      \u003ctd\u003e0.003704\u003c/td\u003e\n      \u003ctd\u003e0.337037\u003c/td\u003e\n      \u003ctd\u003e0.003704\u003c/td\u003e\n      \u003ctd\u003e0.003704\u003c/td\u003e\n      \u003ctd\u003e0.225926\u003c/td\u003e\n      \u003ctd\u003e...\u003c/td\u003e\n      \u003ctd\u003e0.003704\u003c/td\u003e\n      \u003ctd\u003e0.003704\u003c/td\u003e\n      \u003ctd\u003e0.003704\u003c/td\u003e\n      \u003ctd\u003e0.003704\u003c/td\u003e\n      \u003ctd\u003e0.003704\u003c/td\u003e\n      \u003ctd\u003e0.337037\u003c/td\u003e\n      \u003ctd\u003e0.003704\u003c/td\u003e\n      \u003ctd\u003e0.003704\u003c/td\u003e\n      \u003ctd\u003e0.003704\u003c/td\u003e\n      \u003ctd\u003e0.003704\u003c/td\u003e\n    \u003c/tr\u003e\n    \u003ctr\u003e\n      \u003cth\u003e3\u003c/th\u003e\n      \u003ctd\u003e906\u003c/td\u003e\n      \u003ctd\u003esp\u003c/td\u003e\n      \u003ctd\u003e18\u003c/td\u003e\n      \u003ctd\u003eApr\u003c/td\u003e\n      \u003ctd\u003eA\u003c/td\u003e\n      \u003ctd\u003e0.001449\u003c/td\u003e\n      \u003ctd\u003e0.305797\u003c/td\u003e\n      \u003ctd\u003e0.001449\u003c/td\u003e\n      \u003ctd\u003e0.001449\u003c/td\u003e\n      \u003ctd\u003e0.001449\u003c/td\u003e\n      \u003ctd\u003e...\u003c/td\u003e\n      \u003ctd\u003e0.001449\u003c/td\u003e\n      \u003ctd\u003e0.001449\u003c/td\u003e\n      \u003ctd\u003e0.001449\u003c/td\u003e\n      \u003ctd\u003e0.001449\u003c/td\u003e\n      \u003ctd\u003e0.001449\u003c/td\u003e\n      \u003ctd\u003e0.088900\u003c/td\u003e\n      \u003ctd\u003e0.001449\u003c/td\u003e\n      \u003ctd\u003e0.001449\u003c/td\u003e\n      \u003ctd\u003e0.001449\u003c/td\u003e\n      \u003ctd\u003e0.001449\u003c/td\u003e\n    \u003c/tr\u003e\n    \u003ctr\u003e\n      \u003cth\u003e4\u003c/th\u003e\n      \u003ctd\u003e20401\u003c/td\u003e\n      \u003ctd\u003ew\u003c/td\u003e\n      \u003ctd\u003e11\u003c/td\u003e\n      \u003ctd\u003eDec\u003c/td\u003e\n      \u003ctd\u003eA\u003c/td\u003e\n      \u003ctd\u003e0.003030\u003c/td\u003e\n      \u003ctd\u003e0.275758\u003c/td\u003e\n      \u003ctd\u003e0.003030\u003c/td\u003e\n      \u003ctd\u003e0.003030\u003c/td\u003e\n      \u003ctd\u003e0.003030\u003c/td\u003e\n      \u003ctd\u003e...\u003c/td\u003e\n      \u003ctd\u003e0.003030\u003c/td\u003e\n      \u003ctd\u003e0.003030\u003c/td\u003e\n      \u003ctd\u003e0.003030\u003c/td\u003e\n      \u003ctd\u003e0.003030\u003c/td\u003e\n      \u003ctd\u003e0.003030\u003c/td\u003e\n      \u003ctd\u003e0.639394\u003c/td\u003e\n      \u003ctd\u003e0.003030\u003c/td\u003e\n      \u003ctd\u003e0.003030\u003c/td\u003e\n      \u003ctd\u003e0.003030\u003c/td\u003e\n      \u003ctd\u003e0.003030\u003c/td\u003e\n    \u003c/tr\u003e\n  \u003c/tbody\u003e\n\u003c/table\u003e\n\u003cp\u003e5 rows × 35 columns\u003c/p\u003e\n\u003c/div\u003e"
          },
          "metadata": {},
          "output_type": "execute_result",
          "execution_count": 5
        }
      ],
      "source": "os.chdir(r\u0027D:\\NDSUGoogle\\Pyntebook\\nlp analysis\\wangruiziResult\u0027)\ndata\u003dpd.read_csv(\"complete_data.csv\")\ndata.head()"
    },
    {
      "cell_type": "code",
      "execution_count": 6,
      "outputs": [
        {
          "data": {
            "text/plain": "   a  sm  sp  w\n0  0   0   1  0\n1  1   0   0  0\n2  0   0   1  0\n3  0   0   1  0\n4  0   0   0  1",
            "text/html": "\u003cdiv\u003e\n\u003cstyle scoped\u003e\n    .dataframe tbody tr th:only-of-type {\n        vertical-align: middle;\n    }\n\n    .dataframe tbody tr th {\n        vertical-align: top;\n    }\n\n    .dataframe thead th {\n        text-align: right;\n    }\n\u003c/style\u003e\n\u003ctable border\u003d\"1\" class\u003d\"dataframe\"\u003e\n  \u003cthead\u003e\n    \u003ctr style\u003d\"text-align: right;\"\u003e\n      \u003cth\u003e\u003c/th\u003e\n      \u003cth\u003ea\u003c/th\u003e\n      \u003cth\u003esm\u003c/th\u003e\n      \u003cth\u003esp\u003c/th\u003e\n      \u003cth\u003ew\u003c/th\u003e\n    \u003c/tr\u003e\n  \u003c/thead\u003e\n  \u003ctbody\u003e\n    \u003ctr\u003e\n      \u003cth\u003e0\u003c/th\u003e\n      \u003ctd\u003e0\u003c/td\u003e\n      \u003ctd\u003e0\u003c/td\u003e\n      \u003ctd\u003e1\u003c/td\u003e\n      \u003ctd\u003e0\u003c/td\u003e\n    \u003c/tr\u003e\n    \u003ctr\u003e\n      \u003cth\u003e1\u003c/th\u003e\n      \u003ctd\u003e1\u003c/td\u003e\n      \u003ctd\u003e0\u003c/td\u003e\n      \u003ctd\u003e0\u003c/td\u003e\n      \u003ctd\u003e0\u003c/td\u003e\n    \u003c/tr\u003e\n    \u003ctr\u003e\n      \u003cth\u003e2\u003c/th\u003e\n      \u003ctd\u003e0\u003c/td\u003e\n      \u003ctd\u003e0\u003c/td\u003e\n      \u003ctd\u003e1\u003c/td\u003e\n      \u003ctd\u003e0\u003c/td\u003e\n    \u003c/tr\u003e\n    \u003ctr\u003e\n      \u003cth\u003e3\u003c/th\u003e\n      \u003ctd\u003e0\u003c/td\u003e\n      \u003ctd\u003e0\u003c/td\u003e\n      \u003ctd\u003e1\u003c/td\u003e\n      \u003ctd\u003e0\u003c/td\u003e\n    \u003c/tr\u003e\n    \u003ctr\u003e\n      \u003cth\u003e4\u003c/th\u003e\n      \u003ctd\u003e0\u003c/td\u003e\n      \u003ctd\u003e0\u003c/td\u003e\n      \u003ctd\u003e0\u003c/td\u003e\n      \u003ctd\u003e1\u003c/td\u003e\n    \u003c/tr\u003e\n  \u003c/tbody\u003e\n\u003c/table\u003e\n\u003c/div\u003e"
          },
          "metadata": {},
          "output_type": "execute_result",
          "execution_count": 6
        }
      ],
      "source": "dummies\u003ddata[\u0027season\u0027].str.get_dummies()\ndummies.head()",
      "metadata": {
        "pycharm": {
          "metadata": false,
          "name": "#%%\n",
          "is_executing": false
        }
      }
    },
    {
      "cell_type": "code",
      "execution_count": 7,
      "metadata": {
        "scrolled": false,
        "pycharm": {
          "is_executing": false
        }
      },
      "outputs": [
        {
          "data": {
            "text/plain": "  season  year month rate         0         1         2         3         4  \\\n0     sp    17   Mar    C  0.002381  0.573810  0.002381  0.002381  0.002381   \n1      a    16   Nov    D  0.093939  0.366667  0.003030  0.003030  0.093939   \n2     sp    12   Mar    B  0.003704  0.337037  0.003704  0.003704  0.225926   \n3     sp    18   Apr    A  0.001449  0.305797  0.001449  0.001449  0.001449   \n4      w    11   Dec    A  0.003030  0.275758  0.003030  0.003030  0.003030   \n\n          5  ...        24        25        26        27        28        29  \\\n0  0.002381  ...  0.002381  0.359524  0.002381  0.002381  0.002381  0.002381   \n1  0.003030  ...  0.003030  0.366667  0.003030  0.003030  0.003030  0.003030   \n2  0.003704  ...  0.003704  0.337037  0.003704  0.003704  0.003704  0.003704   \n3  0.001449  ...  0.001449  0.088900  0.001449  0.001449  0.001449  0.001449   \n4  0.003030  ...  0.003030  0.639394  0.003030  0.003030  0.003030  0.003030   \n\n   a  sm  sp  w  \n0  0   0   1  0  \n1  1   0   0  0  \n2  0   0   1  0  \n3  0   0   1  0  \n4  0   0   0  1  \n\n[5 rows x 38 columns]",
            "text/html": "\u003cdiv\u003e\n\u003cstyle scoped\u003e\n    .dataframe tbody tr th:only-of-type {\n        vertical-align: middle;\n    }\n\n    .dataframe tbody tr th {\n        vertical-align: top;\n    }\n\n    .dataframe thead th {\n        text-align: right;\n    }\n\u003c/style\u003e\n\u003ctable border\u003d\"1\" class\u003d\"dataframe\"\u003e\n  \u003cthead\u003e\n    \u003ctr style\u003d\"text-align: right;\"\u003e\n      \u003cth\u003e\u003c/th\u003e\n      \u003cth\u003eseason\u003c/th\u003e\n      \u003cth\u003eyear\u003c/th\u003e\n      \u003cth\u003emonth\u003c/th\u003e\n      \u003cth\u003erate\u003c/th\u003e\n      \u003cth\u003e0\u003c/th\u003e\n      \u003cth\u003e1\u003c/th\u003e\n      \u003cth\u003e2\u003c/th\u003e\n      \u003cth\u003e3\u003c/th\u003e\n      \u003cth\u003e4\u003c/th\u003e\n      \u003cth\u003e5\u003c/th\u003e\n      \u003cth\u003e...\u003c/th\u003e\n      \u003cth\u003e24\u003c/th\u003e\n      \u003cth\u003e25\u003c/th\u003e\n      \u003cth\u003e26\u003c/th\u003e\n      \u003cth\u003e27\u003c/th\u003e\n      \u003cth\u003e28\u003c/th\u003e\n      \u003cth\u003e29\u003c/th\u003e\n      \u003cth\u003ea\u003c/th\u003e\n      \u003cth\u003esm\u003c/th\u003e\n      \u003cth\u003esp\u003c/th\u003e\n      \u003cth\u003ew\u003c/th\u003e\n    \u003c/tr\u003e\n  \u003c/thead\u003e\n  \u003ctbody\u003e\n    \u003ctr\u003e\n      \u003cth\u003e0\u003c/th\u003e\n      \u003ctd\u003esp\u003c/td\u003e\n      \u003ctd\u003e17\u003c/td\u003e\n      \u003ctd\u003eMar\u003c/td\u003e\n      \u003ctd\u003eC\u003c/td\u003e\n      \u003ctd\u003e0.002381\u003c/td\u003e\n      \u003ctd\u003e0.573810\u003c/td\u003e\n      \u003ctd\u003e0.002381\u003c/td\u003e\n      \u003ctd\u003e0.002381\u003c/td\u003e\n      \u003ctd\u003e0.002381\u003c/td\u003e\n      \u003ctd\u003e0.002381\u003c/td\u003e\n      \u003ctd\u003e...\u003c/td\u003e\n      \u003ctd\u003e0.002381\u003c/td\u003e\n      \u003ctd\u003e0.359524\u003c/td\u003e\n      \u003ctd\u003e0.002381\u003c/td\u003e\n      \u003ctd\u003e0.002381\u003c/td\u003e\n      \u003ctd\u003e0.002381\u003c/td\u003e\n      \u003ctd\u003e0.002381\u003c/td\u003e\n      \u003ctd\u003e0\u003c/td\u003e\n      \u003ctd\u003e0\u003c/td\u003e\n      \u003ctd\u003e1\u003c/td\u003e\n      \u003ctd\u003e0\u003c/td\u003e\n    \u003c/tr\u003e\n    \u003ctr\u003e\n      \u003cth\u003e1\u003c/th\u003e\n      \u003ctd\u003ea\u003c/td\u003e\n      \u003ctd\u003e16\u003c/td\u003e\n      \u003ctd\u003eNov\u003c/td\u003e\n      \u003ctd\u003eD\u003c/td\u003e\n      \u003ctd\u003e0.093939\u003c/td\u003e\n      \u003ctd\u003e0.366667\u003c/td\u003e\n      \u003ctd\u003e0.003030\u003c/td\u003e\n      \u003ctd\u003e0.003030\u003c/td\u003e\n      \u003ctd\u003e0.093939\u003c/td\u003e\n      \u003ctd\u003e0.003030\u003c/td\u003e\n      \u003ctd\u003e...\u003c/td\u003e\n      \u003ctd\u003e0.003030\u003c/td\u003e\n      \u003ctd\u003e0.366667\u003c/td\u003e\n      \u003ctd\u003e0.003030\u003c/td\u003e\n      \u003ctd\u003e0.003030\u003c/td\u003e\n      \u003ctd\u003e0.003030\u003c/td\u003e\n      \u003ctd\u003e0.003030\u003c/td\u003e\n      \u003ctd\u003e1\u003c/td\u003e\n      \u003ctd\u003e0\u003c/td\u003e\n      \u003ctd\u003e0\u003c/td\u003e\n      \u003ctd\u003e0\u003c/td\u003e\n    \u003c/tr\u003e\n    \u003ctr\u003e\n      \u003cth\u003e2\u003c/th\u003e\n      \u003ctd\u003esp\u003c/td\u003e\n      \u003ctd\u003e12\u003c/td\u003e\n      \u003ctd\u003eMar\u003c/td\u003e\n      \u003ctd\u003eB\u003c/td\u003e\n      \u003ctd\u003e0.003704\u003c/td\u003e\n      \u003ctd\u003e0.337037\u003c/td\u003e\n      \u003ctd\u003e0.003704\u003c/td\u003e\n      \u003ctd\u003e0.003704\u003c/td\u003e\n      \u003ctd\u003e0.225926\u003c/td\u003e\n      \u003ctd\u003e0.003704\u003c/td\u003e\n      \u003ctd\u003e...\u003c/td\u003e\n      \u003ctd\u003e0.003704\u003c/td\u003e\n      \u003ctd\u003e0.337037\u003c/td\u003e\n      \u003ctd\u003e0.003704\u003c/td\u003e\n      \u003ctd\u003e0.003704\u003c/td\u003e\n      \u003ctd\u003e0.003704\u003c/td\u003e\n      \u003ctd\u003e0.003704\u003c/td\u003e\n      \u003ctd\u003e0\u003c/td\u003e\n      \u003ctd\u003e0\u003c/td\u003e\n      \u003ctd\u003e1\u003c/td\u003e\n      \u003ctd\u003e0\u003c/td\u003e\n    \u003c/tr\u003e\n    \u003ctr\u003e\n      \u003cth\u003e3\u003c/th\u003e\n      \u003ctd\u003esp\u003c/td\u003e\n      \u003ctd\u003e18\u003c/td\u003e\n      \u003ctd\u003eApr\u003c/td\u003e\n      \u003ctd\u003eA\u003c/td\u003e\n      \u003ctd\u003e0.001449\u003c/td\u003e\n      \u003ctd\u003e0.305797\u003c/td\u003e\n      \u003ctd\u003e0.001449\u003c/td\u003e\n      \u003ctd\u003e0.001449\u003c/td\u003e\n      \u003ctd\u003e0.001449\u003c/td\u003e\n      \u003ctd\u003e0.001449\u003c/td\u003e\n      \u003ctd\u003e...\u003c/td\u003e\n      \u003ctd\u003e0.001449\u003c/td\u003e\n      \u003ctd\u003e0.088900\u003c/td\u003e\n      \u003ctd\u003e0.001449\u003c/td\u003e\n      \u003ctd\u003e0.001449\u003c/td\u003e\n      \u003ctd\u003e0.001449\u003c/td\u003e\n      \u003ctd\u003e0.001449\u003c/td\u003e\n      \u003ctd\u003e0\u003c/td\u003e\n      \u003ctd\u003e0\u003c/td\u003e\n      \u003ctd\u003e1\u003c/td\u003e\n      \u003ctd\u003e0\u003c/td\u003e\n    \u003c/tr\u003e\n    \u003ctr\u003e\n      \u003cth\u003e4\u003c/th\u003e\n      \u003ctd\u003ew\u003c/td\u003e\n      \u003ctd\u003e11\u003c/td\u003e\n      \u003ctd\u003eDec\u003c/td\u003e\n      \u003ctd\u003eA\u003c/td\u003e\n      \u003ctd\u003e0.003030\u003c/td\u003e\n      \u003ctd\u003e0.275758\u003c/td\u003e\n      \u003ctd\u003e0.003030\u003c/td\u003e\n      \u003ctd\u003e0.003030\u003c/td\u003e\n      \u003ctd\u003e0.003030\u003c/td\u003e\n      \u003ctd\u003e0.003030\u003c/td\u003e\n      \u003ctd\u003e...\u003c/td\u003e\n      \u003ctd\u003e0.003030\u003c/td\u003e\n      \u003ctd\u003e0.639394\u003c/td\u003e\n      \u003ctd\u003e0.003030\u003c/td\u003e\n      \u003ctd\u003e0.003030\u003c/td\u003e\n      \u003ctd\u003e0.003030\u003c/td\u003e\n      \u003ctd\u003e0.003030\u003c/td\u003e\n      \u003ctd\u003e0\u003c/td\u003e\n      \u003ctd\u003e0\u003c/td\u003e\n      \u003ctd\u003e0\u003c/td\u003e\n      \u003ctd\u003e1\u003c/td\u003e\n    \u003c/tr\u003e\n  \u003c/tbody\u003e\n\u003c/table\u003e\n\u003cp\u003e5 rows × 38 columns\u003c/p\u003e\n\u003c/div\u003e"
          },
          "metadata": {},
          "output_type": "execute_result",
          "execution_count": 7
        }
      ],
      "source": "seasondata\u003dpd.concat([data,dummies],axis\u003d1).drop([\u0027Unnamed: 0\u0027],axis\u003d1)\nseasondata.head()"
    },
    {
      "cell_type": "code",
      "execution_count": 8,
      "metadata": {
        "pycharm": {
          "is_executing": false
        }
      },
      "outputs": [
        {
          "data": {
            "text/plain": "  rate         0         1         2         3         4         5         6  \\\n0    C  0.002381  0.573810  0.002381  0.002381  0.002381  0.002381  0.002381   \n1    D  0.093939  0.366667  0.003030  0.003030  0.093939  0.003030  0.003030   \n2    B  0.003704  0.337037  0.003704  0.003704  0.225926  0.003704  0.003704   \n3    A  0.001449  0.305797  0.001449  0.001449  0.001449  0.001449  0.001449   \n4    A  0.003030  0.275758  0.003030  0.003030  0.003030  0.003030  0.003030   \n\n          7         8  ...        20        21        22        23        24  \\\n0  0.002381  0.002381  ...  0.002381  0.002381  0.002381  0.002381  0.002381   \n1  0.003030  0.003030  ...  0.003030  0.003030  0.003030  0.003030  0.003030   \n2  0.003704  0.003704  ...  0.003704  0.003704  0.003704  0.003704  0.003704   \n3  0.001449  0.001449  ...  0.001449  0.001449  0.001449  0.001449  0.001449   \n4  0.003030  0.003030  ...  0.003030  0.003030  0.003030  0.003030  0.003030   \n\n         25        26        27        28        29  \n0  0.359524  0.002381  0.002381  0.002381  0.002381  \n1  0.366667  0.003030  0.003030  0.003030  0.003030  \n2  0.337037  0.003704  0.003704  0.003704  0.003704  \n3  0.088900  0.001449  0.001449  0.001449  0.001449  \n4  0.639394  0.003030  0.003030  0.003030  0.003030  \n\n[5 rows x 31 columns]",
            "text/html": "\u003cdiv\u003e\n\u003cstyle scoped\u003e\n    .dataframe tbody tr th:only-of-type {\n        vertical-align: middle;\n    }\n\n    .dataframe tbody tr th {\n        vertical-align: top;\n    }\n\n    .dataframe thead th {\n        text-align: right;\n    }\n\u003c/style\u003e\n\u003ctable border\u003d\"1\" class\u003d\"dataframe\"\u003e\n  \u003cthead\u003e\n    \u003ctr style\u003d\"text-align: right;\"\u003e\n      \u003cth\u003e\u003c/th\u003e\n      \u003cth\u003erate\u003c/th\u003e\n      \u003cth\u003e0\u003c/th\u003e\n      \u003cth\u003e1\u003c/th\u003e\n      \u003cth\u003e2\u003c/th\u003e\n      \u003cth\u003e3\u003c/th\u003e\n      \u003cth\u003e4\u003c/th\u003e\n      \u003cth\u003e5\u003c/th\u003e\n      \u003cth\u003e6\u003c/th\u003e\n      \u003cth\u003e7\u003c/th\u003e\n      \u003cth\u003e8\u003c/th\u003e\n      \u003cth\u003e...\u003c/th\u003e\n      \u003cth\u003e20\u003c/th\u003e\n      \u003cth\u003e21\u003c/th\u003e\n      \u003cth\u003e22\u003c/th\u003e\n      \u003cth\u003e23\u003c/th\u003e\n      \u003cth\u003e24\u003c/th\u003e\n      \u003cth\u003e25\u003c/th\u003e\n      \u003cth\u003e26\u003c/th\u003e\n      \u003cth\u003e27\u003c/th\u003e\n      \u003cth\u003e28\u003c/th\u003e\n      \u003cth\u003e29\u003c/th\u003e\n    \u003c/tr\u003e\n  \u003c/thead\u003e\n  \u003ctbody\u003e\n    \u003ctr\u003e\n      \u003cth\u003e0\u003c/th\u003e\n      \u003ctd\u003eC\u003c/td\u003e\n      \u003ctd\u003e0.002381\u003c/td\u003e\n      \u003ctd\u003e0.573810\u003c/td\u003e\n      \u003ctd\u003e0.002381\u003c/td\u003e\n      \u003ctd\u003e0.002381\u003c/td\u003e\n      \u003ctd\u003e0.002381\u003c/td\u003e\n      \u003ctd\u003e0.002381\u003c/td\u003e\n      \u003ctd\u003e0.002381\u003c/td\u003e\n      \u003ctd\u003e0.002381\u003c/td\u003e\n      \u003ctd\u003e0.002381\u003c/td\u003e\n      \u003ctd\u003e...\u003c/td\u003e\n      \u003ctd\u003e0.002381\u003c/td\u003e\n      \u003ctd\u003e0.002381\u003c/td\u003e\n      \u003ctd\u003e0.002381\u003c/td\u003e\n      \u003ctd\u003e0.002381\u003c/td\u003e\n      \u003ctd\u003e0.002381\u003c/td\u003e\n      \u003ctd\u003e0.359524\u003c/td\u003e\n      \u003ctd\u003e0.002381\u003c/td\u003e\n      \u003ctd\u003e0.002381\u003c/td\u003e\n      \u003ctd\u003e0.002381\u003c/td\u003e\n      \u003ctd\u003e0.002381\u003c/td\u003e\n    \u003c/tr\u003e\n    \u003ctr\u003e\n      \u003cth\u003e1\u003c/th\u003e\n      \u003ctd\u003eD\u003c/td\u003e\n      \u003ctd\u003e0.093939\u003c/td\u003e\n      \u003ctd\u003e0.366667\u003c/td\u003e\n      \u003ctd\u003e0.003030\u003c/td\u003e\n      \u003ctd\u003e0.003030\u003c/td\u003e\n      \u003ctd\u003e0.093939\u003c/td\u003e\n      \u003ctd\u003e0.003030\u003c/td\u003e\n      \u003ctd\u003e0.003030\u003c/td\u003e\n      \u003ctd\u003e0.003030\u003c/td\u003e\n      \u003ctd\u003e0.003030\u003c/td\u003e\n      \u003ctd\u003e...\u003c/td\u003e\n      \u003ctd\u003e0.003030\u003c/td\u003e\n      \u003ctd\u003e0.003030\u003c/td\u003e\n      \u003ctd\u003e0.003030\u003c/td\u003e\n      \u003ctd\u003e0.003030\u003c/td\u003e\n      \u003ctd\u003e0.003030\u003c/td\u003e\n      \u003ctd\u003e0.366667\u003c/td\u003e\n      \u003ctd\u003e0.003030\u003c/td\u003e\n      \u003ctd\u003e0.003030\u003c/td\u003e\n      \u003ctd\u003e0.003030\u003c/td\u003e\n      \u003ctd\u003e0.003030\u003c/td\u003e\n    \u003c/tr\u003e\n    \u003ctr\u003e\n      \u003cth\u003e2\u003c/th\u003e\n      \u003ctd\u003eB\u003c/td\u003e\n      \u003ctd\u003e0.003704\u003c/td\u003e\n      \u003ctd\u003e0.337037\u003c/td\u003e\n      \u003ctd\u003e0.003704\u003c/td\u003e\n      \u003ctd\u003e0.003704\u003c/td\u003e\n      \u003ctd\u003e0.225926\u003c/td\u003e\n      \u003ctd\u003e0.003704\u003c/td\u003e\n      \u003ctd\u003e0.003704\u003c/td\u003e\n      \u003ctd\u003e0.003704\u003c/td\u003e\n      \u003ctd\u003e0.003704\u003c/td\u003e\n      \u003ctd\u003e...\u003c/td\u003e\n      \u003ctd\u003e0.003704\u003c/td\u003e\n      \u003ctd\u003e0.003704\u003c/td\u003e\n      \u003ctd\u003e0.003704\u003c/td\u003e\n      \u003ctd\u003e0.003704\u003c/td\u003e\n      \u003ctd\u003e0.003704\u003c/td\u003e\n      \u003ctd\u003e0.337037\u003c/td\u003e\n      \u003ctd\u003e0.003704\u003c/td\u003e\n      \u003ctd\u003e0.003704\u003c/td\u003e\n      \u003ctd\u003e0.003704\u003c/td\u003e\n      \u003ctd\u003e0.003704\u003c/td\u003e\n    \u003c/tr\u003e\n    \u003ctr\u003e\n      \u003cth\u003e3\u003c/th\u003e\n      \u003ctd\u003eA\u003c/td\u003e\n      \u003ctd\u003e0.001449\u003c/td\u003e\n      \u003ctd\u003e0.305797\u003c/td\u003e\n      \u003ctd\u003e0.001449\u003c/td\u003e\n      \u003ctd\u003e0.001449\u003c/td\u003e\n      \u003ctd\u003e0.001449\u003c/td\u003e\n      \u003ctd\u003e0.001449\u003c/td\u003e\n      \u003ctd\u003e0.001449\u003c/td\u003e\n      \u003ctd\u003e0.001449\u003c/td\u003e\n      \u003ctd\u003e0.001449\u003c/td\u003e\n      \u003ctd\u003e...\u003c/td\u003e\n      \u003ctd\u003e0.001449\u003c/td\u003e\n      \u003ctd\u003e0.001449\u003c/td\u003e\n      \u003ctd\u003e0.001449\u003c/td\u003e\n      \u003ctd\u003e0.001449\u003c/td\u003e\n      \u003ctd\u003e0.001449\u003c/td\u003e\n      \u003ctd\u003e0.088900\u003c/td\u003e\n      \u003ctd\u003e0.001449\u003c/td\u003e\n      \u003ctd\u003e0.001449\u003c/td\u003e\n      \u003ctd\u003e0.001449\u003c/td\u003e\n      \u003ctd\u003e0.001449\u003c/td\u003e\n    \u003c/tr\u003e\n    \u003ctr\u003e\n      \u003cth\u003e4\u003c/th\u003e\n      \u003ctd\u003eA\u003c/td\u003e\n      \u003ctd\u003e0.003030\u003c/td\u003e\n      \u003ctd\u003e0.275758\u003c/td\u003e\n      \u003ctd\u003e0.003030\u003c/td\u003e\n      \u003ctd\u003e0.003030\u003c/td\u003e\n      \u003ctd\u003e0.003030\u003c/td\u003e\n      \u003ctd\u003e0.003030\u003c/td\u003e\n      \u003ctd\u003e0.003030\u003c/td\u003e\n      \u003ctd\u003e0.003030\u003c/td\u003e\n      \u003ctd\u003e0.003030\u003c/td\u003e\n      \u003ctd\u003e...\u003c/td\u003e\n      \u003ctd\u003e0.003030\u003c/td\u003e\n      \u003ctd\u003e0.003030\u003c/td\u003e\n      \u003ctd\u003e0.003030\u003c/td\u003e\n      \u003ctd\u003e0.003030\u003c/td\u003e\n      \u003ctd\u003e0.003030\u003c/td\u003e\n      \u003ctd\u003e0.639394\u003c/td\u003e\n      \u003ctd\u003e0.003030\u003c/td\u003e\n      \u003ctd\u003e0.003030\u003c/td\u003e\n      \u003ctd\u003e0.003030\u003c/td\u003e\n      \u003ctd\u003e0.003030\u003c/td\u003e\n    \u003c/tr\u003e\n  \u003c/tbody\u003e\n\u003c/table\u003e\n\u003cp\u003e5 rows × 31 columns\u003c/p\u003e\n\u003c/div\u003e"
          },
          "metadata": {},
          "output_type": "execute_result",
          "execution_count": 8
        }
      ],
      "source": [
        "newdata\u003ddata.drop([\u0027season\u0027,\u0027Unnamed: 0\u0027,\u0027year\u0027,\u0027month\u0027],axis\u003d1)\n",
        "newdata.head()"
      ]
    },
    {
      "cell_type": "markdown",
      "metadata": {
        "pycharm": {}
      },
      "source": [
        "## why change 12345 to pos,neu, neg"
      ]
    },
    {
      "cell_type": "code",
      "execution_count": 9,
      "metadata": {
        "pycharm": {
          "is_executing": false
        }
      },
      "outputs": [
        {
          "data": {
            "text/plain": "          0         1         2         3         4         5         6  \\\n0  0.002381  0.573810  0.002381  0.002381  0.002381  0.002381  0.002381   \n1  0.093939  0.366667  0.003030  0.003030  0.093939  0.003030  0.003030   \n2  0.003704  0.337037  0.003704  0.003704  0.225926  0.003704  0.003704   \n3  0.001449  0.305797  0.001449  0.001449  0.001449  0.001449  0.001449   \n4  0.003030  0.275758  0.003030  0.003030  0.003030  0.003030  0.003030   \n\n          7         8         9  ...        21        22        23        24  \\\n0  0.002381  0.002381  0.002381  ...  0.002381  0.002381  0.002381  0.002381   \n1  0.003030  0.003030  0.003030  ...  0.003030  0.003030  0.003030  0.003030   \n2  0.003704  0.003704  0.003704  ...  0.003704  0.003704  0.003704  0.003704   \n3  0.001449  0.001449  0.001449  ...  0.001449  0.001449  0.001449  0.001449   \n4  0.003030  0.003030  0.003030  ...  0.003030  0.003030  0.003030  0.003030   \n\n         25        26        27        28        29  rate2  \n0  0.359524  0.002381  0.002381  0.002381  0.002381    neg  \n1  0.366667  0.003030  0.003030  0.003030  0.003030    neg  \n2  0.337037  0.003704  0.003704  0.003704  0.003704    pos  \n3  0.088900  0.001449  0.001449  0.001449  0.001449    pos  \n4  0.639394  0.003030  0.003030  0.003030  0.003030    pos  \n\n[5 rows x 31 columns]",
            "text/html": "\u003cdiv\u003e\n\u003cstyle scoped\u003e\n    .dataframe tbody tr th:only-of-type {\n        vertical-align: middle;\n    }\n\n    .dataframe tbody tr th {\n        vertical-align: top;\n    }\n\n    .dataframe thead th {\n        text-align: right;\n    }\n\u003c/style\u003e\n\u003ctable border\u003d\"1\" class\u003d\"dataframe\"\u003e\n  \u003cthead\u003e\n    \u003ctr style\u003d\"text-align: right;\"\u003e\n      \u003cth\u003e\u003c/th\u003e\n      \u003cth\u003e0\u003c/th\u003e\n      \u003cth\u003e1\u003c/th\u003e\n      \u003cth\u003e2\u003c/th\u003e\n      \u003cth\u003e3\u003c/th\u003e\n      \u003cth\u003e4\u003c/th\u003e\n      \u003cth\u003e5\u003c/th\u003e\n      \u003cth\u003e6\u003c/th\u003e\n      \u003cth\u003e7\u003c/th\u003e\n      \u003cth\u003e8\u003c/th\u003e\n      \u003cth\u003e9\u003c/th\u003e\n      \u003cth\u003e...\u003c/th\u003e\n      \u003cth\u003e21\u003c/th\u003e\n      \u003cth\u003e22\u003c/th\u003e\n      \u003cth\u003e23\u003c/th\u003e\n      \u003cth\u003e24\u003c/th\u003e\n      \u003cth\u003e25\u003c/th\u003e\n      \u003cth\u003e26\u003c/th\u003e\n      \u003cth\u003e27\u003c/th\u003e\n      \u003cth\u003e28\u003c/th\u003e\n      \u003cth\u003e29\u003c/th\u003e\n      \u003cth\u003erate2\u003c/th\u003e\n    \u003c/tr\u003e\n  \u003c/thead\u003e\n  \u003ctbody\u003e\n    \u003ctr\u003e\n      \u003cth\u003e0\u003c/th\u003e\n      \u003ctd\u003e0.002381\u003c/td\u003e\n      \u003ctd\u003e0.573810\u003c/td\u003e\n      \u003ctd\u003e0.002381\u003c/td\u003e\n      \u003ctd\u003e0.002381\u003c/td\u003e\n      \u003ctd\u003e0.002381\u003c/td\u003e\n      \u003ctd\u003e0.002381\u003c/td\u003e\n      \u003ctd\u003e0.002381\u003c/td\u003e\n      \u003ctd\u003e0.002381\u003c/td\u003e\n      \u003ctd\u003e0.002381\u003c/td\u003e\n      \u003ctd\u003e0.002381\u003c/td\u003e\n      \u003ctd\u003e...\u003c/td\u003e\n      \u003ctd\u003e0.002381\u003c/td\u003e\n      \u003ctd\u003e0.002381\u003c/td\u003e\n      \u003ctd\u003e0.002381\u003c/td\u003e\n      \u003ctd\u003e0.002381\u003c/td\u003e\n      \u003ctd\u003e0.359524\u003c/td\u003e\n      \u003ctd\u003e0.002381\u003c/td\u003e\n      \u003ctd\u003e0.002381\u003c/td\u003e\n      \u003ctd\u003e0.002381\u003c/td\u003e\n      \u003ctd\u003e0.002381\u003c/td\u003e\n      \u003ctd\u003eneg\u003c/td\u003e\n    \u003c/tr\u003e\n    \u003ctr\u003e\n      \u003cth\u003e1\u003c/th\u003e\n      \u003ctd\u003e0.093939\u003c/td\u003e\n      \u003ctd\u003e0.366667\u003c/td\u003e\n      \u003ctd\u003e0.003030\u003c/td\u003e\n      \u003ctd\u003e0.003030\u003c/td\u003e\n      \u003ctd\u003e0.093939\u003c/td\u003e\n      \u003ctd\u003e0.003030\u003c/td\u003e\n      \u003ctd\u003e0.003030\u003c/td\u003e\n      \u003ctd\u003e0.003030\u003c/td\u003e\n      \u003ctd\u003e0.003030\u003c/td\u003e\n      \u003ctd\u003e0.003030\u003c/td\u003e\n      \u003ctd\u003e...\u003c/td\u003e\n      \u003ctd\u003e0.003030\u003c/td\u003e\n      \u003ctd\u003e0.003030\u003c/td\u003e\n      \u003ctd\u003e0.003030\u003c/td\u003e\n      \u003ctd\u003e0.003030\u003c/td\u003e\n      \u003ctd\u003e0.366667\u003c/td\u003e\n      \u003ctd\u003e0.003030\u003c/td\u003e\n      \u003ctd\u003e0.003030\u003c/td\u003e\n      \u003ctd\u003e0.003030\u003c/td\u003e\n      \u003ctd\u003e0.003030\u003c/td\u003e\n      \u003ctd\u003eneg\u003c/td\u003e\n    \u003c/tr\u003e\n    \u003ctr\u003e\n      \u003cth\u003e2\u003c/th\u003e\n      \u003ctd\u003e0.003704\u003c/td\u003e\n      \u003ctd\u003e0.337037\u003c/td\u003e\n      \u003ctd\u003e0.003704\u003c/td\u003e\n      \u003ctd\u003e0.003704\u003c/td\u003e\n      \u003ctd\u003e0.225926\u003c/td\u003e\n      \u003ctd\u003e0.003704\u003c/td\u003e\n      \u003ctd\u003e0.003704\u003c/td\u003e\n      \u003ctd\u003e0.003704\u003c/td\u003e\n      \u003ctd\u003e0.003704\u003c/td\u003e\n      \u003ctd\u003e0.003704\u003c/td\u003e\n      \u003ctd\u003e...\u003c/td\u003e\n      \u003ctd\u003e0.003704\u003c/td\u003e\n      \u003ctd\u003e0.003704\u003c/td\u003e\n      \u003ctd\u003e0.003704\u003c/td\u003e\n      \u003ctd\u003e0.003704\u003c/td\u003e\n      \u003ctd\u003e0.337037\u003c/td\u003e\n      \u003ctd\u003e0.003704\u003c/td\u003e\n      \u003ctd\u003e0.003704\u003c/td\u003e\n      \u003ctd\u003e0.003704\u003c/td\u003e\n      \u003ctd\u003e0.003704\u003c/td\u003e\n      \u003ctd\u003epos\u003c/td\u003e\n    \u003c/tr\u003e\n    \u003ctr\u003e\n      \u003cth\u003e3\u003c/th\u003e\n      \u003ctd\u003e0.001449\u003c/td\u003e\n      \u003ctd\u003e0.305797\u003c/td\u003e\n      \u003ctd\u003e0.001449\u003c/td\u003e\n      \u003ctd\u003e0.001449\u003c/td\u003e\n      \u003ctd\u003e0.001449\u003c/td\u003e\n      \u003ctd\u003e0.001449\u003c/td\u003e\n      \u003ctd\u003e0.001449\u003c/td\u003e\n      \u003ctd\u003e0.001449\u003c/td\u003e\n      \u003ctd\u003e0.001449\u003c/td\u003e\n      \u003ctd\u003e0.001449\u003c/td\u003e\n      \u003ctd\u003e...\u003c/td\u003e\n      \u003ctd\u003e0.001449\u003c/td\u003e\n      \u003ctd\u003e0.001449\u003c/td\u003e\n      \u003ctd\u003e0.001449\u003c/td\u003e\n      \u003ctd\u003e0.001449\u003c/td\u003e\n      \u003ctd\u003e0.088900\u003c/td\u003e\n      \u003ctd\u003e0.001449\u003c/td\u003e\n      \u003ctd\u003e0.001449\u003c/td\u003e\n      \u003ctd\u003e0.001449\u003c/td\u003e\n      \u003ctd\u003e0.001449\u003c/td\u003e\n      \u003ctd\u003epos\u003c/td\u003e\n    \u003c/tr\u003e\n    \u003ctr\u003e\n      \u003cth\u003e4\u003c/th\u003e\n      \u003ctd\u003e0.003030\u003c/td\u003e\n      \u003ctd\u003e0.275758\u003c/td\u003e\n      \u003ctd\u003e0.003030\u003c/td\u003e\n      \u003ctd\u003e0.003030\u003c/td\u003e\n      \u003ctd\u003e0.003030\u003c/td\u003e\n      \u003ctd\u003e0.003030\u003c/td\u003e\n      \u003ctd\u003e0.003030\u003c/td\u003e\n      \u003ctd\u003e0.003030\u003c/td\u003e\n      \u003ctd\u003e0.003030\u003c/td\u003e\n      \u003ctd\u003e0.003030\u003c/td\u003e\n      \u003ctd\u003e...\u003c/td\u003e\n      \u003ctd\u003e0.003030\u003c/td\u003e\n      \u003ctd\u003e0.003030\u003c/td\u003e\n      \u003ctd\u003e0.003030\u003c/td\u003e\n      \u003ctd\u003e0.003030\u003c/td\u003e\n      \u003ctd\u003e0.639394\u003c/td\u003e\n      \u003ctd\u003e0.003030\u003c/td\u003e\n      \u003ctd\u003e0.003030\u003c/td\u003e\n      \u003ctd\u003e0.003030\u003c/td\u003e\n      \u003ctd\u003e0.003030\u003c/td\u003e\n      \u003ctd\u003epos\u003c/td\u003e\n    \u003c/tr\u003e\n  \u003c/tbody\u003e\n\u003c/table\u003e\n\u003cp\u003e5 rows × 31 columns\u003c/p\u003e\n\u003c/div\u003e"
          },
          "metadata": {},
          "output_type": "execute_result",
          "execution_count": 9
        }
      ],
      "source": "## recode rate to 3 categories\nnewdata.loc[data[\u0027rate\u0027]\u003d\u003d\"A\", \u0027rate2\u0027]\u003d\u0027pos\u0027\nnewdata.loc[data[\u0027rate\u0027]\u003d\u003d\"B\", \u0027rate2\u0027]\u003d\u0027pos\u0027\nnewdata.loc[data[\u0027rate\u0027]\u003d\u003d\"C\", \u0027rate2\u0027]\u003d\u0027neg\u0027\nnewdata.loc[data[\u0027rate\u0027]\u003d\u003d\"D\", \u0027rate2\u0027]\u003d\u0027neg\u0027\nnewdata.loc[data[\u0027rate\u0027]\u003d\u003d\"E\", \u0027rate2\u0027]\u003d\u0027neg\u0027\ndata2\u003dnewdata.drop([\u0027rate\u0027],axis\u003d1)\ndata2.head()\n## 五个精度低，特别少。。。  我们在意的是positive或者negtive。。而不是very positive或者very negtive。。"
    },
    {
      "cell_type": "code",
      "execution_count": 10,
      "metadata": {
        "pycharm": {
          "is_executing": false
        }
      },
      "outputs": [],
      "source": "## sum the weight for pos or neg, to estimate the direction of each topic\ntopicDirection\u003ddata2.groupby([\u0027rate2\u0027]).mean()\ntopicDirection.to_csv(\u0027topicDirection.csv\u0027)"
    },
    {
      "cell_type": "markdown",
      "metadata": {
        "pycharm": {}
      },
      "source": "# 2. try random forest to explore data pre-processing"
    },
    {
      "cell_type": "markdown",
      "metadata": {
        "pycharm": {}
      },
      "source": [
        "### A. use original data, without smote, accuracy is OK, but recall is too low"
      ]
    },
    {
      "cell_type": "code",
      "execution_count": 11,
      "metadata": {
        "pycharm": {
          "is_executing": false
        }
      },
      "outputs": [
        {
          "name": "stderr",
          "text": [
            "C:\\Users\\yang\\AppData\\Local\\Programs\\Python\\Python37-32\\lib\\site-packages\\sklearn\\ensemble\\forest.py:245: FutureWarning: The default value of n_estimators will change from 10 in version 0.20 to 100 in 0.22.\n  \"10 in version 0.20 to 100 in 0.22.\", FutureWarning)\n"
          ],
          "output_type": "stream"
        },
        {
          "name": "stdout",
          "text": [
            "0.8278388278388278\n[0.17892977 0.93880469]\n[0.33333333 0.86989931]\n"
          ],
          "output_type": "stream"
        }
      ],
      "source": [
        "features\u003ddata2.drop([\u0027rate2\u0027],axis\u003d1)\n",
        "label\u003ddata2.rate2\n",
        "X_train, X_test, y_train, y_test \u003d train_test_split(features, label, test_size\u003d0.2, random_state\u003d42)\n",
        "clf \u003d RandomForestClassifier()\n",
        "clf_fit\u003dclf.fit(X_train, y_train)\n",
        "y_predict\u003dclf_fit.predict(X_test)\n",
        "print(accuracy_score(y_test, y_predict))\n",
        "## the fraction of correctly classified samples by fit y_test comparing to the y_predict \n",
        "print(recall_score(y_test, y_predict, average\u003dNone)) \n",
        "## the ability to find all the positive samples, the output is the percentage of each label, \n",
        "##[0.21,0.94] the 0.21 is for neg, the 0.94 is for pos\n",
        "print(precision_score(y_test, y_predict, average\u003dNone)) \n",
        "##the ability of not to label as positive a sample that is negative, the output is the percentage of each label\n"
      ]
    },
    {
      "cell_type": "markdown",
      "metadata": {
        "pycharm": {}
      },
      "source": [
        "### B. use original data, with smote to increase sample size in the minority classes(neg), results are better in terms of recall"
      ]
    },
    {
      "cell_type": "code",
      "execution_count": 14,
      "metadata": {
        "pycharm": {
          "is_executing": false
        }
      },
      "outputs": [
        {
          "name": "stderr",
          "text": [
            "C:\\Users\\yang\\AppData\\Local\\Programs\\Python\\Python37-32\\lib\\site-packages\\sklearn\\ensemble\\forest.py:245: FutureWarning: The default value of n_estimators will change from 10 in version 0.20 to 100 in 0.22.\n  \"10 in version 0.20 to 100 in 0.22.\", FutureWarning)\n"
          ],
          "output_type": "stream"
        },
        {
          "name": "stdout",
          "text": [
            "\u003d\u003d\u003d Confusion Matrix \u003d\u003d\u003d\n[[ 176  422]\n [ 472 3025]]\n\n\n\u003d\u003d\u003d Classification Report \u003d\u003d\u003d\n              precision    recall  f1-score   support\n\n         neg       0.27      0.29      0.28       598\n         pos       0.88      0.87      0.87      3497\n\n    accuracy                           0.78      4095\n   macro avg       0.57      0.58      0.58      4095\nweighted avg       0.79      0.78      0.79      4095\n\n\n\n0.7816849816849817\n[0.29431438 0.86502717]\n",
            "[0.27160494 0.8775747 ]\n"
          ],
          "output_type": "stream"
        }
      ],
      "source": "features\u003ddata2.drop([\u0027rate2\u0027],axis\u003d1)\nlabel\u003ddata2.rate2\nX_train, X_test, y_train, y_test \u003d train_test_split(features, label, test_size\u003d0.2, random_state\u003d42)\nsm \u003d SMOTE(random_state\u003d42,ratio\u003d1)#smote will sample more negative cases in traning set, because we have imblanced data, too many pos, too few neg;\nX_res, y_res \u003d sm.fit_sample(X_train, y_train)\nclf \u003d RandomForestClassifier()\nclf_fit\u003dclf.fit(X_res, y_res)\ny_predict\u003dclf_fit.predict(X_test)\n#evaluate y_predict performance\nfrom sklearn.metrics import classification_report, confusion_matrix\nprint(\"\u003d\u003d\u003d Confusion Matrix \u003d\u003d\u003d\")\nprint(confusion_matrix(y_test, y_predict))\nprint(\u0027\\n\u0027)\nprint(\"\u003d\u003d\u003d Classification Report \u003d\u003d\u003d\")\nprint(classification_report(y_test, y_predict))\nprint(\u0027\\n\u0027)\n"
    },
    {
      "cell_type": "markdown",
      "metadata": {
        "pycharm": {}
      },
      "source": [
        "### C. set value \u003c0.01 to 0 and use smote. OA decrease, but recall increase further"
      ]
    },
    {
      "cell_type": "code",
      "execution_count": 16,
      "metadata": {
        "pycharm": {
          "is_executing": false
        }
      },
      "outputs": [
        {
          "name": "stderr",
          "text": [
            "C:\\Users\\yang\\AppData\\Local\\Programs\\Python\\Python37-32\\lib\\site-packages\\sklearn\\ensemble\\forest.py:245: FutureWarning: The default value of n_estimators will change from 10 in version 0.20 to 100 in 0.22.\n  \"10 in version 0.20 to 100 in 0.22.\", FutureWarning)\n"
          ],
          "output_type": "stream"
        },
        {
          "name": "stdout",
          "text": [
            "\u003d\u003d\u003d Confusion Matrix \u003d\u003d\u003d\n[[ 210  388]\n [ 667 2830]]\n\n\n\u003d\u003d\u003d Classification Report \u003d\u003d\u003d\n              precision    recall  f1-score   support\n\n         neg       0.24      0.35      0.28       598\n         pos       0.88      0.81      0.84      3497\n\n    accuracy                           0.74      4095\n   macro avg       0.56      0.58      0.56      4095\nweighted avg       0.79      0.74      0.76      4095\n\n\n\n"
          ],
          "output_type": "stream"
        }
      ],
      "source": "### smote通过增加 线性组合的sample把neg和postive的样本量变得差不多。。\n##因为我们的数据大部分都是positive的。。\nfeatures\u003ddata2.drop([\u0027rate2\u0027],axis\u003d1)\nfeatures[features\u003c0.01]\u003d0\nlabel\u003ddata2.rate2\nX_train, X_test, y_train, y_test \u003d train_test_split(features, label, test_size\u003d0.2, random_state\u003d42)\nsm \u003d SMOTE(random_state\u003d42,ratio\u003d1)\nX_res, y_res \u003d sm.fit_sample(X_train, y_train)\n\nclf \u003d RandomForestClassifier(random_state\u003d42)\nclf_fit\u003dclf.fit(X_res, y_res)\ny_predict\u003dclf_fit.predict(X_test)\n#evaluate y_predict performance\nfrom sklearn.metrics import classification_report, confusion_matrix\nprint(\"\u003d\u003d\u003d Confusion Matrix \u003d\u003d\u003d\")\nprint(confusion_matrix(y_test, y_predict))\nprint(\u0027\\n\u0027)\nprint(\"\u003d\u003d\u003d Classification Report \u003d\u003d\u003d\")\nprint(classification_report(y_test, y_predict))\nprint(\u0027\\n\u0027)"
    },
    {
      "cell_type": "code",
      "execution_count": 17,
      "metadata": {
        "scrolled": true,
        "pycharm": {
          "is_executing": false
        }
      },
      "outputs": [
        {
          "name": "stdout",
          "text": [
            "[0.01626663 0.01401206 0.02289325 0.01449951 0.04851556 0.01449996\n 0.01841391 0.01458192 0.01699438 0.0132302  0.02545352 0.04607786\n 0.12169141 0.02518668 0.03357851 0.01346844 0.02044328 0.02118503\n 0.02848735 0.02028432 0.0169261  0.01339858 0.01672614 0.05691043\n 0.0147845  0.10984689 0.02338394 0.08878932 0.01760028 0.09187004]\n"
          ],
          "output_type": "stream"
        }
      ],
      "source": [
        "importance\u003dclf.feature_importances_\n",
        "print(importance)"
      ]
    },
    {
      "cell_type": "code",
      "execution_count": 18,
      "metadata": {
        "pycharm": {
          "is_executing": false
        }
      },
      "outputs": [
        {
          "data": {
            "text/plain": "[\u002723\u0027, \u002727\u0027, \u002729\u0027, \u002725\u0027, \u002712\u0027]"
          },
          "metadata": {},
          "output_type": "execute_result",
          "execution_count": 18
        }
      ],
      "source": [
        "## this is the most important feature name\n",
        "##用这个看重要不重要\n",
        "largest5\u003dimportance.argsort()[-5:]\n",
        "[list(features)[i] for i in largest5]"
      ]
    },
    {
      "cell_type": "markdown",
      "metadata": {
        "pycharm": {}
      },
      "source": [
        "### C.2 set value \u003c0.1 to 0, and use smote, OA decrease, but recall increase"
      ]
    },
    {
      "cell_type": "code",
      "execution_count": 25,
      "metadata": {
        "pycharm": {
          "is_executing": false
        }
      },
      "outputs": [
        {
          "name": "stderr",
          "text": [
            "c:\\users\\yang\\appdata\\local\\programs\\python\\python37-32\\lib\\site-packages\\sklearn\\ensemble\\forest.py:245: FutureWarning: The default value of n_estimators will change from 10 in version 0.20 to 100 in 0.22.\n  \"10 in version 0.20 to 100 in 0.22.\", FutureWarning)\n"
          ],
          "output_type": "stream"
        },
        {
          "name": "stdout",
          "text": [
            "0.6935286935286935\n[0.44481605 0.73605948]\n[0.22371741 0.88575361]\n"
          ],
          "output_type": "stream"
        }
      ],
      "source": "features\u003ddata2.drop([\u0027rate2\u0027],axis\u003d1) #features is the \nfeatures[features\u003c0.1]\u003d0\nlabel\u003ddata2.rate2\nX_train, X_test, y_train, y_test \u003d train_test_split(features, label, test_size\u003d0.2, random_state\u003d42)\nsm \u003d SMOTE(random_state\u003d42,ratio\u003d1)\nX_res, y_res \u003d sm.fit_sample(X_train, y_train)\n\nclf \u003d RandomForestClassifier(random_state\u003d42)\nclf_fit\u003dclf.fit(X_res, y_res)\ny_predict\u003dclf_fit.predict(X_test)\nprint(accuracy_score(y_test, y_predict))\nprint(recall_score(y_test, y_predict, average\u003dNone))\nprint(precision_score(y_test, y_predict, average\u003dNone))\n"
    },
    {
      "cell_type": "markdown",
      "metadata": {
        "pycharm": {}
      },
      "source": "\n### D. set value \u003c0.01 to 0, and others to 1, use smote, recall is too low (this is equal to binary independent variables)"
    },
    {
      "cell_type": "code",
      "execution_count": 19,
      "metadata": {
        "pycharm": {
          "is_executing": false
        }
      },
      "outputs": [
        {
          "name": "stderr",
          "text": [
            "C:\\Users\\yang\\AppData\\Local\\Programs\\Python\\Python37-32\\lib\\site-packages\\sklearn\\ensemble\\forest.py:245: FutureWarning: The default value of n_estimators will change from 10 in version 0.20 to 100 in 0.22.\n  \"10 in version 0.20 to 100 in 0.22.\", FutureWarning)\n"
          ],
          "output_type": "stream"
        },
        {
          "name": "stdout",
          "text": [
            "0.7821733821733822\n[0.16722408 0.887332  ]\n[0.20242915 0.86170508]\n"
          ],
          "output_type": "stream"
        }
      ],
      "source": [
        "features\u003ddata2.drop([\u0027rate2\u0027],axis\u003d1)\n",
        "features[features\u003c0.01]\u003d0\n",
        "features[features\u003e0.01]\u003d1\n",
        "label\u003ddata2.rate2\n",
        "X_train, X_test, y_train, y_test \u003d train_test_split(features, label, test_size\u003d0.2, random_state\u003d42)\n",
        "sm \u003d SMOTE(random_state\u003d42,ratio\u003d1)\n",
        "X_res, y_res \u003d sm.fit_sample(X_train, y_train)\n",
        "\n",
        "clf \u003d RandomForestClassifier()\n",
        "clf_fit\u003dclf.fit(X_res, y_res)\n",
        "y_predict\u003dclf_fit.predict(X_test)\n",
        "print(accuracy_score(y_test, y_predict))\n",
        "print(recall_score(y_test, y_predict, average\u003dNone))\n",
        "print(precision_score(y_test, y_predict, average\u003dNone))"
      ]
    },
    {
      "cell_type": "markdown",
      "metadata": {
        "pycharm": {}
      },
      "source": [
        "### I think both C.1 and C.2 are acceptable, depending on the focus. I use C.1 and the resulting most important features are [\u00274\u0027, \u002727\u0027, \u002729\u0027, \u002725\u0027, \u002712\u0027]"
      ]
    },
    {
      "cell_type": "markdown",
      "metadata": {
        "pycharm": {}
      },
      "source": [
        "# 3. Implement decision tree following C.1 for interpretation purpose"
      ]
    },
    {
      "cell_type": "code",
      "execution_count": 20,
      "metadata": {
        "pycharm": {
          "is_executing": false
        }
      },
      "outputs": [
        {
          "data": {
            "text/plain": "          0         1    2    3         4    5    6    7    8    9  ...   20  \\\n0  0.000000  0.573810  0.0  0.0  0.000000  0.0  0.0  0.0  0.0  0.0  ...  0.0   \n1  0.093939  0.366667  0.0  0.0  0.093939  0.0  0.0  0.0  0.0  0.0  ...  0.0   \n2  0.000000  0.337037  0.0  0.0  0.225926  0.0  0.0  0.0  0.0  0.0  ...  0.0   \n3  0.000000  0.305797  0.0  0.0  0.000000  0.0  0.0  0.0  0.0  0.0  ...  0.0   \n4  0.000000  0.275758  0.0  0.0  0.000000  0.0  0.0  0.0  0.0  0.0  ...  0.0   \n\n    21   22   23   24        25   26   27   28   29  \n0  0.0  0.0  0.0  0.0  0.359524  0.0  0.0  0.0  0.0  \n1  0.0  0.0  0.0  0.0  0.366667  0.0  0.0  0.0  0.0  \n2  0.0  0.0  0.0  0.0  0.337037  0.0  0.0  0.0  0.0  \n3  0.0  0.0  0.0  0.0  0.088900  0.0  0.0  0.0  0.0  \n4  0.0  0.0  0.0  0.0  0.639394  0.0  0.0  0.0  0.0  \n\n[5 rows x 30 columns]",
            "text/html": "\u003cdiv\u003e\n\u003cstyle scoped\u003e\n    .dataframe tbody tr th:only-of-type {\n        vertical-align: middle;\n    }\n\n    .dataframe tbody tr th {\n        vertical-align: top;\n    }\n\n    .dataframe thead th {\n        text-align: right;\n    }\n\u003c/style\u003e\n\u003ctable border\u003d\"1\" class\u003d\"dataframe\"\u003e\n  \u003cthead\u003e\n    \u003ctr style\u003d\"text-align: right;\"\u003e\n      \u003cth\u003e\u003c/th\u003e\n      \u003cth\u003e0\u003c/th\u003e\n      \u003cth\u003e1\u003c/th\u003e\n      \u003cth\u003e2\u003c/th\u003e\n      \u003cth\u003e3\u003c/th\u003e\n      \u003cth\u003e4\u003c/th\u003e\n      \u003cth\u003e5\u003c/th\u003e\n      \u003cth\u003e6\u003c/th\u003e\n      \u003cth\u003e7\u003c/th\u003e\n      \u003cth\u003e8\u003c/th\u003e\n      \u003cth\u003e9\u003c/th\u003e\n      \u003cth\u003e...\u003c/th\u003e\n      \u003cth\u003e20\u003c/th\u003e\n      \u003cth\u003e21\u003c/th\u003e\n      \u003cth\u003e22\u003c/th\u003e\n      \u003cth\u003e23\u003c/th\u003e\n      \u003cth\u003e24\u003c/th\u003e\n      \u003cth\u003e25\u003c/th\u003e\n      \u003cth\u003e26\u003c/th\u003e\n      \u003cth\u003e27\u003c/th\u003e\n      \u003cth\u003e28\u003c/th\u003e\n      \u003cth\u003e29\u003c/th\u003e\n    \u003c/tr\u003e\n  \u003c/thead\u003e\n  \u003ctbody\u003e\n    \u003ctr\u003e\n      \u003cth\u003e0\u003c/th\u003e\n      \u003ctd\u003e0.000000\u003c/td\u003e\n      \u003ctd\u003e0.573810\u003c/td\u003e\n      \u003ctd\u003e0.0\u003c/td\u003e\n      \u003ctd\u003e0.0\u003c/td\u003e\n      \u003ctd\u003e0.000000\u003c/td\u003e\n      \u003ctd\u003e0.0\u003c/td\u003e\n      \u003ctd\u003e0.0\u003c/td\u003e\n      \u003ctd\u003e0.0\u003c/td\u003e\n      \u003ctd\u003e0.0\u003c/td\u003e\n      \u003ctd\u003e0.0\u003c/td\u003e\n      \u003ctd\u003e...\u003c/td\u003e\n      \u003ctd\u003e0.0\u003c/td\u003e\n      \u003ctd\u003e0.0\u003c/td\u003e\n      \u003ctd\u003e0.0\u003c/td\u003e\n      \u003ctd\u003e0.0\u003c/td\u003e\n      \u003ctd\u003e0.0\u003c/td\u003e\n      \u003ctd\u003e0.359524\u003c/td\u003e\n      \u003ctd\u003e0.0\u003c/td\u003e\n      \u003ctd\u003e0.0\u003c/td\u003e\n      \u003ctd\u003e0.0\u003c/td\u003e\n      \u003ctd\u003e0.0\u003c/td\u003e\n    \u003c/tr\u003e\n    \u003ctr\u003e\n      \u003cth\u003e1\u003c/th\u003e\n      \u003ctd\u003e0.093939\u003c/td\u003e\n      \u003ctd\u003e0.366667\u003c/td\u003e\n      \u003ctd\u003e0.0\u003c/td\u003e\n      \u003ctd\u003e0.0\u003c/td\u003e\n      \u003ctd\u003e0.093939\u003c/td\u003e\n      \u003ctd\u003e0.0\u003c/td\u003e\n      \u003ctd\u003e0.0\u003c/td\u003e\n      \u003ctd\u003e0.0\u003c/td\u003e\n      \u003ctd\u003e0.0\u003c/td\u003e\n      \u003ctd\u003e0.0\u003c/td\u003e\n      \u003ctd\u003e...\u003c/td\u003e\n      \u003ctd\u003e0.0\u003c/td\u003e\n      \u003ctd\u003e0.0\u003c/td\u003e\n      \u003ctd\u003e0.0\u003c/td\u003e\n      \u003ctd\u003e0.0\u003c/td\u003e\n      \u003ctd\u003e0.0\u003c/td\u003e\n      \u003ctd\u003e0.366667\u003c/td\u003e\n      \u003ctd\u003e0.0\u003c/td\u003e\n      \u003ctd\u003e0.0\u003c/td\u003e\n      \u003ctd\u003e0.0\u003c/td\u003e\n      \u003ctd\u003e0.0\u003c/td\u003e\n    \u003c/tr\u003e\n    \u003ctr\u003e\n      \u003cth\u003e2\u003c/th\u003e\n      \u003ctd\u003e0.000000\u003c/td\u003e\n      \u003ctd\u003e0.337037\u003c/td\u003e\n      \u003ctd\u003e0.0\u003c/td\u003e\n      \u003ctd\u003e0.0\u003c/td\u003e\n      \u003ctd\u003e0.225926\u003c/td\u003e\n      \u003ctd\u003e0.0\u003c/td\u003e\n      \u003ctd\u003e0.0\u003c/td\u003e\n      \u003ctd\u003e0.0\u003c/td\u003e\n      \u003ctd\u003e0.0\u003c/td\u003e\n      \u003ctd\u003e0.0\u003c/td\u003e\n      \u003ctd\u003e...\u003c/td\u003e\n      \u003ctd\u003e0.0\u003c/td\u003e\n      \u003ctd\u003e0.0\u003c/td\u003e\n      \u003ctd\u003e0.0\u003c/td\u003e\n      \u003ctd\u003e0.0\u003c/td\u003e\n      \u003ctd\u003e0.0\u003c/td\u003e\n      \u003ctd\u003e0.337037\u003c/td\u003e\n      \u003ctd\u003e0.0\u003c/td\u003e\n      \u003ctd\u003e0.0\u003c/td\u003e\n      \u003ctd\u003e0.0\u003c/td\u003e\n      \u003ctd\u003e0.0\u003c/td\u003e\n    \u003c/tr\u003e\n    \u003ctr\u003e\n      \u003cth\u003e3\u003c/th\u003e\n      \u003ctd\u003e0.000000\u003c/td\u003e\n      \u003ctd\u003e0.305797\u003c/td\u003e\n      \u003ctd\u003e0.0\u003c/td\u003e\n      \u003ctd\u003e0.0\u003c/td\u003e\n      \u003ctd\u003e0.000000\u003c/td\u003e\n      \u003ctd\u003e0.0\u003c/td\u003e\n      \u003ctd\u003e0.0\u003c/td\u003e\n      \u003ctd\u003e0.0\u003c/td\u003e\n      \u003ctd\u003e0.0\u003c/td\u003e\n      \u003ctd\u003e0.0\u003c/td\u003e\n      \u003ctd\u003e...\u003c/td\u003e\n      \u003ctd\u003e0.0\u003c/td\u003e\n      \u003ctd\u003e0.0\u003c/td\u003e\n      \u003ctd\u003e0.0\u003c/td\u003e\n      \u003ctd\u003e0.0\u003c/td\u003e\n      \u003ctd\u003e0.0\u003c/td\u003e\n      \u003ctd\u003e0.088900\u003c/td\u003e\n      \u003ctd\u003e0.0\u003c/td\u003e\n      \u003ctd\u003e0.0\u003c/td\u003e\n      \u003ctd\u003e0.0\u003c/td\u003e\n      \u003ctd\u003e0.0\u003c/td\u003e\n    \u003c/tr\u003e\n    \u003ctr\u003e\n      \u003cth\u003e4\u003c/th\u003e\n      \u003ctd\u003e0.000000\u003c/td\u003e\n      \u003ctd\u003e0.275758\u003c/td\u003e\n      \u003ctd\u003e0.0\u003c/td\u003e\n      \u003ctd\u003e0.0\u003c/td\u003e\n      \u003ctd\u003e0.000000\u003c/td\u003e\n      \u003ctd\u003e0.0\u003c/td\u003e\n      \u003ctd\u003e0.0\u003c/td\u003e\n      \u003ctd\u003e0.0\u003c/td\u003e\n      \u003ctd\u003e0.0\u003c/td\u003e\n      \u003ctd\u003e0.0\u003c/td\u003e\n      \u003ctd\u003e...\u003c/td\u003e\n      \u003ctd\u003e0.0\u003c/td\u003e\n      \u003ctd\u003e0.0\u003c/td\u003e\n      \u003ctd\u003e0.0\u003c/td\u003e\n      \u003ctd\u003e0.0\u003c/td\u003e\n      \u003ctd\u003e0.0\u003c/td\u003e\n      \u003ctd\u003e0.639394\u003c/td\u003e\n      \u003ctd\u003e0.0\u003c/td\u003e\n      \u003ctd\u003e0.0\u003c/td\u003e\n      \u003ctd\u003e0.0\u003c/td\u003e\n      \u003ctd\u003e0.0\u003c/td\u003e\n    \u003c/tr\u003e\n  \u003c/tbody\u003e\n\u003c/table\u003e\n\u003cp\u003e5 rows × 30 columns\u003c/p\u003e\n\u003c/div\u003e"
          },
          "metadata": {},
          "output_type": "execute_result",
          "execution_count": 20
        }
      ],
      "source": [
        "features\u003ddata2.drop([\u0027rate2\u0027],axis\u003d1)\n",
        "features[features\u003c0.01]\u003d0\n",
        "label\u003ddata2.rate2\n",
        "features.head()"
      ]
    },
    {
      "cell_type": "code",
      "execution_count": 21,
      "metadata": {
        "scrolled": true,
        "pycharm": {
          "is_executing": false
        }
      },
      "outputs": [
        {
          "name": "stdout",
          "text": [
            "0.6903540903540903\n[0.53846154 0.71632828]\n[0.24505327 0.90075512]\n"
          ],
          "output_type": "stream"
        }
      ],
      "source": [
        "X_train, X_test, y_train, y_test \u003d train_test_split(features, label, test_size\u003d0.2, random_state\u003d42)\n",
        "sm \u003d SMOTE(random_state\u003d42,ratio\u003d1)\n",
        "X_res, y_res \u003d sm.fit_sample(X_train, y_train)\n",
        "\n",
        "clf\u003dtree.DecisionTreeClassifier(max_depth\u003d4)  ## this max_depth is after trials among [3,4,5]\n",
        "clf\u003dclf.fit(X_res, y_res)\n",
        "y_predict\u003dclf.predict(X_test)\n",
        "print(accuracy_score(y_test, y_predict))\n",
        "print(recall_score(y_test, y_predict, average\u003dNone))\n",
        "print(precision_score(y_test, y_predict, average\u003dNone))"
      ]
    },
    {
      "cell_type": "code",
      "execution_count": 22,
      "metadata": {
        "pycharm": {
          "is_executing": false
        }
      },
      "outputs": [],
      "source": [
        "with open(\"decisionTree_classifier.txt\", \"w\") as f:\n",
        "    f \u003d tree.export_graphviz(clf, out_file\u003df,feature_names\u003dlist(features),class_names\u003d[\"pos\",\u0027neg\u0027])\n",
        "#Use http://webgraphviz.com/ to see the tree graphic"
      ]
    },
    {
      "cell_type": "code",
      "execution_count": 23,
      "metadata": {
        "pycharm": {
          "is_executing": false
        }
      },
      "outputs": [
        {
          "name": "stdout",
          "text": [
            "[\u00270\u0027, \u00271\u0027, \u00272\u0027, \u00273\u0027, \u00274\u0027, \u00275\u0027, \u00276\u0027, \u00277\u0027, \u00278\u0027, \u00279\u0027, \u002710\u0027, \u002711\u0027, \u002712\u0027, \u002713\u0027, \u002714\u0027, \u002715\u0027, \u002716\u0027, \u002717\u0027, \u002718\u0027, \u002719\u0027, \u002720\u0027, \u002721\u0027, \u002722\u0027, \u002723\u0027, \u002724\u0027, \u002725\u0027, \u002726\u0027, \u002727\u0027, \u002728\u0027, \u002729\u0027]\n"
          ],
          "output_type": "stream"
        }
      ],
      "source": [
        "print (list(features))"
      ]
    },
    {
      "cell_type": "code",
      "execution_count": null,
      "metadata": {
        "collapsed": true,
        "pycharm": {}
      },
      "outputs": [],
      "source": [
        "\"\"\"the result gini impurity look at how well the group been splitted. If all the group are Pos, then GINI is 0. If the pos and neg \n",
        "is 50%,50%, then the gini is 0.5, which is not good.48.97% means the 48.97% chance of a new data point being incorrectly \n",
        "classified, based on the observed training data we have at our disposal. "
      ]
    },
    {
      "cell_type": "code",
      "execution_count": null,
      "metadata": {
        "pycharm": {}
      },
      "outputs": [],
      "source": []
    }
  ],
  "metadata": {
    "kernelspec": {
      "name": "pycharm-50e3246c",
      "language": "python",
      "display_name": "PyCharm (nlp analysis)"
    },
    "language_info": {
      "codemirror_mode": {
        "name": "ipython",
        "version": 3
      },
      "file_extension": ".py",
      "mimetype": "text/x-python",
      "name": "python",
      "nbconvert_exporter": "python",
      "pygments_lexer": "ipython3",
      "version": "3.6.5"
    }
  },
  "nbformat": 4,
  "nbformat_minor": 2
}