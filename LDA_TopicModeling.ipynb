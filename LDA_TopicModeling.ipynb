{
 "cells": [
  {
   "cell_type": "code",
   "execution_count": 1,
   "metadata": {},
   "outputs": [],
   "source": [
    "#load the csv to the notebook\n",
    "import pandas as pd"
   ]
  },
  {
   "cell_type": "code",
   "execution_count": 43,
   "metadata": {},
   "outputs": [
    {
     "data": {
      "text/html": [
       "<div>\n",
       "<style scoped>\n",
       "    .dataframe tbody tr th:only-of-type {\n",
       "        vertical-align: middle;\n",
       "    }\n",
       "\n",
       "    .dataframe tbody tr th {\n",
       "        vertical-align: top;\n",
       "    }\n",
       "\n",
       "    .dataframe thead th {\n",
       "        text-align: right;\n",
       "    }\n",
       "</style>\n",
       "<table border=\"1\" class=\"dataframe\">\n",
       "  <thead>\n",
       "    <tr style=\"text-align: right;\">\n",
       "      <th></th>\n",
       "      <th>Unnamed: 0</th>\n",
       "      <th>user</th>\n",
       "      <th>location</th>\n",
       "      <th>date</th>\n",
       "      <th>rating</th>\n",
       "      <th>title</th>\n",
       "      <th>comments</th>\n",
       "    </tr>\n",
       "  </thead>\n",
       "  <tbody>\n",
       "    <tr>\n",
       "      <th>0</th>\n",
       "      <td>0</td>\n",
       "      <td>s6steve</td>\n",
       "      <td>Sheffield, United Kingdom</td>\n",
       "      <td>July 9, 2018</td>\n",
       "      <td>20</td>\n",
       "      <td>Over priced over rated</td>\n",
       "      <td>Over rated new Las Vegas has taken away the sp...</td>\n",
       "    </tr>\n",
       "    <tr>\n",
       "      <th>1</th>\n",
       "      <td>0</td>\n",
       "      <td>sathyanupheap</td>\n",
       "      <td>unknown</td>\n",
       "      <td>July 9, 2018</td>\n",
       "      <td>40</td>\n",
       "      <td>Plenty to See...</td>\n",
       "      <td>I rented a Mini Cooper convertible and it was ...</td>\n",
       "    </tr>\n",
       "    <tr>\n",
       "      <th>2</th>\n",
       "      <td>0</td>\n",
       "      <td>Blu H</td>\n",
       "      <td>unknown</td>\n",
       "      <td>July 9, 2018</td>\n",
       "      <td>50</td>\n",
       "      <td>City of anything goes!</td>\n",
       "      <td>If you haven¡¯t been here yet you¡¯re probably...</td>\n",
       "    </tr>\n",
       "    <tr>\n",
       "      <th>3</th>\n",
       "      <td>0</td>\n",
       "      <td>anita a</td>\n",
       "      <td>Los Angeles, California</td>\n",
       "      <td>July 9, 2018</td>\n",
       "      <td>30</td>\n",
       "      <td>Not like it use to be</td>\n",
       "      <td>Back in the day you could eat and have fun on ...</td>\n",
       "    </tr>\n",
       "    <tr>\n",
       "      <th>4</th>\n",
       "      <td>0</td>\n",
       "      <td>kristycullinan</td>\n",
       "      <td>Philadelphia, Pennsylvania</td>\n",
       "      <td>July 9, 2018</td>\n",
       "      <td>30</td>\n",
       "      <td>Walking walking and more walking.</td>\n",
       "      <td>The strip is 5 miles long and pretty spaced ou...</td>\n",
       "    </tr>\n",
       "  </tbody>\n",
       "</table>\n",
       "</div>"
      ],
      "text/plain": [
       "   Unnamed: 0            user                    location          date  \\\n",
       "0           0         s6steve   Sheffield, United Kingdom  July 9, 2018   \n",
       "1           0   sathyanupheap                     unknown  July 9, 2018   \n",
       "2           0           Blu H                     unknown  July 9, 2018   \n",
       "3           0         anita a     Los Angeles, California  July 9, 2018   \n",
       "4           0  kristycullinan  Philadelphia, Pennsylvania  July 9, 2018   \n",
       "\n",
       "   rating                              title  \\\n",
       "0      20             Over priced over rated   \n",
       "1      40                   Plenty to See...   \n",
       "2      50             City of anything goes!   \n",
       "3      30              Not like it use to be   \n",
       "4      30  Walking walking and more walking.   \n",
       "\n",
       "                                            comments  \n",
       "0  Over rated new Las Vegas has taken away the sp...  \n",
       "1  I rented a Mini Cooper convertible and it was ...  \n",
       "2  If you haven¡¯t been here yet you¡¯re probably...  \n",
       "3  Back in the day you could eat and have fun on ...  \n",
       "4  The strip is 5 miles long and pretty spaced ou...  "
      ]
     },
     "execution_count": 43,
     "metadata": {},
     "output_type": "execute_result"
    }
   ],
   "source": [
    "rawInput=pd.read_csv('lasvegasStrip.csv',encoding=\"ISO-8859-1\")\n",
    "rawInput.head()"
   ]
  },
  {
   "cell_type": "markdown",
   "metadata": {},
   "source": [
    "## preprocess text"
   ]
  },
  {
   "cell_type": "code",
   "execution_count": 44,
   "metadata": {},
   "outputs": [],
   "source": [
    "#import the nltk lib for preprocessing\n",
    "import nltk\n",
    "from nltk.corpus import stopwords \n",
    "from nltk.stem.wordnet import WordNetLemmatizer"
   ]
  },
  {
   "cell_type": "code",
   "execution_count": 45,
   "metadata": {},
   "outputs": [
    {
     "name": "stdout",
     "output_type": "stream",
     "text": [
      "showing info https://raw.githubusercontent.com/nltk/nltk_data/gh-pages/index.xml\n"
     ]
    },
    {
     "data": {
      "text/plain": [
       "True"
      ]
     },
     "execution_count": 45,
     "metadata": {},
     "output_type": "execute_result"
    }
   ],
   "source": [
    "nltk.download() #make sure the computer has all nltk corpus"
   ]
  },
  {
   "cell_type": "code",
   "execution_count": 46,
   "metadata": {},
   "outputs": [],
   "source": [
    "import string #for getting punctuation\n",
    "import gensim"
   ]
  },
  {
   "cell_type": "code",
   "execution_count": 47,
   "metadata": {},
   "outputs": [],
   "source": [
    "stop = set(stopwords.words('english'))\n",
    "exclude = set(string.punctuation) \n",
    "lemma = WordNetLemmatizer()##WordNetLemmatizer is a class"
   ]
  },
  {
   "cell_type": "code",
   "execution_count": 48,
   "metadata": {},
   "outputs": [],
   "source": [
    "##a def to clean the text(typical way), very nice\n",
    "def clean(doc):\n",
    "    stop_free = \" \".join([i for i in gensim.utils.simple_preprocess(doc,min_len=3) if i not in stop])\n",
    "    ##simple_preprocess can lowercase words and tokenize them,you can set up min len of token too,here is 3, so word like AI will not be included\n",
    "    punc_free = ''.join(ch for ch in stop_free if ch not in exclude)\n",
    "    normalized = \" \".join(lemma.lemmatize(word) for word in punc_free.split())##这个用来找stem\n",
    "    return normalized"
   ]
  },
  {
   "cell_type": "code",
   "execution_count": 49,
   "metadata": {},
   "outputs": [],
   "source": [
    "doc_complete=rawInput['comments'][:1000]"
   ]
  },
  {
   "cell_type": "code",
   "execution_count": 50,
   "metadata": {},
   "outputs": [],
   "source": [
    "doc_clean = [clean(doc).split() for doc in doc_complete]    \n",
    "#doc_clean is a list中包list,每个item是一个doc的tokens"
   ]
  },
  {
   "cell_type": "code",
   "execution_count": 51,
   "metadata": {},
   "outputs": [
    {
     "data": {
      "text/plain": [
       "[['rated',\n",
       "  'new',\n",
       "  'la',\n",
       "  'vega',\n",
       "  'taken',\n",
       "  'away',\n",
       "  'spark',\n",
       "  'original',\n",
       "  'strip',\n",
       "  'prepared',\n",
       "  'pant',\n",
       "  'drink',\n",
       "  'bother',\n",
       "  'night',\n",
       "  'club',\n",
       "  'guy',\n",
       "  'pretty',\n",
       "  'sexist',\n",
       "  'priced',\n",
       "  'staff',\n",
       "  'everywhere',\n",
       "  'arrogant',\n",
       "  'care',\n",
       "  'long'],\n",
       " ['rented',\n",
       "  'mini',\n",
       "  'cooper',\n",
       "  'convertible',\n",
       "  'nice',\n",
       "  'cruise',\n",
       "  'around',\n",
       "  'strip',\n",
       "  'light',\n",
       "  'sight',\n",
       "  'sound',\n",
       "  'crowd',\n",
       "  'city',\n",
       "  'never',\n",
       "  'sleep',\n",
       "  'something',\n",
       "  'everyone',\n",
       "  'young',\n",
       "  'old']]"
      ]
     },
     "execution_count": 51,
     "metadata": {},
     "output_type": "execute_result"
    }
   ],
   "source": [
    "doc_clean[:2]"
   ]
  },
  {
   "cell_type": "markdown",
   "metadata": {},
   "source": [
    "## create gensim corpus dicts and doc_term_Matrix"
   ]
  },
  {
   "cell_type": "code",
   "execution_count": 52,
   "metadata": {},
   "outputs": [],
   "source": [
    "# Importing Gensim\n",
    "import gensim\n",
    "from gensim import corpora"
   ]
  },
  {
   "cell_type": "code",
   "execution_count": 53,
   "metadata": {},
   "outputs": [],
   "source": [
    "# Creating the term dictionary of our courpus, where every unique term（token) is assigned an index. \n",
    "dictionary = corpora.Dictionary(doc_clean)"
   ]
  },
  {
   "cell_type": "code",
   "execution_count": 54,
   "metadata": {},
   "outputs": [
    {
     "name": "stdout",
     "output_type": "stream",
     "text": [
      "4009\n",
      "0 arrogant\n",
      "1 away\n",
      "2 bother\n",
      "3 care\n",
      "4 club\n",
      "5 drink\n",
      "6 everywhere\n",
      "7 guy\n",
      "8 la\n",
      "9 long\n",
      "10 new\n"
     ]
    }
   ],
   "source": [
    "print(len(dictionary))\n",
    "count = 0\n",
    "for k, v in dictionary.iteritems():\n",
    "    print(k, v)\n",
    "    count += 1\n",
    "    if count > 10:\n",
    "        break"
   ]
  },
  {
   "cell_type": "code",
   "execution_count": 55,
   "metadata": {},
   "outputs": [],
   "source": [
    "#### filter_extremes可以把出现less than 15 documents的tokens (absolute number) \n",
    "#or more than 0.5 documents (fraction of total dictionary size, not absolute number). dictionary里有一半都是那个词删掉。\n",
    "#after the above two steps, keep only the first 100000 most frequent tokens.\n",
    "dictionary.filter_extremes(no_below=15, no_above=0.5, keep_n=100000) #当文字很多的时候用这个,先不run"
   ]
  },
  {
   "cell_type": "code",
   "execution_count": 56,
   "metadata": {},
   "outputs": [],
   "source": [
    "# Converting list of documents (corpus) into Document Term Matrix using dictionary prepared above.\n",
    "doc_term_matrix = [dictionary.doc2bow(doc) for doc in doc_clean]"
   ]
  },
  {
   "cell_type": "code",
   "execution_count": 57,
   "metadata": {},
   "outputs": [
    {
     "data": {
      "text/plain": [
       "[[(0, 1),\n",
       "  (1, 1),\n",
       "  (2, 1),\n",
       "  (3, 1),\n",
       "  (4, 1),\n",
       "  (5, 1),\n",
       "  (6, 1),\n",
       "  (7, 1),\n",
       "  (8, 1),\n",
       "  (9, 1),\n",
       "  (10, 1)],\n",
       " [(11, 1),\n",
       "  (12, 1),\n",
       "  (13, 1),\n",
       "  (14, 1),\n",
       "  (15, 1),\n",
       "  (16, 1),\n",
       "  (17, 1),\n",
       "  (18, 1),\n",
       "  (19, 1),\n",
       "  (20, 1),\n",
       "  (21, 1),\n",
       "  (22, 1)]]"
      ]
     },
     "execution_count": 57,
     "metadata": {},
     "output_type": "execute_result"
    }
   ],
   "source": [
    "doc_term_matrix[:2]###这个matrix是每个doc的list of (token_id, token_count) tuples"
   ]
  },
  {
   "cell_type": "code",
   "execution_count": 58,
   "metadata": {},
   "outputs": [
    {
     "name": "stdout",
     "output_type": "stream",
     "text": [
      "away\n"
     ]
    },
    {
     "data": {
      "text/plain": [
       "'away'"
      ]
     },
     "execution_count": 58,
     "metadata": {},
     "output_type": "execute_result"
    }
   ],
   "source": [
    "print (dictionary[0])#dictionary 可以直接输入token的id得出token\n",
    "dictionary[doc_term_matrix[0][0][0]]#找到第一个id为0的词"
   ]
  },
  {
   "cell_type": "markdown",
   "metadata": {},
   "source": [
    "## tf-idf model LDA\n",
    "create tf-idf scores, 这个score就是给每个token一个score，这score的好处是：当很多doc都有某个词比如city，那么city对选择topic意义并不大，当有些词是某个doc独有如accessible，那么这个词的意义还更强。。\n",
    "https://rare-technologies.com/pivoted-document-length-normalisation/"
   ]
  },
  {
   "cell_type": "code",
   "execution_count": 70,
   "metadata": {},
   "outputs": [],
   "source": [
    "from gensim import corpora, models\n",
    "tfidf = models.TfidfModel(doc_term_matrix)\n",
    "corpus_tfidf = tfidf[doc_term_matrix]"
   ]
  },
  {
   "cell_type": "code",
   "execution_count": 71,
   "metadata": {},
   "outputs": [
    {
     "data": {
      "text/plain": [
       "[(0, 0.38787917167478897),\n",
       " (1, 0.38787917167478897),\n",
       " (2, 0.25087690611269653),\n",
       " (3, 0.31076583463199875),\n",
       " (4, 0.18846085265220172),\n",
       " (5, 0.29003997957600197),\n",
       " (6, 0.29486214935076166),\n",
       " (7, 0.14284428607598382),\n",
       " (8, 0.41908719840503633),\n",
       " (9, 0.3576440748534904),\n",
       " (10, 0.09514539559335049)]"
      ]
     },
     "execution_count": 71,
     "metadata": {},
     "output_type": "execute_result"
    }
   ],
   "source": [
    "corpus_tfidf[0]##第一个doc里面词的score，可以看到这个score跟doc_term_matrix是不一样的,出现太多的词score小"
   ]
  },
  {
   "cell_type": "code",
   "execution_count": 75,
   "metadata": {},
   "outputs": [],
   "source": [
    "lda_model_tfidf = gensim.models.ldamodel.LdaModel(corpus_tfidf, num_topics=10, id2word=dictionary, passes=50)"
   ]
  },
  {
   "cell_type": "code",
   "execution_count": 76,
   "metadata": {},
   "outputs": [
    {
     "data": {
      "text/plain": [
       "[(0,\n",
       "  '0.027*\"ride\" + 0.024*\"picture\" + 0.023*\"open\" + 0.023*\"eye\" + 0.020*\"costume\" + 0.019*\"dressed\" + 0.018*\"buy\" + 0.018*\"trying\" + 0.017*\"bus\" + 0.016*\"nice\" + 0.015*\"thought\" + 0.014*\"lot\" + 0.014*\"walk\" + 0.013*\"pas\" + 0.013*\"sell\" + 0.013*\"clean\" + 0.013*\"cheaper\" + 0.012*\"remember\" + 0.012*\"night\" + 0.012*\"walking\"'),\n",
       " (1,\n",
       "  '0.027*\"always\" + 0.027*\"love\" + 0.020*\"something\" + 0.018*\"experience\" + 0.018*\"watching\" + 0.018*\"new\" + 0.018*\"different\" + 0.016*\"fun\" + 0.016*\"great\" + 0.016*\"people\" + 0.015*\"seeing\" + 0.015*\"time\" + 0.015*\"see\" + 0.014*\"recommend\" + 0.014*\"shopping\" + 0.014*\"year\" + 0.014*\"lot\" + 0.013*\"eating\" + 0.013*\"explore\" + 0.013*\"load\"'),\n",
       " (2,\n",
       "  '0.010*\"get\" + 0.010*\"hotel\" + 0.010*\"time\" + 0.009*\"vega\" + 0.009*\"day\" + 0.009*\"walk\" + 0.009*\"one\" + 0.009*\"see\" + 0.009*\"casino\" + 0.008*\"walking\" + 0.008*\"night\" + 0.008*\"people\" + 0.008*\"like\" + 0.008*\"much\" + 0.007*\"place\" + 0.007*\"lot\" + 0.007*\"la\" + 0.007*\"many\" + 0.007*\"thing\" + 0.007*\"take\"'),\n",
       " (3,\n",
       "  '0.029*\"place\" + 0.028*\"interesting\" + 0.020*\"eat\" + 0.018*\"fun\" + 0.018*\"lot\" + 0.018*\"people\" + 0.018*\"awesome\" + 0.017*\"stuff\" + 0.016*\"around\" + 0.016*\"photo\" + 0.016*\"watch\" + 0.014*\"great\" + 0.014*\"see\" + 0.013*\"girl\" + 0.013*\"much\" + 0.013*\"crazy\" + 0.013*\"plenty\" + 0.012*\"walking\" + 0.012*\"card\" + 0.011*\"sort\"'),\n",
       " (4,\n",
       "  '0.017*\"show\" + 0.016*\"fountain\" + 0.015*\"music\" + 0.015*\"bellagio\" + 0.015*\"lot\" + 0.014*\"shop\" + 0.014*\"enough\" + 0.014*\"restaurant\" + 0.013*\"venetian\" + 0.013*\"hotel\" + 0.012*\"palace\" + 0.012*\"walk\" + 0.012*\"see\" + 0.012*\"everywhere\" + 0.011*\"plenty\" + 0.011*\"casino\" + 0.011*\"performer\" + 0.010*\"people\" + 0.010*\"great\" + 0.010*\"walking\"'),\n",
       " (5,\n",
       "  '0.023*\"life\" + 0.020*\"exciting\" + 0.019*\"night\" + 0.018*\"architecture\" + 0.018*\"worth\" + 0.018*\"light\" + 0.017*\"amazing\" + 0.017*\"casino\" + 0.017*\"morning\" + 0.016*\"full\" + 0.016*\"much\" + 0.015*\"sight\" + 0.015*\"attraction\" + 0.015*\"entertainment\" + 0.014*\"every\" + 0.014*\"walk\" + 0.013*\"busy\" + 0.013*\"least\" + 0.012*\"fun\" + 0.011*\"entire\"'),\n",
       " (6,\n",
       "  '0.057*\"wear\" + 0.042*\"shoe\" + 0.032*\"half\" + 0.030*\"couple\" + 0.028*\"comfortable\" + 0.026*\"sure\" + 0.017*\"long\" + 0.015*\"old\" + 0.010*\"say\" + 0.010*\"foot\" + 0.009*\"find\" + 0.009*\"early\" + 0.009*\"wonderful\" + 0.008*\"room\" + 0.008*\"gambler\" + 0.008*\"middle\" + 0.007*\"stay\" + 0.007*\"young\" + 0.007*\"party\" + 0.007*\"road\"'),\n",
       " (7,\n",
       "  '0.030*\"atmosphere\" + 0.026*\"planet\" + 0.025*\"hollywood\" + 0.022*\"large\" + 0.020*\"center\" + 0.017*\"pool\" + 0.017*\"sound\" + 0.017*\"enjoyed\" + 0.016*\"vega\" + 0.016*\"totally\" + 0.016*\"la\" + 0.016*\"list\" + 0.015*\"shopping\" + 0.014*\"absolutely\" + 0.014*\"loved\" + 0.013*\"site\" + 0.012*\"many\" + 0.012*\"casino\" + 0.012*\"especially\" + 0.012*\"time\"'),\n",
       " (8,\n",
       "  '0.029*\"must\" + 0.027*\"la\" + 0.027*\"nothing\" + 0.022*\"wow\" + 0.022*\"vega\" + 0.019*\"anything\" + 0.019*\"many\" + 0.018*\"drunk\" + 0.017*\"everything\" + 0.017*\"anyone\" + 0.017*\"experience\" + 0.016*\"never\" + 0.016*\"like\" + 0.015*\"something\" + 0.014*\"everyone\" + 0.014*\"character\" + 0.014*\"people\" + 0.013*\"though\" + 0.013*\"action\" + 0.012*\"light\"'),\n",
       " (9,\n",
       "  '0.033*\"york\" + 0.032*\"busy\" + 0.025*\"traffic\" + 0.020*\"activity\" + 0.019*\"night\" + 0.015*\"without\" + 0.015*\"life\" + 0.015*\"lit\" + 0.015*\"go\" + 0.014*\"beautiful\" + 0.014*\"venetian\" + 0.014*\"light\" + 0.013*\"must\" + 0.013*\"bellagio\" + 0.012*\"vega\" + 0.011*\"like\" + 0.011*\"see\" + 0.011*\"famous\" + 0.011*\"girl\" + 0.011*\"much\"')]"
      ]
     },
     "execution_count": 76,
     "metadata": {},
     "output_type": "execute_result"
    }
   ],
   "source": [
    "lda_model_tfidf.show_topics(num_topics=10, num_words=20)##可以发现tfidf去掉了很多general的词。"
   ]
  },
  {
   "cell_type": "markdown",
   "metadata": {},
   "source": [
    "## typical LDA model(bag of words)"
   ]
  },
  {
   "cell_type": "code",
   "execution_count": 63,
   "metadata": {},
   "outputs": [],
   "source": [
    "# Creating the object for LDA model using gensim library\n",
    "lda_model = gensim.models.LdaMulticore(doc_term_matrix, num_topics=5, id2word=dictionary, passes=2, workers=2)\n",
    "#这里workers是用几个cpu的意思，multicore就是多核运算意思"
   ]
  },
  {
   "cell_type": "code",
   "execution_count": 64,
   "metadata": {},
   "outputs": [
    {
     "name": "stdout",
     "output_type": "stream",
     "text": [
      "[(0, '0.046*\"vega\" + 0.024*\"casino\" + 0.023*\"la\" + 0.022*\"people\" + 0.018*\"hotel\" + 0.018*\"lot\" + 0.017*\"fun\" + 0.016*\"one\" + 0.016*\"place\" + 0.016*\"great\"'), (1, '0.036*\"people\" + 0.031*\"night\" + 0.029*\"see\" + 0.022*\"walk\" + 0.021*\"light\" + 0.020*\"walking\" + 0.018*\"get\" + 0.017*\"lot\" + 0.016*\"casino\" + 0.014*\"day\"'), (2, '0.034*\"vega\" + 0.024*\"hotel\" + 0.016*\"walking\" + 0.016*\"like\" + 0.014*\"place\" + 0.013*\"day\" + 0.013*\"la\" + 0.012*\"lot\" + 0.012*\"see\" + 0.012*\"one\"'), (3, '0.036*\"see\" + 0.025*\"place\" + 0.024*\"hotel\" + 0.022*\"walk\" + 0.019*\"time\" + 0.019*\"vega\" + 0.019*\"much\" + 0.016*\"casino\" + 0.013*\"show\" + 0.013*\"walking\"'), (4, '0.044*\"vega\" + 0.032*\"time\" + 0.030*\"people\" + 0.020*\"day\" + 0.018*\"hotel\" + 0.017*\"show\" + 0.015*\"la\" + 0.015*\"take\" + 0.014*\"like\" + 0.014*\"walking\"')]\n"
     ]
    }
   ],
   "source": [
    "print(lda_model.print_topics(num_topics=5, num_words=10))"
   ]
  },
  {
   "cell_type": "code",
   "execution_count": 65,
   "metadata": {},
   "outputs": [
    {
     "data": {
      "text/plain": [
       "[(0,\n",
       "  '0.046*\"vega\" + 0.024*\"casino\" + 0.023*\"la\" + 0.022*\"people\" + 0.018*\"hotel\" + 0.018*\"lot\" + 0.017*\"fun\" + 0.016*\"one\" + 0.016*\"place\" + 0.016*\"great\"'),\n",
       " (1,\n",
       "  '0.036*\"people\" + 0.031*\"night\" + 0.029*\"see\" + 0.022*\"walk\" + 0.021*\"light\" + 0.020*\"walking\" + 0.018*\"get\" + 0.017*\"lot\" + 0.016*\"casino\" + 0.014*\"day\"'),\n",
       " (2,\n",
       "  '0.034*\"vega\" + 0.024*\"hotel\" + 0.016*\"walking\" + 0.016*\"like\" + 0.014*\"place\" + 0.013*\"day\" + 0.013*\"la\" + 0.012*\"lot\" + 0.012*\"see\" + 0.012*\"one\"'),\n",
       " (3,\n",
       "  '0.036*\"see\" + 0.025*\"place\" + 0.024*\"hotel\" + 0.022*\"walk\" + 0.019*\"time\" + 0.019*\"vega\" + 0.019*\"much\" + 0.016*\"casino\" + 0.013*\"show\" + 0.013*\"walking\"'),\n",
       " (4,\n",
       "  '0.044*\"vega\" + 0.032*\"time\" + 0.030*\"people\" + 0.020*\"day\" + 0.018*\"hotel\" + 0.017*\"show\" + 0.015*\"la\" + 0.015*\"take\" + 0.014*\"like\" + 0.014*\"walking\"')]"
      ]
     },
     "execution_count": 65,
     "metadata": {},
     "output_type": "execute_result"
    }
   ],
   "source": [
    "lda_model.show_topics(num_topics=5, num_words=10)"
   ]
  },
  {
   "cell_type": "code",
   "execution_count": null,
   "metadata": {},
   "outputs": [],
   "source": []
  },
  {
   "cell_type": "markdown",
   "metadata": {},
   "source": [
    "## pyLDAvis  \n",
    "dictionary/lda/doc_term_matrix可以先保存,然后load的"
   ]
  },
  {
   "cell_type": "code",
   "execution_count": 66,
   "metadata": {},
   "outputs": [
    {
     "data": {
      "text/plain": [
       "\"\\ndictionary = gensim.corpora.Dictionary.load('dictionary.gensim')\\ndoc_term_matrix = pickle.load(open('corpus.pkl', 'rb'))\\nlda = gensim.models.ldamodel.LdaModel.load('model5.gensim')\\n\""
      ]
     },
     "execution_count": 66,
     "metadata": {},
     "output_type": "execute_result"
    }
   ],
   "source": [
    "\"\"\"\n",
    "dictionary = gensim.corpora.Dictionary.load('dictionary.gensim')\n",
    "doc_term_matrix = pickle.load(open('corpus.pkl', 'rb'))\n",
    "lda = gensim.models.ldamodel.LdaModel.load('model5.gensim')\n",
    "\"\"\""
   ]
  },
  {
   "cell_type": "code",
   "execution_count": 77,
   "metadata": {},
   "outputs": [
    {
     "data": {
      "text/html": [
       "\n",
       "<link rel=\"stylesheet\" type=\"text/css\" href=\"https://cdn.rawgit.com/bmabey/pyLDAvis/files/ldavis.v1.0.0.css\">\n",
       "\n",
       "\n",
       "<div id=\"ldavis_el1383622668584744969157073070\"></div>\n",
       "<script type=\"text/javascript\">\n",
       "\n",
       "var ldavis_el1383622668584744969157073070_data = {\"mdsDat\": {\"Freq\": [2.4723594188690186, 5.714779853820801, 64.93855285644531, 4.802631378173828, 10.744881629943848, 2.648930549621582, 0.697917103767395, 2.9929559230804443, 2.886688232421875, 2.1003029346466064], \"cluster\": [1, 1, 1, 1, 1, 1, 1, 1, 1, 1], \"topics\": [1, 2, 3, 4, 5, 6, 7, 8, 9, 10], \"x\": [0.14225338285890599, -0.08171516711454582, 0.011830862790198802, 0.027152880216395767, 0.012987263787709879, -0.026221418524207295, 0.0646909648120217, -0.11545033026591744, -0.06777261587609981, 0.03224417731553783], \"y\": [-0.0010206295514930592, 0.08066885792948643, -0.009865333859969549, 0.12194636164991719, 0.045176763023898364, -0.065031766480246, -0.06137253299361977, -0.07228437870121292, 0.018917726436773256, -0.05713506745353386]}, \"tinfo\": {\"Category\": [\"Default\", \"Default\", \"Default\", \"Default\", \"Default\", \"Default\", \"Default\", \"Default\", \"Default\", \"Default\", \"Default\", \"Default\", \"Default\", \"Default\", \"Default\", \"Default\", \"Default\", \"Default\", \"Default\", \"Default\", \"Default\", \"Default\", \"Default\", \"Default\", \"Default\", \"Default\", \"Default\", \"Default\", \"Default\", \"Default\", \"Topic1\", \"Topic1\", \"Topic1\", \"Topic1\", \"Topic1\", \"Topic1\", \"Topic1\", \"Topic1\", \"Topic1\", \"Topic1\", \"Topic1\", \"Topic1\", \"Topic1\", \"Topic1\", \"Topic1\", \"Topic1\", \"Topic1\", \"Topic1\", \"Topic1\", \"Topic1\", \"Topic1\", \"Topic1\", \"Topic1\", \"Topic1\", \"Topic1\", \"Topic1\", \"Topic1\", \"Topic1\", \"Topic1\", \"Topic1\", \"Topic1\", \"Topic1\", \"Topic1\", \"Topic1\", \"Topic1\", \"Topic1\", \"Topic1\", \"Topic1\", \"Topic1\", \"Topic1\", \"Topic1\", \"Topic2\", \"Topic2\", \"Topic2\", \"Topic2\", \"Topic2\", \"Topic2\", \"Topic2\", \"Topic2\", \"Topic2\", \"Topic2\", \"Topic2\", \"Topic2\", \"Topic2\", \"Topic2\", \"Topic2\", \"Topic2\", \"Topic2\", \"Topic2\", \"Topic2\", \"Topic2\", \"Topic2\", \"Topic2\", \"Topic2\", \"Topic2\", \"Topic2\", \"Topic2\", \"Topic2\", \"Topic2\", \"Topic2\", \"Topic2\", \"Topic2\", \"Topic2\", \"Topic2\", \"Topic2\", \"Topic2\", \"Topic2\", \"Topic2\", \"Topic2\", \"Topic2\", \"Topic2\", \"Topic2\", \"Topic2\", \"Topic2\", \"Topic2\", \"Topic2\", \"Topic2\", \"Topic2\", \"Topic3\", \"Topic3\", \"Topic3\", \"Topic3\", \"Topic3\", \"Topic3\", \"Topic3\", \"Topic3\", \"Topic3\", \"Topic3\", \"Topic3\", \"Topic3\", \"Topic3\", \"Topic3\", \"Topic3\", \"Topic3\", \"Topic3\", \"Topic3\", \"Topic3\", \"Topic3\", \"Topic3\", \"Topic3\", \"Topic3\", \"Topic3\", \"Topic3\", \"Topic3\", \"Topic3\", \"Topic3\", \"Topic3\", \"Topic3\", \"Topic3\", \"Topic3\", \"Topic3\", \"Topic3\", \"Topic3\", \"Topic3\", \"Topic3\", \"Topic3\", \"Topic3\", \"Topic3\", \"Topic3\", \"Topic3\", \"Topic3\", \"Topic3\", \"Topic3\", \"Topic3\", \"Topic3\", \"Topic3\", \"Topic3\", \"Topic3\", \"Topic3\", \"Topic3\", \"Topic3\", \"Topic3\", \"Topic3\", \"Topic3\", \"Topic3\", \"Topic3\", \"Topic3\", \"Topic3\", \"Topic3\", \"Topic3\", \"Topic3\", \"Topic3\", \"Topic3\", \"Topic3\", \"Topic3\", \"Topic3\", \"Topic3\", \"Topic3\", \"Topic3\", \"Topic3\", \"Topic3\", \"Topic3\", \"Topic4\", \"Topic4\", \"Topic4\", \"Topic4\", \"Topic4\", \"Topic4\", \"Topic4\", \"Topic4\", \"Topic4\", \"Topic4\", \"Topic4\", \"Topic4\", \"Topic4\", \"Topic4\", \"Topic4\", \"Topic4\", \"Topic4\", \"Topic4\", \"Topic4\", \"Topic4\", \"Topic4\", \"Topic4\", \"Topic4\", \"Topic4\", \"Topic4\", \"Topic4\", \"Topic4\", \"Topic4\", \"Topic4\", \"Topic4\", \"Topic4\", \"Topic4\", \"Topic4\", \"Topic4\", \"Topic4\", \"Topic4\", \"Topic4\", \"Topic4\", \"Topic4\", \"Topic4\", \"Topic4\", \"Topic4\", \"Topic4\", \"Topic4\", \"Topic5\", \"Topic5\", \"Topic5\", \"Topic5\", \"Topic5\", \"Topic5\", \"Topic5\", \"Topic5\", \"Topic5\", \"Topic5\", \"Topic5\", \"Topic5\", \"Topic5\", \"Topic5\", \"Topic5\", \"Topic5\", \"Topic5\", \"Topic5\", \"Topic5\", \"Topic5\", \"Topic5\", \"Topic5\", \"Topic5\", \"Topic5\", \"Topic5\", \"Topic5\", \"Topic5\", \"Topic5\", \"Topic5\", \"Topic5\", \"Topic5\", \"Topic5\", \"Topic5\", \"Topic5\", \"Topic5\", \"Topic5\", \"Topic5\", \"Topic5\", \"Topic5\", \"Topic5\", \"Topic5\", \"Topic5\", \"Topic5\", \"Topic5\", \"Topic5\", \"Topic5\", \"Topic5\", \"Topic5\", \"Topic5\", \"Topic6\", \"Topic6\", \"Topic6\", \"Topic6\", \"Topic6\", \"Topic6\", \"Topic6\", \"Topic6\", \"Topic6\", \"Topic6\", \"Topic6\", \"Topic6\", \"Topic6\", \"Topic6\", \"Topic6\", \"Topic6\", \"Topic6\", \"Topic6\", \"Topic6\", \"Topic6\", \"Topic6\", \"Topic6\", \"Topic6\", \"Topic6\", \"Topic6\", \"Topic6\", \"Topic6\", \"Topic6\", \"Topic6\", \"Topic6\", \"Topic6\", \"Topic6\", \"Topic6\", \"Topic6\", \"Topic6\", \"Topic6\", \"Topic6\", \"Topic6\", \"Topic6\", \"Topic6\", \"Topic6\", \"Topic6\", \"Topic6\", \"Topic6\", \"Topic6\", \"Topic7\", \"Topic7\", \"Topic7\", \"Topic7\", \"Topic7\", \"Topic7\", \"Topic7\", \"Topic7\", \"Topic7\", \"Topic7\", \"Topic7\", \"Topic7\", \"Topic7\", \"Topic7\", \"Topic7\", \"Topic7\", \"Topic7\", \"Topic7\", \"Topic7\", \"Topic7\", \"Topic7\", \"Topic7\", \"Topic7\", \"Topic7\", \"Topic7\", \"Topic7\", \"Topic7\", \"Topic7\", \"Topic7\", \"Topic7\", \"Topic7\", \"Topic7\", \"Topic7\", \"Topic7\", \"Topic7\", \"Topic7\", \"Topic7\", \"Topic8\", \"Topic8\", \"Topic8\", \"Topic8\", \"Topic8\", \"Topic8\", \"Topic8\", \"Topic8\", \"Topic8\", \"Topic8\", \"Topic8\", \"Topic8\", \"Topic8\", \"Topic8\", \"Topic8\", \"Topic8\", \"Topic8\", \"Topic8\", \"Topic8\", \"Topic8\", \"Topic8\", \"Topic8\", \"Topic8\", \"Topic8\", \"Topic8\", \"Topic8\", \"Topic8\", \"Topic8\", \"Topic8\", \"Topic8\", \"Topic8\", \"Topic8\", \"Topic8\", \"Topic8\", \"Topic8\", \"Topic8\", \"Topic8\", \"Topic8\", \"Topic8\", \"Topic8\", \"Topic8\", \"Topic8\", \"Topic9\", \"Topic9\", \"Topic9\", \"Topic9\", \"Topic9\", \"Topic9\", \"Topic9\", \"Topic9\", \"Topic9\", \"Topic9\", \"Topic9\", \"Topic9\", \"Topic9\", \"Topic9\", \"Topic9\", \"Topic9\", \"Topic9\", \"Topic9\", \"Topic9\", \"Topic9\", \"Topic9\", \"Topic9\", \"Topic9\", \"Topic9\", \"Topic9\", \"Topic9\", \"Topic9\", \"Topic9\", \"Topic9\", \"Topic9\", \"Topic9\", \"Topic9\", \"Topic9\", \"Topic9\", \"Topic9\", \"Topic9\", \"Topic9\", \"Topic9\", \"Topic9\", \"Topic9\", \"Topic9\", \"Topic9\", \"Topic9\", \"Topic9\", \"Topic10\", \"Topic10\", \"Topic10\", \"Topic10\", \"Topic10\", \"Topic10\", \"Topic10\", \"Topic10\", \"Topic10\", \"Topic10\", \"Topic10\", \"Topic10\", \"Topic10\", \"Topic10\", \"Topic10\", \"Topic10\", \"Topic10\", \"Topic10\", \"Topic10\", \"Topic10\", \"Topic10\", \"Topic10\", \"Topic10\", \"Topic10\", \"Topic10\", \"Topic10\", \"Topic10\", \"Topic10\", \"Topic10\", \"Topic10\", \"Topic10\", \"Topic10\", \"Topic10\", \"Topic10\", \"Topic10\", \"Topic10\", \"Topic10\", \"Topic10\", \"Topic10\", \"Topic10\", \"Topic10\", \"Topic10\"], \"Freq\": [78.0, 54.0, 202.0, 176.0, 153.0, 179.0, 72.0, 199.0, 94.0, 201.0, 181.0, 185.0, 43.0, 134.0, 175.0, 146.0, 165.0, 145.0, 152.0, 188.0, 102.0, 176.0, 71.0, 76.0, 144.0, 131.0, 105.0, 127.0, 160.0, 80.0, 10.582069396972656, 11.73356819152832, 10.092751502990723, 14.000290870666504, 8.026464462280273, 11.88681697845459, 12.452652931213379, 6.592646598815918, 9.605774879455566, 6.035867214202881, 6.333580017089844, 5.003871917724609, 3.9937047958374023, 4.912266731262207, 6.651958465576172, 9.19311809539795, 6.631331920623779, 3.2728116512298584, 6.707789421081543, 4.194018363952637, 8.23098087310791, 3.9407191276550293, 2.4145870208740234, 2.7945499420166016, 4.100985050201416, 8.742344856262207, 2.4728658199310303, 4.418163776397705, 5.650101661682129, 1.9174668788909912, 3.3774709701538086, 5.697075366973877, 4.736584663391113, 5.991448402404785, 5.537062168121338, 7.448972702026367, 7.193721771240234, 6.1300435066223145, 6.105480194091797, 5.533374786376953, 5.066629409790039, 15.365400314331055, 15.331010818481445, 15.147305488586426, 12.084632873535156, 18.403459548950195, 32.18111038208008, 9.914587020874023, 10.60385513305664, 7.326803684234619, 21.672561645507812, 21.34767723083496, 32.9034538269043, 17.041973114013672, 8.953970909118652, 24.348339080810547, 8.100430488586426, 6.635716438293457, 16.69398307800293, 14.289100646972656, 4.591248512268066, 6.831173896789551, 21.03985595703125, 7.614839553833008, 16.74875831604004, 3.4977474212646484, 9.571922302246094, 3.6553115844726562, 7.449525833129883, 8.444448471069336, 5.491393566131592, 10.808283805847168, 22.022846221923828, 10.245091438293457, 14.850042343139648, 19.273731231689453, 13.867249488830566, 19.01758575439453, 13.5791654586792, 14.963157653808594, 19.011890411376953, 17.613487243652344, 17.42746925354004, 16.484966278076172, 14.908137321472168, 14.101373672485352, 12.043865203857422, 12.000185012817383, 43.00719451904297, 42.69506072998047, 41.27927017211914, 39.35674285888672, 36.242164611816406, 35.65806579589844, 36.20050048828125, 36.60566711425781, 32.74363327026367, 32.151126861572266, 84.4330062866211, 35.532535552978516, 30.34251594543457, 31.401607513427734, 29.262706756591797, 39.52017593383789, 37.93041229248047, 38.60934066772461, 28.746318817138672, 34.777130126953125, 60.881988525390625, 59.04579544067383, 34.06843948364258, 25.949520111083984, 27.653682708740234, 43.27338409423828, 44.44766616821289, 58.017147064208984, 23.65291976928711, 23.505788803100586, 34.02431869506836, 34.716773986816406, 69.8135757446289, 37.599979400634766, 76.26892852783203, 136.86151123046875, 119.94966888427734, 55.24333572387695, 57.394874572753906, 73.83726501464844, 50.590946197509766, 46.62087631225586, 86.41229248046875, 127.28892517089844, 81.25908660888672, 136.7236785888672, 129.9898223876953, 66.15613555908203, 74.28903198242188, 91.80238342285156, 57.189537048339844, 123.3227310180664, 62.45341491699219, 116.25308227539062, 71.33763885498047, 127.99415588378906, 103.56626892089844, 113.6731185913086, 90.8892593383789, 112.57186889648438, 81.45597839355469, 88.4759292602539, 116.99229431152344, 102.36048889160156, 93.33281707763672, 96.94805145263672, 110.93748474121094, 83.76470184326172, 98.9773941040039, 97.66839599609375, 83.6451416015625, 84.62574005126953, 80.06832885742188, 76.80191040039062, 16.851716995239258, 15.98824691772461, 13.307705879211426, 28.165306091308594, 18.02032470703125, 11.397720336914062, 19.88370704650879, 11.633880615234375, 9.207316398620605, 9.639986038208008, 12.861452102661133, 10.581277847290039, 4.823681831359863, 7.430222034454346, 8.467480659484863, 5.303930759429932, 9.0308198928833, 15.7164306640625, 3.844318151473999, 7.502832412719727, 8.984503746032715, 7.359280109405518, 3.434563398361206, 7.9156084060668945, 12.673315048217773, 29.560871124267578, 7.185832977294922, 4.617063522338867, 8.782426834106445, 6.912933349609375, 18.65892219543457, 16.308183670043945, 18.626373291015625, 18.06037712097168, 14.516840934753418, 10.273907661437988, 9.987374305725098, 13.163851737976074, 13.698613166809082, 10.777290344238281, 10.52759838104248, 11.714527130126953, 9.8989896774292, 10.347434043884277, 22.343687057495117, 27.889511108398438, 24.190711975097656, 32.261653900146484, 34.08820343017578, 17.63514518737793, 28.456167221069336, 19.87647819519043, 19.11726188659668, 16.581279754638672, 19.025758743286133, 12.439998626708984, 18.773479461669922, 14.517317771911621, 15.135188102722168, 9.787552833557129, 9.210830688476562, 15.89465045928955, 36.05715560913086, 14.938695907592773, 17.80915641784668, 6.73648738861084, 33.55646514892578, 11.72543716430664, 12.379151344299316, 26.232038497924805, 13.888605117797852, 20.24330711364746, 24.641311645507812, 9.432676315307617, 15.433053970336914, 20.493850708007812, 31.141332626342773, 39.1878662109375, 32.70536804199219, 32.78071594238281, 21.832210540771484, 19.760299682617188, 28.44053840637207, 27.43878746032715, 21.69096565246582, 26.24289894104004, 24.233694076538086, 22.835384368896484, 23.246492385864258, 22.745952606201172, 20.878210067749023, 19.638364791870117, 19.543455123901367, 10.094902992248535, 11.051218032836914, 6.086339950561523, 9.614030838012695, 6.393551826477051, 5.681511878967285, 12.632559776306152, 5.653741836547852, 6.013449192047119, 3.198651075363159, 8.994929313659668, 5.31788444519043, 8.106012344360352, 10.083725929260254, 7.025667190551758, 8.419717788696289, 3.6775310039520264, 3.8447985649108887, 5.240078926086426, 7.445833206176758, 3.900131940841675, 3.209721803665161, 8.61703109741211, 2.6659035682678223, 1.9470678567886353, 3.642620325088501, 9.678205490112305, 3.090688943862915, 2.517322301864624, 3.784266710281372, 6.178403377532959, 7.673587322235107, 4.757077217102051, 5.951507091522217, 9.900945663452148, 10.41027545928955, 9.644749641418457, 8.737639427185059, 7.5328850746154785, 5.236969470977783, 6.5868706703186035, 5.955602645874023, 6.25729513168335, 6.172003746032715, 5.6667351722717285, 4.680654048919678, 4.469762802124023, 8.404345512390137, 4.081844329833984, 6.120581150054932, 3.7837257385253906, 1.120776653289795, 2.270777463912964, 1.2639634609222412, 1.2776496410369873, 1.1073673963546753, 1.4051531553268433, 2.4452483654022217, 1.2042371034622192, 1.0234297513961792, 1.3803303241729736, 1.4537014961242676, 0.9707896113395691, 0.9636742472648621, 0.8624252676963806, 1.0599726438522339, 0.2517154812812805, 0.25182175636291504, 0.25173187255859375, 0.8550352454185486, 0.25172075629234314, 0.8426520228385925, 0.603753387928009, 0.2517171800136566, 0.2517165243625641, 0.8297581076622009, 0.8727156519889832, 0.8261959552764893, 0.7537665367126465, 0.6411716938018799, 0.7080346941947937, 0.6570907235145569, 15.862942695617676, 16.611282348632812, 13.824117660522461, 10.196063041687012, 12.397200584411621, 10.567513465881348, 9.994779586791992, 19.103878021240234, 7.100711822509766, 8.789372444152832, 7.956950664520264, 4.069451332092285, 10.440652847290039, 4.184974670410156, 10.535449028015137, 7.65325403213501, 4.800406455993652, 3.5123658180236816, 5.849850177764893, 8.492959022521973, 4.829203128814697, 5.57375431060791, 4.821836471557617, 9.558273315429688, 4.874800682067871, 2.8388469219207764, 3.3921406269073486, 2.8065412044525146, 5.582719326019287, 3.278986930847168, 5.496966361999512, 6.965548515319824, 4.6540446281433105, 5.579648494720459, 10.152543067932129, 10.207809448242188, 7.778450965881348, 6.721407890319824, 7.705541610717773, 6.301767349243164, 7.362612247467041, 6.486179828643799, 10.567017555236816, 13.586434364318848, 16.220163345336914, 10.862255096435547, 7.848489761352539, 11.794496536254883, 8.574422836303711, 5.03031587600708, 5.779389381408691, 17.884342193603516, 4.492580890655518, 7.856415748596191, 2.7722229957580566, 4.733118057250977, 3.7636330127716064, 5.938784122467041, 7.290615558624268, 6.8258514404296875, 4.718084335327148, 8.767219543457031, 16.324520111083984, 3.030674457550049, 9.871374130249023, 2.624694347381592, 3.8391237258911133, 2.0881423950195312, 10.571088790893555, 4.957788944244385, 5.4448652267456055, 2.300919771194458, 8.930302619934082, 11.246647834777832, 10.104387283325195, 13.447121620178223, 5.370316982269287, 9.494124412536621, 6.477906703948975, 7.407319068908691, 8.266291618347168, 7.167139053344727, 6.887235164642334, 6.083673477172852, 6.041586399078369, 5.475728511810303, 14.409805297851562, 8.682090759277344, 6.4621262550354, 11.066818237304688, 13.960539817810059, 4.701042652130127, 6.754380702972412, 4.562528133392334, 4.697320938110352, 6.16782808303833, 6.759941577911377, 2.767306089401245, 3.5126843452453613, 3.724407434463501, 6.757317543029785, 3.8515586853027344, 2.35276198387146, 2.4132440090179443, 2.6194229125976562, 1.8617470264434814, 6.298734664916992, 2.842524290084839, 4.12446928024292, 2.7343332767486572, 2.6086432933807373, 3.2072529792785645, 5.629659652709961, 5.837863445281982, 1.6486525535583496, 2.443357467651367, 4.533512592315674, 8.295096397399902, 5.974913120269775, 3.6453797817230225, 4.438026428222656, 4.92853307723999, 5.273437023162842, 4.665147304534912, 4.300171852111816, 4.927234649658203, 4.277463436126709, 3.9985105991363525], \"Term\": [\"shoe\", \"wear\", \"vega\", \"night\", \"la\", \"place\", \"sure\", \"people\", \"must\", \"see\", \"lot\", \"walk\", \"comfortable\", \"always\", \"casino\", \"light\", \"much\", \"fun\", \"like\", \"time\", \"love\", \"walking\", \"busy\", \"long\", \"many\", \"experience\", \"something\", \"street\", \"great\", \"bus\", \"costume\", \"eye\", \"dressed\", \"ride\", \"thought\", \"open\", \"picture\", \"cheaper\", \"buy\", \"deuce\", \"remember\", \"york\", \"half\", \"famous\", \"sell\", \"trying\", \"clean\", \"mind\", \"pas\", \"girl\", \"nice\", \"spent\", \"pool\", \"fremont\", \"check\", \"bus\", \"stuff\", \"pretty\", \"hot\", \"gambler\", \"prepared\", \"look\", \"think\", \"drink\", \"really\", \"lot\", \"walk\", \"night\", \"walking\", \"people\", \"see\", \"eating\", \"explore\", \"load\", \"option\", \"seeing\", \"love\", \"energy\", \"visiting\", \"wonderful\", \"watching\", \"new\", \"always\", \"recommend\", \"whole\", \"something\", \"staying\", \"change\", \"year\", \"definitely\", \"theme\", \"week\", \"different\", \"clean\", \"shopping\", \"costume\", \"enjoyed\", \"half\", \"last\", \"friendly\", \"variety\", \"full\", \"experience\", \"kid\", \"going\", \"fun\", \"every\", \"great\", \"restaurant\", \"thing\", \"people\", \"time\", \"see\", \"lot\", \"walking\", \"vega\", \"enjoy\", \"light\", \"stayed\", \"bridge\", \"getting\", \"miss\", \"anywhere\", \"parking\", \"give\", \"monorail\", \"downtown\", \"usually\", \"need\", \"ticket\", \"le\", \"cost\", \"expect\", \"cross\", \"longer\", \"plan\", \"meal\", \"stroll\", \"first\", \"mile\", \"try\", \"charge\", \"work\", \"taking\", \"big\", \"view\", \"fee\", \"stratosphere\", \"price\", \"matter\", \"even\", \"next\", \"end\", \"get\", \"one\", \"crowded\", \"went\", \"trip\", \"little\", \"seen\", \"way\", \"day\", \"would\", \"hotel\", \"time\", \"back\", \"also\", \"thing\", \"side\", \"walk\", \"shoe\", \"casino\", \"make\", \"vega\", \"like\", \"walking\", \"take\", \"night\", \"everything\", \"street\", \"see\", \"much\", \"many\", \"la\", \"people\", \"around\", \"place\", \"lot\", \"show\", \"great\", \"light\", \"always\", \"stuff\", \"photo\", \"girl\", \"interesting\", \"awesome\", \"sort\", \"eat\", \"card\", \"looking\", \"right\", \"crazy\", \"know\", \"play\", \"live\", \"child\", \"friend\", \"club\", \"watch\", \"half\", \"fantastic\", \"gamble\", \"drunk\", \"pool\", \"music\", \"plenty\", \"place\", \"unique\", \"favorite\", \"kid\", \"family\", \"fun\", \"around\", \"lot\", \"people\", \"great\", \"watching\", \"beautiful\", \"much\", \"see\", \"amazing\", \"good\", \"walking\", \"never\", \"show\", \"display\", \"palace\", \"performer\", \"enough\", \"music\", \"gambler\", \"venetian\", \"walkway\", \"crossing\", \"couple\", \"clean\", \"famous\", \"mirage\", \"ride\", \"eiffel\", \"real\", \"play\", \"volcano\", \"fountain\", \"caesar\", \"course\", \"cheaper\", \"bellagio\", \"plus\", \"explore\", \"everywhere\", \"tower\", \"etc\", \"plenty\", \"wonderful\", \"party\", \"entertainment\", \"restaurant\", \"show\", \"shop\", \"lot\", \"sight\", \"watch\", \"hotel\", \"walk\", \"enjoy\", \"see\", \"casino\", \"great\", \"people\", \"walking\", \"place\", \"light\", \"like\", \"architecture\", \"exciting\", \"theme\", \"morning\", \"entire\", \"neon\", \"life\", \"early\", \"lit\", \"real\", \"full\", \"tourist\", \"entertainment\", \"worth\", \"least\", \"attraction\", \"activity\", \"use\", \"heat\", \"busy\", \"homeless\", \"favorite\", \"sight\", \"middle\", \"center\", \"visiting\", \"amazing\", \"may\", \"main\", \"start\", \"walked\", \"every\", \"seeing\", \"city\", \"light\", \"night\", \"casino\", \"much\", \"walk\", \"long\", \"fun\", \"street\", \"people\", \"see\", \"visit\", \"half\", \"couple\", \"wear\", \"comfortable\", \"shoe\", \"sure\", \"gambler\", \"old\", \"wonderful\", \"early\", \"middle\", \"foot\", \"long\", \"room\", \"young\", \"find\", \"say\", \"party\", \"road\", \"nothing\", \"stay\", \"totally\", \"costume\", \"cheaper\", \"kid\", \"thought\", \"world\", \"inside\", \"pool\", \"list\", \"hot\", \"enjoy\", \"fun\", \"experience\", \"street\", \"lot\", \"walking\", \"hollywood\", \"planet\", \"large\", \"totally\", \"center\", \"pool\", \"list\", \"atmosphere\", \"mind\", \"absolutely\", \"site\", \"thought\", \"enjoyed\", \"play\", \"sound\", \"especially\", \"week\", \"amount\", \"bright\", \"loved\", \"various\", \"friendly\", \"used\", \"shopping\", \"inside\", \"mgm\", \"made\", \"wonderful\", \"seeing\", \"check\", \"crowd\", \"come\", \"store\", \"safe\", \"la\", \"vega\", \"many\", \"love\", \"casino\", \"really\", \"time\", \"great\", \"anyone\", \"wow\", \"nothing\", \"drunk\", \"action\", \"anything\", \"character\", \"real\", \"wonderful\", \"must\", \"forget\", \"though\", \"totally\", \"choice\", \"stuff\", \"else\", \"find\", \"cool\", \"adult\", \"everyone\", \"la\", \"couple\", \"never\", \"wanted\", \"exciting\", \"theme\", \"everything\", \"quite\", \"world\", \"short\", \"something\", \"many\", \"experience\", \"vega\", \"say\", \"like\", \"watching\", \"light\", \"people\", \"place\", \"see\", \"show\", \"walk\", \"night\", \"york\", \"activity\", \"go\", \"traffic\", \"busy\", \"famous\", \"lit\", \"said\", \"girl\", \"venetian\", \"without\", \"list\", \"wynn\", \"small\", \"life\", \"town\", \"amount\", \"photo\", \"wait\", \"service\", \"beautiful\", \"mirage\", \"evening\", \"tourist\", \"ever\", \"pretty\", \"bellagio\", \"must\", \"couple\", \"especially\", \"new\", \"night\", \"light\", \"bar\", \"visit\", \"like\", \"vega\", \"much\", \"experience\", \"see\", \"time\", \"hotel\"], \"Total\": [78.0, 54.0, 202.0, 176.0, 153.0, 179.0, 72.0, 199.0, 94.0, 201.0, 181.0, 185.0, 43.0, 134.0, 175.0, 146.0, 165.0, 145.0, 152.0, 188.0, 102.0, 176.0, 71.0, 76.0, 144.0, 131.0, 105.0, 127.0, 160.0, 80.0, 17.837574005126953, 20.965742111206055, 20.180482864379883, 31.511363983154297, 18.2945613861084, 27.983163833618164, 31.005859375, 17.888835906982422, 30.984745025634766, 19.999431610107422, 25.1981258392334, 22.611129760742188, 19.2807674407959, 24.761934280395508, 33.92242431640625, 49.38249588012695, 37.796993255615234, 19.494237899780273, 41.20787048339844, 25.980478286743164, 62.05474853515625, 31.002351760864258, 19.195070266723633, 23.51392364501953, 34.540733337402344, 80.89142608642578, 25.804351806640625, 51.101348876953125, 68.68802642822266, 23.41256332397461, 42.097293853759766, 83.76667785644531, 66.04264068603516, 102.54019165039062, 95.88607788085938, 181.60348510742188, 185.74424743652344, 176.42259216308594, 176.26568603515625, 199.3645782470703, 201.1140899658203, 26.714540481567383, 34.45353317260742, 35.957279205322266, 34.72120666503906, 58.0738525390625, 102.37191009521484, 32.11560821533203, 39.154823303222656, 28.502710342407227, 87.04815673828125, 85.89111328125, 134.1981201171875, 71.53157043457031, 38.25145721435547, 105.6167984008789, 36.89763259887695, 30.32779312133789, 77.35527801513672, 67.32476806640625, 22.043277740478516, 33.02043151855469, 104.23814392089844, 37.796993255615234, 84.60301208496094, 17.837574005126953, 48.84953308105469, 19.2807674407959, 40.357940673828125, 45.80143737792969, 30.812232971191406, 61.94417953491211, 131.73089599609375, 62.026790618896484, 100.60831451416016, 145.90447998046875, 94.83812713623047, 160.39630126953125, 102.13665008544922, 127.04252624511719, 199.3645782470703, 188.50070190429688, 201.1140899658203, 181.60348510742188, 176.26568603515625, 202.03758239746094, 101.62635040283203, 146.3080596923828, 46.28657913208008, 45.951847076416016, 44.45481872558594, 42.528499603271484, 39.41389083862305, 38.82533645629883, 39.435306549072266, 39.97250747680664, 35.91756057739258, 35.3214111328125, 92.95357513427734, 39.180870056152344, 33.62882614135742, 34.80800247192383, 32.4403076171875, 43.855499267578125, 42.093170166015625, 42.90833282470703, 31.986160278320312, 38.762386322021484, 68.09053802490234, 66.13469696044922, 38.1936149597168, 29.116851806640625, 31.03420066833496, 48.86903762817383, 50.304779052734375, 65.75012969970703, 26.8231143951416, 26.673303604125977, 38.60969924926758, 39.429866790771484, 80.73838806152344, 42.78065490722656, 88.77909851074219, 164.0048828125, 144.452880859375, 64.69554901123047, 67.57910919189453, 89.3740463256836, 59.07758712768555, 54.058128356933594, 110.0232925415039, 173.6136932373047, 103.30584716796875, 198.6680908203125, 188.50070190429688, 83.00758361816406, 96.19021606445312, 127.04252624511719, 69.97386169433594, 185.74424743652344, 78.78125762939453, 175.85650634765625, 93.46090698242188, 202.03758239746094, 152.95333862304688, 176.26568603515625, 131.36599731445312, 176.42259216308594, 113.28992462158203, 127.82457733154297, 201.1140899658203, 165.62057495117188, 144.2596435546875, 153.2740478515625, 199.3645782470703, 126.65939331054688, 179.5111846923828, 181.60348510742188, 152.9034423828125, 160.39630126953125, 146.3080596923828, 134.1981201171875, 25.804351806640625, 26.760812759399414, 25.980478286743164, 70.8624267578125, 46.96543884277344, 30.595300674438477, 62.053428649902344, 41.673274993896484, 34.31344223022461, 36.419254302978516, 49.425498962402344, 44.81480407714844, 20.77779197692871, 34.29949951171875, 39.6796875, 24.888896942138672, 42.579345703125, 76.2850570678711, 19.2807674407959, 38.39558029174805, 48.56731414794922, 39.891990661621094, 19.195070266723633, 44.90705108642578, 73.46759796142578, 179.5111846923828, 43.98019027709961, 32.24323272705078, 62.026790618896484, 48.937286376953125, 145.90447998046875, 126.65939331054688, 181.60348510742188, 199.3645782470703, 160.39630126953125, 87.04815673828125, 84.24830627441406, 165.62057495117188, 201.1140899658203, 106.92890930175781, 110.09811401367188, 176.26568603515625, 98.7768325805664, 152.9034423828125, 25.629528045654297, 32.49958038330078, 29.98432159423828, 40.9589729309082, 44.90705108642578, 23.41256332397461, 38.62492370605469, 27.745746612548828, 32.82306671142578, 28.61605453491211, 37.796993255615234, 24.761934280395508, 39.366275787353516, 31.511363983154297, 32.88445281982422, 21.93272590637207, 20.77779197692871, 35.92098617553711, 82.26840209960938, 34.58396911621094, 43.051815032958984, 17.888835906982422, 89.7415542602539, 32.22988510131836, 34.45353317260742, 73.02799224853516, 38.91507339477539, 57.20861053466797, 73.46759796142578, 28.502710342407227, 46.652076721191406, 63.69340515136719, 102.13665008544922, 152.9034423828125, 122.96470642089844, 181.60348510742188, 89.49629974365234, 76.2850570678711, 198.6680908203125, 185.74424743652344, 101.62635040283203, 201.1140899658203, 175.85650634765625, 160.39630126953125, 199.3645782470703, 176.26568603515625, 179.5111846923828, 146.3080596923828, 152.95333862304688, 27.92619514465332, 39.50849914550781, 22.043277740478516, 37.156883239746094, 30.191946029663086, 27.651931762695312, 61.5556640625, 30.797271728515625, 36.444828033447266, 21.93272590637207, 61.94417953491211, 39.17366409301758, 63.69340515136719, 82.46529388427734, 57.96896743774414, 69.97660827636719, 31.97123908996582, 34.479759216308594, 47.81944274902344, 71.90147399902344, 38.84113311767578, 32.24323272705078, 89.49629974365234, 28.361289978027344, 20.792724609375, 39.154823303222656, 106.92890930175781, 34.356910705566406, 28.67450714111328, 43.63803482055664, 73.0331039428711, 94.83812713623047, 58.0738525390625, 76.87195587158203, 146.3080596923828, 176.42259216308594, 175.85650634765625, 165.62057495117188, 185.74424743652344, 76.17931365966797, 145.90447998046875, 127.82457733154297, 199.3645782470703, 201.1140899658203, 117.3463363647461, 19.2807674407959, 28.61605453491211, 54.313594818115234, 43.94779586791992, 78.78125762939453, 72.43132019042969, 23.41256332397461, 48.93193054199219, 28.502710342407227, 30.797271728515625, 28.361289978027344, 42.27552032470703, 76.17931365966797, 41.40083312988281, 35.73698806762695, 58.073280334472656, 63.49017333984375, 46.652076721191406, 47.76377868652344, 50.49105453491211, 69.27508544921875, 16.837221145629883, 17.837574005126953, 17.888835906982422, 62.026790618896484, 18.2945613861084, 62.25956726074219, 45.0882682800293, 19.195070266723633, 19.281173706054688, 68.68802642822266, 101.62635040283203, 145.90447998046875, 131.73089599609375, 127.82457733154297, 181.60348510742188, 176.26568603515625, 20.196142196655273, 21.41402244567871, 22.809350967407227, 16.837221145629883, 20.792724609375, 19.195070266723633, 19.281173706054688, 40.33426284790039, 19.494237899780273, 31.84592628479004, 31.129880905151367, 18.2945613861084, 48.84953308105469, 20.77779197692871, 52.539703369140625, 43.284934997558594, 33.02043151855469, 24.41404151916504, 41.77881622314453, 61.55527114868164, 39.027610778808594, 45.80143737792969, 40.30320739746094, 84.60301208496094, 45.0882682800293, 26.770654678344727, 32.709964752197266, 28.502710342407227, 58.0738525390625, 34.540733337402344, 59.412498474121094, 79.49312591552734, 50.33554458618164, 65.30237579345703, 153.2740478515625, 202.03758239746094, 144.2596435546875, 102.37191009521484, 175.85650634765625, 95.88607788085938, 188.50070190429688, 160.39630126953125, 20.803386688232422, 36.819610595703125, 50.49105453491211, 39.891990661621094, 31.273183822631836, 47.59067153930664, 36.386051177978516, 21.93272590637207, 28.502710342407227, 94.87286376953125, 23.97467803955078, 43.38677978515625, 16.837221145629883, 29.679119110107422, 25.804351806640625, 45.32106018066406, 58.073280334472656, 56.60307693481445, 41.428096771240234, 82.0372314453125, 153.2740478515625, 28.61605453491211, 98.7768325805664, 26.870479583740234, 39.50849914550781, 22.043277740478516, 113.28992462158203, 53.17428970336914, 62.25956726074219, 27.009374618530273, 105.6167984008789, 144.2596435546875, 131.73089599609375, 202.03758239746094, 63.49017333984375, 152.95333862304688, 87.04815673828125, 146.3080596923828, 199.3645782470703, 179.5111846923828, 201.1140899658203, 152.9034423828125, 185.74424743652344, 176.42259216308594, 22.611129760742188, 31.97123908996582, 29.206174850463867, 51.40802001953125, 71.90147399902344, 24.761934280395508, 36.444828033447266, 24.852161407470703, 25.980478286743164, 38.62492370605469, 43.55009460449219, 19.281173706054688, 26.982969284057617, 29.18268394470215, 61.5556640625, 38.01469039916992, 24.41404151916504, 26.760812759399414, 30.40688705444336, 22.879255294799805, 84.24830627441406, 39.366275787353516, 57.886112213134766, 39.17366409301758, 41.116188049316406, 51.101348876953125, 89.7415542602539, 94.87286376953125, 28.61605453491211, 43.284934997558594, 85.89111328125, 176.42259216308594, 146.3080596923828, 68.80402374267578, 117.3463363647461, 152.95333862304688, 202.03758239746094, 165.62057495117188, 131.73089599609375, 201.1140899658203, 188.50070190429688, 198.6680908203125], \"loglift\": [30.0, 29.0, 28.0, 27.0, 26.0, 25.0, 24.0, 23.0, 22.0, 21.0, 20.0, 19.0, 18.0, 17.0, 16.0, 15.0, 14.0, 13.0, 12.0, 11.0, 10.0, 9.0, 8.0, 7.0, 6.0, 5.0, 4.0, 3.0, 2.0, 1.0, 3.1779000759124756, 3.1196000576019287, 3.0071001052856445, 2.888700008392334, 2.8761000633239746, 2.8438000679016113, 2.7878000736236572, 2.7018001079559326, 2.528899908065796, 2.502000093460083, 2.3190999031066895, 2.191800117492676, 2.1256000995635986, 2.08240008354187, 2.0708000659942627, 2.018899917602539, 1.9595999717712402, 1.9155000448226929, 1.884600043296814, 1.8762999773025513, 1.679900050163269, 1.6373000144958496, 1.6268999576568604, 1.570099949836731, 1.569100022315979, 1.475100040435791, 1.3547999858856201, 1.2518999576568604, 1.2021000385284424, 1.197700023651123, 1.1770999431610107, 1.0118999481201172, 1.065000057220459, 0.8600999712944031, 0.8482999801635742, 0.5062000155448914, 0.4487999975681305, 0.3402999937534332, 0.33719998598098755, 0.11569999903440475, 0.018799999728798866, 2.309000015258789, 2.0524001121520996, 1.9975999593734741, 1.8066999912261963, 1.7129000425338745, 1.7049000263214111, 1.6868000030517578, 1.555799961090088, 1.5037000179290771, 1.4716999530792236, 1.4700000286102295, 1.4564000368118286, 1.4277000427246094, 1.409999966621399, 1.3947999477386475, 1.345900058746338, 1.3424999713897705, 1.3287999629974365, 1.3121000528335571, 1.2933000326156616, 1.2864999771118164, 1.2618999481201172, 1.2599999904632568, 1.2424999475479126, 1.2329000234603882, 1.232200026512146, 1.1992000341415405, 1.1725000143051147, 1.1713000535964966, 1.1374000310897827, 1.1161999702453613, 1.0734000205993652, 1.0613000392913818, 0.9488999843597412, 0.8378999829292297, 0.9394999742507935, 0.7297999858856201, 0.8442999720573425, 0.7232000231742859, 0.5120000243186951, 0.4916999936103821, 0.4162999987602234, 0.4627000093460083, 0.3919999897480011, 0.19990000128746033, 0.7293999791145325, 0.361299991607666, 0.3582000136375427, 0.3582000136375427, 0.35760000348091125, 0.35420000553131104, 0.34779998660087585, 0.3465999960899353, 0.34610000252723694, 0.34369999170303345, 0.3391999900341034, 0.3377000093460083, 0.33559998869895935, 0.33399999141693115, 0.328900009393692, 0.3287000060081482, 0.3285999894142151, 0.32760000228881836, 0.32760000228881836, 0.326200008392334, 0.3249000012874603, 0.323199987411499, 0.3197999894618988, 0.3183000087738037, 0.3174000084400177, 0.3165999948978424, 0.3163999915122986, 0.3100999891757965, 0.30790001153945923, 0.30660000443458557, 0.3059999942779541, 0.3052999973297119, 0.3052999973297119, 0.3043999969959259, 0.28630000352859497, 0.3025999963283539, 0.2797999978065491, 0.2508000135421753, 0.24580000340938568, 0.27379998564720154, 0.26840001344680786, 0.24079999327659607, 0.2766000032424927, 0.28369998931884766, 0.19020000100135803, 0.12139999866485596, 0.19169999659061432, 0.05810000002384186, 0.060100000351667404, 0.20479999482631683, 0.17339999973773956, 0.10679999738931656, 0.23000000417232513, 0.022199999541044235, 0.19949999451637268, 0.017799999564886093, 0.1615999937057495, -0.024700000882148743, 0.04179999977350235, -0.006899999920278788, 0.06340000033378601, -0.01759999990463257, 0.10180000215768814, 0.06379999965429306, -0.10999999940395355, -0.0494999997317791, -0.003700000001117587, -0.02630000002682209, -0.15440000593662262, 0.018200000748038292, -0.16359999775886536, -0.18850000202655792, -0.17149999737739563, -0.2076999992132187, -0.17110000550746918, -0.12639999389648438, 2.6098999977111816, 2.520900011062622, 2.367000102996826, 2.1133999824523926, 2.0780999660491943, 2.0485999584198, 1.8978999853134155, 1.76010000705719, 1.7204999923706055, 1.7067999839782715, 1.6898000240325928, 1.5925999879837036, 1.575700044631958, 1.5063999891281128, 1.4914000034332275, 1.4900000095367432, 1.4852999448776245, 1.4562000036239624, 1.4234999418258667, 1.4033000469207764, 1.3486000299453735, 1.3458000421524048, 1.3151999711990356, 1.3001999855041504, 1.2786999940872192, 1.232200026512146, 1.2244000434875488, 1.0924999713897705, 1.0812000036239624, 1.0788999795913696, 0.9793999791145325, 0.9861999750137329, 0.7588000297546387, 0.6345999836921692, 0.6337000131607056, 0.8992000222206116, 0.9035999774932861, 0.5037999749183655, 0.34940001368522644, 0.7412999868392944, 0.6886000037193298, 0.3248000144958496, 0.7355999946594238, 0.34290000796318054, 2.0934998989105225, 2.0778000354766846, 2.0160000324249268, 1.9919999837875366, 1.9551000595092773, 1.9473999738693237, 1.9251999855041504, 1.8971999883651733, 1.6901999711990356, 1.684999942779541, 1.5442999601364136, 1.5424000024795532, 1.4903000593185425, 1.4557000398635864, 1.454800009727478, 1.4239000082015991, 1.417199969291687, 1.4154000282287598, 1.405900001525879, 1.3912999629974365, 1.3480000495910645, 1.25409996509552, 1.246999979019165, 1.219599962234497, 1.2071000337600708, 1.2069000005722046, 1.2003999948501587, 1.1919000148773193, 1.1382999420166016, 1.124899983406067, 1.124500036239624, 1.0967999696731567, 1.0429999828338623, 0.8693000078201294, 0.9064000248908997, 0.5188000202178955, 0.8198999762535095, 0.8798999786376953, 0.28690001368522644, 0.3183000087738037, 0.6862999796867371, 0.19429999589920044, 0.24879999458789825, 0.28139999508857727, 0.08179999887943268, 0.18310000002384186, 0.07919999957084656, 0.2224999964237213, 0.17319999635219574, 2.6135001182556152, 2.3570001125335693, 2.344099998474121, 2.279099941253662, 2.078700065612793, 2.0485000610351562, 2.0473999977111816, 1.9358999729156494, 1.829200029373169, 1.7058000564575195, 1.7014000415802002, 1.6340999603271484, 1.5694999694824219, 1.5296000242233276, 1.5206999778747559, 1.5133999586105347, 1.468400001525879, 1.437399983406067, 1.4198999404907227, 1.3633999824523926, 1.3324999809265137, 1.3238999843597412, 1.2905999422073364, 1.2664999961853027, 1.2626999616622925, 1.2561999559402466, 1.228700041770935, 1.222599983215332, 1.198199987411499, 1.1858999729156494, 1.1612000465393066, 1.1166000366210938, 1.1289000511169434, 1.0724999904632568, 0.9379000067710876, 0.8008999824523926, 0.7278000116348267, 0.6890000104904175, 0.42590001225471497, 0.9537000060081482, 0.5331000089645386, 0.5647000074386597, 0.1695999950170517, 0.14720000326633453, 0.6004999876022339, 3.5492000579833984, 3.1082000732421875, 3.09879994392395, 2.588399887084961, 2.4098000526428223, 2.0129001140594482, 1.9256000518798828, 1.8945000171661377, 1.8490999937057495, 1.7824000120162964, 1.7217999696731567, 1.5607999563217163, 1.5259000062942505, 1.42739999294281, 1.4118000268936157, 1.2253999710083008, 1.188099980354309, 1.0924999713897705, 1.0615999698638916, 0.8949999809265137, 0.7850000262260437, 0.7617999911308289, 0.7045000195503235, 0.7013000249862671, 0.6805999875068665, 0.6787999868392944, 0.6622999906539917, 0.6516000032424927, 0.6306999921798706, 0.6262000203132629, 0.5486000180244446, 0.20739999413490295, -0.20909999310970306, -0.19859999418258667, -0.3303000032901764, -0.5823000073432922, -0.6270999908447266, 3.267400026321411, 3.2548999786376953, 3.00819993019104, 3.0072999000549316, 2.99180006980896, 2.9119999408721924, 2.851799964904785, 2.7616000175476074, 2.499000072479248, 2.2214999198913574, 2.1447999477386475, 2.0058000087738037, 1.96589994430542, 1.906499981880188, 1.9020999670028687, 1.7762000560760498, 1.5805000066757202, 1.5700000524520874, 1.5428999662399292, 1.5282000303268433, 1.4192999601364136, 1.4026999473571777, 1.385599970817566, 1.3282999992370605, 1.2843999862670898, 1.2649999856948853, 1.2426999807357788, 1.1908999681472778, 1.1669000387191772, 1.1542999744415283, 1.128600001335144, 1.0742000341415405, 1.1279000043869019, 1.0490000247955322, 0.7943999767303467, 0.5235999822616577, 0.588699996471405, 0.7856000065803528, 0.38119998574256897, 0.7865999937057495, 0.2662000060081482, 0.30090001225471497, 2.8677000999450684, 2.548099994659424, 2.4094998836517334, 2.2441999912261963, 2.162600040435791, 2.150099992752075, 2.0996999740600586, 2.0725998878479004, 1.9493999481201172, 1.8763999938964844, 1.8704999685287476, 1.8361999988555908, 1.7410999536514282, 1.7092000246047974, 1.6198999881744385, 1.5127999782562256, 1.4699000120162964, 1.4297000169754028, 1.372499942779541, 1.308899998664856, 1.3055000305175781, 1.2999000549316406, 1.2417999505996704, 1.218999981880188, 1.2137999534606934, 1.1883000135421753, 1.173200011253357, 1.1723999977111816, 1.1083999872207642, 1.082200050354004, 1.0746999979019165, 0.9934999942779541, 0.9772999882698059, 0.8353999853134155, 1.0750999450683594, 0.7656000256538391, 0.9470000267028809, 0.5618000030517578, 0.3621000051498413, 0.32429999113082886, 0.17090000212192535, 0.32089999318122864, 0.11940000206232071, 0.07249999791383743, 3.412600040435791, 2.559499979019165, 2.3547000885009766, 2.327199935913086, 2.2239999771118164, 2.2016000747680664, 2.177500009536743, 2.1679999828338623, 2.1526999473571777, 2.0285000801086426, 2.000200033187866, 1.9218000173568726, 1.8243000507354736, 1.8043999671936035, 1.6538000106811523, 1.5736000537872314, 1.5234999656677246, 1.4571000337600708, 1.4113999605178833, 1.3544000387191772, 1.269700050354004, 1.2348999977111816, 1.221500039100647, 1.2009999752044678, 1.1054999828338623, 1.0946999788284302, 1.0942000150680542, 1.0749000310897827, 1.0090999603271484, 0.9886999726295471, 0.921500027179718, 0.805899977684021, 0.664900004863739, 0.9253000020980835, 0.5881999731063843, 0.42800000309944153, 0.21729999780654907, 0.29350000619888306, 0.4410000145435333, 0.15399999916553497, 0.07729999721050262, -0.04259999841451645], \"logprob\": [30.0, 29.0, 28.0, 27.0, 26.0, 25.0, 24.0, 23.0, 22.0, 21.0, 20.0, 19.0, 18.0, 17.0, 16.0, 15.0, 14.0, 13.0, 12.0, 11.0, 10.0, 9.0, 8.0, 7.0, 6.0, 5.0, 4.0, 3.0, 2.0, 1.0, -3.8938000202178955, -3.7904999256134033, -3.941200017929077, -3.6138999462127686, -4.170199871063232, -3.777600049972534, -3.731100082397461, -4.367000102996826, -3.990600109100342, -4.4552998542785645, -4.407100200653076, -4.6427998542785645, -4.868299961090088, -4.661300182342529, -4.358099937438965, -4.0345001220703125, -4.361199855804443, -5.067299842834473, -4.349699974060059, -4.819300174713135, -4.145100116729736, -4.8815999031066895, -5.371500015258789, -5.225299835205078, -4.841800212860107, -4.084799766540527, -5.347599983215332, -4.767300128936768, -4.521299839019775, -5.6020002365112305, -5.035900115966797, -4.513000011444092, -4.697700023651123, -4.462699890136719, -4.541500091552734, -4.244900226593018, -4.279799938201904, -4.439799785614014, -4.44379997253418, -4.542200088500977, -4.630300045013428, -4.358799934387207, -4.361000061035156, -4.3730998039245605, -4.598899841308594, -4.178299903869629, -3.619499921798706, -4.796899795532227, -4.729700088500977, -5.099299907684326, -4.014800071716309, -4.029900074005127, -3.5973000526428223, -4.255199909210205, -4.898799896240234, -3.898400068283081, -4.999000072479248, -5.198400020599365, -4.2758002281188965, -4.431399822235107, -5.566699981689453, -5.169400215148926, -4.04449987411499, -5.060800075531006, -4.272600173950195, -5.838799953460693, -4.831999778747559, -5.7947001457214355, -5.082699775695801, -4.957399845123291, -5.387700080871582, -4.710599899291992, -3.998800039291382, -4.764100074768066, -4.392899990081787, -4.1321001052856445, -4.461299896240234, -4.145500183105469, -4.4822998046875, -4.385300159454346, -4.1458001136779785, -4.2221999168396, -4.232800006866455, -4.288400173187256, -4.388999938964844, -4.4446001052856445, -4.60230016708374, -4.605999946594238, -5.759900093078613, -5.767199993133545, -5.800899982452393, -5.848599910736084, -5.931000232696533, -5.947299957275391, -5.932199954986572, -5.92110013961792, -6.032599925994873, -6.05079984664917, -5.085299968719482, -5.950799942016602, -6.108699798583984, -6.074399948120117, -6.144899845123291, -5.8445000648498535, -5.885499954223633, -5.867800235748291, -6.162799835205078, -5.972300052642822, -5.412300109863281, -5.44290018081665, -5.9928998947143555, -6.265100002288818, -6.201499938964844, -5.753699779510498, -5.726900100708008, -5.4604997634887695, -6.357800006866455, -6.363999843597412, -5.994200229644775, -5.973999977111816, -5.275400161743164, -5.8942999839782715, -5.186999797821045, -4.60230016708374, -4.7342000007629395, -5.509500026702881, -5.47130012512207, -5.219399929046631, -5.597499847412109, -5.679200172424316, -5.062099933624268, -4.674799919128418, -5.123600006103516, -4.603300094604492, -4.653800010681152, -5.32919979095459, -5.2133002281188965, -5.0015997886657715, -5.474899768829346, -4.706500053405762, -5.3867998123168945, -4.765500068664551, -5.253799915313721, -4.669300079345703, -4.881100177764893, -4.787899971008301, -5.011600017547607, -4.797699928283691, -5.121200084686279, -5.03849983215332, -4.759200096130371, -4.8927998542785645, -4.985099792480469, -4.9471001625061035, -4.812300205230713, -5.093299865722656, -4.926400184631348, -4.939700126647949, -5.094699859619141, -5.083000183105469, -5.138400077819824, -5.179999828338623, -4.09250020980835, -4.145100116729736, -4.32859992980957, -3.578900098800659, -4.0254998207092285, -4.48360013961792, -3.9270999431610107, -4.463099956512451, -4.697000026702881, -4.651100158691406, -4.362800121307373, -4.5578999519348145, -5.343400001525879, -4.911399841308594, -4.780799865722656, -5.248499870300293, -4.716300010681152, -4.162300109863281, -5.570400238037109, -4.901700019836426, -4.721499919891357, -4.921000003814697, -5.68310022354126, -4.848100185394287, -4.377500057220459, -3.5304999351501465, -4.944900035858154, -5.387199878692627, -4.744200229644775, -4.98360013961792, -3.9907000064849854, -4.12529993057251, -3.9923999309539795, -4.0233001708984375, -4.241700172424316, -4.587399959564209, -4.615699768066406, -4.3394999504089355, -4.299699783325195, -4.5395002365112305, -4.563000202178955, -4.456200122833252, -4.624599933624268, -4.5802001953125, -4.615699768066406, -4.394000053405762, -4.536300182342529, -4.2484002113342285, -4.193299770355225, -4.852399826049805, -4.373899936676025, -4.732699871063232, -4.771699905395508, -4.914000034332275, -4.776500225067139, -5.201300144195557, -4.78980016708374, -5.046899795532227, -5.005199909210205, -5.441100120544434, -5.5019001960754395, -4.956299781799316, -4.1371002197265625, -5.0183000564575195, -4.84250020980835, -5.814700126647949, -4.209000110626221, -5.260499954223633, -5.206200122833252, -4.4552998542785645, -5.09119987487793, -4.714399814605713, -4.5177998542785645, -5.478099822998047, -4.9857001304626465, -4.702099800109863, -4.283699989318848, -4.053899765014648, -4.2347002029418945, -4.232399940490723, -4.638899803161621, -4.73859977722168, -4.3744001388549805, -4.410299777984619, -4.645400047302246, -4.454899787902832, -4.5345001220703125, -4.593900203704834, -4.576099872589111, -4.597899913787842, -4.683499813079834, -4.744800090789795, -4.749599933624268, -4.009900093078613, -3.9193999767303467, -4.515900135040283, -4.058800220489502, -4.466700077056885, -4.584799766540527, -3.7857000827789307, -4.589700222015381, -4.5279998779296875, -5.159200191497803, -4.12529993057251, -4.650899887084961, -4.229400157928467, -4.011099815368652, -4.372399806976318, -4.191400051116943, -5.019700050354004, -4.975299835205078, -4.665599822998047, -4.314300060272217, -4.960999965667725, -5.155799865722656, -4.1682000160217285, -5.341400146484375, -5.655700206756592, -5.029300212860107, -4.05210018157959, -5.193600177764893, -5.398799896240234, -4.991099834442139, -4.500899791717529, -4.284200191497803, -4.76230001449585, -4.538300037384033, -4.029300212860107, -3.9791998863220215, -4.055600166320801, -4.154300212860107, -4.302700042724609, -4.666200160980225, -4.4369001388549805, -4.537600040435791, -4.4882001876831055, -4.501999855041504, -4.587399959564209, -3.444700002670288, -3.490799903869629, -2.8594000339508057, -3.5815999507904053, -3.176500082015991, -3.6575000286102295, -4.874100208282471, -4.168000221252441, -4.753900051116943, -4.743100166320801, -4.886199951171875, -4.6479997634887695, -4.093999862670898, -4.802299976348877, -4.965000152587891, -4.665800094604492, -4.614099979400635, -5.0177998542785645, -5.025199890136719, -5.136199951171875, -4.929900169372559, -6.367599964141846, -6.367199897766113, -6.367599964141846, -5.144800186157227, -6.367599964141846, -5.15939998626709, -5.492800235748291, -6.367599964141846, -6.367599964141846, -5.174799919128418, -5.124300003051758, -5.179100036621094, -5.2708001136779785, -5.432600021362305, -5.333399772644043, -5.408100128173828, -3.6800999641418457, -3.634000062942505, -3.817699909210205, -4.122099876403809, -3.9265999794006348, -4.086299896240234, -4.142000198364258, -3.4941999912261963, -4.48390007019043, -4.270500183105469, -4.369999885559082, -5.040599822998047, -4.098400115966797, -5.012599945068359, -4.089300155639648, -4.408999919891357, -4.875400066375732, -5.18779993057251, -4.677700042724609, -4.304800033569336, -4.8694000244140625, -4.72599983215332, -4.8709001541137695, -4.186699867248535, -4.860000133514404, -5.400700092315674, -5.222599983215332, -5.412099838256836, -4.724400043487549, -5.256499767303467, -4.7399001121521, -4.5030999183654785, -4.906300067901611, -4.724999904632568, -4.126399993896484, -4.1209001541137695, -4.3927001953125, -4.53879976272583, -4.402100086212158, -4.603300094604492, -4.447700023651123, -4.574399948120117, -4.05019998550415, -3.7988998889923096, -3.6217000484466553, -4.022600173950195, -4.347599983215332, -3.9402999877929688, -4.259099960327148, -4.792399883270264, -4.653600215911865, -3.5239999294281006, -4.9054999351501465, -4.34660005569458, -5.388299942016602, -4.853300094604492, -5.082499980926514, -4.626399993896484, -4.421299934387207, -4.487199783325195, -4.856500148773193, -4.2368998527526855, -3.615299940109253, -5.299099922180176, -4.118299961090088, -5.442999839782715, -5.062699794769287, -5.6717000007629395, -4.049799919128418, -4.807000160217285, -4.7133002281188965, -5.5746002197265625, -4.218500137329102, -3.9879000186920166, -4.09499979019165, -3.8092000484466553, -4.7270002365112305, -4.157299995422363, -4.5395002365112305, -4.4054999351501465, -4.2957000732421875, -4.438399791717529, -4.478300094604492, -4.60230016708374, -4.609300136566162, -4.707600116729736, -3.421999931335449, -3.9286000728607178, -4.223899841308594, -3.686000108718872, -3.453700065612793, -4.542099952697754, -4.179699897766113, -4.572000026702881, -4.542900085449219, -4.270599842071533, -4.178899765014648, -5.072000026702881, -4.833499908447266, -4.775000095367432, -4.179299831390381, -4.741399765014648, -5.234300136566162, -5.208899974822998, -5.1269001960754395, -5.468400001525879, -4.249599933624268, -5.045199871063232, -4.672999858856201, -5.084000110626221, -5.131100177764893, -4.924499988555908, -4.3618998527526855, -4.325500011444092, -5.589900016784668, -5.196499824523926, -4.578400135040283, -3.9742000102996826, -4.302299976348877, -4.79640007019043, -4.599699974060059, -4.494900226593018, -4.427199840545654, -4.549799919128418, -4.631199836730957, -4.495100021362305, -4.636499881744385, -4.703999996185303]}, \"token.table\": {\"Topic\": [3, 8, 3, 5, 9, 3, 6, 10, 3, 5, 6, 9, 1, 3, 4, 5, 8, 9, 10, 1, 2, 3, 5, 8, 9, 10, 2, 3, 4, 5, 6, 8, 9, 10, 1, 3, 5, 8, 10, 3, 5, 8, 9, 3, 4, 5, 9, 10, 3, 3, 6, 1, 2, 3, 4, 5, 6, 8, 9, 10, 3, 5, 8, 1, 2, 3, 5, 6, 8, 2, 3, 4, 5, 1, 3, 4, 5, 8, 10, 2, 3, 5, 8, 10, 2, 3, 4, 5, 9, 10, 3, 4, 5, 6, 9, 10, 3, 6, 10, 3, 3, 4, 5, 6, 8, 9, 1, 3, 5, 1, 2, 3, 4, 5, 6, 10, 1, 3, 5, 3, 5, 10, 1, 2, 3, 4, 6, 1, 2, 3, 4, 5, 6, 8, 9, 10, 3, 6, 8, 2, 3, 5, 1, 3, 9, 3, 1, 3, 4, 5, 9, 1, 3, 8, 2, 3, 4, 3, 5, 9, 2, 3, 4, 5, 6, 8, 9, 10, 1, 2, 3, 5, 8, 10, 1, 3, 4, 5, 2, 3, 4, 5, 8, 10, 3, 7, 3, 5, 6, 9, 1, 3, 1, 2, 3, 5, 8, 3, 4, 5, 7, 9, 10, 3, 5, 2, 3, 4, 8, 3, 10, 3, 5, 2, 3, 5, 6, 8, 1, 3, 5, 1, 2, 3, 4, 5, 6, 8, 9, 10, 1, 2, 3, 4, 5, 6, 8, 9, 1, 3, 5, 1, 2, 3, 5, 6, 9, 3, 5, 3, 5, 1, 3, 5, 10, 1, 2, 3, 4, 5, 6, 3, 4, 9, 3, 6, 7, 1, 2, 3, 4, 5, 9, 2, 3, 3, 5, 3, 5, 8, 9, 1, 3, 5, 6, 10, 2, 3, 6, 2, 3, 5, 6, 7, 8, 10, 2, 3, 5, 8, 10, 1, 2, 3, 5, 2, 3, 5, 6, 3, 6, 3, 5, 6, 8, 10, 3, 5, 1, 2, 3, 4, 5, 8, 10, 3, 5, 6, 10, 3, 8, 10, 1, 2, 3, 4, 5, 6, 2, 3, 4, 5, 6, 8, 9, 1, 2, 3, 4, 5, 8, 9, 10, 1, 3, 4, 5, 1, 3, 5, 6, 8, 9, 10, 3, 1, 2, 3, 4, 5, 6, 7, 8, 9, 10, 2, 3, 4, 5, 9, 1, 3, 5, 10, 1, 3, 4, 8, 1, 3, 5, 10, 3, 4, 5, 3, 4, 6, 3, 1, 3, 4, 7, 9, 2, 3, 8, 2, 3, 5, 7, 10, 3, 5, 6, 9, 3, 4, 5, 6, 10, 1, 3, 3, 4, 1, 2, 3, 4, 8, 2, 3, 4, 5, 6, 10, 1, 2, 3, 4, 5, 6, 7, 9, 3, 4, 5, 1, 3, 5, 7, 1, 2, 3, 4, 5, 6, 8, 10, 3, 1, 3, 4, 5, 10, 3, 5, 2, 3, 5, 10, 1, 2, 3, 4, 5, 6, 8, 9, 1, 2, 3, 4, 5, 6, 8, 9, 1, 2, 3, 4, 5, 6, 8, 9, 10, 1, 2, 3, 4, 7, 8, 3, 5, 6, 3, 5, 8, 10, 3, 4, 6, 10, 1, 2, 3, 4, 6, 7, 10, 1, 2, 3, 4, 5, 6, 8, 9, 10, 3, 4, 5, 6, 7, 8, 1, 2, 3, 4, 5, 1, 2, 3, 4, 5, 7, 3, 4, 5, 8, 1, 2, 3, 5, 6, 8, 9, 10, 3, 8, 2, 3, 10, 3, 5, 1, 2, 3, 6, 8, 9, 3, 4, 5, 6, 10, 1, 2, 3, 4, 5, 6, 8, 9, 10, 1, 3, 4, 5, 6, 8, 9, 10, 3, 5, 8, 10, 3, 6, 9, 10, 3, 4, 5, 3, 4, 10, 2, 3, 4, 1, 3, 4, 5, 6, 7, 10, 1, 3, 1, 2, 3, 4, 5, 9, 10, 2, 3, 4, 5, 1, 2, 3, 4, 5, 6, 7, 8, 9, 10, 1, 2, 3, 5, 8, 9, 1, 2, 3, 4, 5, 6, 8, 9, 3, 8, 3, 6, 8, 2, 3, 4, 5, 6, 1, 2, 3, 4, 5, 6, 8, 9, 10, 2, 3, 10, 3, 4, 5, 6, 3, 5, 1, 3, 6, 8, 10, 3, 5, 6, 7, 8, 3, 5, 10, 1, 3, 5, 8, 3, 5, 10, 3, 3, 5, 3, 6, 1, 2, 3, 4, 5, 6, 8, 9, 10, 3, 4, 5, 2, 3, 5, 6, 9, 10, 3, 4, 5, 6, 8, 3, 5, 6, 2, 3, 4, 5, 6, 9, 10, 1, 2, 3, 4, 5, 10, 3, 5, 1, 3, 4, 5, 1, 2, 3, 4, 5, 6, 8, 9, 10, 3, 5, 7, 8, 9, 3, 5, 6, 7, 2, 3, 4, 5, 6, 7, 8, 9, 10, 1, 3, 5, 2, 3, 4, 5, 3, 5, 10, 3, 3, 4, 5, 7, 9, 1, 3, 5, 1, 2, 3, 4, 5, 6, 8, 9, 10, 3, 4, 5, 6, 1, 3, 4, 5, 8, 10, 1, 3, 1, 2, 3, 4, 5, 6, 8, 9, 10, 3, 10, 3, 8, 9, 3, 4, 5, 8, 1, 3, 4, 5, 6, 8, 3, 4, 5, 1, 3, 4, 8, 1, 3, 6, 1, 3, 4, 5, 6, 10, 3, 4, 5, 1, 2, 3, 4, 6, 8, 9, 1, 3, 5, 6, 9, 1, 2, 3, 4, 5, 6, 8, 9, 10, 1, 2, 3, 1, 3, 2, 3, 4, 5, 8, 10, 1, 3, 5, 3, 4, 5, 1, 3, 7, 9, 3, 5, 7, 8, 1, 2, 3, 5, 6, 8, 10, 3, 10, 2, 3, 4, 7, 9, 10, 1, 2, 3, 4, 5, 6, 8, 9, 10, 2, 3, 5, 6, 8, 3, 4, 5, 10, 1, 3, 5, 3, 9, 10, 3, 4, 5, 7, 1, 2, 3, 4, 5, 10, 1, 2, 3, 4, 5, 8, 3, 9, 1, 2, 3, 4, 5, 8, 9, 10, 1, 3, 5, 10, 2, 3, 4, 5, 6, 8, 9, 3, 5, 8, 9, 10, 3, 10, 2, 3, 4, 5, 8, 9, 3, 4, 2, 3, 4, 5, 8, 9, 1, 3, 3, 5, 6, 8, 1, 2, 3, 4, 5, 7, 3, 5, 2, 3, 3, 5, 8, 3, 1, 3, 4, 5, 6, 7, 9, 10, 3, 8, 1, 3, 4, 9, 2, 3, 4, 5, 6, 7, 8, 10, 1, 2, 3, 4, 5, 6, 8, 10, 1, 3, 2, 3, 5, 6, 9, 1, 2, 3, 4, 5, 8, 9, 1, 3, 4, 5, 3, 5, 9, 1, 2, 3, 6, 8, 3, 4, 1, 2, 3, 4, 5, 6, 8, 9, 10, 2, 3, 8, 9, 10, 3, 5, 6, 10, 3, 5, 3, 10, 3, 4, 5, 9, 10, 1, 3, 5, 6, 8, 9, 3, 5, 6, 1, 3, 4, 3, 4, 5, 8, 10, 1, 3, 4, 5, 6, 2, 3, 5, 8, 3, 2, 3, 5, 8, 2, 3, 8, 10, 1, 2, 3, 4, 5, 6, 8, 9, 10, 1, 3, 5, 10, 3, 5, 8, 10, 2, 3, 4, 5, 6, 8, 9, 10, 2, 3, 5, 6, 8, 3, 5, 3, 10, 1, 2, 3, 4, 5, 6, 8, 9, 10, 2, 3, 5, 6, 1, 2, 3, 4, 5, 7, 8, 9, 10, 3, 5, 10, 3, 9, 2, 3, 4, 5, 6, 8, 9, 2, 3, 4, 5, 8, 9, 10, 2, 3, 5, 8, 9, 3, 7, 1, 2, 3, 5, 8, 1, 3, 4, 6, 8, 2, 3, 4, 5, 9, 3, 5, 10, 2, 3, 5, 7, 8, 9, 3, 5, 1, 2, 3, 4, 5, 6, 7, 9, 1, 2, 3, 6, 8, 9, 10, 1, 2, 3, 4, 5, 3, 5, 8, 9, 3, 6, 10, 2, 3, 5, 8, 1, 3, 10, 2, 3, 4, 6, 7, 10], \"Freq\": [0.6280238032341003, 0.2826107144355774, 0.415691614151001, 0.2558102309703827, 0.2558102309703827, 0.5317279100418091, 0.12511244416236877, 0.28150302171707153, 0.5310405492782593, 0.26552027463912964, 0.024138208478689194, 0.12069103866815567, 0.02079213596880436, 0.7693089842796326, 0.02079213596880436, 0.13514888286590576, 0.02079213596880436, 0.01039606798440218, 0.02079213596880436, 0.022355007007718086, 0.2459050863981247, 0.573778510093689, 0.09687169641256332, 0.007451669313013554, 0.022355007007718086, 0.022355007007718086, 0.03740803152322769, 0.6078805327415466, 0.1028720885515213, 0.07481606304645538, 0.09352007508277893, 0.02805602364242077, 0.02805602364242077, 0.03740803152322769, 0.0819200724363327, 0.6144005060195923, 0.04096003621816635, 0.1638401448726654, 0.0819200724363327, 0.048069097101688385, 0.2884145677089691, 0.048069097101688385, 0.5287600755691528, 0.6093631386756897, 0.042025040835142136, 0.042025040835142136, 0.2521502673625946, 0.021012520417571068, 0.9133835434913635, 0.5371301174163818, 0.3580867350101471, 0.007895190268754959, 0.015790380537509918, 0.6631959676742554, 0.12632304430007935, 0.12632304430007935, 0.015790380537509918, 0.015790380537509918, 0.015790380537509918, 0.007895190268754959, 0.17354972660541534, 0.29751381278038025, 0.4710635244846344, 0.028580978512763977, 0.11432391405105591, 0.4001336991786957, 0.2429383248090744, 0.11432391405105591, 0.07145244628190994, 0.042584504932165146, 0.4471372961997986, 0.3832605481147766, 0.08516900986433029, 0.01204709243029356, 0.7951080799102783, 0.060235459357500076, 0.04818836972117424, 0.036141276359558105, 0.036141276359558105, 0.02906806766986847, 0.65403151512146, 0.17440840601921082, 0.05813613533973694, 0.05813613533973694, 0.05934837460517883, 0.5578747391700745, 0.11869674921035767, 0.13056641817092896, 0.04747869819402695, 0.07121805101633072, 0.5125830769538879, 0.011143109761178493, 0.3788657486438751, 0.011143109761178493, 0.011143109761178493, 0.06685865670442581, 0.8746683597564697, 0.019878827035427094, 0.03975765407085419, 0.9357621669769287, 0.5983893871307373, 0.023935575038194656, 0.09574230015277863, 0.07180672883987427, 0.14361345767974854, 0.04787115007638931, 0.11126024276018143, 0.7788217067718506, 0.08653574436903, 0.013907920569181442, 0.05563168227672577, 0.5285009741783142, 0.08344752341508865, 0.013907920569181442, 0.0973554477095604, 0.1947108954191208, 0.32273945212364197, 0.5809310078620911, 0.032273948192596436, 0.462642103433609, 0.433726966381073, 0.028915131464600563, 0.047992389649152756, 0.023996194824576378, 0.5999048352241516, 0.28795433044433594, 0.023996194824576378, 0.005686454474925995, 0.051178090274333954, 0.659628689289093, 0.017059363424777985, 0.13647490739822388, 0.05686454474925995, 0.04549163579940796, 0.017059363424777985, 0.01137290894985199, 0.19237497448921204, 0.09618748724460602, 0.5771249532699585, 0.23081138730049133, 0.46162277460098267, 0.23081138730049133, 0.054966118186712265, 0.6321103572845459, 0.24734753370285034, 0.8929536938667297, 0.39130550622940063, 0.05590078607201576, 0.05590078607201576, 0.39130550622940063, 0.05590078607201576, 0.11580529808998108, 0.7237831354141235, 0.08685397356748581, 0.07560543715953827, 0.6552470922470093, 0.20161448419094086, 0.6401807069778442, 0.10108117014169693, 0.16846860945224762, 0.039025936275720596, 0.6114063262939453, 0.05203457921743393, 0.06504322588443756, 0.07805187255144119, 0.039025936275720596, 0.06504322588443756, 0.039025936275720596, 0.18519991636276245, 0.21165704727172852, 0.026457130908966064, 0.5026854872703552, 0.026457130908966064, 0.026457130908966064, 0.023485565558075905, 0.5871391296386719, 0.2113700807094574, 0.14091339707374573, 0.07547822594642639, 0.7422025203704834, 0.012579703703522682, 0.037739112973213196, 0.08805792778730392, 0.037739112973213196, 0.8419079780578613, 0.09101708233356476, 0.7420091032981873, 0.05300065129995346, 0.07066753506660461, 0.12366818636655807, 0.028729025274515152, 0.89059978723526, 0.6166757941246033, 0.1681843101978302, 0.056061435490846634, 0.056061435490846634, 0.056061435490846634, 0.03494541719555855, 0.03494541719555855, 0.5940721035003662, 0.1397816687822342, 0.10483625531196594, 0.0698908343911171, 0.5342399477958679, 0.41810083389282227, 0.040464941412210464, 0.6272066235542297, 0.26302212476730347, 0.020232470706105232, 0.9120863080024719, 0.022802157327532768, 0.3351301848888397, 0.5788611769676208, 0.1346517950296402, 0.6395960450172424, 0.0673258975148201, 0.05049442499876022, 0.08415737748146057, 0.06182805448770523, 0.8501357436180115, 0.04637104272842407, 0.028799571096897125, 0.04607931524515152, 0.7315091490745544, 0.03455948457121849, 0.08639871329069138, 0.02303965762257576, 0.00575991440564394, 0.02303965762257576, 0.017279742285609245, 0.014853375032544136, 0.207947239279747, 0.5792816281318665, 0.029706750065088272, 0.014853375032544136, 0.059413500130176544, 0.014853375032544136, 0.07426687330007553, 0.30000853538513184, 0.5500156283378601, 0.050001420080661774, 0.009593416936695576, 0.2014617621898651, 0.5564181804656982, 0.1630880981683731, 0.0479670874774456, 0.009593416936695576, 0.03901749476790428, 0.858384907245636, 0.9187706112861633, 0.027841534465551376, 0.49552828073501587, 0.04955282807350159, 0.3468697965145111, 0.04955282807350159, 0.058513641357421875, 0.03900909423828125, 0.6924114227294922, 0.08777046203613281, 0.09752273559570312, 0.009752273559570312, 0.4762860834598541, 0.17547382414340973, 0.27574458718299866, 0.6818785667419434, 0.19482244551181793, 0.03247040882706642, 0.03223029151558876, 0.03223029151558876, 0.4834543466567993, 0.322302907705307, 0.06446058303117752, 0.04834543541073799, 0.5614919662475586, 0.3368951976299286, 0.4561426043510437, 0.4561426043510437, 0.7722678780555725, 0.022064797580242157, 0.044129595160484314, 0.13238878548145294, 0.011263912543654442, 0.856057345867157, 0.05631956085562706, 0.022527825087308884, 0.033791735768318176, 0.31137508153915405, 0.5604751110076904, 0.06227501481771469, 0.11807961016893387, 0.5903980731964111, 0.21647928655147552, 0.01967993564903736, 0.00983996782451868, 0.01967993564903736, 0.00983996782451868, 0.2047102451324463, 0.4094204902648926, 0.12282615154981613, 0.2047102451324463, 0.02047102525830269, 0.048829350620508194, 0.12207337468862534, 0.024414675310254097, 0.7812696099281311, 0.10990148782730103, 0.4082055389881134, 0.31400424242019653, 0.12560169398784637, 0.695549726486206, 0.1987285017967224, 0.6237736344337463, 0.02310272678732872, 0.09241090714931488, 0.18482181429862976, 0.04620545357465744, 0.5943161249160767, 0.3495977222919464, 0.012385682202875614, 0.02477136440575123, 0.8669977188110352, 0.04954272881150246, 0.012385682202875614, 0.012385682202875614, 0.02477136440575123, 0.8119391202926636, 0.03455059975385666, 0.03455059975385666, 0.06910119950771332, 0.8026036024093628, 0.07296396046876907, 0.07296396046876907, 0.010544282384216785, 0.14761994779109955, 0.6432012319564819, 0.02108856476843357, 0.08435425907373428, 0.08435425907373428, 0.08532711118459702, 0.5363418459892273, 0.03656876087188721, 0.14627504348754883, 0.024379175156354904, 0.04875835031270981, 0.10970628261566162, 0.008826910518109798, 0.02648073062300682, 0.7149797081947327, 0.061788372695446014, 0.05296146124601364, 0.017653821036219597, 0.09709601104259491, 0.017653821036219597, 0.013693379238247871, 0.5477351546287537, 0.04108013957738876, 0.35602787137031555, 0.02531100995838642, 0.48090916872024536, 0.02531100995838642, 0.2784211039543152, 0.05062201991677284, 0.10124403983354568, 0.02531100995838642, 0.8939496278762817, 0.03795616701245308, 0.16700713336467743, 0.49343016743659973, 0.060729868710041046, 0.09109479933977127, 0.015182467177510262, 0.007591233588755131, 0.022773699834942818, 0.07591233402490616, 0.030364934355020523, 0.43536898493766785, 0.029024599120020866, 0.05804919824004173, 0.3482951819896698, 0.08707379549741745, 0.5723623037338257, 0.047696858644485474, 0.28618115186691284, 0.047696858644485474, 0.061302948743104935, 0.6538981199264526, 0.14304021000862122, 0.08173726499080658, 0.20192283391952515, 0.04038456827402115, 0.4846148192882538, 0.20192283391952515, 0.4948486089706421, 0.2083573192358017, 0.2604466378688812, 0.6823137402534485, 0.15507130324840546, 0.0930427834391594, 0.894750714302063, 0.017219623550772667, 0.6715652942657471, 0.12053736299276352, 0.017219623550772667, 0.12053736299276352, 0.02937265671789646, 0.8958660364151001, 0.04405898600816727, 0.09461740404367447, 0.8042479157447815, 0.023654351010918617, 0.023654351010918617, 0.023654351010918617, 0.5422387719154358, 0.1251320242881775, 0.08342134952545166, 0.16684269905090332, 0.4983687400817871, 0.012155335396528244, 0.4375920593738556, 0.012155335396528244, 0.012155335396528244, 0.12758398056030273, 0.7655038833618164, 0.6830354928970337, 0.20089279115200043, 0.021833375096321106, 0.17466700077056885, 0.5021676421165466, 0.13100025057792664, 0.13100025057792664, 0.17757923901081085, 0.5165941119194031, 0.04843069985508919, 0.04843069985508919, 0.14529210329055786, 0.03228713199496269, 0.020561397075653076, 0.13022218644618988, 0.5003273487091064, 0.13022218644618988, 0.12336838245391846, 0.04797659441828728, 0.00685379933565855, 0.03426899388432503, 0.7618292570114136, 0.18530981242656708, 0.020589979365468025, 0.08542422205209732, 0.04271211102604866, 0.7688180208206177, 0.04271211102604866, 0.012194759212434292, 0.030486896634101868, 0.8353409767150879, 0.01829213835299015, 0.060973793268203735, 0.024389518424868584, 0.006097379606217146, 0.006097379606217146, 0.922284722328186, 0.15396174788475037, 0.03849043697118759, 0.5003756880760193, 0.03849043697118759, 0.19245219230651855, 0.9128875136375427, 0.025357987731695175, 0.10271800309419632, 0.5478293299674988, 0.06847866624593735, 0.20543600618839264, 0.009939536452293396, 0.14909304678440094, 0.7156466245651245, 0.039758145809173584, 0.039758145809173584, 0.009939536452293396, 0.009939536452293396, 0.019879072904586792, 0.027248423546552658, 0.03633123263716698, 0.6630449891090393, 0.09991088509559631, 0.09991088509559631, 0.009082808159291744, 0.027248423546552658, 0.03633123263716698, 0.018703673034906387, 0.11845659464597702, 0.5299373865127563, 0.09351836889982224, 0.1433948278427124, 0.012469115667045116, 0.037407346069812775, 0.03117278777062893, 0.018703673034906387, 0.20746062695980072, 0.20746062695980072, 0.05186515673995018, 0.20746062695980072, 0.25932577252388, 0.05186515673995018, 0.8155678510665894, 0.020911995321512222, 0.10455998033285141, 0.04951440542936325, 0.04951440542936325, 0.792230486869812, 0.04951440542936325, 0.772377073764801, 0.05149180442094803, 0.10298360884189606, 0.025745902210474014, 0.0873514711856842, 0.0436757355928421, 0.7570460438728333, 0.014558577910065651, 0.0436757355928421, 0.014558577910065651, 0.014558577910065651, 0.020134083926677704, 0.06040225178003311, 0.6895923614501953, 0.020134083926677704, 0.14093858003616333, 0.020134083926677704, 0.015100562945008278, 0.010067041963338852, 0.020134083926677704, 0.7097190022468567, 0.06653615832328796, 0.02217871882021427, 0.02217871882021427, 0.02217871882021427, 0.11089359223842621, 0.014111851342022419, 0.07055925577878952, 0.33868440985679626, 0.39513182640075684, 0.16934220492839813, 0.016122065484523773, 0.16122065484523773, 0.45141783356666565, 0.14509859681129456, 0.19346478581428528, 0.016122065484523773, 0.6024794578552246, 0.2454546093940735, 0.08925621956586838, 0.04462810978293419, 0.013048523105680943, 0.05219409242272377, 0.6328533887863159, 0.09133966267108917, 0.013048523105680943, 0.06524261832237244, 0.10438818484544754, 0.0195727851241827, 0.26305001974105835, 0.6137833595275879, 0.1734478920698166, 0.7185698747634888, 0.024778271093964577, 0.8920918107032776, 0.029736394062638283, 0.03450121730566025, 0.1552554816007614, 0.5692700743675232, 0.12075426429510117, 0.017250608652830124, 0.08625304698944092, 0.4873637557029724, 0.04873637482523918, 0.11371821165084839, 0.21119096875190735, 0.11371821165084839, 0.006834893487393856, 0.08201871812343597, 0.5467914938926697, 0.04100935906171799, 0.13669787347316742, 0.06834893673658371, 0.027339573949575424, 0.04784425348043442, 0.04100935906171799, 0.019613824784755707, 0.6799459457397461, 0.039227649569511414, 0.1307588368654251, 0.019613824784755707, 0.019613824784755707, 0.05884147435426712, 0.03268970921635628, 0.05186406150460243, 0.20745624601840973, 0.5186406373977661, 0.1555921882390976, 0.5762134194374084, 0.1646324098110199, 0.027438735589385033, 0.19207115471363068, 0.8632715344429016, 0.10156136006116867, 0.016926893964409828, 0.6705636978149414, 0.2040846049785614, 0.0583098903298378, 0.4171617031097412, 0.47278326749801636, 0.05562156066298485, 0.026253845542669296, 0.6957269310951233, 0.026253845542669296, 0.11814230680465698, 0.06563461571931839, 0.026253845542669296, 0.013126922771334648, 0.02375682257115841, 0.9027592539787292, 0.07162752747535706, 0.02387584187090397, 0.6804615259170532, 0.08356545120477676, 0.09550336748361588, 0.011937920935451984, 0.03581376373767853, 0.05828619375824928, 0.43714645504951477, 0.2622878849506378, 0.17485858500003815, 0.03854551538825035, 0.08810403943061829, 0.5396372079849243, 0.10462354123592377, 0.18171457946300507, 0.005506502464413643, 0.005506502464413643, 0.01651950739324093, 0.005506502464413643, 0.01651950739324093, 0.009768304415047169, 0.3125857412815094, 0.5274884700775146, 0.019536608830094337, 0.06837813556194305, 0.04884152114391327, 0.016245562583208084, 0.03249112516641617, 0.4873668849468231, 0.0974733754992485, 0.12996450066566467, 0.04873668774962425, 0.12996450066566467, 0.04873668774962425, 0.79486483335495, 0.09171517193317413, 0.7323578596115112, 0.10462255030870438, 0.06974836438894272, 0.032098982483148575, 0.759675920009613, 0.09629694372415543, 0.06419796496629715, 0.032098982483148575, 0.0069319456815719604, 0.0346597284078598, 0.6446709632873535, 0.04159167408943176, 0.1039791852235794, 0.02079583704471588, 0.055455565452575684, 0.07625140249729156, 0.0069319456815719604, 0.02536148577928543, 0.8876519799232483, 0.05072297155857086, 0.6985493898391724, 0.11642490327358246, 0.029106225818395615, 0.08731867372989655, 0.9066421389579773, 0.03126352280378342, 0.07470867037773132, 0.6723780035972595, 0.03735433518886566, 0.11206300556659698, 0.03735433518886566, 0.6699272394180298, 0.07051865756511688, 0.10577797889709473, 0.03525932878255844, 0.07051865756511688, 0.8921186923980713, 0.045361969619989395, 0.015120656229555607, 0.15389162302017212, 0.05129721015691757, 0.30778324604034424, 0.3590804636478424, 0.38103681802749634, 0.4826466143131256, 0.07620736211538315, 0.9170321226119995, 0.9256361722946167, 0.02501719444990158, 0.6728228330612183, 0.2691291272640228, 0.018113691359758377, 0.06641686707735062, 0.6158655285835266, 0.0784926638007164, 0.08453056216239929, 0.05434107407927513, 0.03018948622047901, 0.018113691359758377, 0.03018948622047901, 0.02226821705698967, 0.17814573645591736, 0.7571194171905518, 0.03162126615643501, 0.5902636051177979, 0.08432337641716003, 0.03162126615643501, 0.18972758948802948, 0.06324253231287003, 0.9036769270896912, 0.021516116335988045, 0.03227417543530464, 0.010758058167994022, 0.010758058167994022, 0.6871129274368286, 0.03616384044289589, 0.21698303520679474, 0.11136214435100555, 0.6378013491630554, 0.10123831778764725, 0.01012383121997118, 0.01012383121997118, 0.10123831778764725, 0.030371494591236115, 0.03492794558405876, 0.24449561536312103, 0.5355618000030518, 0.04657059162855148, 0.06985589116811752, 0.0582132413983345, 0.8882519602775574, 0.07012515515089035, 0.12891842424869537, 0.7573956847190857, 0.03222960606217384, 0.06445921212434769, 0.03400924801826477, 0.045345667749643326, 0.6405075192451477, 0.045345667749643326, 0.09635954350233078, 0.05668208375573158, 0.005668208468705416, 0.02834104187786579, 0.045345667749643326, 0.5941646695137024, 0.019805489107966423, 0.019805489107966423, 0.019805489107966423, 0.31688782572746277, 0.8787717819213867, 0.02043655328452587, 0.02043655328452587, 0.04087310656905174, 0.013845345005393028, 0.8307207226753235, 0.041536036878824234, 0.0623040534555912, 0.006922672502696514, 0.006922672502696514, 0.020768018439412117, 0.013845345005393028, 0.006922672502696514, 0.42882928252220154, 0.4645650386810303, 0.03573577478528023, 0.345610111951828, 0.54721599817276, 0.02880084328353405, 0.02880084328353405, 0.030769627541303635, 0.8615495562553406, 0.06153925508260727, 0.9272295832633972, 0.4930112659931183, 0.042870547622442245, 0.3215290904045105, 0.021435273811221123, 0.06430581957101822, 0.16987046599388123, 0.7765507102012634, 0.024267209693789482, 0.030095616355538368, 0.09530279040336609, 0.5567688941955566, 0.09028685092926025, 0.11536653339862823, 0.030095616355538368, 0.02507968060672283, 0.04012748971581459, 0.015047808177769184, 0.033350761979818344, 0.033350761979818344, 0.8004183173179626, 0.06670152395963669, 0.03736807405948639, 0.03736807405948639, 0.5978891849517822, 0.11210422217845917, 0.07473614811897278, 0.07473614811897278, 0.3870236277580261, 0.5160315036773682, 0.005570683628320694, 0.05570683628320694, 0.5514976978302002, 0.16712050139904022, 0.11698435246944427, 0.022282734513282776, 0.022282734513282776, 0.03899478539824486, 0.022282734513282776, 0.9089143872261047, 0.02330549620091915, 0.046698372811079025, 0.7938723564147949, 0.09339674562215805, 0.04812831059098244, 0.2406415492296219, 0.43315479159355164, 0.19251324236392975, 0.027222884818911552, 0.3675089478492737, 0.17694875597953796, 0.3402860760688782, 0.013611442409455776, 0.054445769637823105, 0.5274607539176941, 0.06205420941114426, 0.37232524156570435, 0.10419341921806335, 0.05209670960903168, 0.15629012882709503, 0.5730637907981873, 0.07126348465681076, 0.8076528906822205, 0.04750899225473404, 0.07827582210302353, 0.6457754969596863, 0.039137911051511765, 0.117413729429245, 0.019568955525755882, 0.0587068647146225, 0.8806077241897583, 0.051800455898046494, 0.025900227949023247, 0.03761216253042221, 0.11283648759126663, 0.6394067406654358, 0.056418243795633316, 0.018806081265211105, 0.03761216253042221, 0.09403040260076523, 0.09118793904781342, 0.04559396952390671, 0.4559396803379059, 0.13678190112113953, 0.22796984016895294, 0.06257425248622894, 0.010429042391479015, 0.6570296883583069, 0.02085808478295803, 0.09386138617992401, 0.02085808478295803, 0.06257425248622894, 0.04171616956591606, 0.03128712624311447, 0.013979841023683548, 0.2376573085784912, 0.7129719257354736, 0.2381129413843155, 0.6349678635597229, 0.13707126677036285, 0.4797494411468506, 0.019581610336899757, 0.3035149574279785, 0.02937241457402706, 0.02937241457402706, 0.4442841708660126, 0.03173458203673363, 0.4760187566280365, 0.6589920520782471, 0.2745800316333771, 0.027458002790808678, 0.02093636617064476, 0.8793274164199829, 0.02093636617064476, 0.04187273234128952, 0.7729312777519226, 0.07246231287717819, 0.02415410242974758, 0.07246231287717819, 0.045940134674310684, 0.061253514140844345, 0.6278485059738159, 0.12250702828168869, 0.030626757070422173, 0.09188026934862137, 0.030626757070422173, 0.684045135974884, 0.20118974149227142, 0.06300187855958939, 0.6772701740264893, 0.12600375711917877, 0.015750469639897346, 0.07875234633684158, 0.015750469639897346, 0.02486151084303856, 0.08452913165092468, 0.5817593336105347, 0.06961222738027573, 0.12927985191345215, 0.02983381226658821, 0.014916906133294106, 0.03480611369013786, 0.02486151084303856, 0.30995017290115356, 0.18941399455070496, 0.2755112648010254, 0.08609727025032043, 0.10331672430038452, 0.8694344758987427, 0.03699721023440361, 0.018498605117201805, 0.03699721023440361, 0.20635317265987396, 0.6780175566673279, 0.05895804986357689, 0.7867388725280762, 0.0437077172100544, 0.0874154344201088, 0.7869892120361328, 0.0507734976708889, 0.0507734976708889, 0.0761602446436882, 0.01626482978463173, 0.08945656567811966, 0.569269061088562, 0.024397244676947594, 0.2683696746826172, 0.01626482978463173, 0.023639820516109467, 0.20093847811222076, 0.5437158942222595, 0.0354597307741642, 0.08273936808109283, 0.11819910258054733, 0.8145319819450378, 0.07404836267232895, 0.01308014988899231, 0.045780524611473083, 0.549366295337677, 0.06540074944496155, 0.25506293773651123, 0.01308014988899231, 0.03924044966697693, 0.01308014988899231, 0.05716420337557793, 0.8145898580551147, 0.07145525515079498, 0.028582101687788963, 0.11173646152019501, 0.44694584608078003, 0.03352094069123268, 0.24582022428512573, 0.10056281834840775, 0.02234729193150997, 0.02234729193150997, 0.3533582389354706, 0.22486433386802673, 0.2569878101348877, 0.06424695253372192, 0.03212347626686096, 0.7881386280059814, 0.13706758618354797, 0.2272365838289261, 0.5680914521217346, 0.02840457297861576, 0.05680914595723152, 0.018936380743980408, 0.08521372079849243, 0.522956132888794, 0.35953232645988464, 0.019033225253224373, 0.43776416778564453, 0.038066450506448746, 0.20936547219753265, 0.20936547219753265, 0.07613290101289749, 0.12902246415615082, 0.7741348147392273, 0.8249683976173401, 0.022915789857506752, 0.09166315943002701, 0.022915789857506752, 0.02887040749192238, 0.02887040749192238, 0.8083714246749878, 0.05774081498384476, 0.05774081498384476, 0.01443520374596119, 0.9289950132369995, 0.02160453423857689, 0.21681608259677887, 0.7046522498130798, 0.8145337700843811, 0.03973335400223732, 0.09933338314294815, 0.899776041507721, 0.03911610692739487, 0.6884434819221497, 0.031292885541915894, 0.1486412137746811, 0.04693932831287384, 0.007823221385478973, 0.015646442770957947, 0.02346966415643692, 0.9029371738433838, 0.02579820528626442, 0.07750630378723145, 0.03875315189361572, 0.6588035821914673, 0.1550126075744629, 0.027612363919615746, 0.731727659702301, 0.06903091073036194, 0.06903091073036194, 0.013806181959807873, 0.05522472783923149, 0.013806181959807873, 0.013806181959807873, 0.015224640257656574, 0.0761232003569603, 0.6927211284637451, 0.05328623950481415, 0.09896016120910645, 0.03044928051531315, 0.03044928051531315, 0.007612320128828287, 0.061388563364744186, 0.879902720451355, 0.2268265187740326, 0.04536530375480652, 0.31755712628364563, 0.2721918225288391, 0.09073060750961304, 0.03148552030324936, 0.11807069927453995, 0.724166989326477, 0.02361414022743702, 0.07084242254495621, 0.00787138007581234, 0.02361414022743702, 0.07570866495370865, 0.7873700857162476, 0.015141732059419155, 0.09085039794445038, 0.7375518679618835, 0.02304849587380886, 0.1843879669904709, 0.43728843331336975, 0.10932210832834244, 0.05466105416417122, 0.05466105416417122, 0.21864421665668488, 0.9188157320022583, 0.025522658601403236, 0.01061004027724266, 0.09549035876989365, 0.6896526217460632, 0.03713513910770416, 0.058355219662189484, 0.02122008055448532, 0.03713513910770416, 0.02122008055448532, 0.02122008055448532, 0.05939222499728203, 0.05939222499728203, 0.5939222574234009, 0.1781766712665558, 0.05939222499728203, 0.6381838321685791, 0.10210941731929779, 0.12763677537441254, 0.07658205926418304, 0.5653336644172668, 0.35975778102874756, 0.8154742121696472, 0.10522247850894928, 0.5057576894760132, 0.05835665389895439, 0.15561774373054504, 0.01945221796631813, 0.21397440135478973, 0.02237786166369915, 0.8279808759689331, 0.0447557233273983, 0.02237786166369915, 0.03356679156422615, 0.0447557233273983, 0.8902011513710022, 0.0261823870241642, 0.0261823870241642, 0.18225081264972687, 0.7087531685829163, 0.040500178933143616, 0.6366502642631531, 0.15916256606578827, 0.04547502100467682, 0.06821253150701523, 0.02273751050233841, 0.02900252304971218, 0.6380555033683777, 0.02900252304971218, 0.11601009219884872, 0.11601009219884872, 0.024811921641230583, 0.8187934160232544, 0.024811921641230583, 0.12405960261821747, 0.90596604347229, 0.16227321326732635, 0.6490928530693054, 0.03245464339852333, 0.0973639264702797, 0.025622885674238205, 0.7686865925788879, 0.12811443209648132, 0.025622885674238205, 0.014848722144961357, 0.0692940354347229, 0.6335455179214478, 0.039596594870090485, 0.0841427594423294, 0.014848722144961357, 0.04949574172496796, 0.06434446573257446, 0.02474787086248398, 0.025890018790960312, 0.025890018790960312, 0.7249205112457275, 0.15534010529518127, 0.8821275234222412, 0.030418191105127335, 0.04562728479504585, 0.015209095552563667, 0.09373961389064789, 0.6391336917877197, 0.017043566331267357, 0.08521782606840134, 0.05113069713115692, 0.04260891303420067, 0.034087132662534714, 0.034087132662534714, 0.28093600273132324, 0.45971348881721497, 0.05107927694916725, 0.1021585538983345, 0.07661890983581543, 0.47326093912124634, 0.44542208313941956, 0.8221821784973145, 0.0986618623137474, 0.03768622875213623, 0.032302480190992355, 0.6622008681297302, 0.02691873349249363, 0.14536117017269135, 0.04306997358798981, 0.005383746698498726, 0.032302480190992355, 0.010767493396997452, 0.05476968362927437, 0.6024665236473083, 0.21907873451709747, 0.0821545273065567, 0.03403952345252037, 0.08509881049394608, 0.6467509269714355, 0.06807904690504074, 0.13048483431339264, 0.005673253908753395, 0.02269301563501358, 0.005673253908753395, 0.005673253908753395, 0.1441662460565567, 0.7208312153816223, 0.036041561514139175, 0.7815268039703369, 0.11164668947458267, 0.02621745504438877, 0.41947928071022034, 0.20973964035511017, 0.2621745467185974, 0.013108727522194386, 0.02621745504438877, 0.03932617977261543, 0.25273367762565613, 0.4020763039588928, 0.11487893760204315, 0.057439468801021576, 0.04595157504081726, 0.06892736256122589, 0.034463681280612946, 0.04544492065906525, 0.7816526889801025, 0.10906781256198883, 0.018177969381213188, 0.027266953140497208, 0.7916986346244812, 0.14729277789592743, 0.06056855991482735, 0.21198995411396027, 0.5148327350616455, 0.030284279957413673, 0.15142139792442322, 0.014797472395002842, 0.8434559106826782, 0.07398736476898193, 0.014797472395002842, 0.014797472395002842, 0.23528514802455902, 0.6274271011352539, 0.05228558927774429, 0.05228558927774429, 0.026142794638872147, 0.7577480673789978, 0.04592412710189819, 0.16073444485664368, 0.2455906867980957, 0.03508438169956207, 0.31575945019721985, 0.03508438169956207, 0.10525314509868622, 0.21050629019737244, 0.902230441570282, 0.03222251683473587, 0.04818536713719368, 0.0803089439868927, 0.5621625781059265, 0.11243251711130142, 0.03212357684969902, 0.06424715369939804, 0.01606178842484951, 0.0803089439868927, 0.048505254089832306, 0.10913681983947754, 0.6426945924758911, 0.12126313149929047, 0.024252627044916153, 0.024252627044916153, 0.012126313522458076, 0.00967999454587698, 0.09679993987083435, 0.7840795516967773, 0.03871997818350792, 0.048399969935417175, 0.38023215532302856, 0.10863775759935379, 0.08147832006216049, 0.38023215532302856, 0.7041478753089905, 0.037060413509607315, 0.14824165403842926, 0.21976523101329803, 0.6851503849029541, 0.03878209739923477, 0.03878209739923477, 0.22113004326820374, 0.04422600939869881, 0.6191641092300415, 0.027982212603092194, 0.7835019826889038, 0.05596442520618439, 0.027982212603092194, 0.027982212603092194, 0.027982212603092194], \"Term\": [\"absolutely\", \"absolutely\", \"action\", \"action\", \"action\", \"activity\", \"activity\", \"activity\", \"adult\", \"adult\", \"adult\", \"adult\", \"also\", \"also\", \"also\", \"also\", \"also\", \"also\", \"also\", \"always\", \"always\", \"always\", \"always\", \"always\", \"always\", \"always\", \"amazing\", \"amazing\", \"amazing\", \"amazing\", \"amazing\", \"amazing\", \"amazing\", \"amazing\", \"amount\", \"amount\", \"amount\", \"amount\", \"amount\", \"anyone\", \"anyone\", \"anyone\", \"anyone\", \"anything\", \"anything\", \"anything\", \"anything\", \"anything\", \"anywhere\", \"architecture\", \"architecture\", \"around\", \"around\", \"around\", \"around\", \"around\", \"around\", \"around\", \"around\", \"around\", \"atmosphere\", \"atmosphere\", \"atmosphere\", \"attraction\", \"attraction\", \"attraction\", \"attraction\", \"attraction\", \"attraction\", \"awesome\", \"awesome\", \"awesome\", \"awesome\", \"back\", \"back\", \"back\", \"back\", \"back\", \"back\", \"bar\", \"bar\", \"bar\", \"bar\", \"bar\", \"beautiful\", \"beautiful\", \"beautiful\", \"beautiful\", \"beautiful\", \"beautiful\", \"bellagio\", \"bellagio\", \"bellagio\", \"bellagio\", \"bellagio\", \"bellagio\", \"big\", \"big\", \"big\", \"bridge\", \"bright\", \"bright\", \"bright\", \"bright\", \"bright\", \"bright\", \"bus\", \"bus\", \"bus\", \"busy\", \"busy\", \"busy\", \"busy\", \"busy\", \"busy\", \"busy\", \"buy\", \"buy\", \"buy\", \"caesar\", \"caesar\", \"caesar\", \"card\", \"card\", \"card\", \"card\", \"card\", \"casino\", \"casino\", \"casino\", \"casino\", \"casino\", \"casino\", \"casino\", \"casino\", \"casino\", \"center\", \"center\", \"center\", \"change\", \"change\", \"change\", \"character\", \"character\", \"character\", \"charge\", \"cheaper\", \"cheaper\", \"cheaper\", \"cheaper\", \"cheaper\", \"check\", \"check\", \"check\", \"child\", \"child\", \"child\", \"choice\", \"choice\", \"choice\", \"city\", \"city\", \"city\", \"city\", \"city\", \"city\", \"city\", \"city\", \"clean\", \"clean\", \"clean\", \"clean\", \"clean\", \"clean\", \"club\", \"club\", \"club\", \"club\", \"come\", \"come\", \"come\", \"come\", \"come\", \"come\", \"comfortable\", \"comfortable\", \"cool\", \"cool\", \"cool\", \"cool\", \"cost\", \"cost\", \"costume\", \"costume\", \"costume\", \"costume\", \"costume\", \"couple\", \"couple\", \"couple\", \"couple\", \"couple\", \"couple\", \"course\", \"course\", \"crazy\", \"crazy\", \"crazy\", \"crazy\", \"cross\", \"cross\", \"crossing\", \"crossing\", \"crowd\", \"crowd\", \"crowd\", \"crowd\", \"crowd\", \"crowded\", \"crowded\", \"crowded\", \"day\", \"day\", \"day\", \"day\", \"day\", \"day\", \"day\", \"day\", \"day\", \"definitely\", \"definitely\", \"definitely\", \"definitely\", \"definitely\", \"definitely\", \"definitely\", \"definitely\", \"deuce\", \"deuce\", \"deuce\", \"different\", \"different\", \"different\", \"different\", \"different\", \"different\", \"display\", \"display\", \"downtown\", \"downtown\", \"dressed\", \"dressed\", \"dressed\", \"dressed\", \"drink\", \"drink\", \"drink\", \"drink\", \"drink\", \"drink\", \"drunk\", \"drunk\", \"drunk\", \"early\", \"early\", \"early\", \"eat\", \"eat\", \"eat\", \"eat\", \"eat\", \"eat\", \"eating\", \"eating\", \"eiffel\", \"eiffel\", \"else\", \"else\", \"else\", \"else\", \"end\", \"end\", \"end\", \"end\", \"end\", \"energy\", \"energy\", \"energy\", \"enjoy\", \"enjoy\", \"enjoy\", \"enjoy\", \"enjoy\", \"enjoy\", \"enjoy\", \"enjoyed\", \"enjoyed\", \"enjoyed\", \"enjoyed\", \"enjoyed\", \"enough\", \"enough\", \"enough\", \"enough\", \"entertainment\", \"entertainment\", \"entertainment\", \"entertainment\", \"entire\", \"entire\", \"especially\", \"especially\", \"especially\", \"especially\", \"especially\", \"etc\", \"etc\", \"even\", \"even\", \"even\", \"even\", \"even\", \"even\", \"even\", \"evening\", \"evening\", \"evening\", \"evening\", \"ever\", \"ever\", \"ever\", \"every\", \"every\", \"every\", \"every\", \"every\", \"every\", \"everyone\", \"everyone\", \"everyone\", \"everyone\", \"everyone\", \"everyone\", \"everyone\", \"everything\", \"everything\", \"everything\", \"everything\", \"everything\", \"everything\", \"everything\", \"everything\", \"everywhere\", \"everywhere\", \"everywhere\", \"everywhere\", \"exciting\", \"exciting\", \"exciting\", \"exciting\", \"exciting\", \"exciting\", \"exciting\", \"expect\", \"experience\", \"experience\", \"experience\", \"experience\", \"experience\", \"experience\", \"experience\", \"experience\", \"experience\", \"experience\", \"explore\", \"explore\", \"explore\", \"explore\", \"explore\", \"eye\", \"eye\", \"eye\", \"eye\", \"family\", \"family\", \"family\", \"family\", \"famous\", \"famous\", \"famous\", \"famous\", \"fantastic\", \"fantastic\", \"fantastic\", \"favorite\", \"favorite\", \"favorite\", \"fee\", \"find\", \"find\", \"find\", \"find\", \"find\", \"first\", \"first\", \"first\", \"foot\", \"foot\", \"foot\", \"foot\", \"foot\", \"forget\", \"forget\", \"forget\", \"forget\", \"fountain\", \"fountain\", \"fountain\", \"fountain\", \"fountain\", \"fremont\", \"fremont\", \"friend\", \"friend\", \"friendly\", \"friendly\", \"friendly\", \"friendly\", \"friendly\", \"full\", \"full\", \"full\", \"full\", \"full\", \"full\", \"fun\", \"fun\", \"fun\", \"fun\", \"fun\", \"fun\", \"fun\", \"fun\", \"gamble\", \"gamble\", \"gamble\", \"gambler\", \"gambler\", \"gambler\", \"gambler\", \"get\", \"get\", \"get\", \"get\", \"get\", \"get\", \"get\", \"get\", \"getting\", \"girl\", \"girl\", \"girl\", \"girl\", \"girl\", \"give\", \"give\", \"go\", \"go\", \"go\", \"go\", \"going\", \"going\", \"going\", \"going\", \"going\", \"going\", \"going\", \"going\", \"good\", \"good\", \"good\", \"good\", \"good\", \"good\", \"good\", \"good\", \"great\", \"great\", \"great\", \"great\", \"great\", \"great\", \"great\", \"great\", \"great\", \"half\", \"half\", \"half\", \"half\", \"half\", \"half\", \"heat\", \"heat\", \"heat\", \"hollywood\", \"hollywood\", \"hollywood\", \"hollywood\", \"homeless\", \"homeless\", \"homeless\", \"homeless\", \"hot\", \"hot\", \"hot\", \"hot\", \"hot\", \"hot\", \"hot\", \"hotel\", \"hotel\", \"hotel\", \"hotel\", \"hotel\", \"hotel\", \"hotel\", \"hotel\", \"hotel\", \"inside\", \"inside\", \"inside\", \"inside\", \"inside\", \"inside\", \"interesting\", \"interesting\", \"interesting\", \"interesting\", \"interesting\", \"kid\", \"kid\", \"kid\", \"kid\", \"kid\", \"kid\", \"know\", \"know\", \"know\", \"know\", \"la\", \"la\", \"la\", \"la\", \"la\", \"la\", \"la\", \"la\", \"large\", \"large\", \"last\", \"last\", \"last\", \"le\", \"le\", \"least\", \"least\", \"least\", \"least\", \"least\", \"least\", \"life\", \"life\", \"life\", \"life\", \"life\", \"light\", \"light\", \"light\", \"light\", \"light\", \"light\", \"light\", \"light\", \"light\", \"like\", \"like\", \"like\", \"like\", \"like\", \"like\", \"like\", \"like\", \"list\", \"list\", \"list\", \"list\", \"lit\", \"lit\", \"lit\", \"lit\", \"little\", \"little\", \"little\", \"live\", \"live\", \"live\", \"load\", \"load\", \"load\", \"long\", \"long\", \"long\", \"long\", \"long\", \"long\", \"long\", \"longer\", \"longer\", \"look\", \"look\", \"look\", \"look\", \"look\", \"look\", \"look\", \"looking\", \"looking\", \"looking\", \"looking\", \"lot\", \"lot\", \"lot\", \"lot\", \"lot\", \"lot\", \"lot\", \"lot\", \"lot\", \"lot\", \"love\", \"love\", \"love\", \"love\", \"love\", \"love\", \"loved\", \"loved\", \"loved\", \"loved\", \"loved\", \"loved\", \"loved\", \"loved\", \"made\", \"made\", \"main\", \"main\", \"main\", \"make\", \"make\", \"make\", \"make\", \"make\", \"many\", \"many\", \"many\", \"many\", \"many\", \"many\", \"many\", \"many\", \"many\", \"matter\", \"matter\", \"matter\", \"may\", \"may\", \"may\", \"may\", \"meal\", \"meal\", \"mgm\", \"mgm\", \"mgm\", \"mgm\", \"mgm\", \"middle\", \"middle\", \"middle\", \"middle\", \"middle\", \"mile\", \"mile\", \"mile\", \"mind\", \"mind\", \"mind\", \"mind\", \"mirage\", \"mirage\", \"mirage\", \"miss\", \"monorail\", \"monorail\", \"morning\", \"morning\", \"much\", \"much\", \"much\", \"much\", \"much\", \"much\", \"much\", \"much\", \"much\", \"music\", \"music\", \"music\", \"must\", \"must\", \"must\", \"must\", \"must\", \"must\", \"need\", \"need\", \"need\", \"need\", \"need\", \"neon\", \"neon\", \"neon\", \"never\", \"never\", \"never\", \"never\", \"never\", \"never\", \"never\", \"new\", \"new\", \"new\", \"new\", \"new\", \"new\", \"next\", \"next\", \"nice\", \"nice\", \"nice\", \"nice\", \"night\", \"night\", \"night\", \"night\", \"night\", \"night\", \"night\", \"night\", \"night\", \"nothing\", \"nothing\", \"nothing\", \"nothing\", \"nothing\", \"old\", \"old\", \"old\", \"old\", \"one\", \"one\", \"one\", \"one\", \"one\", \"one\", \"one\", \"one\", \"one\", \"open\", \"open\", \"open\", \"option\", \"option\", \"option\", \"option\", \"palace\", \"palace\", \"palace\", \"parking\", \"party\", \"party\", \"party\", \"party\", \"party\", \"pas\", \"pas\", \"pas\", \"people\", \"people\", \"people\", \"people\", \"people\", \"people\", \"people\", \"people\", \"people\", \"performer\", \"performer\", \"performer\", \"performer\", \"photo\", \"photo\", \"photo\", \"photo\", \"photo\", \"photo\", \"picture\", \"picture\", \"place\", \"place\", \"place\", \"place\", \"place\", \"place\", \"place\", \"place\", \"place\", \"plan\", \"plan\", \"planet\", \"planet\", \"planet\", \"play\", \"play\", \"play\", \"play\", \"plenty\", \"plenty\", \"plenty\", \"plenty\", \"plenty\", \"plenty\", \"plus\", \"plus\", \"plus\", \"pool\", \"pool\", \"pool\", \"pool\", \"prepared\", \"prepared\", \"prepared\", \"pretty\", \"pretty\", \"pretty\", \"pretty\", \"pretty\", \"pretty\", \"price\", \"price\", \"price\", \"quite\", \"quite\", \"quite\", \"quite\", \"quite\", \"quite\", \"quite\", \"real\", \"real\", \"real\", \"real\", \"real\", \"really\", \"really\", \"really\", \"really\", \"really\", \"really\", \"really\", \"really\", \"really\", \"recommend\", \"recommend\", \"recommend\", \"remember\", \"remember\", \"restaurant\", \"restaurant\", \"restaurant\", \"restaurant\", \"restaurant\", \"restaurant\", \"ride\", \"ride\", \"ride\", \"right\", \"right\", \"right\", \"road\", \"road\", \"road\", \"road\", \"room\", \"room\", \"room\", \"room\", \"safe\", \"safe\", \"safe\", \"safe\", \"safe\", \"safe\", \"safe\", \"said\", \"said\", \"say\", \"say\", \"say\", \"say\", \"say\", \"say\", \"see\", \"see\", \"see\", \"see\", \"see\", \"see\", \"see\", \"see\", \"see\", \"seeing\", \"seeing\", \"seeing\", \"seeing\", \"seeing\", \"seen\", \"seen\", \"seen\", \"seen\", \"sell\", \"sell\", \"sell\", \"service\", \"service\", \"service\", \"shoe\", \"shoe\", \"shoe\", \"shoe\", \"shop\", \"shop\", \"shop\", \"shop\", \"shop\", \"shop\", \"shopping\", \"shopping\", \"shopping\", \"shopping\", \"shopping\", \"shopping\", \"short\", \"short\", \"show\", \"show\", \"show\", \"show\", \"show\", \"show\", \"show\", \"show\", \"side\", \"side\", \"side\", \"side\", \"sight\", \"sight\", \"sight\", \"sight\", \"sight\", \"sight\", \"sight\", \"site\", \"site\", \"site\", \"site\", \"site\", \"small\", \"small\", \"something\", \"something\", \"something\", \"something\", \"something\", \"something\", \"sort\", \"sort\", \"sound\", \"sound\", \"sound\", \"sound\", \"sound\", \"sound\", \"spent\", \"spent\", \"start\", \"start\", \"start\", \"start\", \"stay\", \"stay\", \"stay\", \"stay\", \"stay\", \"stay\", \"stayed\", \"stayed\", \"staying\", \"staying\", \"store\", \"store\", \"store\", \"stratosphere\", \"street\", \"street\", \"street\", \"street\", \"street\", \"street\", \"street\", \"street\", \"stroll\", \"stroll\", \"stuff\", \"stuff\", \"stuff\", \"stuff\", \"sure\", \"sure\", \"sure\", \"sure\", \"sure\", \"sure\", \"sure\", \"sure\", \"take\", \"take\", \"take\", \"take\", \"take\", \"take\", \"take\", \"take\", \"taking\", \"taking\", \"theme\", \"theme\", \"theme\", \"theme\", \"theme\", \"thing\", \"thing\", \"thing\", \"thing\", \"thing\", \"thing\", \"thing\", \"think\", \"think\", \"think\", \"think\", \"though\", \"though\", \"though\", \"thought\", \"thought\", \"thought\", \"thought\", \"thought\", \"ticket\", \"ticket\", \"time\", \"time\", \"time\", \"time\", \"time\", \"time\", \"time\", \"time\", \"time\", \"totally\", \"totally\", \"totally\", \"totally\", \"totally\", \"tourist\", \"tourist\", \"tourist\", \"tourist\", \"tower\", \"tower\", \"town\", \"town\", \"traffic\", \"traffic\", \"traffic\", \"traffic\", \"traffic\", \"trip\", \"trip\", \"trip\", \"trip\", \"trip\", \"trip\", \"try\", \"try\", \"try\", \"trying\", \"trying\", \"trying\", \"unique\", \"unique\", \"unique\", \"unique\", \"unique\", \"use\", \"use\", \"use\", \"use\", \"use\", \"used\", \"used\", \"used\", \"used\", \"usually\", \"variety\", \"variety\", \"variety\", \"variety\", \"various\", \"various\", \"various\", \"various\", \"vega\", \"vega\", \"vega\", \"vega\", \"vega\", \"vega\", \"vega\", \"vega\", \"vega\", \"venetian\", \"venetian\", \"venetian\", \"venetian\", \"view\", \"view\", \"view\", \"view\", \"visit\", \"visit\", \"visit\", \"visit\", \"visit\", \"visit\", \"visit\", \"visit\", \"visiting\", \"visiting\", \"visiting\", \"visiting\", \"visiting\", \"volcano\", \"volcano\", \"wait\", \"wait\", \"walk\", \"walk\", \"walk\", \"walk\", \"walk\", \"walk\", \"walk\", \"walk\", \"walk\", \"walked\", \"walked\", \"walked\", \"walked\", \"walking\", \"walking\", \"walking\", \"walking\", \"walking\", \"walking\", \"walking\", \"walking\", \"walking\", \"walkway\", \"walkway\", \"walkway\", \"wanted\", \"wanted\", \"watch\", \"watch\", \"watch\", \"watch\", \"watch\", \"watch\", \"watch\", \"watching\", \"watching\", \"watching\", \"watching\", \"watching\", \"watching\", \"watching\", \"way\", \"way\", \"way\", \"way\", \"way\", \"wear\", \"wear\", \"week\", \"week\", \"week\", \"week\", \"week\", \"went\", \"went\", \"went\", \"went\", \"went\", \"whole\", \"whole\", \"whole\", \"whole\", \"whole\", \"without\", \"without\", \"without\", \"wonderful\", \"wonderful\", \"wonderful\", \"wonderful\", \"wonderful\", \"wonderful\", \"work\", \"work\", \"world\", \"world\", \"world\", \"world\", \"world\", \"world\", \"world\", \"world\", \"worth\", \"worth\", \"worth\", \"worth\", \"worth\", \"worth\", \"worth\", \"would\", \"would\", \"would\", \"would\", \"would\", \"wow\", \"wow\", \"wow\", \"wow\", \"wynn\", \"wynn\", \"wynn\", \"year\", \"year\", \"year\", \"year\", \"york\", \"york\", \"york\", \"young\", \"young\", \"young\", \"young\", \"young\", \"young\"]}, \"R\": 30, \"lambda.step\": 0.01, \"plot.opts\": {\"xlab\": \"PC1\", \"ylab\": \"PC2\"}, \"topic.order\": [1, 2, 3, 4, 5, 6, 7, 8, 9, 10]};\n",
       "\n",
       "function LDAvis_load_lib(url, callback){\n",
       "  var s = document.createElement('script');\n",
       "  s.src = url;\n",
       "  s.async = true;\n",
       "  s.onreadystatechange = s.onload = callback;\n",
       "  s.onerror = function(){console.warn(\"failed to load library \" + url);};\n",
       "  document.getElementsByTagName(\"head\")[0].appendChild(s);\n",
       "}\n",
       "\n",
       "if(typeof(LDAvis) !== \"undefined\"){\n",
       "   // already loaded: just create the visualization\n",
       "   !function(LDAvis){\n",
       "       new LDAvis(\"#\" + \"ldavis_el1383622668584744969157073070\", ldavis_el1383622668584744969157073070_data);\n",
       "   }(LDAvis);\n",
       "}else if(typeof define === \"function\" && define.amd){\n",
       "   // require.js is available: use it to load d3/LDAvis\n",
       "   require.config({paths: {d3: \"https://cdnjs.cloudflare.com/ajax/libs/d3/3.5.5/d3.min\"}});\n",
       "   require([\"d3\"], function(d3){\n",
       "      window.d3 = d3;\n",
       "      LDAvis_load_lib(\"https://cdn.rawgit.com/bmabey/pyLDAvis/files/ldavis.v1.0.0.js\", function(){\n",
       "        new LDAvis(\"#\" + \"ldavis_el1383622668584744969157073070\", ldavis_el1383622668584744969157073070_data);\n",
       "      });\n",
       "    });\n",
       "}else{\n",
       "    // require.js not available: dynamically load d3 & LDAvis\n",
       "    LDAvis_load_lib(\"https://cdnjs.cloudflare.com/ajax/libs/d3/3.5.5/d3.min.js\", function(){\n",
       "         LDAvis_load_lib(\"https://cdn.rawgit.com/bmabey/pyLDAvis/files/ldavis.v1.0.0.js\", function(){\n",
       "                 new LDAvis(\"#\" + \"ldavis_el1383622668584744969157073070\", ldavis_el1383622668584744969157073070_data);\n",
       "            })\n",
       "         });\n",
       "}\n",
       "</script>"
      ],
      "text/plain": [
       "<IPython.core.display.HTML object>"
      ]
     },
     "execution_count": 77,
     "metadata": {},
     "output_type": "execute_result"
    }
   ],
   "source": [
    "import pyLDAvis.gensim\n",
    "lda_display = pyLDAvis.gensim.prepare(lda_model_tfidf, doc_term_matrix, dictionary, sort_topics=False)\n",
    "pyLDAvis.display(lda_display)"
   ]
  },
  {
   "cell_type": "code",
   "execution_count": null,
   "metadata": {
    "collapsed": true
   },
   "outputs": [],
   "source": []
  }
 ],
 "metadata": {
  "kernelspec": {
   "display_name": "Python 3",
   "language": "python",
   "name": "python3"
  },
  "language_info": {
   "codemirror_mode": {
    "name": "ipython",
    "version": 3
   },
   "file_extension": ".py",
   "mimetype": "text/x-python",
   "name": "python",
   "nbconvert_exporter": "python",
   "pygments_lexer": "ipython3",
   "version": "3.6.5"
  }
 },
 "nbformat": 4,
 "nbformat_minor": 2
}
