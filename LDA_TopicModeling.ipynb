{
 "cells": [
  {
   "cell_type": "code",
   "execution_count": 1,
   "metadata": {},
   "outputs": [],
   "source": [
    "#load the csv to the notebook\n",
    "import pandas as pd\n",
    "import datetime "
   ]
  },
  {
   "cell_type": "code",
   "execution_count": 2,
   "metadata": {},
   "outputs": [
    {
     "data": {
      "text/html": [
       "<div>\n",
       "<style scoped>\n",
       "    .dataframe tbody tr th:only-of-type {\n",
       "        vertical-align: middle;\n",
       "    }\n",
       "\n",
       "    .dataframe tbody tr th {\n",
       "        vertical-align: top;\n",
       "    }\n",
       "\n",
       "    .dataframe thead th {\n",
       "        text-align: right;\n",
       "    }\n",
       "</style>\n",
       "<table border=\"1\" class=\"dataframe\">\n",
       "  <thead>\n",
       "    <tr style=\"text-align: right;\">\n",
       "      <th></th>\n",
       "      <th>Unnamed: 0</th>\n",
       "      <th>user</th>\n",
       "      <th>location</th>\n",
       "      <th>date</th>\n",
       "      <th>rating</th>\n",
       "      <th>title</th>\n",
       "      <th>comments</th>\n",
       "    </tr>\n",
       "  </thead>\n",
       "  <tbody>\n",
       "    <tr>\n",
       "      <th>0</th>\n",
       "      <td>0</td>\n",
       "      <td>s6steve</td>\n",
       "      <td>Sheffield, United Kingdom</td>\n",
       "      <td>July 9, 2018</td>\n",
       "      <td>20</td>\n",
       "      <td>Over priced over rated</td>\n",
       "      <td>Over rated new Las Vegas has taken away the sp...</td>\n",
       "    </tr>\n",
       "    <tr>\n",
       "      <th>1</th>\n",
       "      <td>0</td>\n",
       "      <td>sathyanupheap</td>\n",
       "      <td>unknown</td>\n",
       "      <td>July 9, 2018</td>\n",
       "      <td>40</td>\n",
       "      <td>Plenty to See...</td>\n",
       "      <td>I rented a Mini Cooper convertible and it was ...</td>\n",
       "    </tr>\n",
       "    <tr>\n",
       "      <th>2</th>\n",
       "      <td>0</td>\n",
       "      <td>Blu H</td>\n",
       "      <td>unknown</td>\n",
       "      <td>July 9, 2018</td>\n",
       "      <td>50</td>\n",
       "      <td>City of anything goes!</td>\n",
       "      <td>If you haven¡¯t been here yet you¡¯re probably...</td>\n",
       "    </tr>\n",
       "    <tr>\n",
       "      <th>3</th>\n",
       "      <td>0</td>\n",
       "      <td>anita a</td>\n",
       "      <td>Los Angeles, California</td>\n",
       "      <td>July 9, 2018</td>\n",
       "      <td>30</td>\n",
       "      <td>Not like it use to be</td>\n",
       "      <td>Back in the day you could eat and have fun on ...</td>\n",
       "    </tr>\n",
       "    <tr>\n",
       "      <th>4</th>\n",
       "      <td>0</td>\n",
       "      <td>kristycullinan</td>\n",
       "      <td>Philadelphia, Pennsylvania</td>\n",
       "      <td>July 9, 2018</td>\n",
       "      <td>30</td>\n",
       "      <td>Walking walking and more walking.</td>\n",
       "      <td>The strip is 5 miles long and pretty spaced ou...</td>\n",
       "    </tr>\n",
       "  </tbody>\n",
       "</table>\n",
       "</div>"
      ],
      "text/plain": [
       "   Unnamed: 0            user                    location          date  \\\n",
       "0           0         s6steve   Sheffield, United Kingdom  July 9, 2018   \n",
       "1           0   sathyanupheap                     unknown  July 9, 2018   \n",
       "2           0           Blu H                     unknown  July 9, 2018   \n",
       "3           0         anita a     Los Angeles, California  July 9, 2018   \n",
       "4           0  kristycullinan  Philadelphia, Pennsylvania  July 9, 2018   \n",
       "\n",
       "   rating                              title  \\\n",
       "0      20             Over priced over rated   \n",
       "1      40                   Plenty to See...   \n",
       "2      50             City of anything goes!   \n",
       "3      30              Not like it use to be   \n",
       "4      30  Walking walking and more walking.   \n",
       "\n",
       "                                            comments  \n",
       "0  Over rated new Las Vegas has taken away the sp...  \n",
       "1  I rented a Mini Cooper convertible and it was ...  \n",
       "2  If you haven¡¯t been here yet you¡¯re probably...  \n",
       "3  Back in the day you could eat and have fun on ...  \n",
       "4  The strip is 5 miles long and pretty spaced ou...  "
      ]
     },
     "execution_count": 2,
     "metadata": {},
     "output_type": "execute_result"
    }
   ],
   "source": [
    "rawInput=pd.read_csv('lasvegasStrip.csv',encoding=\"ISO-8859-1\")\n",
    "rawInput.head()"
   ]
  },
  {
   "cell_type": "code",
   "execution_count": 66,
   "metadata": {},
   "outputs": [],
   "source": [
    "rawInput['realDate']=[datetime.datetime.strptime(i,'%B %d, %Y') for i in rawInput['date']]"
   ]
  },
  {
   "cell_type": "code",
   "execution_count": 69,
   "metadata": {},
   "outputs": [],
   "source": [
    "rawInput=rawInput[rawInput['realDate']>datetime.datetime.strptime('January 01, 2014','%B %d, %Y')]"
   ]
  },
  {
   "cell_type": "markdown",
   "metadata": {},
   "source": [
    "## preprocess text"
   ]
  },
  {
   "cell_type": "code",
   "execution_count": 2,
   "metadata": {},
   "outputs": [],
   "source": [
    "#import the nltk lib for preprocessing\n",
    "import nltk\n",
    "from nltk.corpus import stopwords \n",
    "from nltk.stem.wordnet import WordNetLemmatizer"
   ]
  },
  {
   "cell_type": "code",
   "execution_count": 5,
   "metadata": {},
   "outputs": [
    {
     "data": {
      "text/plain": [
       "['i',\n",
       " 'me',\n",
       " 'my',\n",
       " 'myself',\n",
       " 'we',\n",
       " 'our',\n",
       " 'ours',\n",
       " 'ourselves',\n",
       " 'you',\n",
       " \"you're\",\n",
       " \"you've\",\n",
       " \"you'll\",\n",
       " \"you'd\",\n",
       " 'your',\n",
       " 'yours',\n",
       " 'yourself',\n",
       " 'yourselves',\n",
       " 'he',\n",
       " 'him',\n",
       " 'his',\n",
       " 'himself',\n",
       " 'she',\n",
       " \"she's\",\n",
       " 'her',\n",
       " 'hers',\n",
       " 'herself',\n",
       " 'it',\n",
       " \"it's\",\n",
       " 'its',\n",
       " 'itself',\n",
       " 'they',\n",
       " 'them',\n",
       " 'their',\n",
       " 'theirs',\n",
       " 'themselves',\n",
       " 'what',\n",
       " 'which',\n",
       " 'who',\n",
       " 'whom',\n",
       " 'this',\n",
       " 'that',\n",
       " \"that'll\",\n",
       " 'these',\n",
       " 'those',\n",
       " 'am',\n",
       " 'is',\n",
       " 'are',\n",
       " 'was',\n",
       " 'were',\n",
       " 'be',\n",
       " 'been',\n",
       " 'being',\n",
       " 'have',\n",
       " 'has',\n",
       " 'had',\n",
       " 'having',\n",
       " 'do',\n",
       " 'does',\n",
       " 'did',\n",
       " 'doing',\n",
       " 'a',\n",
       " 'an',\n",
       " 'the',\n",
       " 'and',\n",
       " 'but',\n",
       " 'if',\n",
       " 'or',\n",
       " 'because',\n",
       " 'as',\n",
       " 'until',\n",
       " 'while',\n",
       " 'of',\n",
       " 'at',\n",
       " 'by',\n",
       " 'for',\n",
       " 'with',\n",
       " 'about',\n",
       " 'against',\n",
       " 'between',\n",
       " 'into',\n",
       " 'through',\n",
       " 'during',\n",
       " 'before',\n",
       " 'after',\n",
       " 'above',\n",
       " 'below',\n",
       " 'to',\n",
       " 'from',\n",
       " 'up',\n",
       " 'down',\n",
       " 'in',\n",
       " 'out',\n",
       " 'on',\n",
       " 'off',\n",
       " 'over',\n",
       " 'under',\n",
       " 'again',\n",
       " 'further',\n",
       " 'then',\n",
       " 'once',\n",
       " 'here',\n",
       " 'there',\n",
       " 'when',\n",
       " 'where',\n",
       " 'why',\n",
       " 'how',\n",
       " 'all',\n",
       " 'any',\n",
       " 'both',\n",
       " 'each',\n",
       " 'few',\n",
       " 'more',\n",
       " 'most',\n",
       " 'other',\n",
       " 'some',\n",
       " 'such',\n",
       " 'no',\n",
       " 'nor',\n",
       " 'not',\n",
       " 'only',\n",
       " 'own',\n",
       " 'same',\n",
       " 'so',\n",
       " 'than',\n",
       " 'too',\n",
       " 'very',\n",
       " 's',\n",
       " 't',\n",
       " 'can',\n",
       " 'will',\n",
       " 'just',\n",
       " 'don',\n",
       " \"don't\",\n",
       " 'should',\n",
       " \"should've\",\n",
       " 'now',\n",
       " 'd',\n",
       " 'll',\n",
       " 'm',\n",
       " 'o',\n",
       " 're',\n",
       " 've',\n",
       " 'y',\n",
       " 'ain',\n",
       " 'aren',\n",
       " \"aren't\",\n",
       " 'couldn',\n",
       " \"couldn't\",\n",
       " 'didn',\n",
       " \"didn't\",\n",
       " 'doesn',\n",
       " \"doesn't\",\n",
       " 'hadn',\n",
       " \"hadn't\",\n",
       " 'hasn',\n",
       " \"hasn't\",\n",
       " 'haven',\n",
       " \"haven't\",\n",
       " 'isn',\n",
       " \"isn't\",\n",
       " 'ma',\n",
       " 'mightn',\n",
       " \"mightn't\",\n",
       " 'mustn',\n",
       " \"mustn't\",\n",
       " 'needn',\n",
       " \"needn't\",\n",
       " 'shan',\n",
       " \"shan't\",\n",
       " 'shouldn',\n",
       " \"shouldn't\",\n",
       " 'wasn',\n",
       " \"wasn't\",\n",
       " 'weren',\n",
       " \"weren't\",\n",
       " 'won',\n",
       " \"won't\",\n",
       " 'wouldn',\n",
       " \"wouldn't\"]"
      ]
     },
     "execution_count": 5,
     "metadata": {},
     "output_type": "execute_result"
    }
   ],
   "source": [
    "stopwords.words('english')"
   ]
  },
  {
   "cell_type": "code",
   "execution_count": 71,
   "metadata": {},
   "outputs": [],
   "source": [
    "#nltk.download() #make sure the computer has all nltk corpus"
   ]
  },
  {
   "cell_type": "code",
   "execution_count": 72,
   "metadata": {},
   "outputs": [],
   "source": [
    "import string #for getting punctuation\n",
    "import gensim"
   ]
  },
  {
   "cell_type": "code",
   "execution_count": 73,
   "metadata": {},
   "outputs": [],
   "source": [
    "stop = set(stopwords.words('english'))\n",
    "excludeMyself=['put','thats','that','what','whats','vega','la','las','thing','soooo','so','soo','sooo','world','si','lot','ops','didnt','cant','some',\n",
    "              'somehow','describe','name','whilst','even','actual','one','two','three','four','five','six','seven','eight','nine','ten','duck','amongst',\n",
    "              'something','most','fully','what','whats','whatever','many','stip','strip','occasional','occasionally','wont','will','non','i','ive']\n",
    "exclude = list(set(string.punctuation))\n",
    "lemma = WordNetLemmatizer()##WordNetLemmatizer is a class"
   ]
  },
  {
   "cell_type": "code",
   "execution_count": 74,
   "metadata": {},
   "outputs": [
    {
     "name": "stdout",
     "output_type": "stream",
     "text": [
      "[';', '-', ':', '>', '.', '$', '\\\\', ']', '(', '!', '@', '`', '}', '=', '<', '/', '+', '*', '_', ')', '{', '|', '#', \"'\", '&', '~', '%', '\"', '[', '^', '?', ',']\n"
     ]
    }
   ],
   "source": [
    "print (exclude)"
   ]
  },
  {
   "cell_type": "code",
   "execution_count": 75,
   "metadata": {},
   "outputs": [],
   "source": [
    "##a def to clean the text(typical way), very nice\n",
    "def clean(doc):\n",
    "    stop_free = \" \".join([i for i in gensim.utils.simple_preprocess(doc,min_len=3) if i not in stop])\n",
    "    ##simple_preprocess can lowercase words and tokenize them,you can set up min len of token too,here is 3, so word like AI will not be included\n",
    "    punc_free = ''.join(ch for ch in stop_free if ch not in exclude)\n",
    "    normalized = \" \".join(lemma.lemmatize(word) for word in punc_free.split())##这个用来找stem\n",
    "    myselfOutput = \" \".join(word for word in normalized.split() if word not in excludeMyself)##这个用来找stem\n",
    "    return myselfOutput"
   ]
  },
  {
   "cell_type": "code",
   "execution_count": 76,
   "metadata": {},
   "outputs": [
    {
     "data": {
      "text/plain": [
       "'rated new taken away spark original prepared pant drink bother night club guy pretty sexist priced staff everywhere arrogant care long'"
      ]
     },
     "execution_count": 76,
     "metadata": {},
     "output_type": "execute_result"
    }
   ],
   "source": [
    "clean(rawInput['comments'][0])"
   ]
  },
  {
   "cell_type": "markdown",
   "metadata": {},
   "source": [
    "## here is the text dataset"
   ]
  },
  {
   "cell_type": "code",
   "execution_count": 77,
   "metadata": {},
   "outputs": [],
   "source": [
    "doc_complete=rawInput['comments'][:]"
   ]
  },
  {
   "cell_type": "code",
   "execution_count": 78,
   "metadata": {},
   "outputs": [],
   "source": [
    "doc_clean = [clean(doc).split() for doc in doc_complete]    \n",
    "#doc_clean is a list中包list,每个item是一个doc的tokens"
   ]
  },
  {
   "cell_type": "code",
   "execution_count": 79,
   "metadata": {},
   "outputs": [
    {
     "data": {
      "text/plain": [
       "[['rated',\n",
       "  'new',\n",
       "  'taken',\n",
       "  'away',\n",
       "  'spark',\n",
       "  'original',\n",
       "  'prepared',\n",
       "  'pant',\n",
       "  'drink',\n",
       "  'bother',\n",
       "  'night',\n",
       "  'club',\n",
       "  'guy',\n",
       "  'pretty',\n",
       "  'sexist',\n",
       "  'priced',\n",
       "  'staff',\n",
       "  'everywhere',\n",
       "  'arrogant',\n",
       "  'care',\n",
       "  'long'],\n",
       " ['rented',\n",
       "  'mini',\n",
       "  'cooper',\n",
       "  'convertible',\n",
       "  'nice',\n",
       "  'cruise',\n",
       "  'around',\n",
       "  'light',\n",
       "  'sight',\n",
       "  'sound',\n",
       "  'crowd',\n",
       "  'city',\n",
       "  'never',\n",
       "  'sleep',\n",
       "  'everyone',\n",
       "  'young',\n",
       "  'old']]"
      ]
     },
     "execution_count": 79,
     "metadata": {},
     "output_type": "execute_result"
    }
   ],
   "source": [
    "doc_clean[:2]"
   ]
  },
  {
   "cell_type": "markdown",
   "metadata": {},
   "source": [
    "## create gensim corpus dicts and doc_term_Matrix"
   ]
  },
  {
   "cell_type": "code",
   "execution_count": 80,
   "metadata": {},
   "outputs": [],
   "source": [
    "# Importing Gensim\n",
    "import gensim\n",
    "from gensim import corpora"
   ]
  },
  {
   "cell_type": "code",
   "execution_count": 81,
   "metadata": {},
   "outputs": [],
   "source": [
    "# Creating the term dictionary of our courpus, where every unique term（token) is assigned an index. \n",
    "dictionary = corpora.Dictionary(doc_clean)"
   ]
  },
  {
   "cell_type": "code",
   "execution_count": 82,
   "metadata": {},
   "outputs": [
    {
     "name": "stdout",
     "output_type": "stream",
     "text": [
      "15988\n",
      "0 arrogant\n",
      "1 away\n",
      "2 bother\n",
      "3 care\n",
      "4 club\n",
      "5 drink\n",
      "6 everywhere\n",
      "7 guy\n",
      "8 long\n",
      "9 new\n",
      "10 night\n"
     ]
    }
   ],
   "source": [
    "print(len(dictionary))\n",
    "count = 0\n",
    "for k, v in dictionary.iteritems():\n",
    "    print(k, v)\n",
    "    count += 1\n",
    "    if count > 10:\n",
    "        break"
   ]
  },
  {
   "cell_type": "code",
   "execution_count": 83,
   "metadata": {},
   "outputs": [],
   "source": [
    "#### filter_extremes可以把出现less than 15 documents的tokens (absolute number) \n",
    "#or more than 0.5 documents (fraction of total dictionary size, not absolute number). dictionary里有一半都是那个词删掉。\n",
    "#after the above two steps, keep only the first 100000 most frequent tokens.\n",
    "#dictionary.filter_extremes(no_below=15, no_above=0.5, keep_n=100000) #当文字很多的时候用这个,先不run"
   ]
  },
  {
   "cell_type": "code",
   "execution_count": 84,
   "metadata": {},
   "outputs": [],
   "source": [
    "# Converting list of documents (corpus) into Document Term Matrix using dictionary prepared above.\n",
    "doc_term_matrix = [dictionary.doc2bow(doc) for doc in doc_clean]"
   ]
  },
  {
   "cell_type": "code",
   "execution_count": 85,
   "metadata": {},
   "outputs": [
    {
     "name": "stdout",
     "output_type": "stream",
     "text": [
      "['rated', 'new', 'taken', 'away', 'spark', 'original', 'prepared', 'pant', 'drink', 'bother', 'night', 'club', 'guy', 'pretty', 'sexist', 'priced', 'staff', 'everywhere', 'arrogant', 'care', 'long']\n"
     ]
    }
   ],
   "source": [
    "print (doc_clean[0])"
   ]
  },
  {
   "cell_type": "code",
   "execution_count": 86,
   "metadata": {},
   "outputs": [
    {
     "name": "stdout",
     "output_type": "stream",
     "text": [
      "[(0, 1), (1, 1), (2, 1), (3, 1), (4, 1), (5, 1), (6, 1), (7, 1), (8, 1), (9, 1), (10, 1), (11, 1), (12, 1), (13, 1), (14, 1), (15, 1), (16, 1), (17, 1), (18, 1), (19, 1), (20, 1)]\n"
     ]
    }
   ],
   "source": [
    "print (doc_term_matrix[0])###这个matrix是每个doc的list of (token_id, token_count) tuples"
   ]
  },
  {
   "cell_type": "code",
   "execution_count": 87,
   "metadata": {},
   "outputs": [
    {
     "name": "stdout",
     "output_type": "stream",
     "text": [
      "arrogant\n"
     ]
    },
    {
     "data": {
      "text/plain": [
       "'bother'"
      ]
     },
     "execution_count": 87,
     "metadata": {},
     "output_type": "execute_result"
    }
   ],
   "source": [
    "print (dictionary[0])#dictionary 可以直接输入token的id得出token\n",
    "dictionary[doc_term_matrix[0][2][0]]#找到第一个id为0的词"
   ]
  },
  {
   "cell_type": "markdown",
   "metadata": {},
   "source": [
    "## tf-idf model LDA\n",
    "create tf-idf scores, 这个score就是给每个token一个score，这score的好处是：当很多doc都有某个词比如city，那么city对选择topic意义并不大，当有些词是某个doc独有如accessible，那么这个词的意义还更强。。\n",
    "https://rare-technologies.com/pivoted-document-length-normalisation/"
   ]
  },
  {
   "cell_type": "code",
   "execution_count": 88,
   "metadata": {},
   "outputs": [],
   "source": [
    "from gensim import corpora, models\n",
    "tfidf = models.TfidfModel(doc_term_matrix)\n",
    "corpus_tfidf = tfidf[doc_term_matrix]"
   ]
  },
  {
   "cell_type": "code",
   "execution_count": 89,
   "metadata": {},
   "outputs": [
    {
     "data": {
      "text/plain": [
       "[(0, 0.396509863470022),\n",
       " (1, 0.1382966948741414),\n",
       " (2, 0.20752021014663408),\n",
       " (3, 0.20716030464473467),\n",
       " (4, 0.14524124598088017),\n",
       " (5, 0.10239923561973541),\n",
       " (6, 0.1248495840705397),\n",
       " (7, 0.17155354217631966),\n",
       " (8, 0.10714552744349849),\n",
       " (9, 0.10362914064347638),\n",
       " (10, 0.055886188322609706),\n",
       " (11, 0.24286956830418602),\n",
       " (12, 0.30028425774279366),\n",
       " (13, 0.1382966948741414),\n",
       " (14, 0.13849040013105807),\n",
       " (15, 0.1973549061646629),\n",
       " (16, 0.23497574265160948),\n",
       " (17, 0.3686944254631472),\n",
       " (18, 0.3686944254631472),\n",
       " (19, 0.22489069708533646),\n",
       " (20, 0.17793668024085066)]"
      ]
     },
     "execution_count": 89,
     "metadata": {},
     "output_type": "execute_result"
    }
   ],
   "source": [
    "corpus_tfidf[0]##第一个doc里面词的score，可以看到这个score跟doc_term_matrix是不一样的,出现太多的词score小"
   ]
  },
  {
   "cell_type": "code",
   "execution_count": 90,
   "metadata": {},
   "outputs": [],
   "source": [
    "lda_model_tfidf = gensim.models.ldamodel.LdaModel(corpus_tfidf, num_topics=15, id2word=dictionary, passes=50)"
   ]
  },
  {
   "cell_type": "code",
   "execution_count": 91,
   "metadata": {},
   "outputs": [
    {
     "data": {
      "text/plain": [
       "[(0,\n",
       "  '0.007*\"length\" + 0.006*\"colour\" + 0.005*\"pair\" + 0.005*\"fashion\" + 0.005*\"centre\" + 0.005*\"pain\" + 0.005*\"craziness\" + 0.005*\"accessible\" + 0.005*\"pass\" + 0.004*\"transport\" + 0.004*\"odd\" + 0.004*\"anymore\" + 0.004*\"travelled\" + 0.004*\"drunken\" + 0.004*\"hurry\" + 0.004*\"sdx\" + 0.004*\"golden\" + 0.004*\"glitter\" + 0.004*\"cab\" + 0.004*\"boutique\"'),\n",
       " (1,\n",
       "  '0.008*\"change\" + 0.007*\"circus\" + 0.005*\"disappoint\" + 0.005*\"completely\" + 0.005*\"property\" + 0.005*\"eatery\" + 0.005*\"allow\" + 0.004*\"dance\" + 0.004*\"bother\" + 0.004*\"round\" + 0.004*\"linq\" + 0.004*\"lined\" + 0.004*\"honestly\" + 0.004*\"whenever\" + 0.004*\"seriously\" + 0.004*\"sleeping\" + 0.004*\"morning\" + 0.004*\"advantage\" + 0.004*\"newer\" + 0.003*\"house\"'),\n",
       " (2,\n",
       "  '0.006*\"carlo\" + 0.006*\"monte\" + 0.006*\"pushy\" + 0.005*\"hawker\" + 0.005*\"behind\" + 0.004*\"lighting\" + 0.004*\"presence\" + 0.004*\"firework\" + 0.004*\"watched\" + 0.004*\"unsafe\" + 0.004*\"airport\" + 0.004*\"east\" + 0.004*\"daylight\" + 0.004*\"eve\" + 0.003*\"circus\" + 0.003*\"timeshare\" + 0.003*\"museum\" + 0.003*\"doubt\" + 0.003*\"journey\" + 0.003*\"bet\"'),\n",
       " (3,\n",
       "  '0.010*\"august\" + 0.007*\"nude\" + 0.007*\"rent\" + 0.007*\"gotta\" + 0.007*\"beverage\" + 0.007*\"riding\" + 0.006*\"figure\" + 0.006*\"mood\" + 0.006*\"married\" + 0.006*\"connecting\" + 0.006*\"weirdo\" + 0.006*\"dancer\" + 0.005*\"gaudy\" + 0.005*\"scooter\" + 0.005*\"plain\" + 0.005*\"allows\" + 0.004*\"slowly\" + 0.004*\"mobility\" + 0.004*\"race\" + 0.004*\"shark\"'),\n",
       " (4,\n",
       "  '0.006*\"flyer\" + 0.005*\"believe\" + 0.005*\"sometimes\" + 0.005*\"amazed\" + 0.005*\"second\" + 0.004*\"weird\" + 0.004*\"month\" + 0.004*\"fast\" + 0.004*\"wanting\" + 0.004*\"beauty\" + 0.004*\"vendor\" + 0.004*\"twice\" + 0.004*\"giving\" + 0.004*\"leave\" + 0.004*\"hear\" + 0.004*\"morning\" + 0.004*\"within\" + 0.004*\"single\" + 0.004*\"flashing\" + 0.004*\"themed\"'),\n",
       " (5,\n",
       "  '0.010*\"list\" + 0.009*\"bored\" + 0.008*\"brilliant\" + 0.008*\"daytime\" + 0.008*\"cab\" + 0.007*\"bucket\" + 0.007*\"morning\" + 0.007*\"vacation\" + 0.007*\"ready\" + 0.007*\"degree\" + 0.007*\"incredible\" + 0.006*\"hop\" + 0.006*\"husband\" + 0.006*\"nightlife\" + 0.006*\"highly\" + 0.006*\"glad\" + 0.006*\"happens\" + 0.005*\"plus\" + 0.005*\"buzz\" + 0.005*\"missed\"'),\n",
       " (6,\n",
       "  '0.008*\"see\" + 0.007*\"people\" + 0.007*\"hotel\" + 0.007*\"walk\" + 0.007*\"place\" + 0.007*\"night\" + 0.007*\"time\" + 0.007*\"walking\" + 0.006*\"day\" + 0.006*\"great\" + 0.006*\"casino\" + 0.006*\"much\" + 0.006*\"fun\" + 0.006*\"get\" + 0.005*\"light\" + 0.005*\"show\" + 0.005*\"street\" + 0.005*\"like\" + 0.005*\"take\" + 0.005*\"always\"'),\n",
       " (7,\n",
       "  '0.015*\"dull\" + 0.013*\"entertainer\" + 0.009*\"apart\" + 0.009*\"moment\" + 0.007*\"besides\" + 0.005*\"land\" + 0.005*\"towards\" + 0.005*\"nicer\" + 0.005*\"replica\" + 0.005*\"spectacle\" + 0.005*\"heading\" + 0.005*\"pavement\" + 0.004*\"tire\" + 0.004*\"exhibit\" + 0.004*\"passed\" + 0.004*\"central\" + 0.004*\"occasion\" + 0.004*\"entertain\" + 0.004*\"touristy\" + 0.004*\"interior\"'),\n",
       " (8,\n",
       "  '0.008*\"built\" + 0.007*\"performance\" + 0.006*\"glass\" + 0.006*\"hassle\" + 0.006*\"wheel\" + 0.005*\"sheer\" + 0.005*\"begin\" + 0.005*\"interested\" + 0.005*\"negative\" + 0.005*\"scale\" + 0.004*\"dazzling\" + 0.004*\"ferris\" + 0.004*\"perhaps\" + 0.004*\"decor\" + 0.004*\"pawn\" + 0.004*\"transformer\" + 0.004*\"bill\" + 0.003*\"amusing\" + 0.003*\"wise\" + 0.003*\"impression\"'),\n",
       " (9,\n",
       "  '0.009*\"friday\" + 0.009*\"bustling\" + 0.007*\"saturday\" + 0.007*\"wallet\" + 0.006*\"hectic\" + 0.006*\"solicitor\" + 0.006*\"footwear\" + 0.006*\"flashy\" + 0.005*\"leaving\" + 0.005*\"yard\" + 0.005*\"purse\" + 0.005*\"pub\" + 0.004*\"shoulder\" + 0.004*\"peak\" + 0.004*\"contact\" + 0.004*\"luxurious\" + 0.004*\"intersection\" + 0.004*\"hershey\" + 0.004*\"ppl\" + 0.004*\"quieter\"'),\n",
       " (10,\n",
       "  '0.009*\"july\" + 0.007*\"everytime\" + 0.005*\"wherever\" + 0.005*\"peace\" + 0.005*\"talented\" + 0.005*\"patio\" + 0.005*\"ordinary\" + 0.005*\"detail\" + 0.004*\"ballys\" + 0.004*\"sat\" + 0.004*\"decorated\" + 0.004*\"drinker\" + 0.004*\"harrahs\" + 0.004*\"heap\" + 0.004*\"handle\" + 0.004*\"court\" + 0.004*\"bed\" + 0.004*\"timeshares\" + 0.004*\"mon\" + 0.004*\"margaritaville\"'),\n",
       " (11,\n",
       "  '0.008*\"cola\" + 0.007*\"coca\" + 0.007*\"pan\" + 0.006*\"handler\" + 0.006*\"straight\" + 0.005*\"brash\" + 0.005*\"temp\" + 0.005*\"die\" + 0.005*\"overhead\" + 0.005*\"hike\" + 0.004*\"confusing\" + 0.004*\"wall\" + 0.004*\"shame\" + 0.004*\"smelly\" + 0.004*\"ugly\" + 0.004*\"jam\" + 0.004*\"nightmare\" + 0.004*\"added\" + 0.004*\"promoter\" + 0.004*\"trust\"'),\n",
       " (12,\n",
       "  '0.010*\"lived\" + 0.008*\"surreal\" + 0.008*\"christmas\" + 0.007*\"bunch\" + 0.006*\"prostitution\" + 0.006*\"cartoon\" + 0.006*\"ambiance\" + 0.005*\"booze\" + 0.005*\"dislike\" + 0.005*\"birthday\" + 0.005*\"effect\" + 0.005*\"picked\" + 0.005*\"trek\" + 0.005*\"disappointing\" + 0.005*\"chose\" + 0.005*\"common\" + 0.004*\"crowed\" + 0.004*\"bump\" + 0.004*\"leaflet\" + 0.004*\"shortage\"'),\n",
       " (13,\n",
       "  '0.013*\"everybody\" + 0.009*\"beat\" + 0.009*\"watcher\" + 0.006*\"shirt\" + 0.006*\"designer\" + 0.005*\"unusual\" + 0.005*\"marvel\" + 0.005*\"inexpensive\" + 0.005*\"nasty\" + 0.005*\"sample\" + 0.004*\"stripe\" + 0.004*\"somewhat\" + 0.004*\"mist\" + 0.004*\"hell\" + 0.004*\"crossed\" + 0.004*\"crap\" + 0.004*\"meant\" + 0.004*\"sens\" + 0.004*\"browse\" + 0.003*\"mine\"'),\n",
       " (14,\n",
       "  '0.008*\"visual\" + 0.007*\"coffee\" + 0.006*\"rail\" + 0.006*\"mono\" + 0.005*\"delight\" + 0.005*\"imagination\" + 0.004*\"unforgettable\" + 0.004*\"flavor\" + 0.004*\"reminds\" + 0.004*\"rio\" + 0.004*\"parade\" + 0.004*\"worthwhile\" + 0.004*\"collection\" + 0.004*\"mouth\" + 0.004*\"laughing\" + 0.004*\"college\" + 0.004*\"concentration\" + 0.003*\"terrible\" + 0.003*\"resturants\" + 0.003*\"anniversary\"')]"
      ]
     },
     "execution_count": 91,
     "metadata": {},
     "output_type": "execute_result"
    }
   ],
   "source": [
    "lda_model_tfidf.show_topics(num_topics=15, num_words=20)##可以发现tfidf去掉了很多general的词。"
   ]
  },
  {
   "cell_type": "markdown",
   "metadata": {},
   "source": [
    "## extract doc topics"
   ]
  },
  {
   "cell_type": "code",
   "execution_count": 75,
   "metadata": {
    "scrolled": true
   },
   "outputs": [
    {
     "name": "stdout",
     "output_type": "stream",
     "text": [
      "['rated', 'new', 'la', 'vega', 'taken', 'away', 'spark', 'original', 'strip', 'prepared', 'pant', 'drink', 'bother', 'night', 'club', 'guy', 'pretty', 'sexist', 'priced', 'staff', 'everywhere', 'arrogant', 'care', 'long']\n",
      "[(0, 1), (1, 1), (2, 1), (3, 1), (4, 1), (5, 1), (6, 1), (7, 1), (8, 1), (9, 1), (10, 1), (11, 1), (12, 1), (13, 1), (14, 1), (15, 1), (16, 1), (17, 1), (18, 1), (19, 1), (20, 1), (21, 1), (22, 1), (23, 1)]\n"
     ]
    }
   ],
   "source": [
    "print (doc_clean[0])\n",
    "print (doc_term_matrix[0])"
   ]
  },
  {
   "cell_type": "code",
   "execution_count": 76,
   "metadata": {},
   "outputs": [
    {
     "data": {
      "text/plain": [
       "[(4, 0.1440727),\n",
       " (10, 0.041333333),\n",
       " (16, 0.045069337),\n",
       " (19, 0.08133333),\n",
       " (20, 0.47684383),\n",
       " (27, 0.1793475)]"
      ]
     },
     "execution_count": 76,
     "metadata": {},
     "output_type": "execute_result"
    }
   ],
   "source": [
    "lda_model_tfidf.get_document_topics(doc_term_matrix[0])"
   ]
  },
  {
   "cell_type": "markdown",
   "metadata": {},
   "source": [
    "## typical LDA model(bag of words)"
   ]
  },
  {
   "cell_type": "code",
   "execution_count": 63,
   "metadata": {},
   "outputs": [],
   "source": [
    "# Creating the object for LDA model using gensim library\n",
    "lda_model = gensim.models.LdaMulticore(doc_term_matrix, num_topics=5, id2word=dictionary, passes=2, workers=2)\n",
    "#这里workers是用几个cpu的意思，multicore就是多核运算意思"
   ]
  },
  {
   "cell_type": "code",
   "execution_count": 64,
   "metadata": {},
   "outputs": [
    {
     "name": "stdout",
     "output_type": "stream",
     "text": [
      "[(0, '0.046*\"vega\" + 0.024*\"casino\" + 0.023*\"la\" + 0.022*\"people\" + 0.018*\"hotel\" + 0.018*\"lot\" + 0.017*\"fun\" + 0.016*\"one\" + 0.016*\"place\" + 0.016*\"great\"'), (1, '0.036*\"people\" + 0.031*\"night\" + 0.029*\"see\" + 0.022*\"walk\" + 0.021*\"light\" + 0.020*\"walking\" + 0.018*\"get\" + 0.017*\"lot\" + 0.016*\"casino\" + 0.014*\"day\"'), (2, '0.034*\"vega\" + 0.024*\"hotel\" + 0.016*\"walking\" + 0.016*\"like\" + 0.014*\"place\" + 0.013*\"day\" + 0.013*\"la\" + 0.012*\"lot\" + 0.012*\"see\" + 0.012*\"one\"'), (3, '0.036*\"see\" + 0.025*\"place\" + 0.024*\"hotel\" + 0.022*\"walk\" + 0.019*\"time\" + 0.019*\"vega\" + 0.019*\"much\" + 0.016*\"casino\" + 0.013*\"show\" + 0.013*\"walking\"'), (4, '0.044*\"vega\" + 0.032*\"time\" + 0.030*\"people\" + 0.020*\"day\" + 0.018*\"hotel\" + 0.017*\"show\" + 0.015*\"la\" + 0.015*\"take\" + 0.014*\"like\" + 0.014*\"walking\"')]\n"
     ]
    }
   ],
   "source": [
    "print(lda_model.print_topics(num_topics=5, num_words=10))"
   ]
  },
  {
   "cell_type": "code",
   "execution_count": 65,
   "metadata": {},
   "outputs": [
    {
     "data": {
      "text/plain": [
       "[(0,\n",
       "  '0.046*\"vega\" + 0.024*\"casino\" + 0.023*\"la\" + 0.022*\"people\" + 0.018*\"hotel\" + 0.018*\"lot\" + 0.017*\"fun\" + 0.016*\"one\" + 0.016*\"place\" + 0.016*\"great\"'),\n",
       " (1,\n",
       "  '0.036*\"people\" + 0.031*\"night\" + 0.029*\"see\" + 0.022*\"walk\" + 0.021*\"light\" + 0.020*\"walking\" + 0.018*\"get\" + 0.017*\"lot\" + 0.016*\"casino\" + 0.014*\"day\"'),\n",
       " (2,\n",
       "  '0.034*\"vega\" + 0.024*\"hotel\" + 0.016*\"walking\" + 0.016*\"like\" + 0.014*\"place\" + 0.013*\"day\" + 0.013*\"la\" + 0.012*\"lot\" + 0.012*\"see\" + 0.012*\"one\"'),\n",
       " (3,\n",
       "  '0.036*\"see\" + 0.025*\"place\" + 0.024*\"hotel\" + 0.022*\"walk\" + 0.019*\"time\" + 0.019*\"vega\" + 0.019*\"much\" + 0.016*\"casino\" + 0.013*\"show\" + 0.013*\"walking\"'),\n",
       " (4,\n",
       "  '0.044*\"vega\" + 0.032*\"time\" + 0.030*\"people\" + 0.020*\"day\" + 0.018*\"hotel\" + 0.017*\"show\" + 0.015*\"la\" + 0.015*\"take\" + 0.014*\"like\" + 0.014*\"walking\"')]"
      ]
     },
     "execution_count": 65,
     "metadata": {},
     "output_type": "execute_result"
    }
   ],
   "source": [
    "lda_model.show_topics(num_topics=5, num_words=10)"
   ]
  },
  {
   "cell_type": "code",
   "execution_count": null,
   "metadata": {},
   "outputs": [],
   "source": []
  },
  {
   "cell_type": "markdown",
   "metadata": {},
   "source": [
    "## pyLDAvis  \n",
    "dictionary/lda/doc_term_matrix可以先保存,然后load的"
   ]
  },
  {
   "cell_type": "code",
   "execution_count": 77,
   "metadata": {},
   "outputs": [
    {
     "data": {
      "text/plain": [
       "\"\\ndictionary = gensim.corpora.Dictionary.load('dictionary.gensim')\\ndoc_term_matrix = pickle.load(open('corpus.pkl', 'rb'))\\nlda = gensim.models.ldamodel.LdaModel.load('model5.gensim')\\n\""
      ]
     },
     "execution_count": 77,
     "metadata": {},
     "output_type": "execute_result"
    }
   ],
   "source": [
    "\"\"\"\n",
    "dictionary = gensim.corpora.Dictionary.load('dictionary.gensim')\n",
    "doc_term_matrix = pickle.load(open('corpus.pkl', 'rb'))\n",
    "lda = gensim.models.ldamodel.LdaModel.load('model5.gensim')\n",
    "\"\"\""
   ]
  },
  {
   "cell_type": "code",
   "execution_count": 92,
   "metadata": {},
   "outputs": [
    {
     "data": {
      "text/html": [
       "\n",
       "<link rel=\"stylesheet\" type=\"text/css\" href=\"https://cdn.rawgit.com/bmabey/pyLDAvis/files/ldavis.v1.0.0.css\">\n",
       "\n",
       "\n",
       "<div id=\"ldavis_el1229619532280361604643436857\"></div>\n",
       "<script type=\"text/javascript\">\n",
       "\n",
       "var ldavis_el1229619532280361604643436857_data = {\"mdsDat\": {\"Freq\": [1.4818522930145264, 2.2736878395080566, 2.147019147872925, 0.8623498678207397, 3.4839677810668945, 2.711193561553955, 79.54077911376953, 1.2624335289001465, 1.3141995668411255, 0.8725852966308594, 0.7303196787834167, 1.0950288772583008, 0.725253701210022, 0.8190426826477051, 0.680293083190918], \"cluster\": [1, 1, 1, 1, 1, 1, 1, 1, 1, 1, 1, 1, 1, 1, 1], \"topics\": [1, 2, 3, 4, 5, 6, 7, 8, 9, 10, 11, 12, 13, 14, 15], \"x\": [-0.04155623996800488, -0.04690651399994097, -0.04696670417176421, -0.032833798772538815, -0.037589309419796095, -0.032404958599286035, 0.4978932609963153, -0.035058386515605035, -0.03811710217725119, -0.031691127239573506, -0.029828684328283665, -0.03538245760398972, -0.02843420802319195, -0.03165531563322684, -0.029468454543862686], \"y\": [0.008931284931369599, -0.10474021854593245, -0.05597769416864806, 0.06652706028375846, -0.2156710838721696, -0.19265985778158448, -0.006763922627240226, 0.03987126153266493, 0.0409162389745806, 0.06835148648632844, 0.06953436887617842, 0.06651111328975043, 0.07375123124112913, 0.07018690753016103, 0.0712318238496537]}, \"tinfo\": {\"Category\": [\"Default\", \"Default\", \"Default\", \"Default\", \"Default\", \"Default\", \"Default\", \"Default\", \"Default\", \"Default\", \"Default\", \"Default\", \"Default\", \"Default\", \"Default\", \"Default\", \"Default\", \"Default\", \"Default\", \"Default\", \"Default\", \"Default\", \"Default\", \"Default\", \"Default\", \"Default\", \"Default\", \"Default\", \"Default\", \"Default\", \"Topic1\", \"Topic1\", \"Topic1\", \"Topic1\", \"Topic1\", \"Topic1\", \"Topic1\", \"Topic1\", \"Topic1\", \"Topic1\", \"Topic1\", \"Topic1\", \"Topic1\", \"Topic1\", \"Topic1\", \"Topic1\", \"Topic1\", \"Topic1\", \"Topic1\", \"Topic1\", \"Topic1\", \"Topic1\", \"Topic1\", \"Topic1\", \"Topic1\", \"Topic1\", \"Topic1\", \"Topic1\", \"Topic1\", \"Topic1\", \"Topic1\", \"Topic1\", \"Topic1\", \"Topic1\", \"Topic1\", \"Topic1\", \"Topic1\", \"Topic1\", \"Topic1\", \"Topic1\", \"Topic1\", \"Topic1\", \"Topic1\", \"Topic1\", \"Topic1\", \"Topic1\", \"Topic1\", \"Topic2\", \"Topic2\", \"Topic2\", \"Topic2\", \"Topic2\", \"Topic2\", \"Topic2\", \"Topic2\", \"Topic2\", \"Topic2\", \"Topic2\", \"Topic2\", \"Topic2\", \"Topic2\", \"Topic2\", \"Topic2\", \"Topic2\", \"Topic2\", \"Topic2\", \"Topic2\", \"Topic2\", \"Topic2\", \"Topic2\", \"Topic2\", \"Topic2\", \"Topic2\", \"Topic2\", \"Topic2\", \"Topic2\", \"Topic2\", \"Topic2\", \"Topic2\", \"Topic2\", \"Topic2\", \"Topic2\", \"Topic2\", \"Topic2\", \"Topic2\", \"Topic2\", \"Topic2\", \"Topic2\", \"Topic2\", \"Topic2\", \"Topic2\", \"Topic2\", \"Topic2\", \"Topic2\", \"Topic2\", \"Topic2\", \"Topic2\", \"Topic2\", \"Topic2\", \"Topic2\", \"Topic2\", \"Topic2\", \"Topic2\", \"Topic3\", \"Topic3\", \"Topic3\", \"Topic3\", \"Topic3\", \"Topic3\", \"Topic3\", \"Topic3\", \"Topic3\", \"Topic3\", \"Topic3\", \"Topic3\", \"Topic3\", \"Topic3\", \"Topic3\", \"Topic3\", \"Topic3\", \"Topic3\", \"Topic3\", \"Topic3\", \"Topic3\", \"Topic3\", \"Topic3\", \"Topic3\", \"Topic3\", \"Topic3\", \"Topic3\", \"Topic3\", \"Topic3\", \"Topic3\", \"Topic3\", \"Topic3\", \"Topic3\", \"Topic3\", \"Topic3\", \"Topic3\", \"Topic3\", \"Topic3\", \"Topic3\", \"Topic3\", \"Topic3\", \"Topic3\", \"Topic3\", \"Topic3\", \"Topic3\", \"Topic3\", \"Topic3\", \"Topic3\", \"Topic3\", \"Topic4\", \"Topic4\", \"Topic4\", \"Topic4\", \"Topic4\", \"Topic4\", \"Topic4\", \"Topic4\", \"Topic4\", \"Topic4\", \"Topic4\", \"Topic4\", \"Topic4\", \"Topic4\", \"Topic4\", \"Topic4\", \"Topic4\", \"Topic4\", \"Topic4\", \"Topic4\", \"Topic4\", \"Topic4\", \"Topic4\", \"Topic4\", \"Topic4\", \"Topic4\", \"Topic4\", \"Topic4\", \"Topic4\", \"Topic4\", \"Topic4\", \"Topic4\", \"Topic4\", \"Topic4\", \"Topic4\", \"Topic4\", \"Topic4\", \"Topic4\", \"Topic5\", \"Topic5\", \"Topic5\", \"Topic5\", \"Topic5\", \"Topic5\", \"Topic5\", \"Topic5\", \"Topic5\", \"Topic5\", \"Topic5\", \"Topic5\", \"Topic5\", \"Topic5\", \"Topic5\", \"Topic5\", \"Topic5\", \"Topic5\", \"Topic5\", \"Topic5\", \"Topic5\", \"Topic5\", \"Topic5\", \"Topic5\", \"Topic5\", \"Topic5\", \"Topic5\", \"Topic5\", \"Topic5\", \"Topic5\", \"Topic5\", \"Topic5\", \"Topic5\", \"Topic5\", \"Topic5\", \"Topic5\", \"Topic5\", \"Topic5\", \"Topic5\", \"Topic5\", \"Topic5\", \"Topic5\", \"Topic5\", \"Topic5\", \"Topic5\", \"Topic5\", \"Topic5\", \"Topic5\", \"Topic5\", \"Topic5\", \"Topic5\", \"Topic5\", \"Topic5\", \"Topic5\", \"Topic5\", \"Topic5\", \"Topic5\", \"Topic5\", \"Topic5\", \"Topic5\", \"Topic6\", \"Topic6\", \"Topic6\", \"Topic6\", \"Topic6\", \"Topic6\", \"Topic6\", \"Topic6\", \"Topic6\", \"Topic6\", \"Topic6\", \"Topic6\", \"Topic6\", \"Topic6\", \"Topic6\", \"Topic6\", \"Topic6\", \"Topic6\", \"Topic6\", \"Topic6\", \"Topic6\", \"Topic6\", \"Topic6\", \"Topic6\", \"Topic6\", \"Topic6\", \"Topic6\", \"Topic6\", \"Topic6\", \"Topic6\", \"Topic6\", \"Topic6\", \"Topic6\", \"Topic6\", \"Topic6\", \"Topic6\", \"Topic6\", \"Topic6\", \"Topic6\", \"Topic6\", \"Topic6\", \"Topic6\", \"Topic6\", \"Topic6\", \"Topic6\", \"Topic6\", \"Topic6\", \"Topic6\", \"Topic6\", \"Topic6\", \"Topic6\", \"Topic6\", \"Topic6\", \"Topic6\", \"Topic6\", \"Topic6\", \"Topic6\", \"Topic6\", \"Topic6\", \"Topic6\", \"Topic6\", \"Topic6\", \"Topic6\", \"Topic6\", \"Topic7\", \"Topic7\", \"Topic7\", \"Topic7\", \"Topic7\", \"Topic7\", \"Topic7\", \"Topic7\", \"Topic7\", \"Topic7\", \"Topic7\", \"Topic7\", \"Topic7\", \"Topic7\", \"Topic7\", \"Topic7\", \"Topic7\", \"Topic7\", \"Topic7\", \"Topic7\", \"Topic7\", \"Topic7\", \"Topic7\", \"Topic7\", \"Topic7\", \"Topic7\", \"Topic7\", \"Topic7\", \"Topic7\", \"Topic7\", \"Topic8\", \"Topic8\", \"Topic8\", \"Topic8\", \"Topic8\", \"Topic8\", \"Topic8\", \"Topic8\", \"Topic8\", \"Topic8\", \"Topic8\", \"Topic8\", \"Topic8\", \"Topic8\", \"Topic8\", \"Topic8\", \"Topic8\", \"Topic8\", \"Topic8\", \"Topic8\", \"Topic8\", \"Topic8\", \"Topic8\", \"Topic8\", \"Topic8\", \"Topic8\", \"Topic8\", \"Topic8\", \"Topic8\", \"Topic8\", \"Topic8\", \"Topic8\", \"Topic8\", \"Topic8\", \"Topic8\", \"Topic8\", \"Topic8\", \"Topic8\", \"Topic8\", \"Topic8\", \"Topic8\", \"Topic8\", \"Topic8\", \"Topic8\", \"Topic8\", \"Topic8\", \"Topic8\", \"Topic9\", \"Topic9\", \"Topic9\", \"Topic9\", \"Topic9\", \"Topic9\", \"Topic9\", \"Topic9\", \"Topic9\", \"Topic9\", \"Topic9\", \"Topic9\", \"Topic9\", \"Topic9\", \"Topic9\", \"Topic9\", \"Topic9\", \"Topic9\", \"Topic9\", \"Topic9\", \"Topic9\", \"Topic9\", \"Topic9\", \"Topic9\", \"Topic9\", \"Topic9\", \"Topic9\", \"Topic9\", \"Topic9\", \"Topic9\", \"Topic9\", \"Topic9\", \"Topic9\", \"Topic9\", \"Topic9\", \"Topic9\", \"Topic9\", \"Topic9\", \"Topic9\", \"Topic9\", \"Topic9\", \"Topic9\", \"Topic9\", \"Topic9\", \"Topic9\", \"Topic9\", \"Topic9\", \"Topic9\", \"Topic9\", \"Topic10\", \"Topic10\", \"Topic10\", \"Topic10\", \"Topic10\", \"Topic10\", \"Topic10\", \"Topic10\", \"Topic10\", \"Topic10\", \"Topic10\", \"Topic10\", \"Topic10\", \"Topic10\", \"Topic10\", \"Topic10\", \"Topic10\", \"Topic10\", \"Topic10\", \"Topic10\", \"Topic10\", \"Topic10\", \"Topic10\", \"Topic10\", \"Topic10\", \"Topic10\", \"Topic10\", \"Topic10\", \"Topic10\", \"Topic10\", \"Topic10\", \"Topic10\", \"Topic10\", \"Topic10\", \"Topic10\", \"Topic10\", \"Topic10\", \"Topic10\", \"Topic10\", \"Topic10\", \"Topic10\", \"Topic10\", \"Topic11\", \"Topic11\", \"Topic11\", \"Topic11\", \"Topic11\", \"Topic11\", \"Topic11\", \"Topic11\", \"Topic11\", \"Topic11\", \"Topic11\", \"Topic11\", \"Topic11\", \"Topic11\", \"Topic11\", \"Topic11\", \"Topic11\", \"Topic11\", \"Topic11\", \"Topic11\", \"Topic11\", \"Topic11\", \"Topic11\", \"Topic11\", \"Topic11\", \"Topic11\", \"Topic11\", \"Topic11\", \"Topic11\", \"Topic11\", \"Topic11\", \"Topic11\", \"Topic11\", \"Topic11\", \"Topic11\", \"Topic11\", \"Topic12\", \"Topic12\", \"Topic12\", \"Topic12\", \"Topic12\", \"Topic12\", \"Topic12\", \"Topic12\", \"Topic12\", \"Topic12\", \"Topic12\", \"Topic12\", \"Topic12\", \"Topic12\", \"Topic12\", \"Topic12\", \"Topic12\", \"Topic12\", \"Topic12\", \"Topic12\", \"Topic12\", \"Topic12\", \"Topic12\", \"Topic12\", \"Topic12\", \"Topic12\", \"Topic12\", \"Topic12\", \"Topic12\", \"Topic12\", \"Topic12\", \"Topic12\", \"Topic12\", \"Topic12\", \"Topic12\", \"Topic12\", \"Topic12\", \"Topic12\", \"Topic12\", \"Topic12\", \"Topic12\", \"Topic12\", \"Topic13\", \"Topic13\", \"Topic13\", \"Topic13\", \"Topic13\", \"Topic13\", \"Topic13\", \"Topic13\", \"Topic13\", \"Topic13\", \"Topic13\", \"Topic13\", \"Topic13\", \"Topic13\", \"Topic13\", \"Topic13\", \"Topic13\", \"Topic13\", \"Topic13\", \"Topic13\", \"Topic13\", \"Topic13\", \"Topic13\", \"Topic13\", \"Topic13\", \"Topic13\", \"Topic13\", \"Topic13\", \"Topic13\", \"Topic13\", \"Topic13\", \"Topic13\", \"Topic13\", \"Topic13\", \"Topic13\", \"Topic13\", \"Topic13\", \"Topic13\", \"Topic13\", \"Topic14\", \"Topic14\", \"Topic14\", \"Topic14\", \"Topic14\", \"Topic14\", \"Topic14\", \"Topic14\", \"Topic14\", \"Topic14\", \"Topic14\", \"Topic14\", \"Topic14\", \"Topic14\", \"Topic14\", \"Topic14\", \"Topic14\", \"Topic14\", \"Topic14\", \"Topic14\", \"Topic14\", \"Topic14\", \"Topic14\", \"Topic14\", \"Topic14\", \"Topic14\", \"Topic14\", \"Topic14\", \"Topic14\", \"Topic14\", \"Topic14\", \"Topic14\", \"Topic14\", \"Topic14\", \"Topic14\", \"Topic14\", \"Topic14\", \"Topic14\", \"Topic14\", \"Topic14\", \"Topic14\", \"Topic15\", \"Topic15\", \"Topic15\", \"Topic15\", \"Topic15\", \"Topic15\", \"Topic15\", \"Topic15\", \"Topic15\", \"Topic15\", \"Topic15\", \"Topic15\", \"Topic15\", \"Topic15\", \"Topic15\", \"Topic15\", \"Topic15\", \"Topic15\", \"Topic15\", \"Topic15\", \"Topic15\", \"Topic15\", \"Topic15\", \"Topic15\", \"Topic15\", \"Topic15\", \"Topic15\", \"Topic15\", \"Topic15\", \"Topic15\", \"Topic15\", \"Topic15\", \"Topic15\", \"Topic15\", \"Topic15\", \"Topic15\", \"Topic15\", \"Topic15\", \"Topic15\"], \"Freq\": [273.0, 221.0, 272.0, 223.0, 204.0, 193.0, 174.0, 178.0, 112.0, 3648.0, 199.0, 133.0, 152.0, 180.0, 126.0, 273.0, 295.0, 161.0, 3395.0, 173.0, 3383.0, 152.0, 131.0, 3240.0, 3202.0, 150.0, 170.0, 167.0, 134.0, 161.0, 50.22272872924805, 42.84849548339844, 40.26127243041992, 37.89120101928711, 37.63184356689453, 34.91780471801758, 34.15779113769531, 33.13018798828125, 31.694177627563477, 30.601526260375977, 30.368696212768555, 30.288867950439453, 30.04990577697754, 28.854896545410156, 26.959857940673828, 25.22024917602539, 24.676300048828125, 23.9194393157959, 22.11002540588379, 21.601716995239258, 21.34827423095703, 21.012020111083984, 20.828367233276367, 20.58553123474121, 20.58560562133789, 20.536609649658203, 19.12762451171875, 18.825439453125, 18.672847747802734, 17.985965728759766, 28.036968231201172, 44.074859619140625, 39.62583541870117, 34.05656814575195, 61.6812744140625, 45.73693084716797, 38.62646484375, 44.76726150512695, 31.280607223510742, 26.77151107788086, 36.56452941894531, 26.46047592163086, 29.18136215209961, 29.770694732666016, 27.59189224243164, 30.145780563354492, 30.608299255371094, 53.94330596923828, 51.43621826171875, 45.969425201416016, 43.62356948852539, 43.13914108276367, 42.762474060058594, 42.193016052246094, 41.41864776611328, 40.28727722167969, 40.26771926879883, 37.17585372924805, 37.07019805908203, 36.263736724853516, 57.68253707885742, 32.00286865234375, 30.72003173828125, 30.66642951965332, 30.422863006591797, 29.625307083129883, 29.623804092407227, 29.169448852539062, 28.49618911743164, 27.946903228759766, 27.603967666625977, 27.53778076171875, 27.239599227905273, 26.5040283203125, 26.01313591003418, 25.70749282836914, 24.721664428710938, 65.86040496826172, 55.79993438720703, 41.78192901611328, 37.07935333251953, 53.248931884765625, 37.30282974243164, 42.11522674560547, 57.42288589477539, 59.506046295166016, 64.51482391357422, 47.464073181152344, 50.20340347290039, 109.21974182128906, 60.461360931396484, 36.64671325683594, 38.16450881958008, 41.90400314331055, 96.87835693359375, 43.53440856933594, 49.68833541870117, 60.88431167602539, 54.207237243652344, 42.817264556884766, 43.25799560546875, 48.24180603027344, 42.00929260253906, 76.32121276855469, 76.19621276855469, 69.82039642333984, 51.08635711669922, 45.678138732910156, 43.805572509765625, 38.895111083984375, 37.720584869384766, 35.836639404296875, 35.73540496826172, 34.961673736572266, 32.339237213134766, 31.32181167602539, 30.63573455810547, 29.337909698486328, 29.24857521057129, 29.080032348632812, 29.025463104248047, 28.834035873413086, 28.77863883972168, 27.692705154418945, 26.380647659301758, 25.721433639526367, 25.386789321899414, 24.994775772094727, 24.00749969482422, 23.53795623779297, 23.2542724609375, 23.21462631225586, 23.184431076049805, 45.64952087402344, 57.72378921508789, 52.613407135009766, 57.60775375366211, 52.3545036315918, 43.21547317504883, 44.51668930053711, 35.98415756225586, 34.62218475341797, 45.15283203125, 39.904178619384766, 33.8476448059082, 40.03013229370117, 34.92338180541992, 33.06449890136719, 30.446332931518555, 35.18735122680664, 40.10293960571289, 31.739315032958984, 48.146419525146484, 35.37686538696289, 32.03190231323242, 31.08348274230957, 30.30376434326172, 27.399497985839844, 27.289461135864258, 26.66799545288086, 24.60387420654297, 24.579788208007812, 20.790576934814453, 19.306900024414062, 18.686668395996094, 18.160860061645508, 16.484230041503906, 15.759114265441895, 15.402097702026367, 15.275659561157227, 15.175374984741211, 15.045042037963867, 14.440742492675781, 13.35887336730957, 13.244367599487305, 13.051499366760254, 12.705902099609375, 28.14687156677246, 12.55066204071045, 27.141944885253906, 11.648982048034668, 11.439827919006348, 34.67094802856445, 25.487178802490234, 35.041988372802734, 33.085899353027344, 17.874208450317383, 17.418855667114258, 15.82512092590332, 16.2906551361084, 111.7418441772461, 84.23583984375, 76.72588348388672, 74.00782775878906, 71.56702423095703, 67.81304168701172, 60.74003601074219, 58.55598068237305, 55.352542877197266, 54.561424255371094, 53.52367401123047, 51.855308532714844, 49.372535705566406, 46.81086730957031, 45.79750061035156, 44.48371505737305, 42.922401428222656, 41.59983825683594, 85.96137237548828, 41.03168487548828, 41.00001907348633, 40.728694915771484, 40.12192916870117, 40.05081558227539, 39.2548828125, 38.5039176940918, 37.52433776855469, 37.29851531982422, 37.21051788330078, 36.56374740600586, 86.1285400390625, 60.43915939331055, 57.25353240966797, 67.34539031982422, 57.96234893798828, 88.7671127319336, 68.60533142089844, 69.03435516357422, 79.25260162353516, 71.43645477294922, 77.23051452636719, 84.94499206542969, 66.33910369873047, 100.47349548339844, 103.05081176757812, 106.48754119873047, 74.45054626464844, 85.33782958984375, 94.82917022705078, 87.69479370117188, 87.06297302246094, 62.36545944213867, 77.41680908203125, 67.2483139038086, 82.52836608886719, 74.67897033691406, 73.59081268310547, 70.87223815917969, 71.42963409423828, 77.63521575927734, 123.61775970458984, 78.68106079101562, 76.47211456298828, 70.85214233398438, 60.44309997558594, 46.9428596496582, 46.937156677246094, 71.75447845458984, 39.59340286254883, 38.882904052734375, 38.07664108276367, 37.01576232910156, 35.411529541015625, 35.00323486328125, 34.542362213134766, 34.376487731933594, 54.708621978759766, 34.0353889465332, 31.523590087890625, 31.369794845581055, 30.823156356811523, 29.832433700561523, 28.316267013549805, 28.08540916442871, 27.866281509399414, 26.98012351989746, 26.89653968811035, 26.809812545776367, 26.60175895690918, 25.93307876586914, 92.01317596435547, 53.83161163330078, 72.75446319580078, 39.62712097167969, 46.463218688964844, 75.74293518066406, 60.37025451660156, 81.1769027709961, 136.61190795898438, 70.51990509033203, 101.53955841064453, 60.64218521118164, 116.11612701416016, 82.41146850585938, 77.6211166381836, 81.2357177734375, 150.69805908203125, 121.62520599365234, 90.14974212646484, 75.0762710571289, 105.18505859375, 118.05413055419922, 90.42945861816406, 109.26323699951172, 92.34722137451172, 99.0934066772461, 91.1255874633789, 101.27549743652344, 77.21817779541016, 111.45590209960938, 83.70223236083984, 80.85613250732422, 77.28954315185547, 73.34793090820312, 3645.403564453125, 3392.873291015625, 3380.5009765625, 3238.129150390625, 3199.585205078125, 3092.769775390625, 3067.6162109375, 2982.215087890625, 2876.854248046875, 2867.1015625, 2853.272216796875, 2758.075927734375, 2548.822998046875, 2541.701171875, 2371.400146484375, 2365.23681640625, 2348.2197265625, 2281.829345703125, 2256.367431640625, 2112.083984375, 2040.611572265625, 1999.796142578125, 1923.3162841796875, 1921.6829833984375, 1907.6328125, 1902.04638671875, 1889.734375, 1845.5303955078125, 1820.4124755859375, 1798.716796875, 109.8218002319336, 32.956790924072266, 32.73465347290039, 31.833423614501953, 30.17027473449707, 30.123737335205078, 29.990015029907227, 29.8214168548584, 29.18442726135254, 28.014429092407227, 25.977243423461914, 25.207799911499023, 23.870126724243164, 23.621301651000977, 23.499120712280273, 23.433202743530273, 20.46112060546875, 20.450645446777344, 20.417011260986328, 19.54935073852539, 19.210838317871094, 18.546358108520508, 18.292543411254883, 18.004419326782227, 17.821163177490234, 17.516395568847656, 17.49664878845215, 16.8131103515625, 16.809358596801758, 16.734548568725586, 32.65940856933594, 66.80562591552734, 38.277462005615234, 96.01713562011719, 30.646095275878906, 50.9953727722168, 29.874801635742188, 33.51626205444336, 31.216096878051758, 34.9522705078125, 27.880537033081055, 32.94488525390625, 25.88563346862793, 30.715856552124023, 63.912933349609375, 29.59099578857422, 23.76128387451172, 45.0877571105957, 36.6129035949707, 32.3918571472168, 28.441171646118164, 28.427108764648438, 25.903797149658203, 25.67583465576172, 25.316604614257812, 24.320966720581055, 46.72316360473633, 22.663429260253906, 22.107240676879883, 21.581748962402344, 21.453311920166016, 20.7597599029541, 20.73128318786621, 20.646347045898438, 20.6351318359375, 20.501789093017578, 20.249595642089844, 19.853830337524414, 18.855731964111328, 18.796695709228516, 18.640758514404297, 18.387292861938477, 18.251211166381836, 18.020000457763672, 17.843835830688477, 17.618602752685547, 17.07594871520996, 24.30815887451172, 49.41202163696289, 38.59428405761719, 60.41110610961914, 21.218589782714844, 23.177276611328125, 34.55002975463867, 22.632862091064453, 30.247943878173828, 42.061588287353516, 34.09040069580078, 30.09095001220703, 26.938701629638672, 23.600353240966797, 29.807449340820312, 34.0298957824707, 24.06545066833496, 23.775428771972656, 22.082454681396484, 47.31606674194336, 28.660310745239258, 27.751609802246094, 27.709915161132812, 27.553966522216797, 26.645050048828125, 26.132314682006836, 44.46049880981445, 20.728057861328125, 19.52802276611328, 18.914995193481445, 18.73386001586914, 18.324188232421875, 17.843191146850586, 17.57805633544922, 17.52802276611328, 16.908781051635742, 16.290390014648438, 16.202957153320312, 16.04859161376953, 15.075494766235352, 14.354888916015625, 14.286616325378418, 14.077018737792969, 13.655054092407227, 13.479717254638672, 12.825480461120605, 16.724224090576172, 11.727595329284668, 11.413559913635254, 21.388044357299805, 17.947118759155273, 22.026796340942383, 36.757423400878906, 23.796188354492188, 25.304216384887695, 18.762895584106445, 21.35350799560547, 32.76163864135742, 20.13652992248535, 20.210041046142578, 18.123945236206055, 28.950868606567383, 22.46038055419922, 22.199607849121094, 20.317371368408203, 19.623558044433594, 19.496530532836914, 18.284358978271484, 18.242765426635742, 18.176971435546875, 18.15973472595215, 18.037559509277344, 18.030195236206055, 17.659263610839844, 17.496952056884766, 16.48088264465332, 15.9285888671875, 15.858101844787598, 15.280641555786133, 15.117535591125488, 15.014470100402832, 14.596936225891113, 14.25100326538086, 14.21774959564209, 13.672744750976562, 13.428987503051758, 13.27480697631836, 12.948485374450684, 12.48673152923584, 12.02282428741455, 11.971611022949219, 38.81053161621094, 17.98816680908203, 19.091522216796875, 18.0533390045166, 13.733551025390625, 14.405359268188477, 49.5423583984375, 44.55351638793945, 42.69041442871094, 39.01007843017578, 33.79526901245117, 33.20637893676758, 32.336551666259766, 28.74637794494629, 25.754056930541992, 24.76567840576172, 24.204498291015625, 22.714397430419922, 21.506717681884766, 21.13578224182129, 20.060012817382812, 19.77581787109375, 19.748437881469727, 19.62940216064453, 19.387107849121094, 18.48381805419922, 18.3359317779541, 17.972198486328125, 17.922565460205078, 16.824840545654297, 16.56007957458496, 16.498727798461914, 16.453779220581055, 20.06085205078125, 16.389982223510742, 16.303857803344727, 38.7014045715332, 26.921489715576172, 21.276559829711914, 24.160131454467773, 26.512832641601562, 20.60795783996582, 24.005226135253906, 23.527973175048828, 29.45809555053711, 21.46963119506836, 23.799867630004883, 19.713045120239258, 39.49967575073242, 24.53675079345703, 21.878520965576172, 21.81113052368164, 19.987194061279297, 19.792871475219727, 19.184911727905273, 17.96095085144043, 15.846782684326172, 15.497804641723633, 15.311976432800293, 33.219058990478516, 14.771546363830566, 14.208847045898438, 30.819366455078125, 13.58812427520752, 13.49731159210205, 13.445732116699219, 13.10561752319336, 13.055282592773438, 12.791112899780273, 12.722672462463379, 12.114087104797363, 11.812353134155273, 11.624969482421875, 19.698240280151367, 11.449380874633789, 32.618106842041016, 10.989405632019043, 10.915714263916016, 19.009525299072266, 24.13982582092285, 23.10683822631836, 18.552568435668945, 22.73562240600586, 17.283933639526367, 21.837984085083008, 14.913226127624512, 14.926856994628906, 41.0078125, 30.167930603027344, 27.26048469543457, 24.62946128845215, 21.336156845092773, 21.114395141601562, 20.354957580566406, 19.89995765686035, 19.460647583007812, 18.244905471801758, 17.303129196166992, 16.499923706054688, 16.281524658203125, 15.944099426269531, 15.708367347717285, 15.230141639709473, 14.865826606750488, 14.32461929321289, 14.2514009475708, 13.501630783081055, 13.18269157409668, 13.169307708740234, 12.878783226013184, 12.564719200134277, 11.546248435974121, 11.413267135620117, 11.344218254089355, 10.9100980758667, 10.888556480407715, 10.887654304504395, 20.123531341552734, 59.7082405090332, 17.496423721313477, 44.39437484741211, 24.170772552490234, 21.79631805419922, 13.880571365356445, 14.594633102416992, 16.67795181274414, 13.988025665283203, 13.801218032836914, 23.613229751586914, 19.103961944580078, 17.232511520385742, 16.432775497436523, 14.910906791687012, 14.502167701721191, 14.19010066986084, 14.038230895996094, 14.002391815185547, 29.964664459228516, 13.863960266113281, 13.852095603942871, 13.186429977416992, 12.824308395385742, 12.535038948059082, 12.302423477172852, 12.21375560760498, 11.826630592346191, 11.604475021362305, 11.346511840820312, 10.619471549987793, 10.587170600891113, 10.289329528808594, 10.24329662322998, 10.214264869689941, 10.190308570861816, 10.166890144348145, 10.073796272277832, 9.914288520812988, 9.81609058380127, 24.097301483154297, 19.344831466674805, 28.674409866333008, 11.90238094329834, 15.560894012451172, 14.217141151428223, 13.157427787780762, 13.412196159362793, 12.083352088928223], \"Term\": [\"moment\", \"list\", \"morning\", \"circus\", \"change\", \"cab\", \"bored\", \"daytime\", \"dull\", \"see\", \"incredible\", \"entertainer\", \"bucket\", \"vacation\", \"brilliant\", \"naked\", \"guy\", \"ready\", \"people\", \"hop\", \"hotel\", \"freemont\", \"hustle\", \"walk\", \"place\", \"highly\", \"plus\", \"believe\", \"glad\", \"movie\", \"colour\", \"pain\", \"craziness\", \"transport\", \"odd\", \"travelled\", \"drunken\", \"sdx\", \"golden\", \"boutique\", \"electric\", \"outrageous\", \"southern\", \"uncomfortable\", \"nugget\", \"frequent\", \"largest\", \"terrific\", \"eclectic\", \"hopefully\", \"wanna\", \"hassled\", \"cesar\", \"extraordinary\", \"glamorous\", \"necessary\", \"product\", \"absorb\", \"beside\", \"someplace\", \"dead\", \"centre\", \"accessible\", \"hurry\", \"length\", \"pair\", \"pass\", \"fashion\", \"glitter\", \"forth\", \"anymore\", \"fight\", \"palazzo\", \"cover\", \"decker\", \"freemont\", \"cab\", \"lined\", \"whenever\", \"newer\", \"house\", \"piece\", \"blow\", \"fab\", \"dine\", \"there\", \"nyny\", \"sunscreen\", \"overcrowded\", \"ceasar\", \"dance\", \"countless\", \"panhandling\", \"avenue\", \"seller\", \"dusk\", \"opened\", \"artificial\", \"workout\", \"beautifully\", \"afraid\", \"sleazy\", \"littered\", \"noon\", \"halloween\", \"ridiculously\", \"distraction\", \"disappoint\", \"round\", \"despite\", \"skyline\", \"honestly\", \"laugh\", \"covered\", \"bother\", \"allow\", \"completely\", \"advantage\", \"seriously\", \"change\", \"eatery\", \"bite\", \"onto\", \"draw\", \"circus\", \"standing\", \"sleeping\", \"property\", \"linq\", \"red\", \"section\", \"morning\", \"constant\", \"carlo\", \"monte\", \"pushy\", \"firework\", \"watched\", \"daylight\", \"doubt\", \"journey\", \"finish\", \"ups\", \"presentation\", \"surrounded\", \"marathon\", \"asked\", \"cruising\", \"grandeur\", \"recommendation\", \"serious\", \"amaze\", \"elsewhere\", \"trashy\", \"roll\", \"visible\", \"improved\", \"superb\", \"reminded\", \"tonight\", \"beach\", \"theatre\", \"holding\", \"unsafe\", \"hawker\", \"lighting\", \"behind\", \"presence\", \"eve\", \"east\", \"bet\", \"grown\", \"airport\", \"museum\", \"handed\", \"timeshare\", \"state\", \"desire\", \"honest\", \"running\", \"circus\", \"near\", \"august\", \"nude\", \"riding\", \"figure\", \"mood\", \"connecting\", \"weirdo\", \"gaudy\", \"plain\", \"allows\", \"slowly\", \"mobility\", \"race\", \"shark\", \"entering\", \"crime\", \"natural\", \"intimidating\", \"kitsch\", \"joke\", \"shiny\", \"hero\", \"reef\", \"promoting\", \"exists\", \"married\", \"wonderland\", \"dancer\", \"lavish\", \"solicited\", \"gotta\", \"scooter\", \"rent\", \"beverage\", \"singing\", \"disgusting\", \"pure\", \"overwhelmed\", \"flyer\", \"giving\", \"flashing\", \"stripper\", \"dream\", \"trouble\", \"mix\", \"hanging\", \"warned\", \"alcoholic\", \"appropriate\", \"litter\", \"costumed\", \"dangerous\", \"indoor\", \"nightclub\", \"sorry\", \"film\", \"beauty\", \"bothered\", \"italy\", \"blown\", \"absolute\", \"upscale\", \"rich\", \"obvious\", \"diversity\", \"clear\", \"advertisement\", \"shocked\", \"wanting\", \"aggressive\", \"billboard\", \"nowhere\", \"story\", \"weird\", \"realize\", \"seedy\", \"hear\", \"sitting\", \"single\", \"twice\", \"daughter\", \"amazed\", \"sometimes\", \"believe\", \"passing\", \"vendor\", \"second\", \"month\", \"fast\", \"nearly\", \"within\", \"pic\", \"leave\", \"themed\", \"lady\", \"cafe\", \"noise\", \"morning\", \"brilliant\", \"bustle\", \"forever\", \"overload\", \"sensory\", \"popping\", \"nearby\", \"value\", \"fly\", \"future\", \"justice\", \"conditioning\", \"delicious\", \"stepping\", \"definately\", \"sl\", \"possibly\", \"blister\", \"viva\", \"shock\", \"amazingly\", \"mountain\", \"cheapest\", \"flying\", \"belonging\", \"filthy\", \"entice\", \"opulent\", \"dime\", \"unexpected\", \"nightlife\", \"hopping\", \"recommended\", \"shot\", \"coke\", \"gorgeous\", \"musician\", \"vibrant\", \"bored\", \"till\", \"degree\", \"talk\", \"bucket\", \"buzz\", \"strolling\", \"missed\", \"list\", \"daytime\", \"happens\", \"nighttime\", \"ready\", \"cab\", \"glad\", \"vacation\", \"husband\", \"hop\", \"highly\", \"incredible\", \"wandering\", \"morning\", \"plus\", \"freemont\", \"enjoying\", \"movie\", \"see\", \"people\", \"hotel\", \"walk\", \"place\", \"night\", \"time\", \"walking\", \"day\", \"great\", \"casino\", \"much\", \"fun\", \"get\", \"light\", \"show\", \"street\", \"like\", \"take\", \"always\", \"experience\", \"amazing\", \"visit\", \"shop\", \"love\", \"good\", \"everything\", \"every\", \"around\", \"restaurant\", \"dull\", \"replica\", \"heading\", \"tire\", \"occasion\", \"entertain\", \"touristy\", \"period\", \"bumper\", \"inappropriate\", \"handout\", \"yeah\", \"welcoming\", \"steroid\", \"fare\", \"active\", \"touch\", \"mark\", \"surprising\", \"hire\", \"overrated\", \"reputation\", \"valley\", \"facility\", \"magician\", \"death\", \"mister\", \"sandal\", \"intoxicated\", \"accosted\", \"pavement\", \"apart\", \"land\", \"entertainer\", \"central\", \"besides\", \"interior\", \"nicer\", \"exhibit\", \"towards\", \"booth\", \"spectacle\", \"heaven\", \"passed\", \"moment\", \"busker\", \"effort\", \"hassle\", \"begin\", \"dazzling\", \"pawn\", \"transformer\", \"amusing\", \"wise\", \"impression\", \"talent\", \"glass\", \"spa\", \"extravagance\", \"broke\", \"observe\", \"surrounding\", \"typically\", \"element\", \"sketchy\", \"viewed\", \"gold\", \"wind\", \"regularly\", \"pusher\", \"pleasantly\", \"necessarily\", \"pamphlet\", \"lasvegas\", \"can\", \"hubby\", \"mother\", \"lead\", \"performance\", \"sheer\", \"built\", \"complaint\", \"previous\", \"interested\", \"finest\", \"ferris\", \"wheel\", \"negative\", \"perhaps\", \"bill\", \"classy\", \"decor\", \"scale\", \"vast\", \"boy\", \"board\", \"friday\", \"hectic\", \"solicitor\", \"footwear\", \"flashy\", \"leaving\", \"yard\", \"bustling\", \"luxurious\", \"ppl\", \"quieter\", \"improvement\", \"bumping\", \"roof\", \"disappoints\", \"underestimate\", \"wondering\", \"overly\", \"selection\", \"paced\", \"bikini\", \"ballagio\", \"newyork\", \"venturing\", \"importantly\", \"convertible\", \"sunglass\", \"setting\", \"international\", \"monument\", \"peak\", \"fresh\", \"shoulder\", \"saturday\", \"pub\", \"purse\", \"feast\", \"contact\", \"wallet\", \"hershey\", \"intersection\", \"total\", \"everytime\", \"wherever\", \"peace\", \"talented\", \"patio\", \"ordinary\", \"ballys\", \"sat\", \"decorated\", \"drinker\", \"heap\", \"handle\", \"bed\", \"timeshares\", \"mon\", \"margaritaville\", \"craziest\", \"explored\", \"km\", \"hungry\", \"sightsee\", \"energetic\", \"overlooking\", \"spare\", \"solicitation\", \"thirsty\", \"disappointment\", \"repeat\", \"trade\", \"chewbacca\", \"july\", \"court\", \"detail\", \"harrahs\", \"pushed\", \"fill\", \"cola\", \"coca\", \"pan\", \"handler\", \"brash\", \"temp\", \"die\", \"hike\", \"shame\", \"smelly\", \"ugly\", \"trust\", \"online\", \"rode\", \"created\", \"zoo\", \"busiest\", \"romantic\", \"putting\", \"mouse\", \"landscape\", \"realized\", \"winning\", \"lying\", \"mickey\", \"mess\", \"nicely\", \"played\", \"encountered\", \"growing\", \"straight\", \"confusing\", \"returned\", \"jam\", \"wall\", \"fooled\", \"nightmare\", \"promoter\", \"overhead\", \"ceasers\", \"added\", \"learned\", \"lived\", \"prostitution\", \"dislike\", \"effect\", \"picked\", \"trek\", \"chose\", \"bump\", \"shortage\", \"amazes\", \"suck\", \"surreal\", \"signature\", \"gallery\", \"bunch\", \"carried\", \"tremendous\", \"employee\", \"addict\", \"bourbon\", \"sooooo\", \"caters\", \"wit\", \"surface\", \"wee\", \"disappointing\", \"ranging\", \"christmas\", \"celebrating\", \"unable\", \"common\", \"cartoon\", \"ambiance\", \"crowed\", \"booze\", \"leaflet\", \"birthday\", \"teenage\", \"follow\", \"watcher\", \"shirt\", \"designer\", \"unusual\", \"nasty\", \"sample\", \"stripe\", \"mist\", \"hell\", \"crossed\", \"meant\", \"browse\", \"mine\", \"required\", \"virtually\", \"credit\", \"getaway\", \"dirtier\", \"pro\", \"burn\", \"rating\", \"flew\", \"sea\", \"jersey\", \"cuisine\", \"motel\", \"remain\", \"swimming\", \"bonkers\", \"footbridge\", \"somewhat\", \"everybody\", \"crap\", \"beat\", \"marvel\", \"inexpensive\", \"bellaggio\", \"rip\", \"sens\", \"november\", \"unbearable\", \"mono\", \"imagination\", \"unforgettable\", \"flavor\", \"rio\", \"parade\", \"collection\", \"mouth\", \"laughing\", \"visual\", \"college\", \"concentration\", \"resturants\", \"date\", \"separate\", \"inch\", \"royale\", \"memorial\", \"surely\", \"stimulation\", \"snap\", \"enjoyment\", \"sunshine\", \"continues\", \"flipping\", \"private\", \"battle\", \"pharmacy\", \"inviting\", \"annoyed\", \"rail\", \"delight\", \"coffee\", \"jammed\", \"reminds\", \"worthwhile\", \"anniversary\", \"terrible\", \"arrive\"], \"Total\": [273.0, 221.0, 272.0, 223.0, 204.0, 193.0, 174.0, 178.0, 112.0, 3648.0, 199.0, 133.0, 152.0, 180.0, 126.0, 273.0, 295.0, 161.0, 3395.0, 173.0, 3383.0, 152.0, 131.0, 3240.0, 3202.0, 150.0, 170.0, 167.0, 134.0, 161.0, 53.1058464050293, 45.731605529785156, 43.14438247680664, 40.774356842041016, 40.51496505737305, 37.8009147644043, 37.04093551635742, 36.013301849365234, 34.57729721069336, 33.48464584350586, 33.251808166503906, 33.17198944091797, 32.93302536010742, 31.73807716369629, 29.84296417236328, 28.103368759155273, 27.559415817260742, 26.802560806274414, 24.993131637573242, 24.484865188598633, 24.23139190673828, 23.895166397094727, 23.71148681640625, 23.468639373779297, 23.468725204467773, 23.419727325439453, 22.010746002197266, 21.70855140686035, 21.555973052978516, 20.869098663330078, 32.70683670043945, 54.28632354736328, 48.684654235839844, 44.147979736328125, 121.40081787109375, 78.10301971435547, 61.96625900268555, 78.48584747314453, 46.910945892333984, 36.8274040222168, 72.09300231933594, 37.20783996582031, 51.06269454956055, 69.34452819824219, 47.62046432495117, 152.76223754882812, 193.70025634765625, 56.794708251953125, 54.287601470947266, 48.82081604003906, 46.47496032714844, 45.99053192138672, 45.6138801574707, 45.044403076171875, 44.2700309753418, 43.13866424560547, 43.11911392211914, 40.027259826660156, 39.92158126831055, 39.115142822265625, 62.68851089477539, 34.854251861572266, 33.571414947509766, 33.51780700683594, 33.27425003051758, 32.4766845703125, 32.47519302368164, 32.020843505859375, 31.347572326660156, 30.79828453063965, 30.45536231994629, 30.389179229736328, 30.090999603271484, 29.35541534423828, 28.864526748657227, 28.55889320373535, 27.573062896728516, 74.32274627685547, 63.67946243286133, 47.78803253173828, 42.280601501464844, 63.355709075927734, 43.82756423950195, 51.0223274230957, 76.14313507080078, 81.89065551757812, 92.85647583007812, 61.98176956176758, 67.65753173828125, 204.91696166992188, 93.2289810180664, 44.02809524536133, 47.03154373168945, 54.828529357910156, 223.099365234375, 58.669410705566406, 78.0704574584961, 121.71045684814453, 105.4295883178711, 62.41568374633789, 87.75090789794922, 272.9894104003906, 87.0967025756836, 79.17955017089844, 79.0545425415039, 72.6787338256836, 53.9447135925293, 48.53648376464844, 46.663917541503906, 41.75347137451172, 40.578948974609375, 38.694976806640625, 38.59374237060547, 37.82003402709961, 35.197593688964844, 34.180145263671875, 33.494075775146484, 32.196258544921875, 32.1069221496582, 31.938379287719727, 31.883821487426758, 31.69237518310547, 31.63701629638672, 30.551071166992188, 29.238990783691406, 28.579774856567383, 28.2453670501709, 27.853116989135742, 26.865842819213867, 26.396312713623047, 26.112628936767578, 26.072965621948242, 26.04277801513672, 52.164703369140625, 68.70789337158203, 64.17488098144531, 72.11032104492188, 65.17717742919922, 52.583045959472656, 54.4354362487793, 44.46565628051758, 45.565643310546875, 71.0398178100586, 64.6824951171875, 46.01570510864258, 69.78580474853516, 57.67074203491211, 49.18659973144531, 38.0667839050293, 80.22004699707031, 223.099365234375, 154.6118621826172, 51.066558837890625, 38.297000885009766, 34.952064514160156, 34.00362014770508, 33.2238883972168, 30.31964683532715, 30.2095890045166, 29.588132858276367, 27.524015426635742, 27.499956130981445, 23.710710525512695, 22.22704315185547, 21.606801986694336, 21.08099937438965, 19.40437889099121, 18.67926025390625, 18.322248458862305, 18.195810317993164, 18.095508575439453, 17.965198516845703, 17.360876083374023, 16.279020309448242, 16.164499282836914, 15.971647262573242, 15.626073837280273, 34.64071273803711, 15.47079086303711, 33.728336334228516, 14.5691556930542, 14.360005378723145, 44.383541107177734, 36.28839111328125, 57.317962646484375, 57.179412841796875, 25.395145416259766, 31.215906143188477, 28.99980354309082, 32.99601364135742, 114.57354736328125, 87.06755828857422, 79.55758666992188, 76.83953857421875, 74.39872741699219, 70.64476776123047, 63.57174301147461, 61.3876953125, 58.184261322021484, 57.393157958984375, 56.35538101196289, 54.68704605102539, 52.204254150390625, 49.642578125, 48.62922668457031, 47.31544494628906, 45.754112243652344, 44.431549072265625, 91.86907958984375, 43.8633918762207, 43.83174133300781, 43.560401916503906, 42.95364761352539, 42.882537841796875, 42.086605072021484, 41.33563995361328, 40.356048583984375, 40.1302490234375, 40.042240142822266, 39.39546203613281, 93.76569366455078, 65.72401428222656, 63.291847229003906, 76.30900573730469, 64.95610809326172, 104.89823150634766, 78.75337982177734, 81.760009765625, 97.85221862792969, 87.9581527709961, 98.39273071289062, 114.3859634399414, 82.66570281982422, 147.46856689453125, 157.34312438964844, 167.2020263671875, 100.61939239501953, 126.72897338867188, 152.319580078125, 133.1312255859375, 131.5997772216797, 77.30149841308594, 129.99148559570312, 92.79156494140625, 155.42445373535156, 120.72142028808594, 118.86017608642578, 106.89281463623047, 115.12479400634766, 272.9894104003906, 126.46172332763672, 81.52505493164062, 79.3160629272461, 73.69607543945312, 63.28703689575195, 49.78680419921875, 49.78115463256836, 76.37635040283203, 42.437339782714844, 41.72685623168945, 40.92057800292969, 39.859703063964844, 38.2554817199707, 37.847171783447266, 37.38629913330078, 37.2204704284668, 59.2512321472168, 36.87935256958008, 34.367530822753906, 34.21373748779297, 33.66709518432617, 32.6763801574707, 31.160215377807617, 30.92935562133789, 30.71022605895996, 29.824113845825195, 29.740581512451172, 29.65375518798828, 29.445703506469727, 28.777029037475586, 102.92909240722656, 60.28095626831055, 82.10906982421875, 44.31935119628906, 52.79573440551758, 90.16574096679688, 71.06648254394531, 98.50174713134766, 174.70294189453125, 84.56071472167969, 128.2451171875, 72.39601135253906, 152.84275817871094, 103.99849700927734, 96.95610809326172, 104.62360382080078, 221.0726318359375, 178.5770263671875, 123.97943878173828, 98.72248840332031, 161.41317749023438, 193.70025634765625, 134.3636474609375, 180.67796325683594, 150.73080444335938, 173.7942352294922, 150.3674774169922, 199.7339324951172, 117.0782699584961, 272.9894104003906, 170.16793823242188, 152.76223754882812, 132.47283935546875, 161.3563995361328, 3648.001708984375, 3395.471435546875, 3383.09912109375, 3240.727294921875, 3202.183349609375, 3095.367919921875, 3070.21435546875, 2984.813232421875, 2879.452392578125, 2869.69970703125, 2855.870361328125, 2760.674072265625, 2551.421142578125, 2544.29931640625, 2373.998291015625, 2367.8349609375, 2350.81787109375, 2284.427490234375, 2258.965576171875, 2114.68212890625, 2043.2098388671875, 2002.3944091796875, 1925.91455078125, 1924.28125, 1910.2310791015625, 1904.6446533203125, 1892.3326416015625, 1848.128662109375, 1823.0107421875, 1801.3150634765625, 112.71549987792969, 35.85054016113281, 35.62836456298828, 34.72713088989258, 33.06399154663086, 33.017433166503906, 32.88371658325195, 32.71513366699219, 32.078121185302734, 30.90813636779785, 28.87094497680664, 28.10150909423828, 26.763845443725586, 26.5150203704834, 26.392845153808594, 26.326902389526367, 23.354833602905273, 23.344379425048828, 23.310714721679688, 22.44306182861328, 22.104541778564453, 21.44007110595703, 21.186254501342773, 20.89813232421875, 20.71487045288086, 20.410139083862305, 20.39034652709961, 19.70684051513672, 19.70306968688965, 19.62826919555664, 38.532081604003906, 87.25163269042969, 48.37419891357422, 133.96226501464844, 37.89618682861328, 74.41574096679688, 41.16038131713867, 48.17430877685547, 44.75313949584961, 57.684783935546875, 40.617584228515625, 55.85162353515625, 36.38267517089844, 51.95680236816406, 273.5640869140625, 53.18208694458008, 35.00532913208008, 47.97917175292969, 39.50440216064453, 35.28329086303711, 31.33259391784668, 31.318532943725586, 28.795211791992188, 28.567256927490234, 28.208030700683594, 27.21238899230957, 52.544307708740234, 25.55484390258789, 24.998655319213867, 24.473169326782227, 24.344728469848633, 23.651174545288086, 23.622711181640625, 23.53781509399414, 23.52655029296875, 23.39320182800293, 23.141027450561523, 22.745250701904297, 21.747163772583008, 21.6881160736084, 21.53217315673828, 21.278718948364258, 21.14263343811035, 20.91141128540039, 20.735261917114258, 20.510034561157227, 19.96736717224121, 28.77622413635254, 61.77239990234375, 52.05773162841797, 96.32581329345703, 25.664491653442383, 28.798498153686523, 49.56576156616211, 28.065044403076172, 45.82917022705078, 77.52536010742188, 55.97753143310547, 46.253990173339844, 40.855316162109375, 31.813617706298828, 54.226104736328125, 87.24651336669922, 40.1524772644043, 64.00740814208984, 33.281124114990234, 50.2335319519043, 31.5777587890625, 30.669044494628906, 30.62735939025879, 30.471424102783203, 29.562511444091797, 29.04977035522461, 50.63794708251953, 23.645492553710938, 22.445457458496094, 21.832456588745117, 21.65129852294922, 21.24162483215332, 20.760631561279297, 20.495487213134766, 20.445453643798828, 19.826231002807617, 19.207841873168945, 19.120393753051758, 18.966041564941406, 17.99294090270996, 17.272336959838867, 17.204050064086914, 16.994455337524414, 16.572492599487305, 16.397151947021484, 15.743048667907715, 20.712276458740234, 14.645048141479492, 14.331014633178711, 27.36491584777832, 22.956600189208984, 28.81916618347168, 53.291656494140625, 33.3255500793457, 41.4292106628418, 26.533103942871094, 33.708526611328125, 76.43771362304688, 59.02837371826172, 63.138702392578125, 49.69329071044922, 31.87978744506836, 25.38932228088379, 25.128543853759766, 23.24630355834961, 22.5524845123291, 22.42545509338379, 21.21329689025879, 21.171709060668945, 21.105907440185547, 21.088665008544922, 20.966482162475586, 20.959125518798828, 20.58821678161621, 20.425891876220703, 19.409818649291992, 18.857519149780273, 18.787023544311523, 18.20957374572754, 18.04645538330078, 17.943389892578125, 17.525861740112305, 17.1799259185791, 17.146678924560547, 16.60169219970703, 16.35791015625, 16.203731536865234, 15.877409934997559, 15.415657043457031, 14.951769828796387, 14.900542259216309, 53.580257415771484, 25.589820861816406, 32.62593078613281, 36.89630126953125, 18.64517593383789, 25.518447875976562, 52.4427490234375, 47.45390319824219, 45.59080123901367, 41.91047286987305, 36.69565963745117, 36.106807708740234, 35.236942291259766, 31.646800994873047, 28.654464721679688, 27.666067123413086, 27.10491371154785, 25.614795684814453, 24.407352447509766, 24.036176681518555, 22.960412979125977, 22.67620849609375, 22.648828506469727, 22.529804229736328, 22.287508010864258, 21.384212493896484, 21.236328125, 20.87259864807129, 20.823009490966797, 19.725244522094727, 19.460466384887695, 19.399124145507812, 19.35417366027832, 23.597925186157227, 19.290531158447266, 19.20427894592285, 45.77484893798828, 31.98435401916504, 28.3533935546875, 35.49200439453125, 42.91498565673828, 28.66230583190918, 40.31723403930664, 39.573463439941406, 76.71739959716797, 33.21372604370117, 48.58823013305664, 26.550127029418945, 42.429351806640625, 27.4664306640625, 24.80820083618164, 24.74080467224121, 22.916908264160156, 22.722558975219727, 22.114614486694336, 20.890626907348633, 18.7764949798584, 18.427473068237305, 18.241666793823242, 39.73582458496094, 17.70121955871582, 17.138519287109375, 37.34840393066406, 16.517820358276367, 16.426979064941406, 16.3754825592041, 16.035301208496094, 15.984949111938477, 15.72077751159668, 15.65238094329834, 15.043791770935059, 14.742037773132324, 14.554641723632812, 24.687211990356445, 14.379072189331055, 41.04266357421875, 13.91907787322998, 13.845381736755371, 24.677350997924805, 35.040218353271484, 33.4890022277832, 26.264009475708008, 34.82005310058594, 24.892698287963867, 45.07868576049805, 21.6191463470459, 27.972379684448242, 43.92876434326172, 33.08892059326172, 30.181529998779297, 27.55042839050293, 24.257118225097656, 24.035358428955078, 23.275903701782227, 22.820913314819336, 22.381656646728516, 21.165876388549805, 20.224098205566406, 19.420873641967773, 19.20250129699707, 18.86505126953125, 18.62932586669922, 18.15114974975586, 17.786767959594727, 17.245567321777344, 17.17237091064453, 16.422607421875, 16.103681564331055, 16.090280532836914, 15.799760818481445, 15.48567008972168, 14.467194557189941, 14.334236145019531, 14.2652006149292, 13.831085205078125, 13.809499740600586, 13.808609008789062, 25.92049789428711, 81.296142578125, 23.16757583618164, 67.39007568359375, 35.355228424072266, 37.82601547241211, 19.74924659729004, 24.752634048461914, 53.95496368408203, 24.251432418823242, 22.39204216003418, 26.545555114746094, 22.036293029785156, 20.164838790893555, 19.36510467529297, 17.84325408935547, 17.434507369995117, 17.122478485107422, 16.970582962036133, 16.934734344482422, 36.246856689453125, 16.796300888061523, 16.784452438354492, 16.118755340576172, 15.756665229797363, 15.467437744140625, 15.234780311584473, 15.146097183227539, 14.758971214294434, 14.536815643310547, 14.278839111328125, 13.551825523376465, 13.519506454467773, 13.221657752990723, 13.175634384155273, 13.146605491638184, 13.122651100158691, 13.099235534667969, 13.006181716918945, 12.846613883972168, 12.748430252075195, 32.790992736816406, 27.43073081970215, 43.956695556640625, 16.27326774597168, 23.6561279296875, 23.85865592956543, 20.776031494140625, 29.720382690429688, 28.19208526611328], \"loglift\": [30.0, 29.0, 28.0, 27.0, 26.0, 25.0, 24.0, 23.0, 22.0, 21.0, 20.0, 19.0, 18.0, 17.0, 16.0, 15.0, 14.0, 13.0, 12.0, 11.0, 10.0, 9.0, 8.0, 7.0, 6.0, 5.0, 4.0, 3.0, 2.0, 1.0, 4.156099796295166, 4.1468000411987305, 4.1427001953125, 4.138500213623047, 4.1381001472473145, 4.132500171661377, 4.130799770355225, 4.128399848937988, 4.124800205230713, 4.121799945831299, 4.121200084686279, 4.120999813079834, 4.120299816131592, 4.116600036621094, 4.110300064086914, 4.103600025177002, 4.101399898529053, 4.098100185394287, 4.089300155639648, 4.086599826812744, 4.08519983291626, 4.0833001136779785, 4.082200050354004, 4.0808000564575195, 4.0808000564575195, 4.08050012588501, 4.071499824523926, 4.069399833679199, 4.068299770355225, 4.063199996948242, 4.057799816131592, 4.003499984741211, 4.00600004196167, 3.952399969100952, 3.5348000526428223, 3.676800012588501, 3.7392001152038574, 3.650399923324585, 3.8066000938415527, 3.8929998874664307, 3.5329999923706055, 3.871000051498413, 3.652400016784668, 3.366300106048584, 3.666100025177002, 2.5889999866485596, 2.36680006980896, 3.732300043106079, 3.72979998588562, 3.723599910736084, 3.7204999923706055, 3.7197999954223633, 3.7191998958587646, 3.718400001525879, 3.7172000408172607, 3.715399980545044, 3.715399980545044, 3.70989990234375, 3.709700107574463, 3.7081000804901123, 3.700500011444092, 3.6984000205993652, 3.694999933242798, 3.6949000358581543, 3.694200038909912, 3.6919000148773193, 3.6919000148773193, 3.690500020980835, 3.6884000301361084, 3.6865999698638916, 3.685499906539917, 3.6851999759674072, 3.6842000484466553, 3.6816000938415527, 3.679800033569336, 3.6786000728607178, 3.6745998859405518, 3.662899971008301, 3.651700019836426, 3.6494998931884766, 3.6524999141693115, 3.609999895095825, 3.6226000785827637, 3.591900110244751, 3.5016000270843506, 3.4644999504089355, 3.419600009918213, 3.516900062561035, 3.4853999614715576, 3.1545000076293945, 3.3506999015808105, 3.6003000736236572, 3.574899911880493, 3.514899969100952, 2.9495999813079834, 3.4853999614715576, 3.331899881362915, 3.091099977493286, 3.118499994277954, 3.406899929046631, 3.0764000415802, 2.050600051879883, 3.0546000003814697, 3.80430006980896, 3.80430006980896, 3.8010001182556152, 3.786600112915039, 3.780400037765503, 3.777899980545044, 3.77020001411438, 3.7679998874664307, 3.764400005340576, 3.7641000747680664, 3.762500047683716, 3.7564001083374023, 3.7537999153137207, 3.7518999576568604, 3.7481000423431396, 3.74780011177063, 3.747299909591675, 3.7472000122070312, 3.7465999126434326, 3.7464001178741455, 3.7428998947143555, 3.7381999492645264, 3.7356998920440674, 3.7344000339508057, 3.732800006866455, 3.728600025177002, 3.7265000343322754, 3.7251999378204346, 3.7249999046325684, 3.7248001098632812, 3.70770001411438, 3.6668999195098877, 3.642400026321411, 3.616499900817871, 3.621999979019165, 3.64490008354187, 3.639899969100952, 3.629499912261963, 3.5664000511169434, 3.3879001140594482, 3.358099937438965, 3.5339999198913574, 3.2853000164031982, 3.3394999504089355, 3.4439001083374023, 3.6177000999450684, 3.0169999599456787, 2.1249001026153564, 2.257699966430664, 4.694399833679199, 4.673999786376953, 4.665999889373779, 4.66349983215332, 4.661300182342529, 4.6519999504089355, 4.651599884033203, 4.649400234222412, 4.64109992980957, 4.640999794006348, 4.621799945831299, 4.612400054931641, 4.608099937438965, 4.6041998863220215, 4.590199947357178, 4.5833001136779785, 4.579699993133545, 4.5782999992370605, 4.577300071716309, 4.575900077819824, 4.5690999031066895, 4.555600166320801, 4.553999900817871, 4.551400184631348, 4.54640007019043, 4.5457000732421875, 4.544099807739258, 4.535999774932861, 4.529600143432617, 4.525899887084961, 4.50629997253418, 4.399899959564209, 4.261199951171875, 4.206200122833252, 4.402100086212158, 4.169899940490723, 4.147600173950195, 4.047500133514404, 3.3320000171661377, 3.323899984359741, 3.3208000659942627, 3.3194000720977783, 3.31820011138916, 3.3160998821258545, 3.3113999366760254, 3.309799909591675, 3.3071000576019287, 3.3064000606536865, 3.3053998947143555, 3.303800106048584, 3.3011999130249023, 3.29830002784729, 3.296999931335449, 3.295300006866455, 3.293100118637085, 3.291100025177002, 3.2904999256134033, 3.290299892425537, 3.2901999950408936, 3.289799928665161, 3.288800001144409, 3.2887001037597656, 3.2873001098632812, 3.2860000133514404, 3.2841999530792236, 3.283799886703491, 3.2836999893188477, 3.282399892807007, 3.2720000743865967, 3.273200035095215, 3.256700038909912, 3.2320001125335693, 3.2430999279022217, 3.190000057220459, 3.2190001010894775, 3.1877999305725098, 3.146199941635132, 3.148900032043457, 3.114799976348877, 3.0594000816345215, 3.13700008392334, 2.973299980163574, 2.933799982070923, 2.9058001041412354, 3.055799961090088, 2.9616000652313232, 2.8831000328063965, 2.939500093460083, 2.9439001083374023, 3.1422998905181885, 2.83870005607605, 3.0350000858306885, 2.7239999771118164, 2.876699924468994, 2.8775999546051025, 2.9460999965667725, 2.879699945449829, 2.099600076675415, 3.5850000381469727, 3.5722999572753906, 3.5713000297546387, 3.5683999061584473, 3.561800003051758, 3.5490000247955322, 3.5490000247955322, 3.5453999042510986, 3.5383999347686768, 3.5371999740600586, 3.5357000827789307, 3.533799886703491, 3.5304999351501465, 3.5297000408172607, 3.528700113296509, 3.5283000469207764, 3.5280001163482666, 3.5274999141693115, 3.521399974822998, 3.5209999084472656, 3.5195000171661377, 3.516700029373169, 3.5120999813079834, 3.5113000869750977, 3.5106000900268555, 3.5076000690460205, 3.5072999000549316, 3.506999969482422, 3.506200075149536, 3.503700017929077, 3.495699882507324, 3.4946000576019287, 3.486799955368042, 3.4958999156951904, 3.4800000190734863, 3.433500051498413, 3.444700002670288, 3.414299964904785, 3.361799955368042, 3.4261999130249023, 3.374300003051758, 3.4305999279022217, 3.3329999446868896, 3.3750998973846436, 3.3854000568389893, 3.35479998588562, 3.224600076675415, 3.2237000465393066, 3.289099931716919, 3.3340001106262207, 3.179500102996826, 3.112600088119507, 3.2118000984191895, 3.10479998588562, 3.117799997329712, 3.0460000038146973, 3.1068999767303467, 2.9286000728607178, 3.1916000843048096, 2.7119998931884766, 2.8982999324798584, 2.97160005569458, 3.069000005722046, 2.8194000720977783, 0.2282000035047531, 0.2281000018119812, 0.2281000018119812, 0.2281000018119812, 0.2281000018119812, 0.2281000018119812, 0.2281000018119812, 0.2280000001192093, 0.2280000001192093, 0.2280000001192093, 0.2280000001192093, 0.2280000001192093, 0.22789999842643738, 0.22789999842643738, 0.22779999673366547, 0.22779999673366547, 0.22779999673366547, 0.22779999673366547, 0.22769999504089355, 0.22769999504089355, 0.22759999334812164, 0.22759999334812164, 0.22759999334812164, 0.22750000655651093, 0.22750000655651093, 0.22750000655651093, 0.22750000655651093, 0.22750000655651093, 0.22750000655651093, 0.22750000655651093, 4.346099853515625, 4.288000106811523, 4.287399768829346, 4.285099983215332, 4.2804999351501465, 4.280399799346924, 4.28000020980835, 4.2795000076293945, 4.277599811553955, 4.273799896240234, 4.266499996185303, 4.263500213623047, 4.257699966430664, 4.2565999031066895, 4.25600004196167, 4.25570011138916, 4.2399001121521, 4.239799976348877, 4.23960018157959, 4.234099864959717, 4.231800079345703, 4.227099895477295, 4.225299835205078, 4.223100185394287, 4.221700191497803, 4.219200134277344, 4.219099998474121, 4.2133002281188965, 4.2133002281188965, 4.212600231170654, 4.2067999839782715, 4.105100154876709, 4.138000011444092, 4.039100170135498, 4.159800052642822, 3.9941999912261963, 4.051700115203857, 4.009300231933594, 4.011899948120117, 3.8710999488830566, 3.9958999156951904, 3.8443000316619873, 4.031700134277344, 3.8464999198913574, 2.918100118637085, 3.785900115966797, 3.9846999645233154, 4.269800186157227, 4.255899906158447, 4.246399879455566, 4.235099792480469, 4.235099792480469, 4.226099967956543, 4.225200176239014, 4.223800182342529, 4.219600200653076, 4.2144999504089355, 4.211900234222412, 4.209000110626221, 4.206200122833252, 4.20550012588501, 4.201499938964844, 4.201399803161621, 4.200900077819824, 4.200799942016602, 4.199999809265137, 4.198500156402588, 4.196000099182129, 4.189300060272217, 4.188899993896484, 4.187699794769287, 4.1859002113342285, 4.184899806976318, 4.18310022354126, 4.18179988861084, 4.179999828338623, 4.17549991607666, 4.1631999015808105, 4.108699798583984, 4.032700061798096, 3.8654000759124756, 4.14169979095459, 4.114799976348877, 3.971100091934204, 4.116799831390381, 3.9163999557495117, 3.7204999923706055, 3.8359999656677246, 3.9019999504089355, 3.9154999256134033, 4.033299922943115, 3.7335000038146973, 3.390399932861328, 3.819999933242798, 3.341599941253662, 3.9217000007629395, 4.681600093841553, 4.644499778747559, 4.641499996185303, 4.64139986038208, 4.6407999992370605, 4.637599945068359, 4.6356000900268555, 4.611400127410889, 4.609799861907959, 4.602200031280518, 4.5980000495910645, 4.596700191497803, 4.593699932098389, 4.590000152587891, 4.587900161743164, 4.587500095367432, 4.582300186157227, 4.576700210571289, 4.575900077819824, 4.574399948120117, 4.564599990844727, 4.556399822235107, 4.555600166320801, 4.553100109100342, 4.547800064086914, 4.545499801635742, 4.536499977111816, 4.527599811553955, 4.5192999839782715, 4.513800144195557, 4.494999885559082, 4.495299816131592, 4.472700119018555, 4.369999885559082, 4.404699802398682, 4.2484002113342285, 4.394999980926514, 4.284900188446045, 3.894200086593628, 3.6659998893737793, 3.602299928665161, 3.732800006866455, 4.8231000900268555, 4.796899795532227, 4.795499801635742, 4.784800052642822, 4.780300140380859, 4.7795000076293945, 4.770899772644043, 4.770500183105469, 4.769999980926514, 4.769899845123291, 4.769000053405762, 4.768899917602539, 4.765999794006348, 4.764699935913086, 4.755899906158447, 4.7505998611450195, 4.75, 4.744100093841553, 4.742300033569336, 4.741199970245361, 4.736599922180176, 4.732500076293945, 4.732100009918213, 4.725299835205078, 4.722099781036377, 4.720099925994873, 4.7154998779296875, 4.708700180053711, 4.701399803161621, 4.7006001472473145, 4.5970001220703125, 4.566999912261963, 4.383600234985352, 4.204699993133545, 4.613699913024902, 4.347599983215332, 4.457499980926514, 4.451300144195557, 4.448699951171875, 4.442699909210205, 4.43209981918335, 4.430699825286865, 4.428500175476074, 4.418300151824951, 4.407700061798096, 4.403600215911865, 4.401199817657471, 4.394199848175049, 4.387899875640869, 4.385799884796143, 4.379300117492676, 4.377500057220459, 4.377399921417236, 4.3765997886657715, 4.375, 4.368599891662598, 4.367499828338623, 4.364799976348877, 4.3643999099731445, 4.355299949645996, 4.353000164031982, 4.352399826049805, 4.3520002365112305, 4.3520002365112305, 4.351399898529053, 4.3506999015808105, 4.346499919891357, 4.342100143432617, 4.227200031280518, 4.129799842834473, 4.032800197601318, 4.184500217437744, 3.9958999156951904, 3.9944000244140625, 3.5571999549865723, 4.078100204467773, 3.8006999492645264, 4.216599941253662, 4.854899883270264, 4.813600063323975, 4.8007001876831055, 4.8003997802734375, 4.789599895477295, 4.788400173187256, 4.784299850463867, 4.775300025939941, 4.756800174713135, 4.753300189971924, 4.751299858093262, 4.747300148010254, 4.745500087738037, 4.738900184631348, 4.734300136566162, 4.731200218200684, 4.730000019073486, 4.729300022125244, 4.724699974060059, 4.723899841308594, 4.720200061798096, 4.719200134277344, 4.709799766540527, 4.704800128936768, 4.701600074768066, 4.7006001472473145, 4.698599815368652, 4.696700096130371, 4.690100193023682, 4.688700199127197, 4.665500164031982, 4.553800106048584, 4.555300235748291, 4.578800201416016, 4.500100135803223, 4.561600208282471, 4.201600074768066, 4.555099964141846, 4.298299789428711, 4.736000061035156, 4.712399959564209, 4.703000068664551, 4.692699909210205, 4.676499843597412, 4.67519998550415, 4.6707000732421875, 4.667799949645996, 4.664899826049805, 4.656300067901611, 4.648799896240234, 4.6417999267578125, 4.639800071716309, 4.636600017547607, 4.634200096130371, 4.629300117492676, 4.625400066375732, 4.619200229644775, 4.618299961090088, 4.60890007019043, 4.604599952697754, 4.604499816894531, 4.600399971008301, 4.595799922943115, 4.5792999267578125, 4.576900005340576, 4.575699806213379, 4.567599773406982, 4.5671000480651855, 4.5671000480651855, 4.551599979400635, 4.496200084686279, 4.52400016784668, 4.387400150299072, 4.424499988555908, 4.253499984741211, 4.452199935913086, 4.276500225067139, 3.63070011138916, 4.254499912261963, 4.320799827575684, 4.873300075531006, 4.847599983215332, 4.8333001136779785, 4.826200008392334, 4.8109002113342285, 4.80620002746582, 4.802599906921387, 4.8007001876831055, 4.800300121307373, 4.800099849700928, 4.798500061035156, 4.798399925231934, 4.789599895477295, 4.7845001220703125, 4.780200004577637, 4.776599884033203, 4.775199890136719, 4.768899917602539, 4.765100002288818, 4.760499954223633, 4.746600151062012, 4.7459001541137695, 4.739699840545654, 4.738699913024902, 4.73799991607666, 4.737500190734863, 4.736999988555908, 4.734899997711182, 4.731299877166748, 4.729000091552734, 4.682300090789795, 4.641200065612793, 4.563199996948242, 4.677599906921387, 4.571499824523926, 4.472700119018555, 4.533599853515625, 4.194699764251709, 4.143199920654297], \"logprob\": [30.0, 29.0, 28.0, 27.0, 26.0, 25.0, 24.0, 23.0, 22.0, 21.0, 20.0, 19.0, 18.0, 17.0, 16.0, 15.0, 14.0, 13.0, 12.0, 11.0, 10.0, 9.0, 8.0, 7.0, 6.0, 5.0, 4.0, 3.0, 2.0, 1.0, -5.1269001960754395, -5.285699844360352, -5.3480000495910645, -5.408599853515625, -5.415500164031982, -5.4903998374938965, -5.512400150299072, -5.542900085449219, -5.587200164794922, -5.622300148010254, -5.629899978637695, -5.632599830627441, -5.640500068664551, -5.681099891662598, -5.749000072479248, -5.815700054168701, -5.837500095367432, -5.86870002746582, -5.947299957275391, -5.970600128173828, -5.982399940490723, -5.998300075531006, -6.006999969482422, -6.018799781799316, -6.018799781799316, -6.021100044250488, -6.092199802398682, -6.108099937438965, -6.116300106048584, -6.153800010681152, -5.709799766540527, -5.257500171661377, -5.363900184631348, -5.5152997970581055, -4.92140007019043, -5.220399856567383, -5.389400005340576, -5.2418999671936035, -5.600399971008301, -5.75600004196167, -5.444300174713135, -5.7677001953125, -5.6697998046875, -5.649799823760986, -5.725800037384033, -5.63730001449585, -5.622099876403809, -5.483500003814697, -5.531099796295166, -5.643499851226807, -5.695899963378906, -5.706999778747559, -5.715799808502197, -5.7291998863220215, -5.747700214385986, -5.775400161743164, -5.775899887084961, -5.855800151824951, -5.85860013961792, -5.8805999755859375, -5.416500091552734, -6.0055999755859375, -6.046500205993652, -6.048299789428711, -6.056300163269043, -6.082799911499023, -6.082900047302246, -6.098299980163574, -6.121699810028076, -6.141200065612793, -6.153500080108643, -6.155900001525879, -6.166800022125244, -6.194200038909912, -6.212900161743164, -6.224699974060059, -6.263800144195557, -5.283899784088135, -5.449699878692627, -5.738999843597412, -5.858399868011475, -5.496500015258789, -5.852399826049805, -5.731100082397461, -5.421000003814697, -5.38539981842041, -5.304599761962891, -5.611499786376953, -5.5553998947143555, -4.77810001373291, -5.369500160217285, -5.870100021362305, -5.829599857330322, -5.736100196838379, -4.8979997634887695, -5.69789981842041, -5.565700054168701, -5.362500190734863, -5.478600025177002, -5.7144999504089355, -5.7042999267578125, -5.595200061798096, -5.73360013961792, -5.07919979095459, -5.0808000564575195, -5.1682000160217285, -5.480599880218506, -5.59250020980835, -5.634399890899658, -5.753300189971924, -5.783899784088135, -5.83519983291626, -5.8379998207092285, -5.859899997711182, -5.937900066375732, -5.969799995422363, -5.992000102996826, -6.035299777984619, -6.038300037384033, -6.044099807739258, -6.046000003814697, -6.052599906921387, -6.054500102996826, -6.0929999351501465, -6.141499996185303, -6.166800022125244, -6.179900169372559, -6.195499897003174, -6.235799789428711, -6.255499839782715, -6.267600059509277, -6.269400119781494, -6.270699977874756, -5.593100070953369, -5.358500003814697, -5.451200008392334, -5.360499858856201, -5.456099987030029, -5.647900104522705, -5.618299961090088, -5.831099987030029, -5.86959981918335, -5.604100227355957, -5.727700233459473, -5.892300128936768, -5.7245001792907715, -5.861000061035156, -5.9156999588012695, -5.998199939727783, -5.853499889373779, -5.722700119018555, -5.956600189208984, -4.627699851989746, -4.9359002113342285, -5.035200119018555, -5.065299987792969, -5.090700149536133, -5.191400051116943, -5.195499897003174, -5.218500137329102, -5.299099922180176, -5.300000190734863, -5.46750020980835, -5.541500091552734, -5.57420015335083, -5.602700233459473, -5.6996002197265625, -5.744500160217285, -5.767499923706055, -5.775700092315674, -5.782299995422363, -5.790900230407715, -5.831900119781494, -5.909800052642822, -5.918399810791016, -5.93310022354126, -5.95989990234375, -5.1645002365112305, -5.9721999168396, -5.200900077819824, -6.0467000007629395, -6.064899921417236, -4.956099987030029, -5.263800144195557, -4.945400238037109, -5.002900123596191, -5.618599891662598, -5.644400119781494, -5.7403998374938965, -5.711400032043457, -5.182000160217285, -5.464600086212158, -5.558000087738037, -5.594099998474121, -5.627600193023682, -5.68149995803833, -5.791600227355957, -5.828199863433838, -5.884500026702881, -5.898900032043457, -5.918099880218506, -5.94980001449585, -5.998799800872803, -6.05210018157959, -6.073999881744385, -6.103099822998047, -6.138800144195557, -6.170100212097168, -5.444300174713135, -6.183899879455566, -6.184700012207031, -6.191299915313721, -6.206299781799316, -6.208099842071533, -6.2281999588012695, -6.247499942779541, -6.273200035095215, -6.279300212860107, -6.281599998474121, -6.299200057983398, -5.442399978637695, -5.796599864959717, -5.8506999015808105, -5.688399791717529, -5.838399887084961, -5.412199974060059, -5.669899940490723, -5.663599967956543, -5.525599956512451, -5.62939977645874, -5.551400184631348, -5.456200122833252, -5.703400135040283, -5.288300037384033, -5.263000011444092, -5.230199813842773, -5.588099956512451, -5.451600074768066, -5.346199989318848, -5.4243998527526855, -5.431600093841553, -5.765200138092041, -5.548999786376953, -5.689799785614014, -5.485099792480469, -5.585000038146973, -5.599699974060059, -5.63730001449585, -5.629499912261963, -5.546199798583984, -4.8302998542785645, -5.2820000648498535, -5.310500144958496, -5.386899948120117, -5.5457000732421875, -5.798500061035156, -5.798600196838379, -5.374199867248535, -5.968800067901611, -5.9868998527526855, -6.007800102233887, -6.036099910736084, -6.080399990081787, -6.0920000076293945, -6.105299949645996, -6.110099792480469, -5.645400047302246, -6.119999885559082, -6.196700096130371, -6.201600074768066, -6.219200134277344, -6.251800060272217, -6.303999900817871, -6.31220006942749, -6.320000171661377, -6.35230016708374, -6.355400085449219, -6.358699798583984, -6.366499900817871, -6.391900062561035, -5.125500202178955, -5.661600112915039, -5.360400199890137, -5.967899799346924, -5.808800220489502, -5.320099830627441, -5.546899795532227, -5.250800132751465, -4.730299949645996, -5.391600131988525, -5.0269999504089355, -5.542500019073486, -4.892899990081787, -5.2357001304626465, -5.295599937438965, -5.250100135803223, -4.632199764251709, -4.846499919891357, -5.145999908447266, -5.32889986038208, -4.991700172424316, -4.876299858093262, -5.142899990081787, -4.953700065612793, -5.1219000816345215, -5.051400184631348, -5.135200023651123, -5.029600143432617, -5.30079984664917, -4.933800220489502, -5.220200061798096, -5.254799842834473, -5.299900054931641, -5.352200031280518, -4.825099945068359, -4.896900177001953, -4.9004998207092285, -4.943600177764893, -4.955599784851074, -4.989500045776367, -4.997700214385986, -5.025899887084961, -5.0619001388549805, -5.065299987792969, -5.070099830627441, -5.104000091552734, -5.1828999519348145, -5.185699939727783, -5.255099773406982, -5.257699966430664, -5.264900207519531, -5.293600082397461, -5.304800033569336, -5.3709001541137695, -5.405300140380859, -5.42549991607666, -5.4644999504089355, -5.465400218963623, -5.472700119018555, -5.475599765777588, -5.482100009918213, -5.505799770355225, -5.519499778747559, -5.531499862670898, -4.184199810028076, -5.387899875640869, -5.394700050354004, -5.422599792480469, -5.476200103759766, -5.477799892425537, -5.4822001457214355, -5.4878997802734375, -5.509500026702881, -5.5503997802734375, -5.625899791717529, -5.655900001525879, -5.7104997634887695, -5.720900058746338, -5.726099967956543, -5.728899955749512, -5.86460018157959, -5.865099906921387, -5.866700172424316, -5.910200119018555, -5.927599906921387, -5.962800025939941, -5.976600170135498, -5.992499828338623, -6.002699851989746, -6.019999980926514, -6.021100044250488, -6.0609002113342285, -6.061200141906738, -6.0655999183654785, -5.396999835968018, -4.681300163269043, -5.2382001876831055, -4.318600177764893, -5.460599899291992, -4.951399803161621, -5.486100196838379, -5.371099948883057, -5.442200183868408, -5.329100131988525, -5.555200099945068, -5.388299942016602, -5.62939977645874, -5.4583001136779785, -4.725599765777588, -5.49560022354126, -5.715000152587891, -5.114699840545654, -5.32289981842041, -5.445400238037109, -5.575399875640869, -5.575900077819824, -5.668900012969971, -5.677700042724609, -5.691800117492676, -5.731900215148926, -5.078999996185303, -5.802499771118164, -5.827400207519531, -5.851399898529053, -5.857399940490723, -5.8902997970581055, -5.891600131988525, -5.895699977874756, -5.896299839019775, -5.9028000831604, -5.91510009765625, -5.934899806976318, -5.986499786376953, -5.98960018157959, -5.997900009155273, -6.011600017547607, -6.019100189208984, -6.031799793243408, -6.041600227355957, -6.054299831390381, -6.085599899291992, -5.732500076293945, -5.023099899291992, -5.270199775695801, -4.8221001625061035, -5.8684000968933105, -5.780099868774414, -5.380899906158447, -5.803899765014648, -5.513899803161621, -5.184100151062012, -5.3942999839782715, -5.519100189208984, -5.629700183868408, -5.76200008392334, -5.528500080108643, -5.395999908447266, -5.742499828338623, -5.7546000480651855, -5.828499794006348, -4.656899929046631, -5.158199787139893, -5.190499782562256, -5.191999912261963, -5.1975998878479, -5.231200218200684, -5.2505998611450195, -4.719200134277344, -5.4822998046875, -5.541900157928467, -5.573800086975098, -5.583399772644043, -5.605500221252441, -5.6321001052856445, -5.64709997177124, -5.650000095367432, -5.6859002113342285, -5.723199844360352, -5.728600025177002, -5.738100051879883, -5.8007001876831055, -5.849699974060059, -5.854400157928467, -5.869200229644775, -5.899700164794922, -5.912600040435791, -5.962299823760986, -5.696899890899658, -6.051799774169922, -6.078999996185303, -5.450900077819824, -5.626299858093262, -5.421500205993652, -4.90939998626709, -5.344200134277344, -5.282800197601318, -5.581900119781494, -5.452499866485596, -5.024499893188477, -5.511199951171875, -5.507599830627441, -5.616499900817871, -4.970200061798096, -5.223999977111816, -5.2357001304626465, -5.3242998123168945, -5.359099864959717, -5.365499973297119, -5.429699897766113, -5.432000160217285, -5.4355998039245605, -5.436600208282471, -5.443299770355225, -5.443699836730957, -5.4644999504089355, -5.473800182342529, -5.533599853515625, -5.567699909210205, -5.5721001625061035, -5.6092000007629395, -5.619900226593018, -5.626800060272217, -5.65500020980835, -5.678999900817871, -5.681300163269043, -5.720399856567383, -5.738399982452393, -5.749899864196777, -5.774799823760986, -5.811100006103516, -5.848999977111816, -5.8531999588012695, -4.67710018157959, -5.446100234985352, -5.386499881744385, -5.442500114440918, -5.71589994430542, -5.6682000160217285, -4.8379998207092285, -4.9440999031066895, -4.9868998527526855, -5.077000141143799, -5.2204999923706055, -5.238100051879883, -5.264599800109863, -5.382299900054932, -5.492199897766113, -5.531400203704834, -5.554299831390381, -5.617800235748291, -5.672500133514404, -5.689899921417236, -5.742099761962891, -5.756400108337402, -5.757800102233887, -5.763800144195557, -5.776199817657471, -5.82390022277832, -5.831999778747559, -5.8520002365112305, -5.854800224304199, -5.918000221252441, -5.933800220489502, -5.937600135803223, -5.940299987792969, -5.742099761962891, -5.944200038909912, -5.949399948120117, -5.085000038146973, -5.44789981842041, -5.683199882507324, -5.556099891662598, -5.463200092315674, -5.715199947357178, -5.562600135803223, -5.582600116729736, -5.357900142669678, -5.674200057983398, -5.571199893951416, -5.7596001625061035, -4.652500152587891, -5.128699779510498, -5.243299961090088, -5.246399879455566, -5.333700180053711, -5.343500137329102, -5.37470006942749, -5.4405999183654785, -5.565899848937988, -5.588099956512451, -5.600200176239014, -4.825699806213379, -5.636099815368652, -5.675000190734863, -4.900700092315674, -5.719600200653076, -5.72629976272583, -5.730199813842773, -5.755799770355225, -5.7596001625061035, -5.780099868774414, -5.785399913787842, -5.834499835968018, -5.8597002029418945, -5.875699996948242, -5.348299980163574, -5.890900135040283, -4.843999862670898, -5.9319000244140625, -5.938600063323975, -5.383900165557861, -5.144999980926514, -5.188700199127197, -5.408199787139893, -5.204899787902832, -5.479000091552734, -5.245200157165527, -5.6265997886657715, -5.625699996948242, -4.736700057983398, -5.043700218200684, -5.144999980926514, -5.246500015258789, -5.389999866485596, -5.4004998207092285, -5.437099933624268, -5.459700107574463, -5.48199987411499, -5.546599864959717, -5.599599838256836, -5.64709997177124, -5.660399913787842, -5.681300163269043, -5.696199893951416, -5.727200031280518, -5.751399993896484, -5.78849983215332, -5.793600082397461, -5.847599983215332, -5.871500015258789, -5.872499942779541, -5.894899845123291, -5.91949987411499, -6.0040998458862305, -6.015699863433838, -6.021699905395508, -6.060699939727783, -6.062699794769287, -6.06279993057251, -5.448500156402588, -4.361000061035156, -5.588399887084961, -4.657299995422363, -5.2652997970581055, -5.36870002746582, -5.819900035858154, -5.769800186157227, -5.63640022277832, -5.81220006942749, -5.825699806213379, -5.103000164031982, -5.314899921417236, -5.418000221252441, -5.4654998779296875, -5.562699794769287, -5.5904998779296875, -5.612299919128418, -5.623000144958496, -5.6255998611450195, -4.864799976348877, -5.635499954223633, -5.63640022277832, -5.6855998039245605, -5.713500022888184, -5.736299991607666, -5.755000114440918, -5.76230001449585, -5.79449987411499, -5.813399791717529, -5.835899829864502, -5.902100086212158, -5.905200004577637, -5.933700084686279, -5.938199996948242, -5.940999984741211, -5.943399906158447, -5.945700168609619, -5.954899787902832, -5.970799922943115, -5.980800151824951, -5.082699775695801, -5.3024001121521, -4.90880012512207, -5.788099765777588, -5.520100116729736, -5.610400199890137, -5.68779993057251, -5.668700218200684, -5.7729997634887695]}, \"token.table\": {\"Topic\": [5, 1, 1, 4, 8, 8, 6, 12, 13, 1, 2, 5, 2, 5, 11, 1, 3, 8, 5, 2, 4, 8, 12, 4, 7, 3, 2, 3, 5, 8, 13, 7, 6, 12, 13, 9, 5, 15, 15, 1, 2, 3, 8, 12, 1, 8, 9, 5, 7, 3, 15, 2, 3, 4, 2, 10, 11, 15, 3, 2, 14, 2, 5, 14, 11, 9, 3, 4, 10, 1, 2, 4, 5, 8, 9, 12, 2, 14, 6, 1, 3, 8, 14, 3, 12, 3, 4, 12, 10, 1, 9, 4, 5, 4, 5, 13, 2, 3, 6, 2, 5, 1, 4, 9, 14, 8, 12, 3, 13, 5, 6, 9, 14, 1, 2, 10, 5, 13, 1, 5, 9, 14, 12, 6, 9, 14, 5, 6, 5, 9, 13, 8, 10, 13, 15, 14, 12, 2, 3, 8, 6, 10, 12, 2, 6, 1, 2, 4, 6, 11, 1, 2, 3, 5, 9, 3, 13, 1, 13, 7, 13, 2, 3, 8, 12, 13, 8, 9, 1, 10, 14, 1, 1, 2, 3, 5, 9, 12, 6, 11, 13, 12, 13, 1, 2, 3, 5, 6, 8, 9, 12, 5, 12, 1, 15, 6, 8, 12, 15, 15, 1, 13, 15, 9, 14, 1, 2, 9, 10, 11, 15, 6, 1, 12, 4, 2, 3, 5, 9, 9, 10, 15, 10, 5, 2, 1, 11, 1, 3, 5, 2, 3, 12, 14, 15, 11, 1, 12, 14, 4, 14, 2, 13, 3, 14, 2, 15, 4, 8, 5, 15, 5, 8, 13, 7, 3, 1, 5, 6, 9, 1, 11, 8, 1, 6, 5, 9, 13, 11, 6, 2, 6, 9, 10, 6, 9, 15, 14, 3, 5, 2, 12, 1, 4, 11, 12, 6, 2, 14, 2, 4, 12, 13, 11, 10, 1, 4, 9, 13, 2, 5, 3, 2, 3, 5, 11, 1, 8, 2, 1, 3, 2, 5, 10, 12, 1, 13, 1, 3, 8, 1, 9, 3, 13, 12, 11, 2, 5, 6, 15, 4, 8, 4, 8, 9, 10, 14, 6, 2, 3, 7, 2, 14, 7, 11, 2, 8, 4, 7, 11, 1, 9, 2, 8, 8, 1, 9, 10, 12, 13, 14, 2, 3, 5, 10, 3, 10, 2, 3, 9, 1, 12, 15, 4, 11, 12, 5, 6, 9, 15, 3, 3, 5, 10, 15, 14, 15, 6, 5, 6, 3, 13, 3, 12, 14, 10, 6, 1, 3, 1, 5, 6, 1, 3, 10, 10, 7, 6, 13, 4, 7, 14, 5, 5, 6, 10, 1, 9, 10, 1, 8, 12, 9, 1, 7, 2, 6, 4, 9, 3, 7, 12, 2, 3, 5, 7, 2, 3, 8, 11, 12, 8, 5, 2, 3, 6, 3, 5, 11, 9, 1, 3, 10, 11, 8, 11, 3, 5, 12, 5, 8, 10, 14, 4, 2, 5, 10, 3, 5, 6, 8, 12, 8, 3, 3, 9, 1, 2, 3, 1, 2, 4, 5, 6, 8, 1, 1, 6, 7, 2, 9, 11, 1, 8, 2, 3, 4, 6, 8, 12, 6, 7, 15, 10, 9, 3, 10, 8, 15, 2, 5, 6, 8, 9, 5, 9, 12, 14, 3, 9, 8, 9, 10, 10, 3, 5, 10, 12, 4, 8, 15, 5, 3, 12, 3, 15, 14, 4, 3, 4, 11, 6, 4, 11, 3, 5, 6, 9, 8, 9, 12, 1, 9, 2, 10, 15, 4, 9, 15, 8, 13, 1, 12, 2, 3, 4, 5, 8, 12, 14, 10, 1, 2, 4, 8, 11, 12, 14, 7, 2, 3, 7, 2, 1, 2, 3, 5, 9, 12, 15, 3, 5, 6, 9, 5, 2, 13, 7, 10, 12, 8, 3, 11, 8, 4, 10, 9, 14, 14, 15, 12, 12, 14, 1, 2, 6, 14, 8, 5, 4, 7, 8, 11, 15, 3, 1, 2, 5, 9, 10, 4, 1, 2, 5, 6, 8, 9, 13, 14, 9, 6, 12, 15, 2, 3, 5, 6, 7, 2, 3, 6, 6, 10, 5, 7, 14, 4, 1, 2, 3, 6, 8, 9, 6, 3, 5, 12, 9, 1, 2, 6, 9, 2, 10, 12, 3, 8, 7, 5, 3, 6, 2, 12, 3, 5, 6, 1, 2, 5, 6, 8, 2, 3, 14, 2, 5, 4, 1, 2, 9, 5, 8, 1, 12, 1, 2, 2, 6, 11, 1, 2, 1, 3, 6, 10, 12, 6, 11, 10, 8, 1, 3, 4, 10, 1, 1, 3, 9, 10, 1, 3, 12, 9, 12, 2, 15, 1, 3, 4, 1, 8, 9, 10, 3, 5, 6, 11, 1, 8, 9, 11, 10, 11, 7, 2, 9, 6, 9, 8, 15, 2, 3, 5, 9, 13, 2, 7, 4, 12, 15, 9, 1, 2, 3, 5, 6, 14, 6, 4, 6, 10, 2, 3, 3, 8, 9, 15, 14, 1, 3, 12, 4, 2, 3, 5, 6, 13, 1, 10, 3, 4, 6, 10, 11, 12, 9, 3, 12, 10, 4, 6, 15, 13, 14, 2, 3, 5, 6, 5, 8, 12, 3, 1, 6, 1, 2, 6, 4, 9, 14, 3, 3, 15, 3, 4, 11, 8, 8, 14, 7, 15, 10, 12, 5, 2, 4, 15, 3, 14, 12, 3, 12, 10, 2, 9, 15, 2, 3, 6, 8, 14, 8, 11, 2, 5, 10, 2, 5, 6, 9, 3, 4, 1, 14, 1, 2, 3, 5, 8, 9, 2, 5, 9, 12, 7, 3, 4, 5, 10, 2, 2, 3, 6, 8, 14, 6, 15, 3, 1, 2, 3, 10, 12, 12, 4, 9, 12, 14, 4, 14, 6, 5, 7, 13, 6, 15, 5, 10, 7, 11, 13, 4, 8, 2, 5, 2, 5, 9, 2, 14, 6, 2, 2, 6, 9, 4, 12, 15, 11, 4, 10, 1, 1, 3, 4, 5, 8, 9, 12, 14, 15, 13, 5, 1, 9, 11, 1, 8, 2, 8, 9, 3, 8, 12, 14, 6, 8, 15, 3, 5, 10, 12, 7, 14, 5, 1, 3, 6, 13, 10, 2, 15, 3, 15, 13, 8, 2, 13, 3, 9, 14, 7, 9, 11, 1, 6, 4, 13, 12, 1, 9, 15, 1, 3, 2, 3, 4, 5, 8, 9, 11, 2, 11, 3, 6, 7, 3, 5, 11, 8, 3, 1, 2, 10, 12, 8, 8, 2, 8, 9, 11, 9, 1, 3, 1, 13, 13, 5, 12, 3, 5, 8, 9, 12, 13, 3, 14, 1, 10, 6, 15, 3, 4, 14, 3, 5, 2, 3, 5, 6, 12, 8, 6, 11, 1, 9, 12, 1, 3, 5, 9, 10, 6, 8, 9, 14, 3, 7, 6, 15, 6, 7, 7, 2, 12, 2, 5, 10, 1, 2, 3, 6, 8, 14, 1, 5, 6, 5, 3, 14, 13, 3, 4, 5, 4, 8, 2, 3, 9, 2, 11, 9, 12, 9, 13, 1, 2, 3, 4, 5, 9, 10, 4, 2, 3, 15, 10, 8, 12], \"Freq\": [0.9312363862991333, 0.875231146812439, 0.821614146232605, 0.12324211746454239, 0.8660977482795715, 0.8736310601234436, 0.45278453826904297, 0.49394679069519043, 0.8107113242149353, 0.19360531866550446, 0.7582874894142151, 0.924024224281311, 0.9193783402442932, 0.9129083156585693, 0.04564541578292847, 0.14076612889766693, 0.6334475874900818, 0.1829959601163864, 0.95830237865448, 0.732684314250946, 0.06105702742934227, 0.10990265011787415, 0.07326843589544296, 0.909092366695404, 0.9987316727638245, 0.9150465726852417, 0.13562212884426117, 0.10171659290790558, 0.6781105995178223, 0.06781106442213058, 0.8140019774436951, 0.9988042116165161, 0.9207803606987, 0.23888438940048218, 0.6867926120758057, 0.9029278755187988, 0.24066193401813507, 0.6257210373878479, 0.784410297870636, 0.5132259726524353, 0.13870972394943237, 0.15258069336414337, 0.05548388883471489, 0.11096777766942978, 0.11461103707551956, 0.76789391040802, 0.09168882668018341, 0.9582048654556274, 0.9983484745025635, 0.4611223340034485, 0.4256513714790344, 0.905660092830658, 0.9255368113517761, 0.9399497509002686, 0.9248815178871155, 0.8105446100234985, 0.8485243916511536, 0.7634033560752869, 0.8807998895645142, 0.296779602766037, 0.6529151201248169, 0.9091415405273438, 0.9361147284507751, 0.03265516459941864, 0.8742864727973938, 0.9366044998168945, 0.804323136806488, 0.05547055974602699, 0.11094111949205399, 0.035884734243154526, 0.1435389369726181, 0.017942367121577263, 0.6339635848999023, 0.07176946848630905, 0.023923154920339584, 0.05980788916349411, 0.15190452337265015, 0.7088878154754639, 0.9117484092712402, 0.881426215171814, 0.16125620901584625, 0.6853388547897339, 0.12094215303659439, 0.8096135854721069, 0.13493560254573822, 0.2973098158836365, 0.5771307945251465, 0.0699552446603775, 0.8336602449417114, 0.2692427933216095, 0.6608687043190002, 0.04739946871995926, 0.9005899429321289, 0.04436686635017395, 0.42148521542549133, 0.48803552985191345, 0.8403725028038025, 0.11356385052204132, 0.9219250679016113, 0.9426954984664917, 0.9412217736244202, 0.21032942831516266, 0.06009412556886673, 0.6610353589057922, 0.7965531349182129, 0.6893566250801086, 0.24619878828525543, 0.2584717571735382, 0.660538911819458, 0.1488240510225296, 0.7841882705688477, 0.02289600856602192, 0.034344013780355453, 0.15759792923927307, 0.7485901117324829, 0.06566580384969711, 0.9347202181816101, 0.8132650256156921, 0.9257974624633789, 0.4686957597732544, 0.3749566078186035, 0.12498553097248077, 0.9265400767326355, 0.9805338382720947, 0.8989436626434326, 0.8238558173179626, 0.2224508374929428, 0.7589499354362488, 0.34258729219436646, 0.6228860020637512, 0.8616304397583008, 0.9040429592132568, 0.8473927974700928, 0.8300220966339111, 0.10709962248802185, 0.8524833917617798, 0.883047878742218, 0.18803323805332184, 0.20683656632900238, 0.5640997290611267, 0.9690272808074951, 0.8689135909080505, 0.05924410745501518, 0.1826949417591095, 0.7884729504585266, 0.16004109382629395, 0.16004109382629395, 0.030975693836808205, 0.6091886758804321, 0.030975693836808205, 0.037420663982629776, 0.1216171532869339, 0.15903781354427338, 0.6642167568206787, 0.8680864572525024, 0.9598438143730164, 0.847569465637207, 0.22830908000469208, 0.684927225112915, 0.9989949464797974, 0.8305445909500122, 0.9203596711158752, 0.15054017305374146, 0.12043213844299316, 0.6322687268257141, 0.7902822494506836, 0.8180242776870728, 0.13193939626216888, 0.8105171918869019, 0.01842084527015686, 0.11052507162094116, 0.8856467008590698, 0.05368028208613396, 0.5319227576255798, 0.07808040827512741, 0.2781614661216736, 0.034160178154706955, 0.019520102068781853, 0.8985817432403564, 0.8053398132324219, 0.8591603636741638, 0.146189346909523, 0.8040413856506348, 0.017929229885339737, 0.43478384613990784, 0.17929230630397797, 0.23756231367588043, 0.05826999992132187, 0.06275230646133423, 0.7543939352035522, 0.18859848380088806, 0.9219977855682373, 0.9482886791229248, 0.2957456111907959, 0.6597402095794678, 0.8712825179100037, 0.07576369494199753, 0.9534206390380859, 0.817638635635376, 0.8335168361663818, 0.9415159225463867, 0.7699368000030518, 0.121568962931633, 0.8182511329650879, 0.07792868465185165, 0.11846239119768143, 0.700005054473877, 0.06461584568023682, 0.06461584568023682, 0.04307723417878151, 0.8341052532196045, 0.9282557964324951, 0.06253057718276978, 0.8441627621650696, 0.890511691570282, 0.48222261667251587, 0.08037043362855911, 0.3559262156486511, 0.057407453656196594, 0.296660840511322, 0.6229877471923828, 0.7589767575263977, 0.7928206324577332, 0.9386208057403564, 0.9181089401245117, 0.19539019465446472, 0.7034046649932861, 0.4326224625110626, 0.2018904834985733, 0.3460979759693146, 0.8231690526008606, 0.05879778787493706, 0.07839705049991608, 0.7337841391563416, 0.12949131429195404, 0.851651668548584, 0.9271195530891418, 0.8710644841194153, 0.8263939023017883, 0.856564998626709, 0.8504254817962646, 0.19037458300590515, 0.723423421382904, 0.900725781917572, 0.8294628262519836, 0.9252094030380249, 0.03190377354621887, 0.8005138635635376, 0.11859464645385742, 0.9467679262161255, 0.8250476717948914, 0.7983964085578918, 0.09677532315254211, 0.07258149236440659, 0.9991483092308044, 0.9429126977920532, 0.061598069965839386, 0.24639227986335754, 0.6831786036491394, 0.9069448709487915, 0.8560901284217834, 0.061149295419454575, 0.8819146156311035, 0.5879825353622437, 0.35698938369750977, 0.33194345235824585, 0.5532390475273132, 0.07376521080732346, 0.8528417944908142, 0.93617182970047, 0.10136838257312775, 0.7953519225120544, 0.054582975804805756, 0.03119027055799961, 0.9149015545845032, 0.18227732181549072, 0.6926537752151489, 0.8945868611335754, 0.6709144115447998, 0.28463035821914673, 0.8788811564445496, 0.06277722120285034, 0.1839028000831604, 0.15325233340263367, 0.5823588371276855, 0.9081377983093262, 0.9169419407844543, 0.9261344075202942, 0.8118028044700623, 0.8880188465118408, 0.08072898536920547, 0.08101360499858856, 0.8101360201835632, 0.8187733292579651, 0.8782421350479126, 0.22424465417861938, 0.5445941686630249, 0.12813979387283325, 0.8868035078048706, 0.906682014465332, 0.9416184425354004, 0.9340540766716003, 0.7660245299339294, 0.18238680064678192, 0.9677584767341614, 0.8535391092300415, 0.9179033637046814, 0.9759083986282349, 0.9237396121025085, 0.12859269976615906, 0.8266673684120178, 0.6435766816139221, 0.2359781265258789, 0.010726278647780418, 0.07508394867181778, 0.8802418112754822, 0.8892192840576172, 0.11426831781864166, 0.14283539354801178, 0.6856098771095276, 0.9022065997123718, 0.8921813368797302, 0.916647732257843, 0.7938697338104248, 0.8294224739074707, 0.8149045705795288, 0.08303588628768921, 0.3170461356639862, 0.5812512040138245, 0.8136391639709473, 0.8245561718940735, 0.9086108803749084, 0.04478873312473297, 0.7166197299957275, 0.08211267739534378, 0.0970422551035881, 0.03732394427061081, 0.907850444316864, 0.1331227570772171, 0.8177540898323059, 0.9988481998443604, 0.23371343314647675, 0.738042414188385, 0.9987673163414001, 0.9096673130989075, 0.24579280614852905, 0.6926888227462769, 0.8319427967071533, 0.9989184737205505, 0.8237425088882446, 0.8948111534118652, 0.8800473213195801, 0.9324132800102234, 0.861320972442627, 0.871448278427124, 0.5733518004417419, 0.1019292026758194, 0.0509646013379097, 0.1019292026758194, 0.06370574980974197, 0.07644690573215485, 0.12917955219745636, 0.1367783397436142, 0.6610953211784363, 0.05319157987833023, 0.1884438395500183, 0.7160865664482117, 0.2182016372680664, 0.06546048820018768, 0.6546049118041992, 0.698777437210083, 0.1881323903799057, 0.0537521131336689, 0.9116676449775696, 0.548622727394104, 0.31349870562553406, 0.945274293422699, 0.9053077101707458, 0.8195248246192932, 0.10689453780651093, 0.9303533434867859, 0.9454123973846436, 0.9678524136543274, 0.9188936948776245, 0.8262284398078918, 0.8079411387443542, 0.7606526017189026, 0.9425661563873291, 0.9775380492210388, 0.905288815498352, 0.35749551653862, 0.5362432599067688, 0.17444513738155365, 0.7326695919036865, 0.7966045141220093, 0.9142152667045593, 0.9581918120384216, 0.7331497073173523, 0.1900758445262909, 0.19638361036777496, 0.2552987039089203, 0.530235767364502, 0.8895730972290039, 0.0871209129691124, 0.7840882539749146, 0.9356300234794617, 0.999051034450531, 0.9346498250961304, 0.8168733716011047, 0.9125280380249023, 0.9990962743759155, 0.8433235287666321, 0.9647680521011353, 0.2828145921230316, 0.6698240041732788, 0.029769957065582275, 0.8948078751564026, 0.894483208656311, 0.057094670832157135, 0.660826563835144, 0.04263397306203842, 0.23448684811592102, 0.8642658591270447, 0.9254627227783203, 0.9986114501953125, 0.13308824598789215, 0.8428922295570374, 0.788580596446991, 0.15771612524986267, 0.9032320380210876, 0.99905925989151, 0.8331476449966431, 0.17557087540626526, 0.7681226134300232, 0.0879388228058815, 0.9030640125274658, 0.9007596373558044, 0.7388781905174255, 0.19558539986610413, 0.8588144779205322, 0.930554986000061, 0.9005593657493591, 0.9611046314239502, 0.08872438967227936, 0.16131706535816193, 0.7259268164634705, 0.29813286662101746, 0.13551494479179382, 0.4878537654876709, 0.9379069805145264, 0.878838837146759, 0.8441533446311951, 0.08732621371746063, 0.029108736664056778, 0.9262282848358154, 0.8585131168365479, 0.10219492018222809, 0.8073399066925049, 0.06131695583462715, 0.21988487243652344, 0.7146258354187012, 0.9183679223060608, 0.8489094376564026, 0.7985738515853882, 0.2541150748729706, 0.37270212173461914, 0.33882009983062744, 0.05320299416780472, 0.266014963388443, 0.6051840782165527, 0.05985336750745773, 0.9163643717765808, 0.8911439776420593, 0.8831623196601868, 0.7880886197090149, 0.13134810328483582, 0.07891948521137238, 0.8365465402603149, 0.047351691871881485, 0.13809433579444885, 0.0805550292134285, 0.03452358394861221, 0.13809433579444885, 0.5696391463279724, 0.028769653290510178, 0.8985142111778259, 0.06635595113039017, 0.895805299282074, 0.9993795156478882, 0.9467463493347168, 0.877619206905365, 0.8359624147415161, 0.7701371908187866, 0.15855765342712402, 0.0995151624083519, 0.19239597022533417, 0.033171720802783966, 0.6103596687316895, 0.013268687762320042, 0.033171720802783966, 0.4418003559112549, 0.5408245325088501, 0.8622139692306519, 0.8447733521461487, 0.8862724304199219, 0.8851009011268616, 0.8775455355644226, 0.905910313129425, 0.7876713275909424, 0.16521979868412018, 0.21528640389442444, 0.5056726932525635, 0.05006660521030426, 0.05006660521030426, 0.9459332227706909, 0.237931489944458, 0.13218416273593903, 0.5816103219985962, 0.24210260808467865, 0.7061325907707214, 0.7288562059402466, 0.1700664460659027, 0.048590414226055145, 0.8193895816802979, 0.22173404693603516, 0.36427736282348633, 0.31676292419433594, 0.04751443862915039, 0.8243656158447266, 0.8628097176551819, 0.7784152626991272, 0.9353951811790466, 0.253578245639801, 0.6762086153030396, 0.12290094792842865, 0.7374056577682495, 0.839485764503479, 0.8349476456642151, 0.9364461302757263, 0.22396309673786163, 0.72788006067276, 0.928628146648407, 0.8289349675178528, 0.8311881422996521, 0.14302518963813782, 0.6225802898406982, 0.13461194932460785, 0.07571922242641449, 0.7855427265167236, 0.14470523595809937, 0.8476041555404663, 0.9071309566497803, 0.860774040222168, 0.8442175984382629, 0.09126676619052887, 0.8267032504081726, 0.8236578702926636, 0.8340218663215637, 0.06950182467699051, 0.2008621096611023, 0.6829311847686768, 0.15065841376781464, 0.7532920837402344, 0.17371784150600433, 0.11581189185380936, 0.051471952348947525, 0.5340214967727661, 0.06433994323015213, 0.032169971615076065, 0.01930198259651661, 0.9133188724517822, 0.5107049345970154, 0.26358965039253235, 0.016474353149533272, 0.10708329826593399, 0.024711530655622482, 0.0411858856678009, 0.032948706299066544, 0.9987370371818542, 0.14024178683757782, 0.8258683085441589, 0.9989373683929443, 0.9507927894592285, 0.11382003873586655, 0.5121901631355286, 0.09485003352165222, 0.18970006704330444, 0.028455009683966637, 0.028455009683966637, 0.018970007076859474, 0.0678510069847107, 0.21712321043014526, 0.6830334663391113, 0.022617001086473465, 0.9508650302886963, 0.8972782492637634, 0.9191750288009644, 0.9988320469856262, 0.8881185054779053, 0.861839771270752, 0.8689410090446472, 0.9069592952728271, 0.8484679460525513, 0.8567372560501099, 0.8082974553108215, 0.11547106504440308, 0.22627487778663635, 0.6788246631622314, 0.8405813574790955, 0.8130648136138916, 0.8247795104980469, 0.8735659122467041, 0.8332247734069824, 0.07646457850933075, 0.12425494194030762, 0.774203896522522, 0.8763890862464905, 0.8337278366088867, 0.9595457911491394, 0.8548145294189453, 0.7566782832145691, 0.23394884169101715, 0.8243250846862793, 0.9041061401367188, 0.9613615870475769, 0.13520494103431702, 0.15022771060466766, 0.661001980304718, 0.037556927651166916, 0.7675660252571106, 0.9029647707939148, 0.05494718626141548, 0.17583099007606506, 0.28572535514831543, 0.4066091775894165, 0.03663145750761032, 0.021978873759508133, 0.007326291408389807, 0.7673935294151306, 0.8513891696929932, 0.9180943369865417, 0.8417424559593201, 0.8249569535255432, 0.16113398969173431, 0.099159374833107, 0.2726882994174957, 0.4524146616458893, 0.9990313649177551, 0.18552160263061523, 0.6184053421020508, 0.17006146907806396, 0.8442798852920532, 0.11257065087556839, 0.10958733409643173, 0.8840044736862183, 0.8657252788543701, 0.8186768293380737, 0.09054932743310928, 0.1616952270269394, 0.20696988701820374, 0.3816007375717163, 0.09054932743310928, 0.04527466371655464, 0.944132387638092, 0.1164272353053093, 0.8020542860031128, 0.05174544081091881, 0.8459155559539795, 0.8966799378395081, 0.19650740921497345, 0.14291448891162872, 0.6073865294456482, 0.9422210454940796, 0.8137618899345398, 0.8266950845718384, 0.24909542500972748, 0.7057703733444214, 0.9992350339889526, 0.9299288988113403, 0.07772340625524521, 0.8938192129135132, 0.34724605083465576, 0.5952789187431335, 0.09116464108228683, 0.13168226182460785, 0.7597053050994873, 0.05211735889315605, 0.12160716950893402, 0.616722047328949, 0.15635207295417786, 0.026058679446578026, 0.919762134552002, 0.32987743616104126, 0.5772854685783386, 0.07862767577171326, 0.8780090808868408, 0.9139096736907959, 0.9047358632087708, 0.9276628494262695, 0.8626097440719604, 0.9434957504272461, 0.9073314666748047, 0.9379250407218933, 0.901367723941803, 0.12757395207881927, 0.8079683780670166, 0.9237820506095886, 0.9105086326599121, 0.8472514748573303, 0.9043774604797363, 0.926816999912262, 0.16945308446884155, 0.06517426669597626, 0.3128364682197571, 0.039104558527469635, 0.37801072001457214, 0.9634162783622742, 0.8164846301078796, 0.8329930901527405, 0.8595518469810486, 0.15153345465660095, 0.27276021242141724, 0.4849070608615875, 0.8436130285263062, 0.9402687549591064, 0.5889657139778137, 0.21766123175621033, 0.08962521702051163, 0.07682161033153534, 0.5679292678833008, 0.2545889914035797, 0.13708637654781342, 0.8513603806495667, 0.9431726932525635, 0.9234046339988708, 0.860362708568573, 0.6293747425079346, 0.2743428349494934, 0.06455125659704208, 0.11548054963350296, 0.5966494679450989, 0.11548054963350296, 0.13472729921340942, 0.09938441962003708, 0.7354447245597839, 0.13913819193840027, 0.8868202567100525, 0.07785720378160477, 0.8564292192459106, 0.8936381340026855, 0.8754984140396118, 0.7674059867858887, 0.10962942242622375, 0.9992721080780029, 0.1618845909833908, 0.7932345271110535, 0.30267658829689026, 0.6485927104949951, 0.91700679063797, 0.768865168094635, 0.08621473610401154, 0.10776841640472412, 0.7220484018325806, 0.05388420820236206, 0.872718095779419, 0.9349750280380249, 0.9993181824684143, 0.9082977175712585, 0.8475321531295776, 0.04237660765647888, 0.8824005126953125, 0.04701238125562668, 0.14691369235515594, 0.05288892984390259, 0.21743226051330566, 0.49362999200820923, 0.03525928780436516, 0.9440252184867859, 0.03375457227230072, 0.9282507300376892, 0.8910489082336426, 0.15342794358730316, 0.797825276851654, 0.9254354238510132, 0.10417209565639496, 0.7986527681350708, 0.7620411515235901, 0.8152630925178528, 0.8632147312164307, 0.32850295305252075, 0.6064670085906982, 0.8139423727989197, 0.5011894702911377, 0.10681087523698807, 0.20540551841259003, 0.18075686693191528, 0.9102019667625427, 0.21004904806613922, 0.7201681733131409, 0.3448299169540405, 0.5517278909683228, 0.3137882649898529, 0.6034389734268188, 0.7508644461631775, 0.10726635158061981, 0.8760557770729065, 0.9631428122520447, 0.8524954915046692, 0.870263934135437, 0.8793526887893677, 0.1829770803451538, 0.7319083213806152, 0.7650007009506226, 0.8072687983512878, 0.0991244986653328, 0.03097640536725521, 0.1982489973306656, 0.6505045294761658, 0.8761528730392456, 0.10158294439315796, 0.8623746633529663, 0.9079985022544861, 0.08525245636701584, 0.8890613317489624, 0.12817291915416718, 0.6889293789863586, 0.14419452846050262, 0.8042315244674683, 0.873677134513855, 0.7711072564125061, 0.8933276534080505, 0.21136172115802765, 0.6763575077056885, 0.3489307463169098, 0.6106288433074951, 0.7784293293952942, 0.9204882383346558, 0.8861910700798035, 0.848129153251648, 0.998714804649353, 0.8065139055252075, 0.14107659459114075, 0.7406520843505859, 0.9266606569290161, 0.9103994369506836, 0.9155396223068237, 0.8406538367271423, 0.282798171043396, 0.6059961318969727, 0.8736830353736877, 0.889223575592041, 0.8877130150794983, 0.8670256733894348, 0.8794044256210327, 0.07851824909448624, 0.792283296585083, 0.3615056574344635, 0.4362999200820923, 0.07479427009820938, 0.09972569346427917, 0.8737127780914307, 0.862644612789154, 0.8501911759376526, 0.18764662742614746, 0.07505865395069122, 0.6942925453186035, 0.19485019147396088, 0.19485019147396088, 0.19485019147396088, 0.38970038294792175, 0.22045618295669556, 0.688925564289093, 0.9163280725479126, 0.8227972388267517, 0.039390865713357925, 0.11817259341478348, 0.07221658527851105, 0.6236886978149414, 0.09847716242074966, 0.03282571956515312, 0.4900234341621399, 0.3988562822341919, 0.0341876819729805, 0.0455835722386837, 0.9991771578788757, 0.0978473499417305, 0.03669275343418121, 0.8439333438873291, 0.8368028402328491, 0.9015980958938599, 0.11120385676622391, 0.09266988188028336, 0.2594756782054901, 0.1853397637605667, 0.31507760286331177, 0.948061466217041, 0.84047532081604, 0.9095522165298462, 0.13302288949489594, 0.7390159964561462, 0.08868192136287689, 0.8207692503929138, 0.04828054457902908, 0.9073629379272461, 0.853849470615387, 0.7491682767868042, 0.15367554128170013, 0.038418885320425034, 0.8064109086990356, 0.9066478610038757, 0.9060688018798828, 0.9391944408416748, 0.9988144636154175, 0.8521292209625244, 0.9025402665138245, 0.0451270155608654, 0.13879652321338654, 0.7633808851242065, 0.9988027215003967, 0.8558780550956726, 0.8473992347717285, 0.7087968587875366, 0.1968880295753479, 0.19310370087623596, 0.7825781106948853, 0.1591666042804718, 0.8072020411491394, 0.8926085233688354, 0.8751057982444763, 0.07095452398061752, 0.9134758114814758, 0.9213805794715881, 0.6404471397399902, 0.2561788558959961, 0.07685365527868271, 0.8856756687164307, 0.9036340117454529, 0.8116987347602844, 0.7947225570678711, 0.76601642370224, 0.9129726886749268, 0.8625192642211914, 0.06355536729097366, 0.11439966410398483, 0.01906660944223404, 0.6546202898025513, 0.06355536729097366, 0.03813321888446808, 0.044488757848739624, 0.7715901136398315, 0.11573851853609085, 0.8269311189651489, 0.9398062229156494, 0.9109396934509277, 0.9000250697135925, 0.8432875275611877, 0.35809165239334106, 0.5908512473106384, 0.7499648928642273, 0.13635726273059845, 0.08522328734397888, 0.6068935394287109, 0.08669907599687576, 0.2254175990819931, 0.034679628908634186, 0.9247718453407288, 0.9051473140716553, 0.7703707218170166, 0.06158004328608513, 0.8929106593132019, 0.08738423138856888, 0.8519962430000305, 0.9988013505935669, 0.859257698059082, 0.9630458950996399, 0.07219761610031128, 0.10313945263624191, 0.8044877648353577, 0.8222932815551758, 0.8257612586021423, 0.9243700504302979, 0.7563347816467285, 0.8975656032562256, 0.8254902958869934, 0.8139986991882324, 0.8579745292663574, 0.10066483169794083, 0.8304848670959473, 0.9091530442237854, 0.8879051804542542, 0.7953099608421326, 0.998687207698822, 0.8819512128829956, 0.8603518605232239, 0.12431623786687851, 0.8425878286361694, 0.18502117693424225, 0.6938294172286987, 0.9139550924301147, 0.26917552947998047, 0.20188164710998535, 0.43741023540496826, 0.8954368233680725, 0.8821398019790649, 0.18223774433135986, 0.08283533900976181, 0.033134136348962784, 0.6212650537490845, 0.024850601330399513, 0.016567068174481392, 0.024850601330399513, 0.9272424578666687, 0.8022843599319458, 0.1300840526819229, 0.8396334052085876, 0.9992787837982178, 0.5731824636459351, 0.3868981599807739, 0.8322769999504089, 0.9214697480201721, 0.909217894077301, 0.14086408913135529, 0.3018516004085541, 0.36222192645072937, 0.14086408913135529, 0.856353759765625, 0.9123056530952454, 0.27736949920654297, 0.6067457795143127, 0.06934237480163574, 0.8025805950164795, 0.8940393328666687, 0.9319583177566528, 0.9164981245994568, 0.9259034991264343, 0.8801825642585754, 0.7913810610771179, 0.9625624418258667, 0.8979185223579407, 0.11365030705928802, 0.7430981397628784, 0.12239263951778412, 0.8889750242233276, 0.8854483366012573, 0.7944887280464172, 0.2679523229598999, 0.6252221465110779, 0.9137289524078369, 0.8803912997245789, 0.9034984111785889, 0.8430516123771667, 0.8818223476409912, 0.07668020576238632, 0.9074268937110901, 0.9327937364578247, 0.9327806234359741, 0.044277675449848175, 0.06088180094957352, 0.23799249529838562, 0.6032832860946655, 0.03874296322464943, 0.8496074676513672, 0.942700207233429, 0.02618611603975296, 0.19924050569534302, 0.597721517086029, 0.14943037927150726, 0.06312683969736099, 0.15781711041927338, 0.6707227230072021, 0.09469026327133179, 0.8237981200218201, 0.8223204612731934, 0.15228156745433807, 0.8976966738700867, 0.8588609099388123, 0.9097342491149902, 0.9984866380691528, 0.11035439372062683, 0.8276579976081848, 0.9311113953590393, 0.9991584420204163, 0.9990574717521667, 0.3262263834476471, 0.6291508674621582, 0.02616509422659874, 0.5102193355560303, 0.43172407150268555, 0.06833035498857498, 0.08541294932365417, 0.11103682965040207, 0.6576796770095825, 0.03416517749428749, 0.025623884052038193, 0.8666443824768066, 0.9171798229217529, 0.05332440510392189, 0.9452728033065796, 0.9477406740188599, 0.9333292245864868, 0.8244792222976685, 0.05719829350709915, 0.0762643963098526, 0.8484413623809814, 0.8937559723854065, 0.8967321515083313, 0.2966771125793457, 0.1289900541305542, 0.5417581796646118, 0.9394410252571106, 0.8665059804916382, 0.8793044686317444, 0.8644283413887024, 0.910132884979248, 0.7976712584495544, 0.06154249235987663, 0.16924186050891876, 0.11539217084646225, 0.030771246179938316, 0.5923464894294739, 0.015385623089969158, 0.8574498891830444, 0.8402931690216064, 0.8932111263275146, 0.2933945655822754, 0.5867891311645508, 0.8950156569480896, 0.8896319270133972, 0.8819816708564758], \"Term\": [\"absolute\", \"absorb\", \"accessible\", \"accessible\", \"accosted\", \"active\", \"added\", \"added\", \"addict\", \"advantage\", \"advantage\", \"advertisement\", \"afraid\", \"aggressive\", \"aggressive\", \"airport\", \"airport\", \"airport\", \"alcoholic\", \"allow\", \"allow\", \"allow\", \"allow\", \"allows\", \"always\", \"amaze\", \"amazed\", \"amazed\", \"amazed\", \"amazed\", \"amazes\", \"amazing\", \"amazingly\", \"ambiance\", \"ambiance\", \"amusing\", \"anniversary\", \"anniversary\", \"annoyed\", \"anymore\", \"anymore\", \"anymore\", \"anymore\", \"anymore\", \"apart\", \"apart\", \"apart\", \"appropriate\", \"around\", \"arrive\", \"arrive\", \"artificial\", \"asked\", \"august\", \"avenue\", \"ballagio\", \"ballys\", \"battle\", \"beach\", \"beat\", \"beat\", \"beautifully\", \"beauty\", \"beauty\", \"bed\", \"begin\", \"behind\", \"behind\", \"behind\", \"believe\", \"believe\", \"believe\", \"believe\", \"believe\", \"believe\", \"believe\", \"bellaggio\", \"bellaggio\", \"belonging\", \"beside\", \"besides\", \"besides\", \"besides\", \"bet\", \"bet\", \"beverage\", \"beverage\", \"beverage\", \"bikini\", \"bill\", \"bill\", \"billboard\", \"billboard\", \"birthday\", \"birthday\", \"birthday\", \"bite\", \"bite\", \"blister\", \"blow\", \"blown\", \"board\", \"board\", \"board\", \"bonkers\", \"booth\", \"booth\", \"booze\", \"booze\", \"bored\", \"bored\", \"bored\", \"bored\", \"bother\", \"bother\", \"bother\", \"bothered\", \"bourbon\", \"boutique\", \"boy\", \"boy\", \"boy\", \"brash\", \"brilliant\", \"broke\", \"browse\", \"bucket\", \"bucket\", \"built\", \"built\", \"bump\", \"bumper\", \"bumping\", \"bunch\", \"bunch\", \"burn\", \"busiest\", \"busker\", \"busker\", \"busker\", \"bustle\", \"bustling\", \"bustling\", \"buzz\", \"buzz\", \"cab\", \"cab\", \"cab\", \"cab\", \"cab\", \"cafe\", \"cafe\", \"cafe\", \"cafe\", \"can\", \"carlo\", \"carried\", \"cartoon\", \"cartoon\", \"casino\", \"caters\", \"ceasar\", \"ceasers\", \"ceasers\", \"ceasers\", \"celebrating\", \"central\", \"central\", \"centre\", \"centre\", \"centre\", \"cesar\", \"change\", \"change\", \"change\", \"change\", \"change\", \"change\", \"cheapest\", \"chewbacca\", \"chose\", \"christmas\", \"christmas\", \"circus\", \"circus\", \"circus\", \"circus\", \"circus\", \"circus\", \"classy\", \"classy\", \"clear\", \"coca\", \"coffee\", \"coffee\", \"coke\", \"coke\", \"cola\", \"collection\", \"college\", \"colour\", \"common\", \"common\", \"complaint\", \"complaint\", \"completely\", \"completely\", \"completely\", \"completely\", \"completely\", \"concentration\", \"conditioning\", \"confusing\", \"confusing\", \"connecting\", \"constant\", \"constant\", \"constant\", \"constant\", \"contact\", \"contact\", \"continues\", \"convertible\", \"costumed\", \"countless\", \"court\", \"court\", \"cover\", \"cover\", \"cover\", \"covered\", \"covered\", \"covered\", \"crap\", \"crap\", \"craziest\", \"craziness\", \"created\", \"credit\", \"crime\", \"crossed\", \"crowed\", \"crowed\", \"cruising\", \"cuisine\", \"dance\", \"dance\", \"dancer\", \"dancer\", \"dangerous\", \"date\", \"daughter\", \"daughter\", \"daughter\", \"day\", \"daylight\", \"daytime\", \"daytime\", \"daytime\", \"dazzling\", \"dead\", \"dead\", \"death\", \"decker\", \"decker\", \"decor\", \"decor\", \"decor\", \"decorated\", \"definately\", \"degree\", \"degree\", \"degree\", \"degree\", \"delicious\", \"delight\", \"delight\", \"designer\", \"desire\", \"desire\", \"despite\", \"despite\", \"detail\", \"detail\", \"detail\", \"die\", \"dime\", \"dine\", \"dirtier\", \"disappoint\", \"disappoint\", \"disappointing\", \"disappointing\", \"disappointment\", \"disappoints\", \"disgusting\", \"disgusting\", \"disgusting\", \"dislike\", \"distraction\", \"diversity\", \"doubt\", \"draw\", \"draw\", \"dream\", \"drinker\", \"drunken\", \"dull\", \"dusk\", \"east\", \"east\", \"eatery\", \"eatery\", \"eatery\", \"eatery\", \"eclectic\", \"effect\", \"effort\", \"effort\", \"effort\", \"electric\", \"element\", \"elsewhere\", \"employee\", \"encountered\", \"energetic\", \"enjoying\", \"enjoying\", \"enjoying\", \"enjoyment\", \"entering\", \"entertain\", \"entertainer\", \"entertainer\", \"entertainer\", \"entertainer\", \"entertainer\", \"entice\", \"eve\", \"eve\", \"every\", \"everybody\", \"everybody\", \"everything\", \"everytime\", \"exhibit\", \"exhibit\", \"exists\", \"experience\", \"explored\", \"extraordinary\", \"extravagance\", \"fab\", \"facility\", \"fare\", \"fashion\", \"fashion\", \"fashion\", \"fashion\", \"fashion\", \"fashion\", \"fast\", \"fast\", \"fast\", \"fast\", \"feast\", \"feast\", \"ferris\", \"ferris\", \"ferris\", \"fight\", \"fight\", \"fight\", \"figure\", \"fill\", \"fill\", \"film\", \"filthy\", \"finest\", \"finest\", \"finish\", \"firework\", \"flashing\", \"flashy\", \"flavor\", \"flew\", \"flipping\", \"fly\", \"flyer\", \"flying\", \"follow\", \"follow\", \"fooled\", \"fooled\", \"footbridge\", \"footwear\", \"forever\", \"forth\", \"forth\", \"freemont\", \"freemont\", \"freemont\", \"frequent\", \"fresh\", \"fresh\", \"friday\", \"fun\", \"future\", \"gallery\", \"gaudy\", \"get\", \"getaway\", \"giving\", \"glad\", \"glad\", \"glad\", \"glamorous\", \"glass\", \"glass\", \"glitter\", \"glitter\", \"glitter\", \"gold\", \"golden\", \"good\", \"gorgeous\", \"gorgeous\", \"gotta\", \"gotta\", \"grandeur\", \"great\", \"growing\", \"grown\", \"grown\", \"guy\", \"guy\", \"halloween\", \"handed\", \"handed\", \"handle\", \"handler\", \"handout\", \"hanging\", \"happens\", \"happens\", \"happens\", \"harrahs\", \"harrahs\", \"harrahs\", \"hassle\", \"hassled\", \"hawker\", \"hawker\", \"hawker\", \"heading\", \"heap\", \"hear\", \"hear\", \"hear\", \"heaven\", \"heaven\", \"hectic\", \"hell\", \"hero\", \"hershey\", \"hershey\", \"hershey\", \"highly\", \"highly\", \"highly\", \"highly\", \"hike\", \"hire\", \"holding\", \"honest\", \"honest\", \"honestly\", \"honestly\", \"honestly\", \"hop\", \"hop\", \"hop\", \"hop\", \"hop\", \"hop\", \"hopefully\", \"hopping\", \"hopping\", \"hotel\", \"house\", \"hubby\", \"hungry\", \"hurry\", \"hurry\", \"husband\", \"husband\", \"husband\", \"husband\", \"husband\", \"husband\", \"hustle\", \"hustle\", \"imagination\", \"importantly\", \"impression\", \"improved\", \"improvement\", \"inappropriate\", \"inch\", \"incredible\", \"incredible\", \"incredible\", \"incredible\", \"incredible\", \"indoor\", \"inexpensive\", \"inexpensive\", \"inexpensive\", \"interested\", \"interested\", \"interior\", \"interior\", \"interior\", \"international\", \"intersection\", \"intersection\", \"intersection\", \"intersection\", \"intimidating\", \"intoxicated\", \"inviting\", \"italy\", \"jam\", \"jam\", \"jammed\", \"jammed\", \"jersey\", \"joke\", \"journey\", \"july\", \"july\", \"justice\", \"kitsch\", \"km\", \"lady\", \"lady\", \"lady\", \"lady\", \"land\", \"land\", \"landscape\", \"largest\", \"lasvegas\", \"laugh\", \"laugh\", \"laughing\", \"lavish\", \"lead\", \"lead\", \"leaflet\", \"leaflet\", \"learned\", \"learned\", \"leave\", \"leave\", \"leave\", \"leave\", \"leave\", \"leave\", \"leave\", \"leaving\", \"length\", \"length\", \"length\", \"length\", \"length\", \"length\", \"length\", \"light\", \"lighting\", \"lighting\", \"like\", \"lined\", \"linq\", \"linq\", \"linq\", \"linq\", \"linq\", \"linq\", \"linq\", \"list\", \"list\", \"list\", \"list\", \"litter\", \"littered\", \"lived\", \"love\", \"luxurious\", \"lying\", \"magician\", \"marathon\", \"margaritaville\", \"mark\", \"married\", \"married\", \"marvel\", \"marvel\", \"meant\", \"memorial\", \"mess\", \"mickey\", \"mine\", \"missed\", \"missed\", \"missed\", \"mist\", \"mister\", \"mix\", \"mobility\", \"moment\", \"moment\", \"mon\", \"mono\", \"monte\", \"month\", \"month\", \"month\", \"month\", \"monument\", \"mood\", \"morning\", \"morning\", \"morning\", \"morning\", \"morning\", \"morning\", \"morning\", \"motel\", \"mother\", \"mountain\", \"mouse\", \"mouth\", \"movie\", \"movie\", \"movie\", \"movie\", \"much\", \"museum\", \"museum\", \"museum\", \"musician\", \"musician\", \"naked\", \"naked\", \"nasty\", \"natural\", \"near\", \"near\", \"near\", \"near\", \"near\", \"near\", \"nearby\", \"nearly\", \"nearly\", \"nearly\", \"necessarily\", \"necessary\", \"negative\", \"negative\", \"negative\", \"newer\", \"newyork\", \"nicely\", \"nicer\", \"nicer\", \"night\", \"nightclub\", \"nightlife\", \"nightlife\", \"nightmare\", \"nightmare\", \"nighttime\", \"nighttime\", \"nighttime\", \"noise\", \"noise\", \"noise\", \"noise\", \"noise\", \"noon\", \"november\", \"november\", \"nowhere\", \"nowhere\", \"nude\", \"nugget\", \"nyny\", \"observe\", \"obvious\", \"occasion\", \"odd\", \"online\", \"onto\", \"onto\", \"opened\", \"opulent\", \"ordinary\", \"outrageous\", \"overcrowded\", \"overhead\", \"overhead\", \"overhead\", \"overhead\", \"overhead\", \"overload\", \"overlooking\", \"overly\", \"overrated\", \"overwhelmed\", \"overwhelmed\", \"overwhelmed\", \"paced\", \"pain\", \"pair\", \"pair\", \"pair\", \"pair\", \"palazzo\", \"palazzo\", \"palazzo\", \"pamphlet\", \"pan\", \"panhandling\", \"parade\", \"pass\", \"pass\", \"pass\", \"passed\", \"passed\", \"passed\", \"passed\", \"passing\", \"passing\", \"passing\", \"patio\", \"pavement\", \"pavement\", \"pawn\", \"peace\", \"peak\", \"peak\", \"people\", \"performance\", \"performance\", \"perhaps\", \"perhaps\", \"period\", \"pharmacy\", \"pic\", \"pic\", \"pic\", \"pic\", \"picked\", \"piece\", \"place\", \"plain\", \"played\", \"played\", \"pleasantly\", \"plus\", \"plus\", \"plus\", \"plus\", \"plus\", \"plus\", \"popping\", \"possibly\", \"possibly\", \"ppl\", \"presence\", \"presence\", \"presentation\", \"previous\", \"previous\", \"private\", \"pro\", \"product\", \"promoter\", \"promoter\", \"promoting\", \"property\", \"property\", \"property\", \"property\", \"prostitution\", \"pub\", \"pub\", \"pure\", \"pure\", \"purse\", \"purse\", \"pushed\", \"pushed\", \"pusher\", \"pushy\", \"putting\", \"quieter\", \"race\", \"rail\", \"rail\", \"ranging\", \"rating\", \"ready\", \"ready\", \"ready\", \"ready\", \"realize\", \"realize\", \"realized\", \"recommendation\", \"recommended\", \"recommended\", \"red\", \"red\", \"red\", \"reef\", \"regularly\", \"remain\", \"reminded\", \"reminds\", \"reminds\", \"rent\", \"rent\", \"repeat\", \"replica\", \"reputation\", \"required\", \"restaurant\", \"resturants\", \"returned\", \"returned\", \"rich\", \"ridiculously\", \"riding\", \"rio\", \"rip\", \"rip\", \"rode\", \"roll\", \"romantic\", \"roof\", \"round\", \"round\", \"royale\", \"running\", \"running\", \"running\", \"running\", \"sample\", \"sandal\", \"sat\", \"saturday\", \"saturday\", \"saturday\", \"scale\", \"scale\", \"scale\", \"scale\", \"scooter\", \"scooter\", \"sdx\", \"sea\", \"second\", \"second\", \"second\", \"second\", \"second\", \"second\", \"section\", \"section\", \"section\", \"section\", \"see\", \"seedy\", \"seedy\", \"seedy\", \"selection\", \"seller\", \"sens\", \"sens\", \"sens\", \"sens\", \"sens\", \"sensory\", \"separate\", \"serious\", \"seriously\", \"seriously\", \"seriously\", \"setting\", \"setting\", \"shame\", \"shark\", \"sheer\", \"sheer\", \"sheer\", \"shiny\", \"shirt\", \"shock\", \"shocked\", \"shop\", \"shortage\", \"shot\", \"shot\", \"shoulder\", \"shoulder\", \"show\", \"sightsee\", \"signature\", \"singing\", \"singing\", \"single\", \"single\", \"sitting\", \"sitting\", \"sketchy\", \"skyline\", \"skyline\", \"sl\", \"sleazy\", \"sleeping\", \"sleeping\", \"sleeping\", \"slowly\", \"smelly\", \"snap\", \"solicitation\", \"solicited\", \"solicitor\", \"someplace\", \"sometimes\", \"sometimes\", \"sometimes\", \"sometimes\", \"sometimes\", \"sometimes\", \"sometimes\", \"somewhat\", \"somewhat\", \"sooooo\", \"sorry\", \"southern\", \"spa\", \"spare\", \"spectacle\", \"spectacle\", \"standing\", \"standing\", \"standing\", \"state\", \"state\", \"state\", \"state\", \"stepping\", \"steroid\", \"stimulation\", \"story\", \"story\", \"straight\", \"straight\", \"street\", \"stripe\", \"stripper\", \"strolling\", \"strolling\", \"strolling\", \"suck\", \"sunglass\", \"sunscreen\", \"sunshine\", \"superb\", \"surely\", \"surface\", \"surprising\", \"surreal\", \"surreal\", \"surrounded\", \"surrounding\", \"swimming\", \"take\", \"talent\", \"talented\", \"talk\", \"talk\", \"teenage\", \"teenage\", \"temp\", \"terrible\", \"terrible\", \"terrible\", \"terrific\", \"theatre\", \"themed\", \"themed\", \"themed\", \"themed\", \"themed\", \"themed\", \"themed\", \"there\", \"thirsty\", \"till\", \"till\", \"time\", \"timeshare\", \"timeshare\", \"timeshares\", \"tire\", \"tonight\", \"total\", \"total\", \"total\", \"total\", \"touch\", \"touristy\", \"towards\", \"towards\", \"towards\", \"trade\", \"transformer\", \"transport\", \"trashy\", \"travelled\", \"trek\", \"tremendous\", \"trouble\", \"trust\", \"twice\", \"twice\", \"twice\", \"typically\", \"ugly\", \"unable\", \"unbearable\", \"unbearable\", \"uncomfortable\", \"underestimate\", \"unexpected\", \"unforgettable\", \"unsafe\", \"unsafe\", \"unusual\", \"ups\", \"upscale\", \"vacation\", \"vacation\", \"vacation\", \"vacation\", \"vacation\", \"valley\", \"value\", \"value\", \"vast\", \"vast\", \"vast\", \"vendor\", \"vendor\", \"vendor\", \"vendor\", \"venturing\", \"vibrant\", \"vibrant\", \"viewed\", \"virtually\", \"visible\", \"visit\", \"visual\", \"visual\", \"viva\", \"walk\", \"walking\", \"wall\", \"wall\", \"wallet\", \"wallet\", \"wallet\", \"wandering\", \"wandering\", \"wandering\", \"wandering\", \"wandering\", \"wandering\", \"wanna\", \"wanting\", \"wanting\", \"warned\", \"watched\", \"watcher\", \"wee\", \"weird\", \"weird\", \"weird\", \"weirdo\", \"welcoming\", \"wheel\", \"wheel\", \"wheel\", \"whenever\", \"wherever\", \"wind\", \"winning\", \"wise\", \"wit\", \"within\", \"within\", \"within\", \"within\", \"within\", \"within\", \"wondering\", \"wonderland\", \"workout\", \"worthwhile\", \"worthwhile\", \"yard\", \"yeah\", \"zoo\"]}, \"R\": 30, \"lambda.step\": 0.01, \"plot.opts\": {\"xlab\": \"PC1\", \"ylab\": \"PC2\"}, \"topic.order\": [1, 2, 3, 4, 5, 6, 7, 8, 9, 10, 11, 12, 13, 14, 15]};\n",
       "\n",
       "function LDAvis_load_lib(url, callback){\n",
       "  var s = document.createElement('script');\n",
       "  s.src = url;\n",
       "  s.async = true;\n",
       "  s.onreadystatechange = s.onload = callback;\n",
       "  s.onerror = function(){console.warn(\"failed to load library \" + url);};\n",
       "  document.getElementsByTagName(\"head\")[0].appendChild(s);\n",
       "}\n",
       "\n",
       "if(typeof(LDAvis) !== \"undefined\"){\n",
       "   // already loaded: just create the visualization\n",
       "   !function(LDAvis){\n",
       "       new LDAvis(\"#\" + \"ldavis_el1229619532280361604643436857\", ldavis_el1229619532280361604643436857_data);\n",
       "   }(LDAvis);\n",
       "}else if(typeof define === \"function\" && define.amd){\n",
       "   // require.js is available: use it to load d3/LDAvis\n",
       "   require.config({paths: {d3: \"https://cdnjs.cloudflare.com/ajax/libs/d3/3.5.5/d3.min\"}});\n",
       "   require([\"d3\"], function(d3){\n",
       "      window.d3 = d3;\n",
       "      LDAvis_load_lib(\"https://cdn.rawgit.com/bmabey/pyLDAvis/files/ldavis.v1.0.0.js\", function(){\n",
       "        new LDAvis(\"#\" + \"ldavis_el1229619532280361604643436857\", ldavis_el1229619532280361604643436857_data);\n",
       "      });\n",
       "    });\n",
       "}else{\n",
       "    // require.js not available: dynamically load d3 & LDAvis\n",
       "    LDAvis_load_lib(\"https://cdnjs.cloudflare.com/ajax/libs/d3/3.5.5/d3.min.js\", function(){\n",
       "         LDAvis_load_lib(\"https://cdn.rawgit.com/bmabey/pyLDAvis/files/ldavis.v1.0.0.js\", function(){\n",
       "                 new LDAvis(\"#\" + \"ldavis_el1229619532280361604643436857\", ldavis_el1229619532280361604643436857_data);\n",
       "            })\n",
       "         });\n",
       "}\n",
       "</script>"
      ],
      "text/plain": [
       "<IPython.core.display.HTML object>"
      ]
     },
     "execution_count": 92,
     "metadata": {},
     "output_type": "execute_result"
    }
   ],
   "source": [
    "import pyLDAvis.gensim\n",
    "lda_display = pyLDAvis.gensim.prepare(lda_model_tfidf, doc_term_matrix, dictionary, sort_topics=False)\n",
    "pyLDAvis.display(lda_display)"
   ]
  },
  {
   "cell_type": "code",
   "execution_count": null,
   "metadata": {
    "collapsed": true
   },
   "outputs": [],
   "source": []
  }
 ],
 "metadata": {
  "kernelspec": {
   "display_name": "Python 3",
   "language": "python",
   "name": "python3"
  },
  "language_info": {
   "codemirror_mode": {
    "name": "ipython",
    "version": 3
   },
   "file_extension": ".py",
   "mimetype": "text/x-python",
   "name": "python",
   "nbconvert_exporter": "python",
   "pygments_lexer": "ipython3",
   "version": "3.6.5"
  }
 },
 "nbformat": 4,
 "nbformat_minor": 2
}
