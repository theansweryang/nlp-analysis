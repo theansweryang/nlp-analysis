{
 "cells": [
  {
   "cell_type": "code",
   "execution_count": 1,
   "metadata": {
    "collapsed": true
   },
   "outputs": [],
   "source": [
    "import pandas as pd\n",
    "import numpy as np\n",
    "import matplotlib.pyplot as plt\n",
    "\n",
    "from sklearn.ensemble import RandomForestClassifier\n",
    "from sklearn.model_selection import train_test_split\n",
    "from sklearn.metrics import precision_score\n",
    "from sklearn.metrics import recall_score\n",
    "from sklearn.metrics import accuracy_score\n",
    "from sklearn.metrics import confusion_matrix\n",
    "from sklearn import tree\n",
    "from sklearn.preprocessing import OneHotEncoder\n",
    "from sklearn.preprocessing import LabelEncoder\n",
    "from imblearn.over_sampling import SMOTE\n",
    "from imblearn.over_sampling import ADASYN \n",
    "%matplotlib inline"
   ]
  },
  {
   "cell_type": "code",
   "execution_count": 13,
   "metadata": {
    "collapsed": true
   },
   "outputs": [],
   "source": [
    "# graphviz and pydotplus are used for decision tree visualization, need to install graphviz to both windows system and python\n",
    "# need to add path to windows environments, refer to this link \n",
    "# https://stackoverflow.com/questions/18438997/why-is-pydot-unable-to-find-graphvizs-executables-in-windows-8\n",
    "\n",
    "from IPython.display import Image \n",
    "import graphviz \n",
    "import pydotplus\n",
    "import os\n",
    "os.environ[\"PATH\"] += os.pathsep + 'C:/Program Files (x86)/Graphviz2.38/bin/'"
   ]
  },
  {
   "cell_type": "markdown",
   "metadata": {},
   "source": [
    "# 1. Prepare and clean data"
   ]
  },
  {
   "cell_type": "code",
   "execution_count": 2,
   "metadata": {},
   "outputs": [
    {
     "data": {
      "text/html": [
       "<div>\n",
       "<style scoped>\n",
       "    .dataframe tbody tr th:only-of-type {\n",
       "        vertical-align: middle;\n",
       "    }\n",
       "\n",
       "    .dataframe tbody tr th {\n",
       "        vertical-align: top;\n",
       "    }\n",
       "\n",
       "    .dataframe thead th {\n",
       "        text-align: right;\n",
       "    }\n",
       "</style>\n",
       "<table border=\"1\" class=\"dataframe\">\n",
       "  <thead>\n",
       "    <tr style=\"text-align: right;\">\n",
       "      <th></th>\n",
       "      <th>Unnamed: 0</th>\n",
       "      <th>season</th>\n",
       "      <th>year</th>\n",
       "      <th>month</th>\n",
       "      <th>rate</th>\n",
       "      <th>0</th>\n",
       "      <th>1</th>\n",
       "      <th>2</th>\n",
       "      <th>3</th>\n",
       "      <th>4</th>\n",
       "      <th>...</th>\n",
       "      <th>20</th>\n",
       "      <th>21</th>\n",
       "      <th>22</th>\n",
       "      <th>23</th>\n",
       "      <th>24</th>\n",
       "      <th>25</th>\n",
       "      <th>26</th>\n",
       "      <th>27</th>\n",
       "      <th>28</th>\n",
       "      <th>29</th>\n",
       "    </tr>\n",
       "  </thead>\n",
       "  <tbody>\n",
       "    <tr>\n",
       "      <th>0</th>\n",
       "      <td>0</td>\n",
       "      <td>sm</td>\n",
       "      <td>18</td>\n",
       "      <td>Jul</td>\n",
       "      <td>D</td>\n",
       "      <td>0.001515</td>\n",
       "      <td>0.046970</td>\n",
       "      <td>0.001515</td>\n",
       "      <td>0.001515</td>\n",
       "      <td>0.001515</td>\n",
       "      <td>...</td>\n",
       "      <td>0.001515</td>\n",
       "      <td>0.001515</td>\n",
       "      <td>0.001515</td>\n",
       "      <td>0.001515</td>\n",
       "      <td>0.001515</td>\n",
       "      <td>0.001515</td>\n",
       "      <td>0.001515</td>\n",
       "      <td>0.226225</td>\n",
       "      <td>0.001515</td>\n",
       "      <td>0.458624</td>\n",
       "    </tr>\n",
       "    <tr>\n",
       "      <th>1</th>\n",
       "      <td>1</td>\n",
       "      <td>sm</td>\n",
       "      <td>18</td>\n",
       "      <td>Jul</td>\n",
       "      <td>B</td>\n",
       "      <td>0.001852</td>\n",
       "      <td>0.001852</td>\n",
       "      <td>0.001852</td>\n",
       "      <td>0.001852</td>\n",
       "      <td>0.001852</td>\n",
       "      <td>...</td>\n",
       "      <td>0.001852</td>\n",
       "      <td>0.001852</td>\n",
       "      <td>0.001852</td>\n",
       "      <td>0.001852</td>\n",
       "      <td>0.001852</td>\n",
       "      <td>0.412335</td>\n",
       "      <td>0.224074</td>\n",
       "      <td>0.001852</td>\n",
       "      <td>0.001852</td>\n",
       "      <td>0.001852</td>\n",
       "    </tr>\n",
       "    <tr>\n",
       "      <th>2</th>\n",
       "      <td>2</td>\n",
       "      <td>sm</td>\n",
       "      <td>18</td>\n",
       "      <td>Jul</td>\n",
       "      <td>A</td>\n",
       "      <td>0.000000</td>\n",
       "      <td>0.000000</td>\n",
       "      <td>0.000000</td>\n",
       "      <td>0.000000</td>\n",
       "      <td>0.026646</td>\n",
       "      <td>...</td>\n",
       "      <td>0.000000</td>\n",
       "      <td>0.000000</td>\n",
       "      <td>0.000000</td>\n",
       "      <td>0.000000</td>\n",
       "      <td>0.000000</td>\n",
       "      <td>0.000000</td>\n",
       "      <td>0.000000</td>\n",
       "      <td>0.000000</td>\n",
       "      <td>0.000000</td>\n",
       "      <td>0.867718</td>\n",
       "    </tr>\n",
       "    <tr>\n",
       "      <th>3</th>\n",
       "      <td>3</td>\n",
       "      <td>sm</td>\n",
       "      <td>18</td>\n",
       "      <td>Jul</td>\n",
       "      <td>C</td>\n",
       "      <td>0.003030</td>\n",
       "      <td>0.003030</td>\n",
       "      <td>0.003030</td>\n",
       "      <td>0.003030</td>\n",
       "      <td>0.003030</td>\n",
       "      <td>...</td>\n",
       "      <td>0.003030</td>\n",
       "      <td>0.003030</td>\n",
       "      <td>0.003030</td>\n",
       "      <td>0.003030</td>\n",
       "      <td>0.003030</td>\n",
       "      <td>0.003030</td>\n",
       "      <td>0.003030</td>\n",
       "      <td>0.003030</td>\n",
       "      <td>0.093939</td>\n",
       "      <td>0.247035</td>\n",
       "    </tr>\n",
       "    <tr>\n",
       "      <th>4</th>\n",
       "      <td>4</td>\n",
       "      <td>sm</td>\n",
       "      <td>18</td>\n",
       "      <td>Jul</td>\n",
       "      <td>C</td>\n",
       "      <td>0.001190</td>\n",
       "      <td>0.001190</td>\n",
       "      <td>0.001190</td>\n",
       "      <td>0.036905</td>\n",
       "      <td>0.001190</td>\n",
       "      <td>...</td>\n",
       "      <td>0.001190</td>\n",
       "      <td>0.001190</td>\n",
       "      <td>0.001190</td>\n",
       "      <td>0.001190</td>\n",
       "      <td>0.001190</td>\n",
       "      <td>0.001190</td>\n",
       "      <td>0.001190</td>\n",
       "      <td>0.001190</td>\n",
       "      <td>0.001190</td>\n",
       "      <td>0.716063</td>\n",
       "    </tr>\n",
       "  </tbody>\n",
       "</table>\n",
       "<p>5 rows × 35 columns</p>\n",
       "</div>"
      ],
      "text/plain": [
       "   Unnamed: 0 season  year month rate         0         1         2         3  \\\n",
       "0           0     sm    18   Jul    D  0.001515  0.046970  0.001515  0.001515   \n",
       "1           1     sm    18   Jul    B  0.001852  0.001852  0.001852  0.001852   \n",
       "2           2     sm    18   Jul    A  0.000000  0.000000  0.000000  0.000000   \n",
       "3           3     sm    18   Jul    C  0.003030  0.003030  0.003030  0.003030   \n",
       "4           4     sm    18   Jul    C  0.001190  0.001190  0.001190  0.036905   \n",
       "\n",
       "          4    ...           20        21        22        23        24  \\\n",
       "0  0.001515    ...     0.001515  0.001515  0.001515  0.001515  0.001515   \n",
       "1  0.001852    ...     0.001852  0.001852  0.001852  0.001852  0.001852   \n",
       "2  0.026646    ...     0.000000  0.000000  0.000000  0.000000  0.000000   \n",
       "3  0.003030    ...     0.003030  0.003030  0.003030  0.003030  0.003030   \n",
       "4  0.001190    ...     0.001190  0.001190  0.001190  0.001190  0.001190   \n",
       "\n",
       "         25        26        27        28        29  \n",
       "0  0.001515  0.001515  0.226225  0.001515  0.458624  \n",
       "1  0.412335  0.224074  0.001852  0.001852  0.001852  \n",
       "2  0.000000  0.000000  0.000000  0.000000  0.867718  \n",
       "3  0.003030  0.003030  0.003030  0.093939  0.247035  \n",
       "4  0.001190  0.001190  0.001190  0.001190  0.716063  \n",
       "\n",
       "[5 rows x 35 columns]"
      ]
     },
     "execution_count": 2,
     "metadata": {},
     "output_type": "execute_result"
    }
   ],
   "source": [
    "data=pd.read_csv(\"complete_data.csv\")\n",
    "data.head()"
   ]
  },
  {
   "cell_type": "code",
   "execution_count": 3,
   "metadata": {},
   "outputs": [
    {
     "name": "stdout",
     "output_type": "stream",
     "text": [
      "[1 1 1 ..., 3 1 2]\n"
     ]
    }
   ],
   "source": [
    "# integer encode\n",
    "season=data.season\n",
    "label_encoder = LabelEncoder()\n",
    "integer_encoded = label_encoder.fit_transform(season)\n",
    "print(integer_encoded)"
   ]
  },
  {
   "cell_type": "code",
   "execution_count": 4,
   "metadata": {
    "scrolled": true
   },
   "outputs": [
    {
     "data": {
      "text/html": [
       "<div>\n",
       "<style scoped>\n",
       "    .dataframe tbody tr th:only-of-type {\n",
       "        vertical-align: middle;\n",
       "    }\n",
       "\n",
       "    .dataframe tbody tr th {\n",
       "        vertical-align: top;\n",
       "    }\n",
       "\n",
       "    .dataframe thead th {\n",
       "        text-align: right;\n",
       "    }\n",
       "</style>\n",
       "<table border=\"1\" class=\"dataframe\">\n",
       "  <thead>\n",
       "    <tr style=\"text-align: right;\">\n",
       "      <th></th>\n",
       "      <th>a</th>\n",
       "      <th>sm</th>\n",
       "      <th>sp</th>\n",
       "      <th>w</th>\n",
       "    </tr>\n",
       "  </thead>\n",
       "  <tbody>\n",
       "    <tr>\n",
       "      <th>0</th>\n",
       "      <td>0.0</td>\n",
       "      <td>1.0</td>\n",
       "      <td>0.0</td>\n",
       "      <td>0.0</td>\n",
       "    </tr>\n",
       "    <tr>\n",
       "      <th>1</th>\n",
       "      <td>0.0</td>\n",
       "      <td>1.0</td>\n",
       "      <td>0.0</td>\n",
       "      <td>0.0</td>\n",
       "    </tr>\n",
       "    <tr>\n",
       "      <th>2</th>\n",
       "      <td>0.0</td>\n",
       "      <td>1.0</td>\n",
       "      <td>0.0</td>\n",
       "      <td>0.0</td>\n",
       "    </tr>\n",
       "    <tr>\n",
       "      <th>3</th>\n",
       "      <td>0.0</td>\n",
       "      <td>1.0</td>\n",
       "      <td>0.0</td>\n",
       "      <td>0.0</td>\n",
       "    </tr>\n",
       "    <tr>\n",
       "      <th>4</th>\n",
       "      <td>0.0</td>\n",
       "      <td>1.0</td>\n",
       "      <td>0.0</td>\n",
       "      <td>0.0</td>\n",
       "    </tr>\n",
       "  </tbody>\n",
       "</table>\n",
       "</div>"
      ],
      "text/plain": [
       "     a   sm   sp    w\n",
       "0  0.0  1.0  0.0  0.0\n",
       "1  0.0  1.0  0.0  0.0\n",
       "2  0.0  1.0  0.0  0.0\n",
       "3  0.0  1.0  0.0  0.0\n",
       "4  0.0  1.0  0.0  0.0"
      ]
     },
     "execution_count": 4,
     "metadata": {},
     "output_type": "execute_result"
    }
   ],
   "source": [
    "## binary encode\n",
    "cat=integer_encoded.reshape(-1, 1) ## mush convert to integer and reshape to a 2D array\n",
    "enc = OneHotEncoder()\n",
    "enc.fit(cat) \n",
    "season_cat=enc.transform(cat).toarray()\n",
    "season_group= pd.DataFrame(season_cat,columns=['a', 'sm', 'sp', 'w'])\n",
    "season_group.head()"
   ]
  },
  {
   "cell_type": "code",
   "execution_count": 5,
   "metadata": {
    "scrolled": false
   },
   "outputs": [
    {
     "data": {
      "text/html": [
       "<div>\n",
       "<style scoped>\n",
       "    .dataframe tbody tr th:only-of-type {\n",
       "        vertical-align: middle;\n",
       "    }\n",
       "\n",
       "    .dataframe tbody tr th {\n",
       "        vertical-align: top;\n",
       "    }\n",
       "\n",
       "    .dataframe thead th {\n",
       "        text-align: right;\n",
       "    }\n",
       "</style>\n",
       "<table border=\"1\" class=\"dataframe\">\n",
       "  <thead>\n",
       "    <tr style=\"text-align: right;\">\n",
       "      <th></th>\n",
       "      <th>rate</th>\n",
       "      <th>0</th>\n",
       "      <th>1</th>\n",
       "      <th>2</th>\n",
       "      <th>3</th>\n",
       "      <th>4</th>\n",
       "      <th>5</th>\n",
       "      <th>6</th>\n",
       "      <th>7</th>\n",
       "      <th>8</th>\n",
       "      <th>...</th>\n",
       "      <th>24</th>\n",
       "      <th>25</th>\n",
       "      <th>26</th>\n",
       "      <th>27</th>\n",
       "      <th>28</th>\n",
       "      <th>29</th>\n",
       "      <th>a</th>\n",
       "      <th>sm</th>\n",
       "      <th>sp</th>\n",
       "      <th>w</th>\n",
       "    </tr>\n",
       "  </thead>\n",
       "  <tbody>\n",
       "    <tr>\n",
       "      <th>0</th>\n",
       "      <td>D</td>\n",
       "      <td>0.001515</td>\n",
       "      <td>0.046970</td>\n",
       "      <td>0.001515</td>\n",
       "      <td>0.001515</td>\n",
       "      <td>0.001515</td>\n",
       "      <td>0.001515</td>\n",
       "      <td>0.001515</td>\n",
       "      <td>0.001515</td>\n",
       "      <td>0.001515</td>\n",
       "      <td>...</td>\n",
       "      <td>0.001515</td>\n",
       "      <td>0.001515</td>\n",
       "      <td>0.001515</td>\n",
       "      <td>0.226225</td>\n",
       "      <td>0.001515</td>\n",
       "      <td>0.458624</td>\n",
       "      <td>0.0</td>\n",
       "      <td>1.0</td>\n",
       "      <td>0.0</td>\n",
       "      <td>0.0</td>\n",
       "    </tr>\n",
       "    <tr>\n",
       "      <th>1</th>\n",
       "      <td>B</td>\n",
       "      <td>0.001852</td>\n",
       "      <td>0.001852</td>\n",
       "      <td>0.001852</td>\n",
       "      <td>0.001852</td>\n",
       "      <td>0.001852</td>\n",
       "      <td>0.001852</td>\n",
       "      <td>0.001852</td>\n",
       "      <td>0.001852</td>\n",
       "      <td>0.001852</td>\n",
       "      <td>...</td>\n",
       "      <td>0.001852</td>\n",
       "      <td>0.412335</td>\n",
       "      <td>0.224074</td>\n",
       "      <td>0.001852</td>\n",
       "      <td>0.001852</td>\n",
       "      <td>0.001852</td>\n",
       "      <td>0.0</td>\n",
       "      <td>1.0</td>\n",
       "      <td>0.0</td>\n",
       "      <td>0.0</td>\n",
       "    </tr>\n",
       "    <tr>\n",
       "      <th>2</th>\n",
       "      <td>A</td>\n",
       "      <td>0.000000</td>\n",
       "      <td>0.000000</td>\n",
       "      <td>0.000000</td>\n",
       "      <td>0.000000</td>\n",
       "      <td>0.026646</td>\n",
       "      <td>0.000000</td>\n",
       "      <td>0.000000</td>\n",
       "      <td>0.000000</td>\n",
       "      <td>0.000000</td>\n",
       "      <td>...</td>\n",
       "      <td>0.000000</td>\n",
       "      <td>0.000000</td>\n",
       "      <td>0.000000</td>\n",
       "      <td>0.000000</td>\n",
       "      <td>0.000000</td>\n",
       "      <td>0.867718</td>\n",
       "      <td>0.0</td>\n",
       "      <td>1.0</td>\n",
       "      <td>0.0</td>\n",
       "      <td>0.0</td>\n",
       "    </tr>\n",
       "    <tr>\n",
       "      <th>3</th>\n",
       "      <td>C</td>\n",
       "      <td>0.003030</td>\n",
       "      <td>0.003030</td>\n",
       "      <td>0.003030</td>\n",
       "      <td>0.003030</td>\n",
       "      <td>0.003030</td>\n",
       "      <td>0.003030</td>\n",
       "      <td>0.003030</td>\n",
       "      <td>0.003030</td>\n",
       "      <td>0.003030</td>\n",
       "      <td>...</td>\n",
       "      <td>0.003030</td>\n",
       "      <td>0.003030</td>\n",
       "      <td>0.003030</td>\n",
       "      <td>0.003030</td>\n",
       "      <td>0.093939</td>\n",
       "      <td>0.247035</td>\n",
       "      <td>0.0</td>\n",
       "      <td>1.0</td>\n",
       "      <td>0.0</td>\n",
       "      <td>0.0</td>\n",
       "    </tr>\n",
       "    <tr>\n",
       "      <th>4</th>\n",
       "      <td>C</td>\n",
       "      <td>0.001190</td>\n",
       "      <td>0.001190</td>\n",
       "      <td>0.001190</td>\n",
       "      <td>0.036905</td>\n",
       "      <td>0.001190</td>\n",
       "      <td>0.001190</td>\n",
       "      <td>0.001190</td>\n",
       "      <td>0.001190</td>\n",
       "      <td>0.001190</td>\n",
       "      <td>...</td>\n",
       "      <td>0.001190</td>\n",
       "      <td>0.001190</td>\n",
       "      <td>0.001190</td>\n",
       "      <td>0.001190</td>\n",
       "      <td>0.001190</td>\n",
       "      <td>0.716063</td>\n",
       "      <td>0.0</td>\n",
       "      <td>1.0</td>\n",
       "      <td>0.0</td>\n",
       "      <td>0.0</td>\n",
       "    </tr>\n",
       "  </tbody>\n",
       "</table>\n",
       "<p>5 rows × 35 columns</p>\n",
       "</div>"
      ],
      "text/plain": [
       "  rate         0         1         2         3         4         5         6  \\\n",
       "0    D  0.001515  0.046970  0.001515  0.001515  0.001515  0.001515  0.001515   \n",
       "1    B  0.001852  0.001852  0.001852  0.001852  0.001852  0.001852  0.001852   \n",
       "2    A  0.000000  0.000000  0.000000  0.000000  0.026646  0.000000  0.000000   \n",
       "3    C  0.003030  0.003030  0.003030  0.003030  0.003030  0.003030  0.003030   \n",
       "4    C  0.001190  0.001190  0.001190  0.036905  0.001190  0.001190  0.001190   \n",
       "\n",
       "          7         8 ...         24        25        26        27        28  \\\n",
       "0  0.001515  0.001515 ...   0.001515  0.001515  0.001515  0.226225  0.001515   \n",
       "1  0.001852  0.001852 ...   0.001852  0.412335  0.224074  0.001852  0.001852   \n",
       "2  0.000000  0.000000 ...   0.000000  0.000000  0.000000  0.000000  0.000000   \n",
       "3  0.003030  0.003030 ...   0.003030  0.003030  0.003030  0.003030  0.093939   \n",
       "4  0.001190  0.001190 ...   0.001190  0.001190  0.001190  0.001190  0.001190   \n",
       "\n",
       "         29    a   sm   sp    w  \n",
       "0  0.458624  0.0  1.0  0.0  0.0  \n",
       "1  0.001852  0.0  1.0  0.0  0.0  \n",
       "2  0.867718  0.0  1.0  0.0  0.0  \n",
       "3  0.247035  0.0  1.0  0.0  0.0  \n",
       "4  0.716063  0.0  1.0  0.0  0.0  \n",
       "\n",
       "[5 rows x 35 columns]"
      ]
     },
     "execution_count": 5,
     "metadata": {},
     "output_type": "execute_result"
    }
   ],
   "source": [
    "newdata=pd.concat([data,season_group],axis=1).drop(['season','Unnamed: 0','year','month'],axis=1)\n",
    "newdata.head()"
   ]
  },
  {
   "cell_type": "markdown",
   "metadata": {},
   "source": [
    "## why change 12345 to pos,neu, neg"
   ]
  },
  {
   "cell_type": "code",
   "execution_count": 6,
   "metadata": {},
   "outputs": [
    {
     "data": {
      "text/html": [
       "<div>\n",
       "<style scoped>\n",
       "    .dataframe tbody tr th:only-of-type {\n",
       "        vertical-align: middle;\n",
       "    }\n",
       "\n",
       "    .dataframe tbody tr th {\n",
       "        vertical-align: top;\n",
       "    }\n",
       "\n",
       "    .dataframe thead th {\n",
       "        text-align: right;\n",
       "    }\n",
       "</style>\n",
       "<table border=\"1\" class=\"dataframe\">\n",
       "  <thead>\n",
       "    <tr style=\"text-align: right;\">\n",
       "      <th></th>\n",
       "      <th>0</th>\n",
       "      <th>1</th>\n",
       "      <th>2</th>\n",
       "      <th>3</th>\n",
       "      <th>4</th>\n",
       "      <th>5</th>\n",
       "      <th>6</th>\n",
       "      <th>7</th>\n",
       "      <th>8</th>\n",
       "      <th>9</th>\n",
       "      <th>...</th>\n",
       "      <th>25</th>\n",
       "      <th>26</th>\n",
       "      <th>27</th>\n",
       "      <th>28</th>\n",
       "      <th>29</th>\n",
       "      <th>a</th>\n",
       "      <th>sm</th>\n",
       "      <th>sp</th>\n",
       "      <th>w</th>\n",
       "      <th>rate2</th>\n",
       "    </tr>\n",
       "  </thead>\n",
       "  <tbody>\n",
       "    <tr>\n",
       "      <th>0</th>\n",
       "      <td>0.001515</td>\n",
       "      <td>0.046970</td>\n",
       "      <td>0.001515</td>\n",
       "      <td>0.001515</td>\n",
       "      <td>0.001515</td>\n",
       "      <td>0.001515</td>\n",
       "      <td>0.001515</td>\n",
       "      <td>0.001515</td>\n",
       "      <td>0.001515</td>\n",
       "      <td>0.001515</td>\n",
       "      <td>...</td>\n",
       "      <td>0.001515</td>\n",
       "      <td>0.001515</td>\n",
       "      <td>0.226225</td>\n",
       "      <td>0.001515</td>\n",
       "      <td>0.458624</td>\n",
       "      <td>0.0</td>\n",
       "      <td>1.0</td>\n",
       "      <td>0.0</td>\n",
       "      <td>0.0</td>\n",
       "      <td>neg</td>\n",
       "    </tr>\n",
       "    <tr>\n",
       "      <th>1</th>\n",
       "      <td>0.001852</td>\n",
       "      <td>0.001852</td>\n",
       "      <td>0.001852</td>\n",
       "      <td>0.001852</td>\n",
       "      <td>0.001852</td>\n",
       "      <td>0.001852</td>\n",
       "      <td>0.001852</td>\n",
       "      <td>0.001852</td>\n",
       "      <td>0.001852</td>\n",
       "      <td>0.001852</td>\n",
       "      <td>...</td>\n",
       "      <td>0.412335</td>\n",
       "      <td>0.224074</td>\n",
       "      <td>0.001852</td>\n",
       "      <td>0.001852</td>\n",
       "      <td>0.001852</td>\n",
       "      <td>0.0</td>\n",
       "      <td>1.0</td>\n",
       "      <td>0.0</td>\n",
       "      <td>0.0</td>\n",
       "      <td>pos</td>\n",
       "    </tr>\n",
       "    <tr>\n",
       "      <th>2</th>\n",
       "      <td>0.000000</td>\n",
       "      <td>0.000000</td>\n",
       "      <td>0.000000</td>\n",
       "      <td>0.000000</td>\n",
       "      <td>0.026646</td>\n",
       "      <td>0.000000</td>\n",
       "      <td>0.000000</td>\n",
       "      <td>0.000000</td>\n",
       "      <td>0.000000</td>\n",
       "      <td>0.000000</td>\n",
       "      <td>...</td>\n",
       "      <td>0.000000</td>\n",
       "      <td>0.000000</td>\n",
       "      <td>0.000000</td>\n",
       "      <td>0.000000</td>\n",
       "      <td>0.867718</td>\n",
       "      <td>0.0</td>\n",
       "      <td>1.0</td>\n",
       "      <td>0.0</td>\n",
       "      <td>0.0</td>\n",
       "      <td>pos</td>\n",
       "    </tr>\n",
       "    <tr>\n",
       "      <th>3</th>\n",
       "      <td>0.003030</td>\n",
       "      <td>0.003030</td>\n",
       "      <td>0.003030</td>\n",
       "      <td>0.003030</td>\n",
       "      <td>0.003030</td>\n",
       "      <td>0.003030</td>\n",
       "      <td>0.003030</td>\n",
       "      <td>0.003030</td>\n",
       "      <td>0.003030</td>\n",
       "      <td>0.003030</td>\n",
       "      <td>...</td>\n",
       "      <td>0.003030</td>\n",
       "      <td>0.003030</td>\n",
       "      <td>0.003030</td>\n",
       "      <td>0.093939</td>\n",
       "      <td>0.247035</td>\n",
       "      <td>0.0</td>\n",
       "      <td>1.0</td>\n",
       "      <td>0.0</td>\n",
       "      <td>0.0</td>\n",
       "      <td>neu</td>\n",
       "    </tr>\n",
       "    <tr>\n",
       "      <th>4</th>\n",
       "      <td>0.001190</td>\n",
       "      <td>0.001190</td>\n",
       "      <td>0.001190</td>\n",
       "      <td>0.036905</td>\n",
       "      <td>0.001190</td>\n",
       "      <td>0.001190</td>\n",
       "      <td>0.001190</td>\n",
       "      <td>0.001190</td>\n",
       "      <td>0.001190</td>\n",
       "      <td>0.001190</td>\n",
       "      <td>...</td>\n",
       "      <td>0.001190</td>\n",
       "      <td>0.001190</td>\n",
       "      <td>0.001190</td>\n",
       "      <td>0.001190</td>\n",
       "      <td>0.716063</td>\n",
       "      <td>0.0</td>\n",
       "      <td>1.0</td>\n",
       "      <td>0.0</td>\n",
       "      <td>0.0</td>\n",
       "      <td>neu</td>\n",
       "    </tr>\n",
       "  </tbody>\n",
       "</table>\n",
       "<p>5 rows × 35 columns</p>\n",
       "</div>"
      ],
      "text/plain": [
       "          0         1         2         3         4         5         6  \\\n",
       "0  0.001515  0.046970  0.001515  0.001515  0.001515  0.001515  0.001515   \n",
       "1  0.001852  0.001852  0.001852  0.001852  0.001852  0.001852  0.001852   \n",
       "2  0.000000  0.000000  0.000000  0.000000  0.026646  0.000000  0.000000   \n",
       "3  0.003030  0.003030  0.003030  0.003030  0.003030  0.003030  0.003030   \n",
       "4  0.001190  0.001190  0.001190  0.036905  0.001190  0.001190  0.001190   \n",
       "\n",
       "          7         8         9  ...          25        26        27  \\\n",
       "0  0.001515  0.001515  0.001515  ...    0.001515  0.001515  0.226225   \n",
       "1  0.001852  0.001852  0.001852  ...    0.412335  0.224074  0.001852   \n",
       "2  0.000000  0.000000  0.000000  ...    0.000000  0.000000  0.000000   \n",
       "3  0.003030  0.003030  0.003030  ...    0.003030  0.003030  0.003030   \n",
       "4  0.001190  0.001190  0.001190  ...    0.001190  0.001190  0.001190   \n",
       "\n",
       "         28        29    a   sm   sp    w  rate2  \n",
       "0  0.001515  0.458624  0.0  1.0  0.0  0.0    neg  \n",
       "1  0.001852  0.001852  0.0  1.0  0.0  0.0    pos  \n",
       "2  0.000000  0.867718  0.0  1.0  0.0  0.0    pos  \n",
       "3  0.093939  0.247035  0.0  1.0  0.0  0.0    neu  \n",
       "4  0.001190  0.716063  0.0  1.0  0.0  0.0    neu  \n",
       "\n",
       "[5 rows x 35 columns]"
      ]
     },
     "execution_count": 6,
     "metadata": {},
     "output_type": "execute_result"
    }
   ],
   "source": [
    "## recode rate to 3 categories\n",
    "## 五个精度低，特别少。。。  我们在意的是positive或者negtive。。而不是very positive或者very negtive。。\n",
    "newdata.loc[data['rate']==\"A\", 'rate2']='pos'\n",
    "newdata.loc[data['rate']==\"B\", 'rate2']='pos'\n",
    "newdata.loc[data['rate']==\"C\", 'rate2']='neu'\n",
    "newdata.loc[data['rate']==\"D\", 'rate2']='neg'\n",
    "newdata.loc[data['rate']==\"E\", 'rate2']='neg'\n",
    "data2=newdata.drop(['rate'],axis=1)\n",
    "data2.head()"
   ]
  },
  {
   "cell_type": "markdown",
   "metadata": {},
   "source": [
    "# 2. try random forest to explore data pre-processing"
   ]
  },
  {
   "cell_type": "markdown",
   "metadata": {},
   "source": [
    "### A. use original data, without smote, accuracy is OK, but recall is too low"
   ]
  },
  {
   "cell_type": "code",
   "execution_count": 197,
   "metadata": {},
   "outputs": [
    {
     "name": "stdout",
     "output_type": "stream",
     "text": [
      "0.827594627595\n",
      "[ 0.04672897  0.05542169  0.96826313]\n",
      "[ 0.22222222  0.184       0.85503185]\n"
     ]
    }
   ],
   "source": [
    "features=data2.drop(['rate2'],axis=1)\n",
    "label=data2.rate2\n",
    "X_train, X_test, y_train, y_test = train_test_split(features, label, test_size=0.2, random_state=42)\n",
    "clf = RandomForestClassifier()\n",
    "clf_fit=clf.fit(X_train, y_train)\n",
    "y_predict=clf_fit.predict(X_test)\n",
    "print(accuracy_score(y_test, y_predict))\n",
    "print(recall_score(y_test, y_predict, average=None))\n",
    "print(precision_score(y_test, y_predict, average=None))"
   ]
  },
  {
   "cell_type": "markdown",
   "metadata": {},
   "source": [
    "### B. use original data, with smote to increase sample size in the minority classes, results are better in terms of recall"
   ]
  },
  {
   "cell_type": "code",
   "execution_count": 204,
   "metadata": {},
   "outputs": [
    {
     "name": "stderr",
     "output_type": "stream",
     "text": [
      "C:\\Users\\Archizz\\Anaconda3\\envs\\tensorflow\\lib\\site-packages\\sklearn\\utils\\deprecation.py:77: DeprecationWarning: Function _ratio_float is deprecated; Use a float for 'ratio' is deprecated from version 0.2. The support will be removed in 0.4. Use a dict, str, or a callable instead.\n",
      "  warnings.warn(msg, category=DeprecationWarning)\n"
     ]
    },
    {
     "name": "stdout",
     "output_type": "stream",
     "text": [
      "0.760683760684\n",
      "[ 0.12149533  0.15903614  0.87218696]\n",
      "[ 0.13333333  0.15827338  0.86792995]\n"
     ]
    }
   ],
   "source": [
    "features=data2.drop(['rate2'],axis=1)\n",
    "label=data2.rate2\n",
    "X_train, X_test, y_train, y_test = train_test_split(features, label, test_size=0.2, random_state=42)\n",
    "sm = SMOTE(random_state=42,ratio=1)\n",
    "X_res, y_res = sm.fit_sample(X_train, y_train)\n",
    "clf = RandomForestClassifier()\n",
    "clf_fit=clf.fit(X_res, y_res)\n",
    "y_predict=clf_fit.predict(X_test)\n",
    "print(accuracy_score(y_test, y_predict))\n",
    "print(recall_score(y_test, y_predict, average=None))\n",
    "print(precision_score(y_test, y_predict, average=None))"
   ]
  },
  {
   "cell_type": "markdown",
   "metadata": {},
   "source": [
    "### C. set value <0.01 to 0 and use smote. OA decrease, but recall increase further"
   ]
  },
  {
   "cell_type": "code",
   "execution_count": 228,
   "metadata": {},
   "outputs": [
    {
     "name": "stderr",
     "output_type": "stream",
     "text": [
      "C:\\Users\\Archizz\\Anaconda3\\envs\\tensorflow\\lib\\site-packages\\sklearn\\utils\\deprecation.py:77: DeprecationWarning: Function _ratio_float is deprecated; Use a float for 'ratio' is deprecated from version 0.2. The support will be removed in 0.4. Use a dict, str, or a callable instead.\n",
      "  warnings.warn(msg, category=DeprecationWarning)\n"
     ]
    },
    {
     "name": "stdout",
     "output_type": "stream",
     "text": [
      "0.729181929182\n",
      "[ 0.18224299  0.18313253  0.82833237]\n",
      "[ 0.14552239  0.13843352  0.87583893]\n"
     ]
    }
   ],
   "source": [
    "### smote通过增加 线性组合的sample把neg和postive的样本量变得差不多。。\n",
    "##因为我们的数据大部分都是positive的。。\n",
    "features=data2.drop(['rate2'],axis=1)\n",
    "features[features<0.01]=0\n",
    "label=data2.rate2\n",
    "X_train, X_test, y_train, y_test = train_test_split(features, label, test_size=0.2, random_state=42)\n",
    "sm = SMOTE(random_state=42,ratio=1)\n",
    "X_res, y_res = sm.fit_sample(X_train, y_train)\n",
    "\n",
    "clf = RandomForestClassifier(random_state=42)\n",
    "clf_fit=clf.fit(X_res, y_res)\n",
    "y_predict=clf_fit.predict(X_test)\n",
    "print(accuracy_score(y_test, y_predict))\n",
    "print(recall_score(y_test, y_predict, average=None))\n",
    "print(precision_score(y_test, y_predict, average=None))"
   ]
  },
  {
   "cell_type": "code",
   "execution_count": 231,
   "metadata": {},
   "outputs": [
    {
     "name": "stdout",
     "output_type": "stream",
     "text": [
      "[ 0.01935417  0.01660779  0.01924788  0.0163599   0.04740079  0.01823343\n",
      "  0.02247236  0.01471249  0.0150603   0.01385936  0.02284684  0.03445625\n",
      "  0.10229674  0.02624014  0.04270812  0.01534409  0.02130499  0.02523172\n",
      "  0.02470845  0.02222579  0.02099125  0.01486936  0.01767139  0.04776476\n",
      "  0.01963277  0.08935566  0.02310462  0.06752703  0.01953727  0.07907778\n",
      "  0.01356298  0.01559015  0.01575872  0.01488464]\n"
     ]
    }
   ],
   "source": [
    "importance=clf.feature_importances_\n",
    "print(importance)"
   ]
  },
  {
   "cell_type": "code",
   "execution_count": 249,
   "metadata": {},
   "outputs": [
    {
     "data": {
      "text/plain": [
       "['23', '27', '29', '25', '12']"
      ]
     },
     "execution_count": 249,
     "metadata": {},
     "output_type": "execute_result"
    }
   ],
   "source": [
    "## this is the most important feature name\n",
    "##用这个看重要不重要\n",
    "largest5=importance.argsort()[-5:]\n",
    "[list(features)[i] for i in largest5]"
   ]
  },
  {
   "cell_type": "markdown",
   "metadata": {},
   "source": [
    "### C.2 set value <0.1 to 0, and use smote, OA decrease, but recall increase"
   ]
  },
  {
   "cell_type": "code",
   "execution_count": 212,
   "metadata": {},
   "outputs": [
    {
     "name": "stderr",
     "output_type": "stream",
     "text": [
      "C:\\Users\\Archizz\\Anaconda3\\envs\\tensorflow\\lib\\site-packages\\sklearn\\utils\\deprecation.py:77: DeprecationWarning: Function _ratio_float is deprecated; Use a float for 'ratio' is deprecated from version 0.2. The support will be removed in 0.4. Use a dict, str, or a callable instead.\n",
      "  warnings.warn(msg, category=DeprecationWarning)\n"
     ]
    },
    {
     "name": "stdout",
     "output_type": "stream",
     "text": [
      "0.636141636142\n",
      "[ 0.25700935  0.24819277  0.70600115]\n",
      "[ 0.11578947  0.12261905  0.88021583]\n"
     ]
    }
   ],
   "source": [
    "features=data2.drop(['rate2'],axis=1)\n",
    "features[features<0.1]=0\n",
    "label=data2.rate2\n",
    "X_train, X_test, y_train, y_test = train_test_split(features, label, test_size=0.2, random_state=42)\n",
    "sm = SMOTE(random_state=42,ratio=1)\n",
    "X_res, y_res = sm.fit_sample(X_train, y_train)\n",
    "\n",
    "clf = RandomForestClassifier(random_state=42)\n",
    "clf_fit=clf.fit(X_res, y_res)\n",
    "y_predict=clf_fit.predict(X_test)\n",
    "print(accuracy_score(y_test, y_predict))\n",
    "print(recall_score(y_test, y_predict, average=None))\n",
    "print(precision_score(y_test, y_predict, average=None))"
   ]
  },
  {
   "cell_type": "markdown",
   "metadata": {},
   "source": [
    "### D. set value <0.01 to 0, and others to 1, use smote, recall is too low (this is equal to binary independent variables)"
   ]
  },
  {
   "cell_type": "code",
   "execution_count": 221,
   "metadata": {},
   "outputs": [
    {
     "name": "stderr",
     "output_type": "stream",
     "text": [
      "C:\\Users\\Archizz\\Anaconda3\\envs\\tensorflow\\lib\\site-packages\\sklearn\\utils\\deprecation.py:77: DeprecationWarning: Function _ratio_float is deprecated; Use a float for 'ratio' is deprecated from version 0.2. The support will be removed in 0.4. Use a dict, str, or a callable instead.\n",
      "  warnings.warn(msg, category=DeprecationWarning)\n"
     ]
    },
    {
     "name": "stdout",
     "output_type": "stream",
     "text": [
      "0.790231990232\n",
      "[ 0.04672897  0.10120482  0.9186382 ]\n",
      "[ 0.11494253  0.15053763  0.85384822]\n"
     ]
    }
   ],
   "source": [
    "features=data2.drop(['rate2'],axis=1)\n",
    "features[features<0.01]=0\n",
    "features[features>0.01]=1\n",
    "label=data2.rate2\n",
    "X_train, X_test, y_train, y_test = train_test_split(features, label, test_size=0.2, random_state=42)\n",
    "sm = SMOTE(random_state=42,ratio=1)\n",
    "X_res, y_res = sm.fit_sample(X_train, y_train)\n",
    "\n",
    "clf = RandomForestClassifier()\n",
    "clf_fit=clf.fit(X_res, y_res)\n",
    "y_predict=clf_fit.predict(X_test)\n",
    "print(accuracy_score(y_test, y_predict))\n",
    "print(recall_score(y_test, y_predict, average=None))\n",
    "print(precision_score(y_test, y_predict, average=None))"
   ]
  },
  {
   "cell_type": "markdown",
   "metadata": {},
   "source": [
    "### I think both C.1 and C.2 are acceptable, depending on the focus. I use C.1 and the resulting most important features are ['23', '27', '29', '25', '12']"
   ]
  },
  {
   "cell_type": "markdown",
   "metadata": {},
   "source": [
    "# 3. Implement decision tree following C.1 for interpretation purpose"
   ]
  },
  {
   "cell_type": "code",
   "execution_count": 11,
   "metadata": {},
   "outputs": [
    {
     "name": "stderr",
     "output_type": "stream",
     "text": [
      "C:\\Users\\Archizz\\Anaconda3\\envs\\tensorflow\\lib\\site-packages\\sklearn\\utils\\deprecation.py:77: DeprecationWarning: Function _ratio_float is deprecated; Use a float for 'ratio' is deprecated from version 0.2. The support will be removed in 0.4. Use a dict, str, or a callable instead.\n",
      "  warnings.warn(msg, category=DeprecationWarning)\n"
     ]
    },
    {
     "name": "stdout",
     "output_type": "stream",
     "text": [
      "0.733089133089\n",
      "[ 0.30841121  0.15662651  0.82833237]\n",
      "[ 0.14442013  0.1653944   0.88474576]\n"
     ]
    }
   ],
   "source": [
    "features=data2.drop(['rate2'],axis=1)\n",
    "features[features<0.01]=0\n",
    "label=data2.rate2\n",
    "X_train, X_test, y_train, y_test = train_test_split(features, label, test_size=0.2, random_state=42)\n",
    "sm = SMOTE(random_state=42,ratio=1)\n",
    "X_res, y_res = sm.fit_sample(X_train, y_train)\n",
    "\n",
    "clf=tree.DecisionTreeClassifier(max_depth=4)  ## this max_depth is after trials among [3,4,5]\n",
    "clf=clf.fit(X_res, y_res)\n",
    "y_predict=clf.predict(X_test)\n",
    "print(accuracy_score(y_test, y_predict))\n",
    "print(recall_score(y_test, y_predict, average=None))\n",
    "print(precision_score(y_test, y_predict, average=None))"
   ]
  },
  {
   "cell_type": "code",
   "execution_count": 14,
   "metadata": {},
   "outputs": [
    {
     "data": {
      "image/png": "[encoded data removed]",
      "text/plain": [
       "<IPython.core.display.Image object>"
      ]
     },
     "execution_count": 14,
     "metadata": {},
     "output_type": "execute_result"
    }
   ],
   "source": [
    "dot_data = tree.export_graphviz(clf, out_file=None,feature_names=list(features),class_names=[\"pos\",\"neu\",'neg'])\n",
    "graph_su = pydotplus.graph_from_dot_data(dot_data)\n",
    "graph_su.write_png('tree.jpg')\n",
    "Image(graph_su.create_png())\n",
    "##gini系数越小越好，如果positive，value【82，18，1】的意思是预测后positive有82，neutual18，negtive1."
   ]
  },
  {
   "cell_type": "code",
   "execution_count": null,
   "metadata": {
    "collapsed": true
   },
   "outputs": [],
   "source": []
  }
 ],
 "metadata": {
  "kernelspec": {
   "display_name": "Python 3",
   "language": "python",
   "name": "python3"
  },
  "language_info": {
   "codemirror_mode": {
    "name": "ipython",
    "version": 3
   },
   "file_extension": ".py",
   "mimetype": "text/x-python",
   "name": "python",
   "nbconvert_exporter": "python",
   "pygments_lexer": "ipython3",
   "version": "3.6.3"
  }
 },
 "nbformat": 4,
 "nbformat_minor": 2
}
