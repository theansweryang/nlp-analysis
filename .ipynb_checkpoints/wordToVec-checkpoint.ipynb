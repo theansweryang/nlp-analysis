{
 "cells": [
  {
   "cell_type": "code",
   "execution_count": 1,
   "metadata": {
    "collapsed": true
   },
   "outputs": [],
   "source": [
    "#load the csv to the notebook\n",
    "import pandas as pd"
   ]
  },
  {
   "cell_type": "code",
   "execution_count": 2,
   "metadata": {},
   "outputs": [
    {
     "data": {
      "text/html": [
       "<div>\n",
       "<style>\n",
       "    .dataframe thead tr:only-child th {\n",
       "        text-align: right;\n",
       "    }\n",
       "\n",
       "    .dataframe thead th {\n",
       "        text-align: left;\n",
       "    }\n",
       "\n",
       "    .dataframe tbody tr th {\n",
       "        vertical-align: top;\n",
       "    }\n",
       "</style>\n",
       "<table border=\"1\" class=\"dataframe\">\n",
       "  <thead>\n",
       "    <tr style=\"text-align: right;\">\n",
       "      <th></th>\n",
       "      <th>Unnamed: 0</th>\n",
       "      <th>user</th>\n",
       "      <th>location</th>\n",
       "      <th>date</th>\n",
       "      <th>rating</th>\n",
       "      <th>title</th>\n",
       "      <th>comments</th>\n",
       "    </tr>\n",
       "  </thead>\n",
       "  <tbody>\n",
       "    <tr>\n",
       "      <th>0</th>\n",
       "      <td>0</td>\n",
       "      <td>NaN</td>\n",
       "      <td>unknown</td>\n",
       "      <td>June 21, 2018</td>\n",
       "      <td>50</td>\n",
       "      <td>Thanks again Go Card</td>\n",
       "      <td>Go early. They have weekend yoga activities. L...</td>\n",
       "    </tr>\n",
       "    <tr>\n",
       "      <th>1</th>\n",
       "      <td>0</td>\n",
       "      <td>NaN</td>\n",
       "      <td>NaN</td>\n",
       "      <td>June 21, 2018</td>\n",
       "      <td>50</td>\n",
       "      <td>Great people watching, skyline viewing</td>\n",
       "      <td>Really enjoyed the Gospel Fest, so much to see...</td>\n",
       "    </tr>\n",
       "    <tr>\n",
       "      <th>2</th>\n",
       "      <td>0</td>\n",
       "      <td>NaN</td>\n",
       "      <td>unknown</td>\n",
       "      <td>June 21, 2018</td>\n",
       "      <td>40</td>\n",
       "      <td>Very Interesting</td>\n",
       "      <td>I love the atmosphere, the art, and the struct...</td>\n",
       "    </tr>\n",
       "    <tr>\n",
       "      <th>3</th>\n",
       "      <td>0</td>\n",
       "      <td>NaN</td>\n",
       "      <td>NaN</td>\n",
       "      <td>June 20, 2018</td>\n",
       "      <td>40</td>\n",
       "      <td>Lovely place</td>\n",
       "      <td>Second visit to this smashing park between the...</td>\n",
       "    </tr>\n",
       "    <tr>\n",
       "      <th>4</th>\n",
       "      <td>0</td>\n",
       "      <td>NaN</td>\n",
       "      <td>unknown</td>\n",
       "      <td>June 20, 2018</td>\n",
       "      <td>40</td>\n",
       "      <td>great greenery sightseeing</td>\n",
       "      <td>A perfect place for photos and driving a bike,...</td>\n",
       "    </tr>\n",
       "  </tbody>\n",
       "</table>\n",
       "</div>"
      ],
      "text/plain": [
       "   Unnamed: 0  user location           date  rating  \\\n",
       "0           0   NaN  unknown  June 21, 2018      50   \n",
       "1           0   NaN      NaN  June 21, 2018      50   \n",
       "2           0   NaN  unknown  June 21, 2018      40   \n",
       "3           0   NaN      NaN  June 20, 2018      40   \n",
       "4           0   NaN  unknown  June 20, 2018      40   \n",
       "\n",
       "                                    title  \\\n",
       "0                    Thanks again Go Card   \n",
       "1  Great people watching, skyline viewing   \n",
       "2                        Very Interesting   \n",
       "3                            Lovely place   \n",
       "4              great greenery sightseeing   \n",
       "\n",
       "                                            comments  \n",
       "0  Go early. They have weekend yoga activities. L...  \n",
       "1  Really enjoyed the Gospel Fest, so much to see...  \n",
       "2  I love the atmosphere, the art, and the struct...  \n",
       "3  Second visit to this smashing park between the...  \n",
       "4  A perfect place for photos and driving a bike,...  "
      ]
     },
     "execution_count": 2,
     "metadata": {},
     "output_type": "execute_result"
    }
   ],
   "source": [
    "rawInput=pd.read_csv('tripadvisor millimum park.csv',encoding=\"ISO-8859-1\")\n",
    "rawInput.head()"
   ]
  },
  {
   "cell_type": "code",
   "execution_count": 3,
   "metadata": {},
   "outputs": [
    {
     "ename": "ModuleNotFoundError",
     "evalue": "No module named 'codes'",
     "output_type": "error",
     "traceback": [
      "\u001b[1;31m---------------------------------------------------------------------------\u001b[0m",
      "\u001b[1;31mModuleNotFoundError\u001b[0m                       Traceback (most recent call last)",
      "\u001b[1;32m<ipython-input-3-28b1f3383b78>\u001b[0m in \u001b[0;36m<module>\u001b[1;34m()\u001b[0m\n\u001b[1;32m----> 1\u001b[1;33m \u001b[1;32mimport\u001b[0m \u001b[0mcodes\u001b[0m\u001b[1;33m\u001b[0m\u001b[0m\n\u001b[0m",
      "\u001b[1;31mModuleNotFoundError\u001b[0m: No module named 'codes'"
     ]
    }
   ],
   "source": [
    "import codes"
   ]
  },
  {
   "cell_type": "markdown",
   "metadata": {},
   "source": [
    "## preprocess text"
   ]
  },
  {
   "cell_type": "code",
   "execution_count": 3,
   "metadata": {
    "collapsed": true
   },
   "outputs": [],
   "source": [
    "#import the nltk lib for preprocessing\n",
    "import nltk\n",
    "from nltk.corpus import stopwords \n",
    "from nltk.stem.wordnet import WordNetLemmatizer"
   ]
  },
  {
   "cell_type": "code",
   "execution_count": 4,
   "metadata": {
    "collapsed": true
   },
   "outputs": [],
   "source": [
    "#nltk.download() #make sure the computer has all nltk corpus"
   ]
  },
  {
   "cell_type": "code",
   "execution_count": 5,
   "metadata": {},
   "outputs": [
    {
     "name": "stderr",
     "output_type": "stream",
     "text": [
      "C:\\Users\\thean\\Anaconda3\\lib\\site-packages\\gensim\\utils.py:1209: UserWarning: detected Windows; aliasing chunkize to chunkize_serial\n",
      "  warnings.warn(\"detected Windows; aliasing chunkize to chunkize_serial\")\n"
     ]
    }
   ],
   "source": [
    "import string #for getting punctuation\n",
    "import gensim"
   ]
  },
  {
   "cell_type": "code",
   "execution_count": 6,
   "metadata": {
    "collapsed": true
   },
   "outputs": [],
   "source": [
    "stop = set(stopwords.words('english'))\n",
    "exclude = set(string.punctuation) \n",
    "lemma = WordNetLemmatizer()##WordNetLemmatizer is a class"
   ]
  },
  {
   "cell_type": "code",
   "execution_count": 7,
   "metadata": {
    "collapsed": true
   },
   "outputs": [],
   "source": [
    "##a def to clean the text(typical way), very nice\n",
    "def clean(doc):\n",
    "    stop_free = \" \".join([i for i in gensim.utils.simple_preprocess(doc,min_len=3) if i not in stop])\n",
    "    ##simple_preprocess can lowercase words and tokenize them,you can set up min len of token too,here is 3\n",
    "    punc_free = ''.join(ch for ch in stop_free if ch not in exclude)\n",
    "    normalized = \" \".join(lemma.lemmatize(word) for word in punc_free.split())##这个用来找stem\n",
    "    return normalized"
   ]
  },
  {
   "cell_type": "code",
   "execution_count": 8,
   "metadata": {
    "collapsed": true
   },
   "outputs": [],
   "source": [
    "doc_complete=rawInput['comments'][:10]"
   ]
  },
  {
   "cell_type": "code",
   "execution_count": 9,
   "metadata": {
    "collapsed": true
   },
   "outputs": [],
   "source": [
    "doc_clean = [clean(doc).split() for doc in doc_complete]    \n",
    "#doc_clean is a list中包list,每个item是一个doc的tokens"
   ]
  },
  {
   "cell_type": "code",
   "execution_count": 10,
   "metadata": {},
   "outputs": [
    {
     "data": {
      "text/plain": [
       "[['early',\n",
       "  'weekend',\n",
       "  'yoga',\n",
       "  'activity',\n",
       "  'lot',\n",
       "  'great',\n",
       "  'area',\n",
       "  'take',\n",
       "  'picture',\n",
       "  'restaurant',\n",
       "  'line',\n",
       "  'side',\n",
       "  'visit',\n",
       "  'gift',\n",
       "  'shop',\n",
       "  'reasonable',\n",
       "  'priced',\n",
       "  'souvenir'],\n",
       " ['really',\n",
       "  'enjoyed',\n",
       "  'gospel',\n",
       "  'fest',\n",
       "  'much',\n",
       "  'see',\n",
       "  'around',\n",
       "  'stage',\n",
       "  'awesome',\n",
       "  'could',\n",
       "  'spend',\n",
       "  'hour']]"
      ]
     },
     "execution_count": 10,
     "metadata": {},
     "output_type": "execute_result"
    }
   ],
   "source": [
    "doc_clean[:2]"
   ]
  },
  {
   "cell_type": "markdown",
   "metadata": {},
   "source": [
    "## create gensim corpus dicts and doc_term_Matrix"
   ]
  },
  {
   "cell_type": "code",
   "execution_count": 11,
   "metadata": {
    "collapsed": true
   },
   "outputs": [],
   "source": [
    "# Importing Gensim\n",
    "import gensim\n",
    "from gensim import corpora"
   ]
  },
  {
   "cell_type": "code",
   "execution_count": 12,
   "metadata": {
    "collapsed": true
   },
   "outputs": [],
   "source": [
    "# Creating the term dictionary of our courpus, where every unique term（token) is assigned an index. \n",
    "dictionary = corpora.Dictionary(doc_clean)"
   ]
  },
  {
   "cell_type": "code",
   "execution_count": 13,
   "metadata": {},
   "outputs": [
    {
     "name": "stdout",
     "output_type": "stream",
     "text": [
      "184\n",
      "0 activity\n",
      "1 area\n",
      "2 early\n",
      "3 gift\n",
      "4 great\n",
      "5 line\n",
      "6 lot\n",
      "7 picture\n",
      "8 priced\n",
      "9 reasonable\n",
      "10 restaurant\n"
     ]
    }
   ],
   "source": [
    "print(len(dictionary))\n",
    "count = 0\n",
    "for k, v in dictionary.iteritems():\n",
    "    print(k, v)\n",
    "    count += 1\n",
    "    if count > 10:\n",
    "        break"
   ]
  },
  {
   "cell_type": "code",
   "execution_count": 14,
   "metadata": {
    "collapsed": true
   },
   "outputs": [],
   "source": [
    "#### filter_extremes可以把出现less than 15 documents的tokens (absolute number) \n",
    "#or more than 0.5 documents (fraction of total dictionary size, not absolute number). dictionary里有一半都是那个词删掉。\n",
    "#after the above two steps, keep only the first 100000 most frequent tokens.\n",
    "#dictionary.filter_extremes(no_below=15, no_above=0.5, keep_n=100000) #当文字很多的时候用这个"
   ]
  },
  {
   "cell_type": "code",
   "execution_count": 15,
   "metadata": {
    "collapsed": true
   },
   "outputs": [],
   "source": [
    "# Converting list of documents (corpus) into Document Term Matrix using dictionary prepared above.\n",
    "doc_term_matrix = [dictionary.doc2bow(doc) for doc in doc_clean]"
   ]
  },
  {
   "cell_type": "code",
   "execution_count": 16,
   "metadata": {},
   "outputs": [
    {
     "data": {
      "text/plain": [
       "[[(0, 1),\n",
       "  (1, 1),\n",
       "  (2, 1),\n",
       "  (3, 1),\n",
       "  (4, 1),\n",
       "  (5, 1),\n",
       "  (6, 1),\n",
       "  (7, 1),\n",
       "  (8, 1),\n",
       "  (9, 1),\n",
       "  (10, 1),\n",
       "  (11, 1),\n",
       "  (12, 1),\n",
       "  (13, 1),\n",
       "  (14, 1),\n",
       "  (15, 1),\n",
       "  (16, 1),\n",
       "  (17, 1)]]"
      ]
     },
     "execution_count": 16,
     "metadata": {},
     "output_type": "execute_result"
    }
   ],
   "source": [
    "doc_term_matrix[:1]###这个matrix是每个doc的list of (token_id, token_count) tuples"
   ]
  },
  {
   "cell_type": "code",
   "execution_count": 19,
   "metadata": {},
   "outputs": [
    {
     "name": "stdout",
     "output_type": "stream",
     "text": [
      "activity\n"
     ]
    },
    {
     "data": {
      "text/plain": [
       "'activity'"
      ]
     },
     "execution_count": 19,
     "metadata": {},
     "output_type": "execute_result"
    }
   ],
   "source": [
    "print (dictionary[0])#dictionary 可以直接输入token的id得出token\n",
    "dictionary[doc_term_matrix[0][0][0]]#找到第一个id为0的词"
   ]
  },
  {
   "cell_type": "markdown",
   "metadata": {},
   "source": [
    "## tf-idf model LDA\n",
    "create tf-idf scores, 这个score就是给每个token一个score，这score的好处是：当很多doc都有某个词比如city，那么city对选择topic意义并不大，当有些词是某个doc独有如accessible，那么这个词的意义还更强。。\n",
    "https://rare-technologies.com/pivoted-document-length-normalisation/"
   ]
  },
  {
   "cell_type": "code",
   "execution_count": 65,
   "metadata": {
    "collapsed": true
   },
   "outputs": [],
   "source": [
    "from gensim import corpora, models\n",
    "tfidf = models.TfidfModel(doc_term_matrix)\n",
    "corpus_tfidf = tfidf[doc_term_matrix]"
   ]
  },
  {
   "cell_type": "code",
   "execution_count": 70,
   "metadata": {},
   "outputs": [
    {
     "data": {
      "text/plain": [
       "[(0, 0.18039823961209372),\n",
       " (1, 0.13495057669714727),\n",
       " (2, 0.25809153253072953),\n",
       " (3, 0.25809153253072953),\n",
       " (4, 0.18039823961209372),\n",
       " (5, 0.25809153253072953),\n",
       " (6, 0.25809153253072953),\n",
       " (7, 0.25809153253072953),\n",
       " (8, 0.25809153253072953),\n",
       " (9, 0.25809153253072953),\n",
       " (10, 0.18039823961209372),\n",
       " (11, 0.25809153253072953),\n",
       " (12, 0.25809153253072953),\n",
       " (13, 0.25809153253072953),\n",
       " (14, 0.25809153253072953),\n",
       " (15, 0.13495057669714727),\n",
       " (16, 0.25809153253072953),\n",
       " (17, 0.25809153253072953)]"
      ]
     },
     "execution_count": 70,
     "metadata": {},
     "output_type": "execute_result"
    }
   ],
   "source": [
    "corpus_tfidf[0]##第一个doc里面词的score，可以看到这个跟doc_term_matrix是不一样的"
   ]
  },
  {
   "cell_type": "code",
   "execution_count": 75,
   "metadata": {
    "collapsed": true
   },
   "outputs": [],
   "source": [
    "lda_model_tfidf = gensim.models.ldamodel.LdaModel(corpus_tfidf, num_topics=5, id2word=dictionary, passes=50)"
   ]
  },
  {
   "cell_type": "code",
   "execution_count": 82,
   "metadata": {},
   "outputs": [
    {
     "data": {
      "text/plain": [
       "[(0, '0.005*\"concert\" + 0.005*\"park\" + 0.005*\"close\"'),\n",
       " (1, '0.011*\"enjoy\" + 0.011*\"free\" + 0.011*\"greenscape\"'),\n",
       " (2, '0.011*\"city\" + 0.010*\"driving\" + 0.010*\"depends\"'),\n",
       " (3, '0.013*\"great\" + 0.013*\"restaurant\" + 0.012*\"museum\"'),\n",
       " (4, '0.013*\"blue\" + 0.010*\"chicago\" + 0.009*\"friend\"')]"
      ]
     },
     "execution_count": 82,
     "metadata": {},
     "output_type": "execute_result"
    }
   ],
   "source": [
    "lda_model_tfidf.show_topics(num_topics=5, num_words=3)##可以发现tfidf去掉了很多general的词。"
   ]
  },
  {
   "cell_type": "markdown",
   "metadata": {},
   "source": [
    "## typical LDA model(bag of words)"
   ]
  },
  {
   "cell_type": "code",
   "execution_count": 76,
   "metadata": {
    "collapsed": true
   },
   "outputs": [],
   "source": [
    "# Creating the object for LDA model using gensim library\n",
    "lda_model = gensim.models.LdaMulticore(doc_term_matrix, num_topics=5, id2word=dictionary, passes=2, workers=2)\n",
    "#这里workers是用几个cpu的意思，multicore就是多核运算意思"
   ]
  },
  {
   "cell_type": "code",
   "execution_count": 79,
   "metadata": {},
   "outputs": [
    {
     "name": "stdout",
     "output_type": "stream",
     "text": [
      "[(0, '0.022*\"free\" + 0.020*\"enjoy\" + 0.018*\"atmosphere\"'), (1, '0.044*\"park\" + 0.024*\"concert\" + 0.024*\"summer\"'), (2, '0.041*\"park\" + 0.029*\"chicago\" + 0.018*\"close\"'), (3, '0.032*\"enjoy\" + 0.029*\"free\" + 0.018*\"day\"'), (4, '0.032*\"park\" + 0.018*\"activity\" + 0.018*\"lovely\"')]\n"
     ]
    }
   ],
   "source": [
    "print(lda_model.print_topics(num_topics=5, num_words=3))"
   ]
  },
  {
   "cell_type": "code",
   "execution_count": 80,
   "metadata": {},
   "outputs": [
    {
     "data": {
      "text/plain": [
       "[(0, '0.022*\"free\" + 0.020*\"enjoy\" + 0.018*\"atmosphere\"'),\n",
       " (1, '0.044*\"park\" + 0.024*\"concert\" + 0.024*\"summer\"'),\n",
       " (2, '0.041*\"park\" + 0.029*\"chicago\" + 0.018*\"close\"'),\n",
       " (3, '0.032*\"enjoy\" + 0.029*\"free\" + 0.018*\"day\"'),\n",
       " (4, '0.032*\"park\" + 0.018*\"activity\" + 0.018*\"lovely\"')]"
      ]
     },
     "execution_count": 80,
     "metadata": {},
     "output_type": "execute_result"
    }
   ],
   "source": [
    "lda_model.show_topics(num_topics=5, num_words=3)"
   ]
  },
  {
   "cell_type": "code",
   "execution_count": null,
   "metadata": {
    "collapsed": true
   },
   "outputs": [],
   "source": []
  },
  {
   "cell_type": "markdown",
   "metadata": {},
   "source": [
    "## pyLDAvis  \n",
    "dictionary/lda/doc_term_matrix可以先保存,然后load的"
   ]
  },
  {
   "cell_type": "code",
   "execution_count": 87,
   "metadata": {},
   "outputs": [
    {
     "data": {
      "text/plain": [
       "\"\\ndictionary = gensim.corpora.Dictionary.load('dictionary.gensim')\\ndoc_term_matrix = pickle.load(open('corpus.pkl', 'rb'))\\nlda = gensim.models.ldamodel.LdaModel.load('model5.gensim')\\n\""
      ]
     },
     "execution_count": 87,
     "metadata": {},
     "output_type": "execute_result"
    }
   ],
   "source": [
    "\"\"\"\n",
    "dictionary = gensim.corpora.Dictionary.load('dictionary.gensim')\n",
    "doc_term_matrix = pickle.load(open('corpus.pkl', 'rb'))\n",
    "lda = gensim.models.ldamodel.LdaModel.load('model5.gensim')\n",
    "\"\"\""
   ]
  },
  {
   "cell_type": "code",
   "execution_count": 85,
   "metadata": {},
   "outputs": [
    {
     "data": {
      "text/html": [
       "\n",
       "<link rel=\"stylesheet\" type=\"text/css\" href=\"https://cdn.rawgit.com/bmabey/pyLDAvis/files/ldavis.v1.0.0.css\">\n",
       "\n",
       "\n",
       "<div id=\"ldavis_el1344823430549902169013370165\"></div>\n",
       "<script type=\"text/javascript\">\n",
       "\n",
       "var ldavis_el1344823430549902169013370165_data = {\"mdsDat\": {\"Freq\": [11.309325033325509, 5.842070507176405, 56.88442991321838, 12.988229040748308, 12.975945505531394], \"cluster\": [1, 1, 1, 1, 1], \"topics\": [1, 2, 3, 4, 5], \"x\": [0.0363543423926381, -0.008215247551959588, 0.059780794505302534, 0.016980924662993543, -0.10490081400897465], \"y\": [-0.046256442413271356, 0.013666507296745652, 0.0813804987267687, -0.06719024944224701, 0.018399685832004027]}, \"tinfo\": {\"Category\": [\"Default\", \"Default\", \"Default\", \"Default\", \"Default\", \"Default\", \"Default\", \"Default\", \"Default\", \"Default\", \"Default\", \"Default\", \"Default\", \"Default\", \"Default\", \"Default\", \"Default\", \"Default\", \"Default\", \"Default\", \"Default\", \"Default\", \"Default\", \"Default\", \"Default\", \"Default\", \"Default\", \"Default\", \"Default\", \"Default\", \"Topic1\", \"Topic1\", \"Topic1\", \"Topic1\", \"Topic1\", \"Topic1\", \"Topic1\", \"Topic1\", \"Topic1\", \"Topic1\", \"Topic1\", \"Topic1\", \"Topic1\", \"Topic1\", \"Topic1\", \"Topic1\", \"Topic1\", \"Topic1\", \"Topic1\", \"Topic1\", \"Topic1\", \"Topic1\", \"Topic1\", \"Topic1\", \"Topic1\", \"Topic1\", \"Topic1\", \"Topic1\", \"Topic1\", \"Topic1\", \"Topic1\", \"Topic1\", \"Topic1\", \"Topic2\", \"Topic2\", \"Topic2\", \"Topic2\", \"Topic2\", \"Topic2\", \"Topic2\", \"Topic2\", \"Topic2\", \"Topic2\", \"Topic2\", \"Topic2\", \"Topic2\", \"Topic2\", \"Topic2\", \"Topic2\", \"Topic2\", \"Topic2\", \"Topic2\", \"Topic2\", \"Topic2\", \"Topic2\", \"Topic2\", \"Topic2\", \"Topic2\", \"Topic2\", \"Topic2\", \"Topic2\", \"Topic2\", \"Topic2\", \"Topic2\", \"Topic2\", \"Topic2\", \"Topic2\", \"Topic2\", \"Topic2\", \"Topic2\", \"Topic2\", \"Topic2\", \"Topic2\", \"Topic2\", \"Topic2\", \"Topic2\", \"Topic2\", \"Topic2\", \"Topic2\", \"Topic2\", \"Topic2\", \"Topic2\", \"Topic2\", \"Topic2\", \"Topic2\", \"Topic2\", \"Topic3\", \"Topic3\", \"Topic3\", \"Topic3\", \"Topic3\", \"Topic3\", \"Topic3\", \"Topic3\", \"Topic3\", \"Topic3\", \"Topic3\", \"Topic3\", \"Topic3\", \"Topic3\", \"Topic3\", \"Topic3\", \"Topic3\", \"Topic3\", \"Topic3\", \"Topic3\", \"Topic3\", \"Topic3\", \"Topic3\", \"Topic3\", \"Topic3\", \"Topic3\", \"Topic3\", \"Topic3\", \"Topic3\", \"Topic3\", \"Topic3\", \"Topic3\", \"Topic3\", \"Topic3\", \"Topic3\", \"Topic3\", \"Topic3\", \"Topic3\", \"Topic3\", \"Topic4\", \"Topic4\", \"Topic4\", \"Topic4\", \"Topic4\", \"Topic4\", \"Topic4\", \"Topic4\", \"Topic4\", \"Topic4\", \"Topic4\", \"Topic4\", \"Topic4\", \"Topic4\", \"Topic4\", \"Topic4\", \"Topic4\", \"Topic4\", \"Topic4\", \"Topic4\", \"Topic4\", \"Topic4\", \"Topic4\", \"Topic4\", \"Topic4\", \"Topic4\", \"Topic4\", \"Topic4\", \"Topic4\", \"Topic4\", \"Topic4\", \"Topic4\", \"Topic4\", \"Topic4\", \"Topic5\", \"Topic5\", \"Topic5\", \"Topic5\", \"Topic5\", \"Topic5\", \"Topic5\", \"Topic5\", \"Topic5\", \"Topic5\", \"Topic5\", \"Topic5\", \"Topic5\", \"Topic5\", \"Topic5\", \"Topic5\", \"Topic5\", \"Topic5\", \"Topic5\", \"Topic5\", \"Topic5\", \"Topic5\", \"Topic5\", \"Topic5\", \"Topic5\", \"Topic5\", \"Topic5\", \"Topic5\", \"Topic5\", \"Topic5\"], \"Freq\": [7.0, 3.0, 2.0, 2.0, 2.0, 1.0, 1.0, 1.0, 1.0, 1.0, 0.0, 0.0, 0.0, 0.0, 0.0, 1.0, 1.0, 1.0, 1.0, 1.0, 1.0, 0.0, 0.0, 0.0, 0.0, 0.0, 0.0, 0.0, 0.0, 0.0, 0.4791690896246351, 0.47915041126933033, 0.47914713878120413, 0.47913319294718953, 0.47913349502301655, 0.4791328405253913, 0.47912926596143807, 0.4791285611178417, 0.4790972962697439, 0.4790793227580355, 0.47906099682452885, 0.4482394450028944, 0.4443930128053546, 0.4438892006718365, 0.4416933107931992, 0.43873004762195833, 0.4363278399534582, 0.430733395636827, 0.423961056978656, 0.49034060889784314, 0.48840576287973253, 0.4615160803687167, 0.45401941422329434, 0.4508779766600759, 0.5867165421711559, 0.5338507047960399, 0.45416672653494355, 0.11623269896586418, 0.11327187757422522, 0.11164462026698985, 0.16951757844553736, 0.1324974054802223, 0.13757036622745403, 0.3301763596020121, 0.3301514186263782, 0.3301475695498466, 0.3301257234398023, 0.3301205479923037, 0.33018840096981034, 0.3302188034729553, 0.3301497021463033, 0.3330519058511407, 0.3359711963349056, 0.33140926042672647, 0.6144318317890736, 0.05508968029508756, 0.055081039378346824, 0.05507776246184018, 0.055076852207255, 0.055076787189070345, 0.05507417995986565, 0.055073341225283595, 0.055072300934329105, 0.05507097456336213, 0.05507065597425732, 0.0550634649630344, 0.0550920144479167, 0.05508446583667818, 0.05508221620748909, 0.05509356838252997, 0.05510315856476668, 0.05508285988751718, 0.05509896489185639, 0.061533613070853824, 0.06080146930072039, 0.06037750522403628, 0.06001831226290613, 0.05961352855069544, 0.059566825988657285, 0.05956438130491423, 0.0592731583540231, 0.05921759381341638, 0.05915068359958725, 0.0591104373432854, 0.05906746682504648, 0.059038917340164185, 0.058654406297929125, 0.06335208717203236, 0.0585943294953073, 0.058581657451117916, 0.05840186266508964, 0.06987382720937604, 0.06017155362232104, 0.05960770942316876, 0.06022047330445595, 0.059125872660322654, 3.966673204684194, 1.717684861011596, 1.7125811896529084, 1.7099564226769832, 1.6707710447845887, 0.957806907929098, 0.956560111961325, 0.9563275801450545, 2.4638706595535207, 0.9555984571044918, 0.9552944500852348, 0.9548322353314666, 0.9534203310117105, 0.953165957791516, 0.9530690326048266, 0.9518097015704536, 0.9513058298781867, 0.9512920286432432, 0.9508542509385032, 0.9500136417753017, 0.9495611765177778, 0.9493881546136484, 0.9489931733989163, 0.9484758170137918, 0.9483672430783429, 0.9479751107423834, 0.9476042500345935, 0.9473864057711068, 0.9471443776922606, 0.9465694739559274, 5.620116609072143, 1.781136861673116, 2.5061553643169567, 1.7499808903305671, 1.6956408701525232, 1.6982993172063836, 1.0165118535458568, 1.0079365385147425, 0.9716887977959342, 0.5482499081499821, 0.548224293896585, 0.5481734701296865, 0.5481554302943369, 0.5481006169484669, 0.523420040670723, 0.5231925190293744, 0.5229252172382804, 0.5226488377095267, 0.5196228866095682, 0.5169129217281537, 0.5162378155821852, 0.5153480816515443, 0.5152652256129032, 0.5149329341585627, 0.5133923784756932, 0.5120715965561695, 0.510225288792118, 0.5068448433635425, 0.5084540313687197, 0.5480913079308667, 0.9812448115708526, 0.9138914673334626, 0.5639708151773848, 0.5480567315797799, 0.5309975809973548, 0.5200048454311055, 0.5282454075268209, 0.09150094312002695, 0.09149244358221799, 0.5316204178767975, 0.1115488304145037, 0.12036277884740941, 0.12519099333777328, 0.5487569116876401, 0.5487499798513747, 0.5487547743714583, 0.548746744994451, 0.5487347875768933, 0.5487342099238712, 0.5487295309343921, 0.5487428169539006, 0.5487284911589523, 0.5487269314957927, 0.5487202884860384, 0.5487179778739499, 0.5487068869359254, 0.548696373650923, 0.5486953338754833, 0.5486825677436947, 0.5486594038575081, 0.5486610790512723, 0.5486439805218178, 0.548636355501926, 0.5486297124921717, 0.5486167730644765, 0.548786198695861, 0.548639359297641, 0.5489126469424005, 0.5487894335527848, 0.5487598577180528, 0.5486771378052868, 0.5487138765374929, 1.00563140943387], \"Term\": [\"park\", \"close\", \"concert\", \"enjoy\", \"free\", \"summer\", \"restaurant\", \"great\", \"public\", \"activity\", \"transportation\", \"local\", \"attactions\", \"museum\", \"accessible\", \"atmosphere\", \"movie\", \"stage\", \"day\", \"see\", \"around\", \"believe\", \"simply\", \"showed\", \"week\", \"structure\", \"available\", \"every\", \"amazing\", \"love\", \"believe\", \"simply\", \"showed\", \"every\", \"available\", \"structure\", \"amazing\", \"week\", \"love\", \"refreshment\", \"art\", \"much\", \"gospel\", \"could\", \"fest\", \"spend\", \"awesome\", \"enjoyed\", \"hour\", \"atmosphere\", \"movie\", \"stage\", \"see\", \"around\", \"free\", \"enjoy\", \"really\", \"ornamental\", \"ticket\", \"charge\", \"park\", \"concert\", \"chicago\", \"transportation\", \"local\", \"attactions\", \"museum\", \"accessible\", \"public\", \"restaurant\", \"great\", \"summer\", \"concert\", \"close\", \"park\", \"refreshment\", \"art\", \"amazing\", \"every\", \"week\", \"love\", \"structure\", \"available\", \"simply\", \"showed\", \"believe\", \"much\", \"gospel\", \"could\", \"fest\", \"spend\", \"awesome\", \"enjoyed\", \"added\", \"stop\", \"millenium\", \"festival\", \"visitor\", \"entertaining\", \"would\", \"fun\", \"club\", \"occurring\", \"also\", \"wildberry\", \"went\", \"morning\", \"blue\", \"attended\", \"pancake\", \"even\", \"chicago\", \"around\", \"atmosphere\", \"really\", \"area\", \"chicago\", \"blue\", \"bean\", \"sculpture\", \"millennium\", \"many\", \"magnificent\", \"spotlessly\", \"area\", \"attending\", \"apart\", \"big\", \"worth\", \"loop\", \"smashing\", \"mile\", \"heart\", \"lake\", \"kept\", \"forget\", \"traffic\", \"noise\", \"attraction\", \"adjacent\", \"enough\", \"either\", \"centre\", \"nothing\", \"second\", \"easy\", \"park\", \"really\", \"close\", \"city\", \"visit\", \"concert\", \"see\", \"around\", \"stage\", \"bike\", \"driving\", \"perfect\", \"photo\", \"depends\", \"beautiful\", \"path\", \"purchase\", \"greenscape\", \"prefer\", \"everyone\", \"different\", \"air\", \"open\", \"seat\", \"explore\", \"charge\", \"ticket\", \"ornamental\", \"public\", \"activity\", \"enjoy\", \"free\", \"day\", \"place\", \"garden\", \"concert\", \"close\", \"accessible\", \"museum\", \"park\", \"oasis\", \"millennium\", \"chicago\", \"take\", \"reasonable\", \"picture\", \"souvenir\", \"weekend\", \"space\", \"shop\", \"priced\", \"gift\", \"performance\", \"early\", \"lot\", \"location\", \"side\", \"yoga\", \"access\", \"give\", \"near\", \"line\", \"good\", \"lakefront\", \"nice\", \"great\", \"restaurant\", \"activity\", \"lovely\", \"visit\", \"city\", \"area\", \"park\"], \"Total\": [7.0, 3.0, 2.0, 2.0, 2.0, 1.0, 1.0, 1.0, 1.0, 1.0, 0.0, 0.0, 0.0, 0.0, 0.0, 1.0, 1.0, 1.0, 1.0, 1.0, 1.0, 0.0, 0.0, 0.0, 0.0, 0.0, 0.0, 0.0, 0.0, 0.0, 0.8782814686141576, 0.8782842919765191, 0.8782892826465916, 0.8782767394050633, 0.8782856949113179, 0.8782892940415566, 0.8782840485353243, 0.8782953364170482, 0.87829346658001, 0.8782861267148631, 0.878324605925505, 0.9096030925583438, 0.9135127381038851, 0.9140396096711328, 0.9162294890214107, 0.919202591622817, 0.9217155950124553, 0.9272991620974689, 0.9342840241720621, 1.6631586894911248, 1.6613017544065438, 1.6869408631334806, 1.7086866339024747, 1.7020777039412514, 2.5545617623404486, 2.5568534743685927, 2.4928167966840826, 0.9307078276069597, 0.931145902896997, 0.9313777956021154, 7.941317846617421, 2.7783816380260706, 4.3908638249070435, 0.7541633825338141, 0.7541810230458944, 0.7541785461877383, 0.7541960623672337, 0.754203926837291, 1.2062806520049174, 1.2116044603691174, 1.211614377312294, 1.5259373383966737, 2.7783816380260706, 3.5879107503965364, 7.941317846617421, 0.8782861267148631, 0.878324605925505, 0.8782840485353243, 0.8782767394050633, 0.8782953364170482, 0.87829346658001, 0.8782892940415566, 0.8782856949113179, 0.8782842919765191, 0.8782892826465916, 0.8782814686141576, 0.9096030925583438, 0.9135127381038851, 0.9140396096711328, 0.9162294890214107, 0.919202591622817, 0.9217155950124553, 0.9272991620974689, 1.2620188630894855, 1.2625553488854946, 1.2605300685442145, 1.2623001460995222, 1.2663329141684512, 1.2634361808571384, 1.2644699040484397, 1.263333924074157, 1.2650715670970318, 1.2670546461492016, 1.2654251164786685, 1.2663271085044137, 1.2656008720004273, 1.2650573360674677, 2.0582168656231143, 1.2665733126568395, 1.2670081507495399, 1.268429826046957, 4.3908638249070435, 1.7020777039412514, 1.6631586894911248, 2.4928167966840826, 3.2961292324974982, 4.3908638249070435, 2.0582168656231143, 2.060307406937603, 2.058961176477064, 2.040705575678365, 1.2796962378805843, 1.2790693723450626, 1.2789508382233545, 3.2961292324974982, 1.2785846149157811, 1.2784307747245605, 1.2781978956453417, 1.2774872951700276, 1.2773570062032178, 1.2773102316692928, 1.2766744292316783, 1.276420712764613, 1.2764143890435447, 1.2761922526600462, 1.2757699887137137, 1.2755428765621657, 1.2754539853544882, 1.2752559772879912, 1.2749950089459807, 1.2749396457746291, 1.2747424748093577, 1.2745587394572129, 1.2744455550504286, 1.274324360609331, 1.2740344439788784, 7.941317846617421, 2.4928167966840826, 3.5879107503965364, 2.5356014207083883, 2.508967868544608, 2.7783816380260706, 1.7086866339024747, 1.7020777039412514, 1.6869408631334806, 0.9359544573588846, 0.9359322205018239, 0.9359571208136589, 0.9359941128484741, 0.9359700013845138, 0.932803074336703, 0.9327779755487662, 0.9327474071446853, 0.9327166818511485, 0.9323271944166494, 0.9319992537500562, 0.9319054900020515, 0.9317890294058552, 0.9317767689775842, 0.9317314460769275, 0.9315339666586573, 0.9313777956021154, 0.931145902896997, 0.9307078276069597, 1.2062806520049174, 1.3934175933131412, 2.5568534743685927, 2.5545617623404486, 1.7110752833606435, 1.7295632768950853, 1.7146420998461096, 2.7783816380260706, 3.5879107503965364, 0.754203926837291, 0.7541960623672337, 7.941317846617421, 1.2516824307569527, 2.040705575678365, 4.3908638249070435, 0.9362623314368455, 0.9362537691193471, 0.9362622344306069, 0.9362604622472344, 0.93625751399463, 0.9362578700852318, 0.9362513087164597, 0.9362743878940873, 0.9362585103342589, 0.9362683340414464, 0.9362576631583126, 0.936272710747464, 0.9362647034067231, 0.9362601626068365, 0.9362667492868676, 0.9362572051144888, 0.9362646338775819, 0.9362682427167413, 0.9362599006756032, 0.9362561987969586, 0.9362684626942033, 0.9362628258654394, 1.211614377312294, 1.2116044603691174, 1.3934175933131412, 1.7320122556904083, 2.508967868544608, 2.5356014207083883, 3.2961292324974982, 7.941317846617421], \"loglift\": [30.0, 29.0, 28.0, 27.0, 26.0, 25.0, 24.0, 23.0, 22.0, 21.0, 20.0, 19.0, 18.0, 17.0, 16.0, 15.0, 14.0, 13.0, 12.0, 11.0, 10.0, 9.0, 8.0, 7.0, 6.0, 5.0, 4.0, 3.0, 2.0, 1.0, 1.5736, 1.5736, 1.5736, 1.5736, 1.5735, 1.5735, 1.5735, 1.5735, 1.5735, 1.5734, 1.5734, 1.4719, 1.459, 1.4572, 1.4499, 1.4399, 1.4317, 1.4128, 1.3894, 0.9582, 0.9553, 0.8834, 0.8542, 0.8511, 0.7084, 0.6131, 0.4768, 0.0992, 0.0729, 0.0582, -1.6673, -0.8635, -1.2836, 2.0141, 2.014, 2.014, 2.0139, 2.0139, 1.5445, 1.5401, 1.5399, 1.318, 0.7275, 0.4581, 0.2809, 0.0711, 0.0709, 0.0709, 0.0709, 0.0708, 0.0708, 0.0708, 0.0708, 0.0707, 0.0707, 0.0706, 0.0361, 0.0317, 0.031, 0.0289, 0.0258, 0.0227, 0.0169, -0.1808, -0.1932, -0.1986, -0.206, -0.2159, -0.2144, -0.2153, -0.2193, -0.2216, -0.2243, -0.2237, -0.2251, -0.225, -0.2311, -0.6408, -0.2333, -0.2339, -0.2381, -1.3005, -0.5023, -0.4886, -0.8831, -1.1808, 0.4626, 0.3833, 0.3793, 0.3784, 0.3641, 0.2744, 0.2736, 0.2735, 0.2731, 0.273, 0.2728, 0.2725, 0.2716, 0.2714, 0.2713, 0.2705, 0.2702, 0.2702, 0.2699, 0.2693, 0.269, 0.2689, 0.2686, 0.2683, 0.2682, 0.268, 0.2677, 0.2676, 0.2674, 0.267, 0.2184, 0.228, 0.2053, 0.1933, 0.1723, 0.0719, 0.0448, 0.0402, 0.0125, 1.5063, 1.5063, 1.5061, 1.5061, 1.506, 1.4633, 1.4629, 1.4624, 1.4619, 1.4565, 1.4517, 1.4505, 1.4489, 1.4487, 1.4481, 1.4453, 1.4429, 1.4396, 1.4334, 1.1772, 1.1081, 1.0834, 1.0132, 0.9313, 0.8919, 0.8689, 0.3653, 0.1254, -0.0682, -0.0683, -0.6628, -0.3767, -0.7894, -1.5163, 1.5078, 1.5078, 1.5078, 1.5078, 1.5078, 1.5078, 1.5078, 1.5078, 1.5078, 1.5078, 1.5078, 1.5078, 1.5077, 1.5077, 1.5077, 1.5077, 1.5077, 1.5077, 1.5076, 1.5076, 1.5076, 1.5076, 1.2501, 1.2498, 1.1105, 0.8927, 0.5221, 0.5114, 0.2491, -0.0244], \"logprob\": [30.0, 29.0, 28.0, 27.0, 26.0, 25.0, 24.0, 23.0, 22.0, 21.0, 20.0, 19.0, 18.0, 17.0, 16.0, 15.0, 14.0, 13.0, 12.0, 11.0, 10.0, 9.0, 8.0, 7.0, 6.0, 5.0, 4.0, 3.0, 2.0, 1.0, -4.032599925994873, -4.032700061798096, -4.032700061798096, -4.032700061798096, -4.032700061798096, -4.032700061798096, -4.032700061798096, -4.032700061798096, -4.032800197601318, -4.032800197601318, -4.032800197601318, -4.099299907684326, -4.107999801635742, -4.109099864959717, -4.114099979400635, -4.120800018310547, -4.126299858093262, -4.139200210571289, -4.15500020980835, -4.0096001625061035, -4.013500213623047, -4.070199966430664, -4.08650016784668, -4.093500137329102, -3.8301000595092773, -3.9245998859405518, -4.08620023727417, -5.449100017547607, -5.474899768829346, -5.4893999099731445, -5.071700096130371, -5.3180999755859375, -5.2804999351501465, -3.744499921798706, -3.7446000576019287, -3.7446000576019287, -3.7446999549865723, -3.7446999549865723, -3.744499921798706, -3.7444000244140625, -3.7446000576019287, -3.73580002784729, -3.727099895477295, -3.740799903869629, -3.1233999729156494, -5.535200119018555, -5.535299777984619, -5.535399913787842, -5.535399913787842, -5.535399913787842, -5.5355000495910645, -5.5355000495910645, -5.5355000495910645, -5.5355000495910645, -5.5355000495910645, -5.535600185394287, -5.535099983215332, -5.535299777984619, -5.535299777984619, -5.535099983215332, -5.534900188446045, -5.535299777984619, -5.534999847412109, -5.424600124359131, -5.436500072479248, -5.44350004196167, -5.44950008392334, -5.456299781799316, -5.456999778747559, -5.457099914550781, -5.461999893188477, -5.462900161743164, -5.464000225067139, -5.464700222015381, -5.4654998779296875, -5.46589994430542, -5.472499847412109, -5.395400047302246, -5.473499774932861, -5.473700046539307, -5.476799964904785, -5.297399997711182, -5.446899890899658, -5.456299781799316, -5.446100234985352, -5.4644999504089355, -3.53439998626709, -4.371300220489502, -4.374300003051758, -4.375800132751465, -4.39900016784668, -4.955399990081787, -4.956699848175049, -4.956999778747559, -4.0106000900268555, -4.957699775695801, -4.958099842071533, -4.958499908447266, -4.960000038146973, -4.960299968719482, -4.960400104522705, -4.961699962615967, -4.962200164794922, -4.962200164794922, -4.962699890136719, -4.963600158691406, -4.964099884033203, -4.964300155639648, -4.964700222015381, -4.965199947357178, -4.9653000831604, -4.965700149536133, -4.966100215911865, -4.966400146484375, -4.966599941253662, -4.967199802398682, -3.186000108718872, -4.335100173950195, -3.9935998916625977, -4.352700233459473, -4.384300231933594, -4.382699966430664, -4.895899772644043, -4.904399871826172, -4.940999984741211, -4.036399841308594, -4.036399841308594, -4.036499977111816, -4.036499977111816, -4.036600112915039, -4.082699775695801, -4.083099842071533, -4.083700180053711, -4.084199905395508, -4.090000152587891, -4.095200061798096, -4.096499919891357, -4.098199844360352, -4.098400115966797, -4.099100112915039, -4.102099895477295, -4.104599952697754, -4.1082000732421875, -4.1149001121521, -4.111700057983398, -4.036600112915039, -3.4542999267578125, -3.525399923324585, -4.0081000328063965, -4.0366997718811035, -4.068299770355225, -4.089300155639648, -4.073500156402588, -5.826700210571289, -5.8267998695373535, -4.067200183868408, -5.628600120544434, -5.552599906921387, -5.513299942016602, -4.0345001220703125, -4.0345001220703125, -4.0345001220703125, -4.0345001220703125, -4.0345001220703125, -4.0345001220703125, -4.0345001220703125, -4.0345001220703125, -4.0345001220703125, -4.0345001220703125, -4.034599781036377, -4.034599781036377, -4.034599781036377, -4.034599781036377, -4.034599781036377, -4.034599781036377, -4.0346999168396, -4.0346999168396, -4.0346999168396, -4.0346999168396, -4.0346999168396, -4.0346999168396, -4.03439998626709, -4.0346999168396, -4.034200191497803, -4.03439998626709, -4.0345001220703125, -4.034599781036377, -4.034599781036377, -3.428800106048584]}, \"token.table\": {\"Topic\": [5, 4, 5, 3, 3, 4, 3, 3, 3, 5, 3, 3, 3, 3, 3, 3, 4, 3, 4, 3, 3, 4, 3, 3, 5, 3, 4, 3, 3, 4, 3, 4, 4, 4, 4, 5, 3, 3, 1, 3, 4, 3, 3, 3, 4, 4, 3, 3, 1, 3, 4, 3, 3, 4, 5, 5, 5, 5, 4, 3, 3, 3, 5, 5, 5, 3, 5, 3, 5, 3, 3, 3, 3, 3, 3, 3, 5, 5, 3, 3, 3, 3, 4, 4, 3, 2, 3, 4, 5, 4, 4, 5, 4, 5, 3, 4, 4, 5, 4, 4, 3, 5, 5, 3, 4, 3, 3, 5, 5, 3, 5, 5, 3, 3, 3, 3, 5, 4, 3, 3, 5, 3, 5, 3, 3, 3, 3, 5], \"Freq\": [1.0680825680564097, 0.7176599497515251, 0.7176599497515251, 0.7923811832352092, 0.7843167957392123, 1.0732043074574926, 0.790248262799403, 0.7822089547362869, 0.6067723256362091, 0.30338616281810454, 0.5875172430050913, 0.6012655354649106, 0.7895318731312446, 0.7821148388101548, 0.7841562931754602, 0.970728927763628, 1.0720376331425359, 0.7823514679588139, 1.068428054525048, 0.9717149020613581, 0.7845852600138796, 1.0736781623116984, 0.9109824762294197, 0.7887675025206629, 0.3943837512603314, 0.8361411999081748, 0.278713733302725, 0.7904691133757015, 0.7198435134422067, 0.3599217567211033, 0.5844278213381392, 0.5844278213381392, 1.0684103107159109, 1.0730701886924163, 1.068453439356778, 1.0680820455201008, 0.7849081355107999, 0.7844721736047539, 0.39110571255826343, 0.39110571255826343, 0.39110571255826343, 0.7843508540299717, 0.7914922931220646, 0.7883762896970701, 1.07296223250859, 1.073498160874289, 0.7922046140056123, 0.7838403543324005, 0.39145657573916554, 0.39145657573916554, 0.39145657573916554, 0.7915563580965792, 0.5832120884525994, 0.5832120884525994, 1.068081079063286, 1.068074093387951, 1.0680837160650567, 0.8253451087451479, 1.0721369301718882, 0.7834407495896001, 0.7835809987998582, 0.783444630978604, 1.0680697255597, 1.0680794929681408, 1.0680740140703453, 0.7828664931915734, 1.0680648795174859, 0.5773631201018169, 0.5773631201018169, 0.7818184233170925, 0.7814354456931017, 0.7832850545943925, 0.7933170536383154, 0.9800531854455126, 0.7904780056124414, 0.6019376054636285, 1.0680699765040949, 1.068076155940128, 0.7840345567010549, 0.7846549395830652, 0.7989246916210622, 0.7892319427888711, 1.0732184288059419, 1.0744510471897553, 0.7892609052344435, 0.12592368411824076, 0.7555421047094445, 0.12592368411824076, 0.12592368411824076, 1.072066479069348, 1.0684250140975118, 1.0680698723233037, 1.0683827881745316, 1.0680768306415303, 0.5781806386379813, 0.5781806386379813, 1.0725848242855267, 1.0680629662947925, 0.8289944784722647, 1.0721016132987038, 0.8023052486891046, 1.0680864878553316, 0.8253518641680704, 0.9713636288286173, 1.0732706341623635, 0.7847295640819735, 0.5852448191252582, 1.0680892947118394, 1.0680791941586965, 0.7828951614151863, 1.068078852331088, 1.0680818094580775, 0.7818908828342009, 0.5927890075189163, 0.792044484135082, 0.6553349045451078, 1.0680767199779775, 1.0739455512705185, 0.7839799181782059, 0.7971405393725317, 0.39857026968626585, 0.7896817565202898, 1.068082215685946, 0.7901385200686417, 0.7896853769331706, 0.7827866498405408, 0.790845236251421, 1.0680716801719985], \"Term\": [\"access\", \"activity\", \"activity\", \"added\", \"adjacent\", \"air\", \"also\", \"apart\", \"area\", \"area\", \"around\", \"atmosphere\", \"attended\", \"attending\", \"attraction\", \"bean\", \"beautiful\", \"big\", \"bike\", \"blue\", \"centre\", \"charge\", \"chicago\", \"city\", \"city\", \"close\", \"close\", \"club\", \"concert\", \"concert\", \"day\", \"day\", \"depends\", \"different\", \"driving\", \"early\", \"easy\", \"either\", \"enjoy\", \"enjoy\", \"enjoy\", \"enough\", \"entertaining\", \"even\", \"everyone\", \"explore\", \"festival\", \"forget\", \"free\", \"free\", \"free\", \"fun\", \"garden\", \"garden\", \"gift\", \"give\", \"good\", \"great\", \"greenscape\", \"heart\", \"kept\", \"lake\", \"lakefront\", \"line\", \"location\", \"loop\", \"lot\", \"lovely\", \"lovely\", \"magnificent\", \"many\", \"mile\", \"millenium\", \"millennium\", \"morning\", \"movie\", \"near\", \"nice\", \"noise\", \"nothing\", \"oasis\", \"occurring\", \"open\", \"ornamental\", \"pancake\", \"park\", \"park\", \"park\", \"park\", \"path\", \"perfect\", \"performance\", \"photo\", \"picture\", \"place\", \"place\", \"prefer\", \"priced\", \"public\", \"purchase\", \"really\", \"reasonable\", \"restaurant\", \"sculpture\", \"seat\", \"second\", \"see\", \"shop\", \"side\", \"smashing\", \"souvenir\", \"space\", \"spotlessly\", \"stage\", \"stop\", \"summer\", \"take\", \"ticket\", \"traffic\", \"visit\", \"visit\", \"visitor\", \"weekend\", \"went\", \"wildberry\", \"worth\", \"would\", \"yoga\"]}, \"R\": 30, \"lambda.step\": 0.01, \"plot.opts\": {\"xlab\": \"PC1\", \"ylab\": \"PC2\"}, \"topic.order\": [1, 2, 3, 4, 5]};\n",
       "\n",
       "function LDAvis_load_lib(url, callback){\n",
       "  var s = document.createElement('script');\n",
       "  s.src = url;\n",
       "  s.async = true;\n",
       "  s.onreadystatechange = s.onload = callback;\n",
       "  s.onerror = function(){console.warn(\"failed to load library \" + url);};\n",
       "  document.getElementsByTagName(\"head\")[0].appendChild(s);\n",
       "}\n",
       "\n",
       "if(typeof(LDAvis) !== \"undefined\"){\n",
       "   // already loaded: just create the visualization\n",
       "   !function(LDAvis){\n",
       "       new LDAvis(\"#\" + \"ldavis_el1344823430549902169013370165\", ldavis_el1344823430549902169013370165_data);\n",
       "   }(LDAvis);\n",
       "}else if(typeof define === \"function\" && define.amd){\n",
       "   // require.js is available: use it to load d3/LDAvis\n",
       "   require.config({paths: {d3: \"https://cdnjs.cloudflare.com/ajax/libs/d3/3.5.5/d3.min\"}});\n",
       "   require([\"d3\"], function(d3){\n",
       "      window.d3 = d3;\n",
       "      LDAvis_load_lib(\"https://cdn.rawgit.com/bmabey/pyLDAvis/files/ldavis.v1.0.0.js\", function(){\n",
       "        new LDAvis(\"#\" + \"ldavis_el1344823430549902169013370165\", ldavis_el1344823430549902169013370165_data);\n",
       "      });\n",
       "    });\n",
       "}else{\n",
       "    // require.js not available: dynamically load d3 & LDAvis\n",
       "    LDAvis_load_lib(\"https://cdnjs.cloudflare.com/ajax/libs/d3/3.5.5/d3.min.js\", function(){\n",
       "         LDAvis_load_lib(\"https://cdn.rawgit.com/bmabey/pyLDAvis/files/ldavis.v1.0.0.js\", function(){\n",
       "                 new LDAvis(\"#\" + \"ldavis_el1344823430549902169013370165\", ldavis_el1344823430549902169013370165_data);\n",
       "            })\n",
       "         });\n",
       "}\n",
       "</script>"
      ],
      "text/plain": [
       "<IPython.core.display.HTML object>"
      ]
     },
     "execution_count": 85,
     "metadata": {},
     "output_type": "execute_result"
    }
   ],
   "source": [
    "import pyLDAvis.gensim\n",
    "lda_display = pyLDAvis.gensim.prepare(lda_model, doc_term_matrix, dictionary, sort_topics=False)\n",
    "pyLDAvis.display(lda_display)"
   ]
  },
  {
   "cell_type": "code",
   "execution_count": null,
   "metadata": {
    "collapsed": true
   },
   "outputs": [],
   "source": []
  }
 ],
 "metadata": {
  "kernelspec": {
   "display_name": "Python 3",
   "language": "python",
   "name": "python3"
  },
  "language_info": {
   "codemirror_mode": {
    "name": "ipython",
    "version": 3
   },
   "file_extension": ".py",
   "mimetype": "text/x-python",
   "name": "python",
   "nbconvert_exporter": "python",
   "pygments_lexer": "ipython3",
   "version": "3.6.3"
  }
 },
 "nbformat": 4,
 "nbformat_minor": 2
}
