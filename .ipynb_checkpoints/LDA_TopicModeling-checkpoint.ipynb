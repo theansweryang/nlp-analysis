{
 "cells": [
  {
   "cell_type": "code",
   "execution_count": 1,
   "metadata": {},
   "outputs": [],
   "source": [
    "#load the csv to the notebook\n",
    "import pandas as pd"
   ]
  },
  {
   "cell_type": "code",
   "execution_count": 2,
   "metadata": {},
   "outputs": [
    {
     "data": {
      "text/html": [
       "<div>\n",
       "<style scoped>\n",
       "    .dataframe tbody tr th:only-of-type {\n",
       "        vertical-align: middle;\n",
       "    }\n",
       "\n",
       "    .dataframe tbody tr th {\n",
       "        vertical-align: top;\n",
       "    }\n",
       "\n",
       "    .dataframe thead th {\n",
       "        text-align: right;\n",
       "    }\n",
       "</style>\n",
       "<table border=\"1\" class=\"dataframe\">\n",
       "  <thead>\n",
       "    <tr style=\"text-align: right;\">\n",
       "      <th></th>\n",
       "      <th>Unnamed: 0</th>\n",
       "      <th>user</th>\n",
       "      <th>location</th>\n",
       "      <th>date</th>\n",
       "      <th>rating</th>\n",
       "      <th>title</th>\n",
       "      <th>comments</th>\n",
       "    </tr>\n",
       "  </thead>\n",
       "  <tbody>\n",
       "    <tr>\n",
       "      <th>0</th>\n",
       "      <td>0</td>\n",
       "      <td>NaN</td>\n",
       "      <td>unknown</td>\n",
       "      <td>June 21, 2018</td>\n",
       "      <td>50</td>\n",
       "      <td>Thanks again Go Card</td>\n",
       "      <td>Go early. They have weekend yoga activities. L...</td>\n",
       "    </tr>\n",
       "    <tr>\n",
       "      <th>1</th>\n",
       "      <td>0</td>\n",
       "      <td>NaN</td>\n",
       "      <td>NaN</td>\n",
       "      <td>June 21, 2018</td>\n",
       "      <td>50</td>\n",
       "      <td>Great people watching, skyline viewing</td>\n",
       "      <td>Really enjoyed the Gospel Fest, so much to see...</td>\n",
       "    </tr>\n",
       "    <tr>\n",
       "      <th>2</th>\n",
       "      <td>0</td>\n",
       "      <td>NaN</td>\n",
       "      <td>unknown</td>\n",
       "      <td>June 21, 2018</td>\n",
       "      <td>40</td>\n",
       "      <td>Very Interesting</td>\n",
       "      <td>I love the atmosphere, the art, and the struct...</td>\n",
       "    </tr>\n",
       "    <tr>\n",
       "      <th>3</th>\n",
       "      <td>0</td>\n",
       "      <td>NaN</td>\n",
       "      <td>NaN</td>\n",
       "      <td>June 20, 2018</td>\n",
       "      <td>40</td>\n",
       "      <td>Lovely place</td>\n",
       "      <td>Second visit to this smashing park between the...</td>\n",
       "    </tr>\n",
       "    <tr>\n",
       "      <th>4</th>\n",
       "      <td>0</td>\n",
       "      <td>NaN</td>\n",
       "      <td>unknown</td>\n",
       "      <td>June 20, 2018</td>\n",
       "      <td>40</td>\n",
       "      <td>great greenery sightseeing</td>\n",
       "      <td>A perfect place for photos and driving a bike,...</td>\n",
       "    </tr>\n",
       "  </tbody>\n",
       "</table>\n",
       "</div>"
      ],
      "text/plain": [
       "   Unnamed: 0  user location           date  rating  \\\n",
       "0           0   NaN  unknown  June 21, 2018      50   \n",
       "1           0   NaN      NaN  June 21, 2018      50   \n",
       "2           0   NaN  unknown  June 21, 2018      40   \n",
       "3           0   NaN      NaN  June 20, 2018      40   \n",
       "4           0   NaN  unknown  June 20, 2018      40   \n",
       "\n",
       "                                    title  \\\n",
       "0                    Thanks again Go Card   \n",
       "1  Great people watching, skyline viewing   \n",
       "2                        Very Interesting   \n",
       "3                            Lovely place   \n",
       "4              great greenery sightseeing   \n",
       "\n",
       "                                            comments  \n",
       "0  Go early. They have weekend yoga activities. L...  \n",
       "1  Really enjoyed the Gospel Fest, so much to see...  \n",
       "2  I love the atmosphere, the art, and the struct...  \n",
       "3  Second visit to this smashing park between the...  \n",
       "4  A perfect place for photos and driving a bike,...  "
      ]
     },
     "execution_count": 2,
     "metadata": {},
     "output_type": "execute_result"
    }
   ],
   "source": [
    "rawInput=pd.read_csv('tripadvisor millimum park.csv',encoding=\"ISO-8859-1\")\n",
    "rawInput.head()"
   ]
  },
  {
   "cell_type": "markdown",
   "metadata": {},
   "source": [
    "## preprocess text"
   ]
  },
  {
   "cell_type": "code",
   "execution_count": 4,
   "metadata": {},
   "outputs": [],
   "source": [
    "#import the nltk lib for preprocessing\n",
    "import nltk\n",
    "from nltk.corpus import stopwords \n",
    "from nltk.stem.wordnet import WordNetLemmatizer"
   ]
  },
  {
   "cell_type": "code",
   "execution_count": 5,
   "metadata": {},
   "outputs": [
    {
     "name": "stdout",
     "output_type": "stream",
     "text": [
      "showing info https://raw.githubusercontent.com/nltk/nltk_data/gh-pages/index.xml\n"
     ]
    },
    {
     "data": {
      "text/plain": [
       "True"
      ]
     },
     "execution_count": 5,
     "metadata": {},
     "output_type": "execute_result"
    }
   ],
   "source": [
    "nltk.download() #make sure the computer has all nltk corpus"
   ]
  },
  {
   "cell_type": "code",
   "execution_count": 7,
   "metadata": {},
   "outputs": [
    {
     "name": "stderr",
     "output_type": "stream",
     "text": [
      "C:\\Users\\thean\\Anaconda3\\lib\\site-packages\\gensim\\utils.py:1209: UserWarning: detected Windows; aliasing chunkize to chunkize_serial\n",
      "  warnings.warn(\"detected Windows; aliasing chunkize to chunkize_serial\")\n"
     ]
    }
   ],
   "source": [
    "import string #for getting punctuation\n",
    "import gensim"
   ]
  },
  {
   "cell_type": "code",
   "execution_count": 8,
   "metadata": {},
   "outputs": [],
   "source": [
    "stop = set(stopwords.words('english'))\n",
    "exclude = set(string.punctuation) \n",
    "lemma = WordNetLemmatizer()##WordNetLemmatizer is a class"
   ]
  },
  {
   "cell_type": "code",
   "execution_count": 9,
   "metadata": {
    "collapsed": true
   },
   "outputs": [],
   "source": [
    "##a def to clean the text(typical way), very nice\n",
    "def clean(doc):\n",
    "    stop_free = \" \".join([i for i in gensim.utils.simple_preprocess(doc,min_len=3) if i not in stop])\n",
    "    ##simple_preprocess can lowercase words and tokenize them,you can set up min len of token too,here is 3, so word like AI will not be included\n",
    "    punc_free = ''.join(ch for ch in stop_free if ch not in exclude)\n",
    "    normalized = \" \".join(lemma.lemmatize(word) for word in punc_free.split())##这个用来找stem\n",
    "    return normalized"
   ]
  },
  {
   "cell_type": "code",
   "execution_count": 10,
   "metadata": {
    "collapsed": true
   },
   "outputs": [],
   "source": [
    "doc_complete=rawInput['comments'][:100]"
   ]
  },
  {
   "cell_type": "code",
   "execution_count": 11,
   "metadata": {
    "collapsed": true
   },
   "outputs": [],
   "source": [
    "doc_clean = [clean(doc).split() for doc in doc_complete]    \n",
    "#doc_clean is a list中包list,每个item是一个doc的tokens"
   ]
  },
  {
   "cell_type": "code",
   "execution_count": 12,
   "metadata": {},
   "outputs": [
    {
     "data": {
      "text/plain": [
       "[['early',\n",
       "  'weekend',\n",
       "  'yoga',\n",
       "  'activity',\n",
       "  'lot',\n",
       "  'great',\n",
       "  'area',\n",
       "  'take',\n",
       "  'picture',\n",
       "  'restaurant',\n",
       "  'line',\n",
       "  'side',\n",
       "  'visit',\n",
       "  'gift',\n",
       "  'shop',\n",
       "  'reasonable',\n",
       "  'priced',\n",
       "  'souvenir'],\n",
       " ['really',\n",
       "  'enjoyed',\n",
       "  'gospel',\n",
       "  'fest',\n",
       "  'much',\n",
       "  'see',\n",
       "  'around',\n",
       "  'stage',\n",
       "  'awesome',\n",
       "  'could',\n",
       "  'spend',\n",
       "  'hour']]"
      ]
     },
     "execution_count": 12,
     "metadata": {},
     "output_type": "execute_result"
    }
   ],
   "source": [
    "doc_clean[:2]"
   ]
  },
  {
   "cell_type": "markdown",
   "metadata": {},
   "source": [
    "## create gensim corpus dicts and doc_term_Matrix"
   ]
  },
  {
   "cell_type": "code",
   "execution_count": 13,
   "metadata": {
    "collapsed": true
   },
   "outputs": [],
   "source": [
    "# Importing Gensim\n",
    "import gensim\n",
    "from gensim import corpora"
   ]
  },
  {
   "cell_type": "code",
   "execution_count": 14,
   "metadata": {
    "collapsed": true
   },
   "outputs": [],
   "source": [
    "# Creating the term dictionary of our courpus, where every unique term（token) is assigned an index. \n",
    "dictionary = corpora.Dictionary(doc_clean)"
   ]
  },
  {
   "cell_type": "code",
   "execution_count": 15,
   "metadata": {},
   "outputs": [
    {
     "name": "stdout",
     "output_type": "stream",
     "text": [
      "826\n",
      "0 activity\n",
      "1 area\n",
      "2 early\n",
      "3 gift\n",
      "4 great\n",
      "5 line\n",
      "6 lot\n",
      "7 picture\n",
      "8 priced\n",
      "9 reasonable\n",
      "10 restaurant\n"
     ]
    }
   ],
   "source": [
    "print(len(dictionary))\n",
    "count = 0\n",
    "for k, v in dictionary.iteritems():\n",
    "    print(k, v)\n",
    "    count += 1\n",
    "    if count > 10:\n",
    "        break"
   ]
  },
  {
   "cell_type": "code",
   "execution_count": 14,
   "metadata": {
    "collapsed": true
   },
   "outputs": [],
   "source": [
    "#### filter_extremes可以把出现less than 15 documents的tokens (absolute number) \n",
    "#or more than 0.5 documents (fraction of total dictionary size, not absolute number). dictionary里有一半都是那个词删掉。\n",
    "#after the above two steps, keep only the first 100000 most frequent tokens.\n",
    "dictionary.filter_extremes(no_below=15, no_above=0.5, keep_n=100000) #当文字很多的时候用这个,先不run"
   ]
  },
  {
   "cell_type": "code",
   "execution_count": 16,
   "metadata": {
    "collapsed": true
   },
   "outputs": [],
   "source": [
    "# Converting list of documents (corpus) into Document Term Matrix using dictionary prepared above.\n",
    "doc_term_matrix = [dictionary.doc2bow(doc) for doc in doc_clean]"
   ]
  },
  {
   "cell_type": "code",
   "execution_count": 19,
   "metadata": {},
   "outputs": [
    {
     "data": {
      "text/plain": [
       "[[(0, 1),\n",
       "  (1, 1),\n",
       "  (2, 1),\n",
       "  (3, 1),\n",
       "  (4, 1),\n",
       "  (5, 1),\n",
       "  (6, 1),\n",
       "  (7, 1),\n",
       "  (8, 1),\n",
       "  (9, 1),\n",
       "  (10, 1),\n",
       "  (11, 1),\n",
       "  (12, 1),\n",
       "  (13, 1),\n",
       "  (14, 1),\n",
       "  (15, 1),\n",
       "  (16, 1),\n",
       "  (17, 1)],\n",
       " [(18, 1),\n",
       "  (19, 1),\n",
       "  (20, 1),\n",
       "  (21, 1),\n",
       "  (22, 1),\n",
       "  (23, 1),\n",
       "  (24, 1),\n",
       "  (25, 1),\n",
       "  (26, 1),\n",
       "  (27, 1),\n",
       "  (28, 1),\n",
       "  (29, 1)]]"
      ]
     },
     "execution_count": 19,
     "metadata": {},
     "output_type": "execute_result"
    }
   ],
   "source": [
    "doc_term_matrix[:2]###这个matrix是每个doc的list of (token_id, token_count) tuples"
   ]
  },
  {
   "cell_type": "code",
   "execution_count": 18,
   "metadata": {},
   "outputs": [
    {
     "name": "stdout",
     "output_type": "stream",
     "text": [
      "activity\n"
     ]
    },
    {
     "data": {
      "text/plain": [
       "'activity'"
      ]
     },
     "execution_count": 18,
     "metadata": {},
     "output_type": "execute_result"
    }
   ],
   "source": [
    "print (dictionary[0])#dictionary 可以直接输入token的id得出token\n",
    "dictionary[doc_term_matrix[0][0][0]]#找到第一个id为0的词"
   ]
  },
  {
   "cell_type": "markdown",
   "metadata": {},
   "source": [
    "## tf-idf model LDA\n",
    "create tf-idf scores, 这个score就是给每个token一个score，这score的好处是：当很多doc都有某个词比如city，那么city对选择topic意义并不大，当有些词是某个doc独有如accessible，那么这个词的意义还更强。。\n",
    "https://rare-technologies.com/pivoted-document-length-normalisation/"
   ]
  },
  {
   "cell_type": "code",
   "execution_count": 20,
   "metadata": {
    "collapsed": true
   },
   "outputs": [],
   "source": [
    "from gensim import corpora, models\n",
    "tfidf = models.TfidfModel(doc_term_matrix)\n",
    "corpus_tfidf = tfidf[doc_term_matrix]"
   ]
  },
  {
   "cell_type": "code",
   "execution_count": 21,
   "metadata": {},
   "outputs": [
    {
     "data": {
      "text/plain": [
       "[(0, 0.16984315177107193),\n",
       " (1, 0.12095238722699884),\n",
       " (2, 0.27593244409488543),\n",
       " (3, 0.27593244409488543),\n",
       " (4, 0.087312803646594592),\n",
       " (5, 0.24733318020501524),\n",
       " (6, 0.1100794517190523),\n",
       " (7, 0.16984315177107193),\n",
       " (8, 0.32482320863895853),\n",
       " (9, 0.32482320863895853),\n",
       " (10, 0.19844241566094212),\n",
       " (11, 0.27593244409488543),\n",
       " (12, 0.27593244409488543),\n",
       " (13, 0.32482320863895853),\n",
       " (14, 0.19844241566094212),\n",
       " (15, 0.1386787156089225),\n",
       " (16, 0.22704167955081234),\n",
       " (17, 0.27593244409488543)]"
      ]
     },
     "execution_count": 21,
     "metadata": {},
     "output_type": "execute_result"
    }
   ],
   "source": [
    "corpus_tfidf[0]##第一个doc里面词的score，可以看到这个score跟doc_term_matrix是不一样的,出现太多的词score小"
   ]
  },
  {
   "cell_type": "code",
   "execution_count": 22,
   "metadata": {
    "collapsed": true
   },
   "outputs": [],
   "source": [
    "lda_model_tfidf = gensim.models.ldamodel.LdaModel(corpus_tfidf, num_topics=5, id2word=dictionary, passes=50)"
   ]
  },
  {
   "cell_type": "code",
   "execution_count": 27,
   "metadata": {},
   "outputs": [
    {
     "data": {
      "text/plain": [
       "[(0,\n",
       "  '0.005*\"see\" + 0.004*\"visit\" + 0.004*\"loved\" + 0.004*\"big\" + 0.004*\"definitely\" + 0.004*\"must\" + 0.004*\"great\" + 0.004*\"family\" + 0.004*\"everyone\" + 0.004*\"chicago\"'),\n",
       " (1,\n",
       "  '0.005*\"music\" + 0.005*\"city\" + 0.005*\"huge\" + 0.004*\"good\" + 0.004*\"wonderful\" + 0.004*\"enjoy\" + 0.004*\"fest\" + 0.004*\"day\" + 0.004*\"space\" + 0.004*\"location\"'),\n",
       " (2,\n",
       "  '0.005*\"event\" + 0.004*\"concert\" + 0.004*\"walk\" + 0.004*\"park\" + 0.004*\"nice\" + 0.004*\"miss\" + 0.004*\"free\" + 0.003*\"time\" + 0.003*\"place\" + 0.003*\"great\"'),\n",
       " (3,\n",
       "  '0.005*\"chicago\" + 0.004*\"taking\" + 0.004*\"place\" + 0.004*\"great\" + 0.004*\"beautiful\" + 0.004*\"spot\" + 0.004*\"love\" + 0.004*\"art\" + 0.004*\"walking\" + 0.004*\"bean\"'),\n",
       " (4,\n",
       "  '0.004*\"beautiful\" + 0.004*\"free\" + 0.004*\"fun\" + 0.004*\"water\" + 0.004*\"great\" + 0.003*\"sound\" + 0.003*\"come\" + 0.003*\"summer\" + 0.003*\"dining\" + 0.003*\"outdoor\"')]"
      ]
     },
     "execution_count": 27,
     "metadata": {},
     "output_type": "execute_result"
    }
   ],
   "source": [
    "lda_model_tfidf.show_topics(num_topics=5, num_words=10)##可以发现tfidf去掉了很多general的词。"
   ]
  },
  {
   "cell_type": "markdown",
   "metadata": {},
   "source": [
    "## typical LDA model(bag of words)"
   ]
  },
  {
   "cell_type": "code",
   "execution_count": 28,
   "metadata": {
    "collapsed": true
   },
   "outputs": [],
   "source": [
    "# Creating the object for LDA model using gensim library\n",
    "lda_model = gensim.models.LdaMulticore(doc_term_matrix, num_topics=5, id2word=dictionary, passes=2, workers=2)\n",
    "#这里workers是用几个cpu的意思，multicore就是多核运算意思"
   ]
  },
  {
   "cell_type": "code",
   "execution_count": 29,
   "metadata": {},
   "outputs": [
    {
     "name": "stdout",
     "output_type": "stream",
     "text": [
      "[(0, '0.030*\"park\" + 0.019*\"great\" + 0.019*\"concert\" + 0.014*\"water\" + 0.014*\"free\" + 0.011*\"kid\" + 0.011*\"walk\" + 0.010*\"lot\" + 0.010*\"bean\" + 0.009*\"garden\"'), (1, '0.028*\"park\" + 0.015*\"concert\" + 0.014*\"chicago\" + 0.012*\"place\" + 0.011*\"around\" + 0.010*\"nice\" + 0.010*\"space\" + 0.009*\"much\" + 0.008*\"one\" + 0.007*\"lovely\"'), (2, '0.028*\"park\" + 0.018*\"chicago\" + 0.016*\"bean\" + 0.015*\"day\" + 0.014*\"great\" + 0.013*\"see\" + 0.011*\"lot\" + 0.010*\"area\" + 0.010*\"place\" + 0.010*\"city\"'), (3, '0.028*\"park\" + 0.013*\"bean\" + 0.010*\"easy\" + 0.010*\"music\" + 0.010*\"fountain\" + 0.009*\"chicago\" + 0.009*\"see\" + 0.008*\"art\" + 0.008*\"well\" + 0.008*\"beautiful\"'), (4, '0.037*\"park\" + 0.015*\"chicago\" + 0.014*\"great\" + 0.013*\"see\" + 0.010*\"city\" + 0.010*\"millennium\" + 0.010*\"bean\" + 0.009*\"music\" + 0.009*\"free\" + 0.008*\"family\"')]\n"
     ]
    }
   ],
   "source": [
    "print(lda_model.print_topics(num_topics=5, num_words=10))"
   ]
  },
  {
   "cell_type": "code",
   "execution_count": 31,
   "metadata": {},
   "outputs": [
    {
     "data": {
      "text/plain": [
       "[(0,\n",
       "  '0.030*\"park\" + 0.019*\"great\" + 0.019*\"concert\" + 0.014*\"water\" + 0.014*\"free\" + 0.011*\"kid\" + 0.011*\"walk\" + 0.010*\"lot\" + 0.010*\"bean\" + 0.009*\"garden\"'),\n",
       " (1,\n",
       "  '0.028*\"park\" + 0.015*\"concert\" + 0.014*\"chicago\" + 0.012*\"place\" + 0.011*\"around\" + 0.010*\"nice\" + 0.010*\"space\" + 0.009*\"much\" + 0.008*\"one\" + 0.007*\"lovely\"'),\n",
       " (2,\n",
       "  '0.028*\"park\" + 0.018*\"chicago\" + 0.016*\"bean\" + 0.015*\"day\" + 0.014*\"great\" + 0.013*\"see\" + 0.011*\"lot\" + 0.010*\"area\" + 0.010*\"place\" + 0.010*\"city\"'),\n",
       " (3,\n",
       "  '0.028*\"park\" + 0.013*\"bean\" + 0.010*\"easy\" + 0.010*\"music\" + 0.010*\"fountain\" + 0.009*\"chicago\" + 0.009*\"see\" + 0.008*\"art\" + 0.008*\"well\" + 0.008*\"beautiful\"'),\n",
       " (4,\n",
       "  '0.037*\"park\" + 0.015*\"chicago\" + 0.014*\"great\" + 0.013*\"see\" + 0.010*\"city\" + 0.010*\"millennium\" + 0.010*\"bean\" + 0.009*\"music\" + 0.009*\"free\" + 0.008*\"family\"')]"
      ]
     },
     "execution_count": 31,
     "metadata": {},
     "output_type": "execute_result"
    }
   ],
   "source": [
    "lda_model.show_topics(num_topics=5, num_words=10)"
   ]
  },
  {
   "cell_type": "code",
   "execution_count": null,
   "metadata": {
    "collapsed": true
   },
   "outputs": [],
   "source": []
  },
  {
   "cell_type": "markdown",
   "metadata": {},
   "source": [
    "## pyLDAvis  \n",
    "dictionary/lda/doc_term_matrix可以先保存,然后load的"
   ]
  },
  {
   "cell_type": "code",
   "execution_count": 32,
   "metadata": {},
   "outputs": [
    {
     "data": {
      "text/plain": [
       "\"\\ndictionary = gensim.corpora.Dictionary.load('dictionary.gensim')\\ndoc_term_matrix = pickle.load(open('corpus.pkl', 'rb'))\\nlda = gensim.models.ldamodel.LdaModel.load('model5.gensim')\\n\""
      ]
     },
     "execution_count": 32,
     "metadata": {},
     "output_type": "execute_result"
    }
   ],
   "source": [
    "\"\"\"\n",
    "dictionary = gensim.corpora.Dictionary.load('dictionary.gensim')\n",
    "doc_term_matrix = pickle.load(open('corpus.pkl', 'rb'))\n",
    "lda = gensim.models.ldamodel.LdaModel.load('model5.gensim')\n",
    "\"\"\""
   ]
  },
  {
   "cell_type": "code",
   "execution_count": 33,
   "metadata": {},
   "outputs": [
    {
     "data": {
      "text/html": [
       "\n",
       "<link rel=\"stylesheet\" type=\"text/css\" href=\"https://cdn.rawgit.com/bmabey/pyLDAvis/files/ldavis.v1.0.0.css\">\n",
       "\n",
       "\n",
       "<div id=\"ldavis_el660430750171540162594136553\"></div>\n",
       "<script type=\"text/javascript\">\n",
       "\n",
       "var ldavis_el660430750171540162594136553_data = {\"mdsDat\": {\"Freq\": [29.487446254007292, 12.991867238190965, 28.19559032191121, 9.561854829800788, 19.76324135608974], \"cluster\": [1, 1, 1, 1, 1], \"topics\": [1, 2, 3, 4, 5], \"x\": [0.03457137660454946, 0.06106459713555046, -0.07206005575723949, -0.04524738611627906, 0.02167146813341867], \"y\": [-0.08488872270996219, 0.061362896051360756, -0.009366036208705474, 0.03287731982609335, 1.454304121354845e-05]}, \"tinfo\": {\"Category\": [\"Default\", \"Default\", \"Default\", \"Default\", \"Default\", \"Default\", \"Default\", \"Default\", \"Default\", \"Default\", \"Default\", \"Default\", \"Default\", \"Default\", \"Default\", \"Default\", \"Default\", \"Default\", \"Default\", \"Default\", \"Default\", \"Default\", \"Default\", \"Default\", \"Default\", \"Default\", \"Default\", \"Default\", \"Default\", \"Default\", \"Topic1\", \"Topic1\", \"Topic1\", \"Topic1\", \"Topic1\", \"Topic1\", \"Topic1\", \"Topic1\", \"Topic1\", \"Topic1\", \"Topic1\", \"Topic1\", \"Topic1\", \"Topic1\", \"Topic1\", \"Topic1\", \"Topic1\", \"Topic1\", \"Topic1\", \"Topic1\", \"Topic1\", \"Topic1\", \"Topic1\", \"Topic1\", \"Topic1\", \"Topic1\", \"Topic1\", \"Topic1\", \"Topic1\", \"Topic1\", \"Topic1\", \"Topic1\", \"Topic1\", \"Topic1\", \"Topic1\", \"Topic1\", \"Topic1\", \"Topic1\", \"Topic1\", \"Topic1\", \"Topic1\", \"Topic1\", \"Topic1\", \"Topic1\", \"Topic1\", \"Topic1\", \"Topic1\", \"Topic1\", \"Topic1\", \"Topic1\", \"Topic1\", \"Topic1\", \"Topic1\", \"Topic1\", \"Topic1\", \"Topic1\", \"Topic1\", \"Topic1\", \"Topic1\", \"Topic1\", \"Topic1\", \"Topic1\", \"Topic1\", \"Topic2\", \"Topic2\", \"Topic2\", \"Topic2\", \"Topic2\", \"Topic2\", \"Topic2\", \"Topic2\", \"Topic2\", \"Topic2\", \"Topic2\", \"Topic2\", \"Topic2\", \"Topic2\", \"Topic2\", \"Topic2\", \"Topic2\", \"Topic2\", \"Topic2\", \"Topic2\", \"Topic2\", \"Topic2\", \"Topic2\", \"Topic2\", \"Topic2\", \"Topic2\", \"Topic2\", \"Topic2\", \"Topic2\", \"Topic2\", \"Topic2\", \"Topic2\", \"Topic2\", \"Topic2\", \"Topic2\", \"Topic2\", \"Topic2\", \"Topic2\", \"Topic2\", \"Topic2\", \"Topic2\", \"Topic2\", \"Topic2\", \"Topic2\", \"Topic2\", \"Topic2\", \"Topic2\", \"Topic2\", \"Topic2\", \"Topic2\", \"Topic2\", \"Topic2\", \"Topic2\", \"Topic2\", \"Topic2\", \"Topic2\", \"Topic2\", \"Topic2\", \"Topic2\", \"Topic2\", \"Topic2\", \"Topic2\", \"Topic2\", \"Topic2\", \"Topic2\", \"Topic2\", \"Topic2\", \"Topic2\", \"Topic3\", \"Topic3\", \"Topic3\", \"Topic3\", \"Topic3\", \"Topic3\", \"Topic3\", \"Topic3\", \"Topic3\", \"Topic3\", \"Topic3\", \"Topic3\", \"Topic3\", \"Topic3\", \"Topic3\", \"Topic3\", \"Topic3\", \"Topic3\", \"Topic3\", \"Topic3\", \"Topic3\", \"Topic3\", \"Topic3\", \"Topic3\", \"Topic3\", \"Topic3\", \"Topic3\", \"Topic3\", \"Topic3\", \"Topic3\", \"Topic3\", \"Topic3\", \"Topic3\", \"Topic3\", \"Topic3\", \"Topic3\", \"Topic3\", \"Topic3\", \"Topic3\", \"Topic3\", \"Topic3\", \"Topic3\", \"Topic3\", \"Topic3\", \"Topic3\", \"Topic3\", \"Topic3\", \"Topic3\", \"Topic3\", \"Topic3\", \"Topic3\", \"Topic3\", \"Topic3\", \"Topic3\", \"Topic3\", \"Topic3\", \"Topic3\", \"Topic3\", \"Topic3\", \"Topic3\", \"Topic3\", \"Topic3\", \"Topic3\", \"Topic3\", \"Topic3\", \"Topic3\", \"Topic3\", \"Topic4\", \"Topic4\", \"Topic4\", \"Topic4\", \"Topic4\", \"Topic4\", \"Topic4\", \"Topic4\", \"Topic4\", \"Topic4\", \"Topic4\", \"Topic4\", \"Topic4\", \"Topic4\", \"Topic4\", \"Topic4\", \"Topic4\", \"Topic4\", \"Topic4\", \"Topic4\", \"Topic4\", \"Topic4\", \"Topic4\", \"Topic4\", \"Topic4\", \"Topic4\", \"Topic4\", \"Topic4\", \"Topic4\", \"Topic4\", \"Topic4\", \"Topic4\", \"Topic4\", \"Topic4\", \"Topic4\", \"Topic4\", \"Topic4\", \"Topic4\", \"Topic4\", \"Topic4\", \"Topic4\", \"Topic4\", \"Topic4\", \"Topic4\", \"Topic4\", \"Topic4\", \"Topic4\", \"Topic4\", \"Topic4\", \"Topic4\", \"Topic4\", \"Topic4\", \"Topic4\", \"Topic4\", \"Topic4\", \"Topic4\", \"Topic4\", \"Topic4\", \"Topic4\", \"Topic4\", \"Topic4\", \"Topic4\", \"Topic4\", \"Topic4\", \"Topic5\", \"Topic5\", \"Topic5\", \"Topic5\", \"Topic5\", \"Topic5\", \"Topic5\", \"Topic5\", \"Topic5\", \"Topic5\", \"Topic5\", \"Topic5\", \"Topic5\", \"Topic5\", \"Topic5\", \"Topic5\", \"Topic5\", \"Topic5\", \"Topic5\", \"Topic5\", \"Topic5\", \"Topic5\", \"Topic5\", \"Topic5\", \"Topic5\", \"Topic5\", \"Topic5\", \"Topic5\", \"Topic5\", \"Topic5\", \"Topic5\", \"Topic5\", \"Topic5\", \"Topic5\", \"Topic5\", \"Topic5\", \"Topic5\", \"Topic5\", \"Topic5\", \"Topic5\", \"Topic5\", \"Topic5\", \"Topic5\", \"Topic5\", \"Topic5\", \"Topic5\", \"Topic5\", \"Topic5\", \"Topic5\", \"Topic5\", \"Topic5\", \"Topic5\", \"Topic5\", \"Topic5\", \"Topic5\", \"Topic5\", \"Topic5\", \"Topic5\", \"Topic5\", \"Topic5\", \"Topic5\", \"Topic5\", \"Topic5\", \"Topic5\", \"Topic5\", \"Topic5\", \"Topic5\", \"Topic5\"], \"Freq\": [26.0, 70.0, 24.0, 5.0, 5.0, 12.0, 12.0, 13.0, 9.0, 5.0, 15.0, 4.0, 9.0, 3.0, 15.0, 6.0, 4.0, 8.0, 13.0, 3.0, 14.0, 5.0, 4.0, 14.0, 4.0, 11.0, 8.0, 5.0, 25.0, 7.0, 3.2449824915931806, 3.238233720013465, 3.778865519511234, 1.8329211279113642, 1.8327579105989864, 1.832681667772007, 2.4351954131958795, 1.8080376155170141, 1.8029641038687614, 1.799875628680076, 2.3966913440052915, 1.7883187537804786, 1.7741241333458084, 1.7617487692742277, 1.7699189249854854, 1.7159263497376673, 1.6778965557796124, 1.6799660039404782, 1.6451846990033614, 1.6273158470391167, 2.195027625079065, 1.5999451526755775, 9.798013747307923, 1.550950967467077, 0.999933885838492, 0.9999124225216532, 0.9999108207815907, 0.9998941626849397, 0.9998922405968645, 0.9998798271113796, 2.9819354484223344, 7.505709084573654, 2.481644433444925, 9.29705801020454, 4.190091778308342, 1.832639542008361, 13.0018661168779, 6.006725772567269, 6.073456185662832, 13.298425085986262, 7.534767852789157, 4.32255920531265, 5.628483185835034, 20.61101941886975, 3.159071241248106, 3.9944677406361224, 5.802715984971368, 6.6486589816274995, 5.457435927335178, 5.014481760682267, 2.667417769732218, 5.160341016001874, 6.544073684588716, 5.660526956831178, 5.30666061141547, 4.337596661368254, 3.5187679204916407, 4.984537230212153, 4.038464336675337, 3.8668077762556723, 3.698429657396116, 3.4290019225119375, 3.3540321585344137, 1.4060533706889724, 1.3250837005814549, 1.3232042529374897, 1.2911702280338204, 1.2652245069428636, 0.7675638913525262, 0.7675379917848882, 0.767523595294975, 0.7675115982200473, 0.767492332329134, 0.7674906386244383, 0.767492755755308, 0.767492261758105, 0.7674711610204381, 0.7673959323035386, 0.7673814652425964, 0.7673726438639732, 0.7673295249652625, 0.767031503509853, 0.7669986879813744, 0.766974199834316, 0.7668905731649672, 0.7668801992237062, 0.7667897977355747, 0.7666733555377472, 0.7666591001898919, 0.7666358823213554, 0.766503067644803, 0.7662936128307715, 0.7659654575459848, 2.9370662978358872, 1.1292156444765244, 1.4071932339491604, 1.0924315541828111, 1.8948709423501142, 1.3231758833838372, 1.3001890643962213, 2.3238921285884624, 2.048363212679596, 1.341046585054057, 2.1209240623992707, 2.615478353006715, 1.2248726982787443, 3.365169354987123, 3.542086690394226, 4.4392050884730265, 8.343423626701446, 2.094999936043184, 2.0726481151743874, 2.957563229778806, 4.305537631606398, 1.3594568728119065, 1.8970854612397066, 1.521501928428363, 1.3754716975618426, 2.005222013523761, 1.4548281139467316, 1.749040427495625, 1.8751079491086537, 1.8562801631433208, 1.653115768351489, 1.4902403740079786, 1.4642768690177175, 1.485525100135225, 1.4855483885747907, 1.4371112571197022, 1.4188577781882603, 1.4235713583563183, 3.10172874459771, 4.038633145680706, 1.666495860866811, 1.6627533231646932, 1.6533390856678123, 1.6505303445105386, 1.621730141545362, 3.260480896117069, 1.5838874124519018, 1.5842275735354017, 2.0764394361059817, 3.7197029535436608, 1.4253846000788453, 2.468869233668258, 1.9475804139326436, 2.423315369846273, 1.4198089295498881, 0.9360385295451445, 0.936034853783774, 0.9360356961457548, 0.9360356961457548, 0.9360346240486884, 0.9360270427908616, 0.9360255112236239, 0.9360231372944053, 0.9360194615330348, 0.9360217588838914, 0.9360196146897586, 0.9360109613348654, 0.9360053711144477, 2.185178106320532, 1.3656320358660337, 4.454966419435687, 5.3056968835743366, 4.719622769682728, 3.538680282820465, 2.2727307600922826, 1.7027693461684927, 1.6960060984033993, 1.3840313657197834, 1.3728731326092989, 9.961764207592969, 4.441314948018901, 1.6665526820113308, 11.971973162697434, 3.104092565472423, 5.464436476242346, 3.538261858651117, 10.277333834896986, 6.839646014672803, 8.560652191411123, 6.498406095210635, 7.164305187219302, 18.52267370230003, 5.645884310030736, 9.19624340566579, 5.408181398973616, 5.106743236258689, 6.284056521394427, 3.7850092868739305, 3.3735862176831124, 4.780667670330738, 4.748930534030489, 4.87855564613614, 4.263295374335447, 4.002444662360718, 3.6791688013433372, 1.181595115029937, 1.1400435860935103, 0.6547770955283544, 0.6547704992231357, 0.6547643703726176, 0.6547297267853669, 0.6547180404178535, 0.6547134697496705, 0.654691083863456, 0.6546434034840014, 0.6546267828724268, 0.6546223160830662, 0.6546199268701524, 0.6545557816973567, 0.6534139456821837, 0.6531941380941101, 0.6531463538358332, 0.6529486724369181, 0.6527377464881545, 0.652672406708902, 0.6436128749154818, 0.643513359003679, 0.6414001001813835, 0.6412779906257216, 0.6411613347082326, 0.6390610087993186, 0.6387887424059626, 0.638238807920489, 0.637537677809098, 0.6364364064740492, 2.3140137878059686, 1.2003534488894645, 0.8500307944258825, 1.1858804280879731, 1.1861864550985899, 1.1859622845999778, 0.8358716434860946, 6.145674316674007, 2.3100281651503862, 1.2250354725929913, 1.7974154707251222, 1.1804756129615674, 1.8133544294674908, 1.3115918780357512, 2.848257584922602, 2.1335814673406523, 1.3199734446951625, 1.1366642002451108, 1.2421884631320599, 1.3421672589671536, 1.229952057254394, 1.7717162655932317, 1.3692638420171763, 2.047932131774575, 1.4946132742690958, 2.0589339378487175, 1.1946588118487274, 1.15264356784937, 1.5680695214264235, 1.1651287635065428, 1.232407544856892, 1.2030389242046258, 1.2147517808176929, 1.1856185495768512, 1.6519273291081569, 1.5005975681515038, 1.4983411213416233, 1.4876438522604425, 1.9664677911871744, 1.4199849081869704, 0.9099132764496418, 0.9099039367630506, 0.9098535883376339, 0.9098263207468965, 0.9098214898745217, 0.9098179472347803, 0.90980270314862, 0.9097989458034397, 0.9097995899197563, 0.9097986237452813, 0.9097419415094177, 0.9096957798400591, 0.9096740945907326, 0.9096023829741475, 0.9094510156397391, 0.8988534235585569, 0.898406889922052, 0.8978319624330985, 0.8942884638698684, 0.8941379553572154, 0.8937812759468806, 0.8929820349506601, 0.8929243328639619, 0.892117308795582, 2.406217379939917, 2.4415922480493317, 2.8185918105303727, 2.034526409435116, 1.619251737776307, 2.920389241443485, 3.5825500472747756, 16.857374239790342, 2.1487780440357414, 3.520363837485565, 2.6898585087829163, 4.518948742547997, 4.220185265528557, 7.005272077616698, 5.880391636359821, 1.703490343192599, 1.4973345822441668, 3.310955611196301, 1.6541720744716184, 2.0931641824360026, 6.408851715409791, 2.6387427261276555, 4.58625760940338, 4.083274907141461, 4.440150987658293, 3.2352002323754876, 3.0424881451296346, 2.568663085583562, 3.068813393695812, 2.962409672297028, 2.7116300696959463, 2.480601005711744, 3.1681560973262406, 2.677737742641979, 2.2966656473963147, 2.4935322848844423, 2.410996078893008, 2.39571828397882], \"Term\": [\"chicago\", \"park\", \"concert\", \"easy\", \"space\", \"music\", \"walk\", \"around\", \"art\", \"spent\", \"place\", \"taking\", \"much\", \"dog\", \"free\", \"one\", \"venue\", \"well\", \"nice\", \"pavilion\", \"water\", \"offer\", \"restaurant\", \"fountain\", \"thing\", \"garden\", \"photo\", \"gate\", \"bean\", \"really\", \"wall\", \"explore\", \"feature\", \"sunny\", \"january\", \"central\", \"rock\", \"staying\", \"june\", \"peaceful\", \"rest\", \"beyond\", \"ice\", \"talk\", \"grass\", \"wander\", \"bit\", \"playground\", \"nearby\", \"stay\", \"long\", \"tour\", \"water\", \"done\", \"usually\", \"lunch\", \"pick\", \"camera\", \"quiet\", \"designed\", \"maggie\", \"walk\", \"little\", \"free\", \"going\", \"bar\", \"concert\", \"enjoy\", \"garden\", \"great\", \"kid\", \"spend\", \"also\", \"park\", \"plenty\", \"take\", \"time\", \"lot\", \"fun\", \"around\", \"way\", \"area\", \"bean\", \"day\", \"city\", \"nice\", \"event\", \"see\", \"fountain\", \"place\", \"summer\", \"loved\", \"millennium\", \"attended\", \"old\", \"tall\", \"beauty\", \"favorite\", \"attend\", \"sculptor\", \"main\", \"accessing\", \"monument\", \"culture\", \"house\", \"gospel\", \"regardless\", \"terrific\", \"prytzker\", \"strolling\", \"season\", \"added\", \"pancake\", \"neighboring\", \"brunch\", \"wildberry\", \"fan\", \"tasty\", \"occurring\", \"university\", \"room\", \"waiting\", \"mean\", \"space\", \"theatre\", \"pavillion\", \"allowed\", \"venue\", \"breathtaking\", \"slide\", \"one\", \"festival\", \"dog\", \"lovely\", \"much\", \"pritzker\", \"around\", \"place\", \"concert\", \"park\", \"blue\", \"went\", \"nice\", \"chicago\", \"location\", \"really\", \"watching\", \"spot\", \"fun\", \"amazing\", \"music\", \"city\", \"bean\", \"area\", \"would\", \"family\", \"also\", \"summer\", \"picnic\", \"millennium\", \"lot\", \"part\", \"play\", \"along\", \"strolled\", \"took\", \"wish\", \"several\", \"like\", \"especially\", \"recommended\", \"keep\", \"spent\", \"sky\", \"enjoying\", \"middle\", \"weekend\", \"came\", \"admission\", \"posted\", \"received\", \"felt\", \"bag\", \"son\", \"hussle\", \"instantly\", \"beg\", \"memorial\", \"instagram\", \"younger\", \"searched\", \"change\", \"sister\", \"activity\", \"picture\", \"photo\", \"night\", \"run\", \"interesting\", \"fantastic\", \"playing\", \"splash\", \"day\", \"big\", \"stopped\", \"chicago\", \"offer\", \"visit\", \"child\", \"bean\", \"area\", \"see\", \"place\", \"lot\", \"park\", \"beautiful\", \"great\", \"fountain\", \"nice\", \"city\", \"event\", \"walking\", \"time\", \"fun\", \"kid\", \"millennium\", \"summer\", \"must\", \"contemporary\", \"minute\", \"obligatory\", \"list\", \"plethora\", \"cart\", \"popular\", \"strange\", \"blossom\", \"exhibit\", \"flying\", \"kit\", \"\\u00aafeaturing\", \"prikster\", \"strenuous\", \"provides\", \"become\", \"cooler\", \"object\", \"degree\", \"accessible\", \"transportation\", \"local\", \"attactions\", \"prairie\", \"constant\", \"neat\", \"option\", \"nature\", \"nestled\", \"easy\", \"dog\", \"plan\", \"institute\", \"reflection\", \"artwork\", \"sometimes\", \"park\", \"music\", \"thing\", \"well\", \"pavilion\", \"art\", \"restaurant\", \"bean\", \"fountain\", \"gate\", \"taking\", \"spent\", \"cloud\", \"offer\", \"beautiful\", \"people\", \"see\", \"garden\", \"chicago\", \"event\", \"photo\", \"concert\", \"much\", \"time\", \"summer\", \"day\", \"around\", \"series\", \"solo\", \"put\", \"drive\", \"piece\", \"tree\", \"traveling\", \"plant\", \"remarkable\", \"away\", \"\\u00aaespecially\", \"showed\", \"cheap\", \"wiz\", \"refreshment\", \"paid\", \"outstanding\", \"structure\", \"silver\", \"landscaping\", \"discovering\", \"gorgous\", \"traffic\", \"ampitheatre\", \"hang\", \"spotlessly\", \"noise\", \"second\", \"film\", \"either\", \"taking\", \"huge\", \"lake\", \"street\", \"cool\", \"right\", \"family\", \"park\", \"parking\", \"art\", \"close\", \"millennium\", \"music\", \"chicago\", \"see\", \"else\", \"tower\", \"must\", \"attraction\", \"made\", \"great\", \"people\", \"city\", \"free\", \"bean\", \"around\", \"walk\", \"loved\", \"beautiful\", \"summer\", \"visit\", \"enjoy\", \"concert\", \"fountain\", \"picnic\", \"day\", \"area\", \"lot\"], \"Total\": [26.0, 70.0, 24.0, 5.0, 5.0, 12.0, 12.0, 13.0, 9.0, 5.0, 15.0, 4.0, 9.0, 3.0, 15.0, 6.0, 4.0, 8.0, 13.0, 3.0, 14.0, 5.0, 4.0, 14.0, 4.0, 11.0, 8.0, 5.0, 25.0, 7.0, 3.9924499422605315, 3.9881757676554805, 4.777209516065544, 2.378249755782975, 2.3782317833914135, 2.3782079630421427, 3.1842659433124436, 2.3696557849032653, 2.367873017031846, 2.3739445663311427, 3.162318285788541, 2.372301822856791, 2.373416960817967, 2.361734746137292, 2.3730596539226188, 2.355204273592432, 2.3558601413105746, 2.3592731503310556, 2.340444573668094, 2.34288918736428, 3.16230650247222, 2.340116597318872, 14.405897072219584, 2.3400255946694255, 1.5449127111648577, 1.5449057208603005, 1.5449048104510597, 1.544906346707188, 1.5449085217971592, 1.5449020020963427, 4.739505538726296, 12.303805479308277, 3.9587029650049104, 15.881331238560847, 7.005141938281745, 2.92398725372524, 24.05841840035957, 10.82059666932077, 11.282540061665815, 31.14066798634741, 15.538475986987, 7.8421006122802535, 11.290503737956493, 70.48016530433557, 5.544311024848689, 7.900959626098021, 14.43953355345716, 18.426674064916345, 14.389361829875503, 13.803736571067045, 4.74313616357787, 16.21620958536745, 25.966096255209916, 19.922751201411895, 18.92541906311591, 13.59336510960811, 9.002831170843484, 22.459041561530025, 14.75836071787786, 15.7392124466666, 13.351871304833278, 9.123358303385288, 13.738046130363802, 1.991682626222233, 2.006982978808364, 2.007500197275621, 2.0172566133465457, 2.027200790577153, 1.3514358558977335, 1.351438380027274, 1.3514435234194908, 1.351443039536336, 1.3514422263694568, 1.3514415851981738, 1.3514500955957172, 1.351452992129626, 1.351443092212939, 1.3514612462991873, 1.3514529079689053, 1.351465757192322, 1.3514624333285918, 1.3516291069745927, 1.351642450218839, 1.3516460717377794, 1.3516705503172866, 1.351670092891079, 1.3516989478354127, 1.3517376985884506, 1.3517338399465844, 1.3517386088233656, 1.3517760706385378, 1.351840997184837, 1.351735943590721, 5.639301248097092, 2.0551285222981384, 2.7452158601885737, 2.0625346288314077, 4.125633495218311, 2.759006868815375, 2.784437393891191, 6.548110831551321, 5.760685354771678, 3.095764149048981, 6.370210490769852, 9.08993164041028, 2.7857000950944473, 13.803736571067045, 15.7392124466666, 24.05841840035957, 70.48016530433557, 7.430449336215716, 7.337775634478568, 13.59336510960811, 26.93880974391537, 3.667190188567836, 7.457783755416145, 5.111186781469916, 4.358944607492846, 14.389361829875503, 5.826564512856789, 12.633928445144853, 18.92541906311591, 25.966096255209916, 16.21620958536745, 7.477817861931891, 8.953580843437967, 11.290503737956493, 13.351871304833278, 9.103788022590479, 13.738046130363802, 18.426674064916345, 3.8313018513944246, 5.420704800340013, 2.275140395546846, 2.2754070113960903, 2.2716332494380524, 2.268235166207248, 2.260419265814657, 4.591451788932548, 2.252583444067451, 2.2695706693690707, 3.0195886236022003, 5.6869430115626525, 2.1993493633117978, 3.8120924703991723, 3.0379899443436504, 3.7945280817107854, 2.232393401959103, 1.4916630544419647, 1.4916591345667136, 1.4916606205939718, 1.4916609306447468, 1.4916599059124966, 1.491657510799513, 1.4916584957643286, 1.4916607547434781, 1.4916564937285393, 1.491660264700672, 1.4916585153356035, 1.4916567955775042, 1.491656022372021, 3.559102756153655, 2.1991834039843003, 7.519604977866896, 9.12748693122704, 8.089987994097939, 5.99065685517417, 3.7959474118090784, 2.81589381323148, 2.811684863127245, 2.2634199072789403, 2.260926180124639, 19.922751201411895, 8.260499559245112, 2.817272136299735, 26.93880974391537, 5.7122080006267435, 11.634913703806944, 6.930935424539878, 25.966096255209916, 16.21620958536745, 22.459041561530025, 15.7392124466666, 18.426674064916345, 70.48016530433557, 13.980106005972678, 31.14066798634741, 14.75836071787786, 13.59336510960811, 18.92541906311591, 9.002831170843484, 7.559373594622108, 14.43953355345716, 14.389361829875503, 15.538475986987, 13.738046130363802, 13.351871304833278, 10.492245871501906, 1.8104611504196435, 1.8263992492516297, 1.257317450728689, 1.2573212566799166, 1.2573216486803203, 1.2573355041089902, 1.257339256708628, 1.2573425949525763, 1.2573490085682903, 1.2573672773994071, 1.25737228548148, 1.2573776510015298, 1.2573746090257747, 1.257404000216278, 1.2576961031502265, 1.2577594107846748, 1.257758220142469, 1.2577996637363693, 1.2578719130421647, 1.2579085682709539, 1.2616664478339235, 1.26170456623901, 1.262529009943756, 1.262581978654201, 1.26262537406106, 1.2640633562662977, 1.2641835551077192, 1.2644220998480924, 1.264723289862785, 1.2644639139981204, 5.963357667720812, 3.095764149048981, 1.9669232456917696, 3.3884915258511956, 3.4158580636065294, 3.4226921589035233, 1.9750188506338482, 70.48016530433557, 12.633928445144853, 4.123431425729362, 8.415050892384764, 3.895938827928221, 9.362578210530666, 4.956355905823571, 25.966096255209916, 14.75836071787786, 5.429444955782174, 4.094266948021205, 5.6869430115626525, 6.953017845168446, 5.7122080006267435, 13.980106005972678, 7.80873023885692, 22.459041561530025, 11.282540061665815, 26.93880974391537, 9.002831170843484, 8.089987994097939, 24.05841840035957, 9.08993164041028, 14.43953355345716, 13.351871304833278, 19.922751201411895, 13.803736571067045, 2.2287783642301493, 2.232999160748375, 2.2351210825563785, 2.239875536380981, 2.9922572849076614, 2.232117996764501, 1.4699354906641726, 1.4699345737531908, 1.4699322302250852, 1.4699272287081078, 1.4699232930608206, 1.4699278942667617, 1.4699249682066307, 1.4699275121638118, 1.4699299050091363, 1.4699294263191702, 1.4699111501892874, 1.4699184219614871, 1.469910912952319, 1.469912282979568, 1.4698921947879042, 1.4709574688079576, 1.4702757658681578, 1.4710873175887955, 1.4703777307645334, 1.4703969977905935, 1.4704077347117184, 1.4704294527907344, 1.4704063776906158, 1.4704524874532092, 4.094266948021205, 4.509363453201101, 5.397531184790136, 3.778470890296262, 2.9961341022941683, 6.202037308504939, 8.953580843437967, 70.48016530433557, 4.633716803400024, 9.362578210530666, 6.58604354195828, 13.738046130363802, 12.633928445144853, 26.93880974391537, 22.459041561530025, 3.657914363027945, 3.0276170048176008, 10.492245871501906, 3.648829228010723, 5.35883226470195, 31.14066798634741, 7.80873023885692, 18.92541906311591, 15.881331238560847, 25.966096255209916, 13.803736571067045, 12.303805479308277, 9.123358303385288, 13.980106005972678, 13.351871304833278, 11.634913703806944, 10.82059666932077, 24.05841840035957, 14.75836071787786, 9.103788022590479, 19.922751201411895, 16.21620958536745, 18.426674064916345], \"loglift\": [30.0, 29.0, 28.0, 27.0, 26.0, 25.0, 24.0, 23.0, 22.0, 21.0, 20.0, 19.0, 18.0, 17.0, 16.0, 15.0, 14.0, 13.0, 12.0, 11.0, 10.0, 9.0, 8.0, 7.0, 6.0, 5.0, 4.0, 3.0, 2.0, 1.0, 1.0139, 1.0129, 0.9868, 0.9608, 0.9607, 0.9606, 0.953, 0.9507, 0.9486, 0.9444, 0.944, 0.9386, 0.9302, 0.9281, 0.928, 0.9045, 0.8818, 0.8816, 0.8687, 0.8568, 0.8561, 0.841, 0.8357, 0.8099, 0.7862, 0.7862, 0.7862, 0.7861, 0.7861, 0.7861, 0.7578, 0.727, 0.7542, 0.6858, 0.7073, 0.754, 0.6058, 0.6326, 0.6019, 0.3703, 0.4974, 0.6255, 0.5251, -0.0083, 0.6587, 0.5391, 0.3096, 0.2018, 0.2517, 0.2086, 0.6456, 0.0762, -0.157, -0.0371, -0.0503, 0.0789, 0.2818, -0.2841, -0.0747, -0.1825, -0.0625, 0.2426, -0.1888, 1.6927, 1.6257, 1.624, 1.5947, 1.5694, 1.4751, 1.4751, 1.4751, 1.4751, 1.475, 1.475, 1.475, 1.475, 1.475, 1.4749, 1.4749, 1.4749, 1.4748, 1.4743, 1.4743, 1.4742, 1.4741, 1.4741, 1.4739, 1.4738, 1.4737, 1.4737, 1.4735, 1.4732, 1.4728, 1.3885, 1.442, 1.3726, 1.4053, 1.2628, 1.306, 1.2793, 1.0049, 1.0068, 1.2043, 0.9411, 0.7951, 1.2192, 0.6294, 0.5494, 0.3508, -0.093, 0.7748, 0.7766, 0.5156, 0.2072, 1.0485, 0.6719, 0.8291, 0.8874, 0.0701, 0.6533, 0.0635, -0.271, -0.5974, -0.2425, 0.4278, 0.2302, 0.0127, -0.155, 0.1948, -0.2295, -0.5198, 1.0548, 0.9717, 0.9547, 0.9523, 0.9483, 0.9481, 0.9339, 0.9237, 0.9138, 0.9065, 0.8915, 0.8415, 0.8323, 0.8316, 0.8214, 0.8176, 0.8135, 0.8, 0.8, 0.8, 0.8, 0.8, 0.8, 0.8, 0.8, 0.8, 0.8, 0.8, 0.8, 0.8, 0.7782, 0.7895, 0.7425, 0.7235, 0.7271, 0.7396, 0.7531, 0.763, 0.7605, 0.7741, 0.7671, 0.5729, 0.6455, 0.741, 0.455, 0.6561, 0.5103, 0.5936, 0.3392, 0.4027, 0.3015, 0.3814, 0.3213, -0.0703, 0.3593, 0.0463, 0.2621, 0.287, 0.1635, 0.3995, 0.4592, 0.1606, 0.1574, 0.1075, 0.0959, 0.0613, 0.2181, 1.9207, 1.8761, 1.6949, 1.6949, 1.6949, 1.6949, 1.6948, 1.6948, 1.6948, 1.6947, 1.6947, 1.6947, 1.6947, 1.6945, 1.6926, 1.6922, 1.6921, 1.6918, 1.6914, 1.6913, 1.6743, 1.6741, 1.6702, 1.6699, 1.6697, 1.6653, 1.6648, 1.6637, 1.6624, 1.6609, 1.4007, 1.4, 1.5084, 1.2975, 1.2897, 1.2875, 1.4875, -0.0922, 0.6483, 1.1337, 0.8037, 1.1534, 0.7058, 1.018, 0.1373, 0.4134, 0.9332, 1.0659, 0.8261, 0.7025, 0.8118, 0.2817, 0.6064, -0.0475, 0.326, -0.224, 0.3277, 0.3988, -0.3833, 0.2931, -0.1136, -0.0594, -0.4499, -0.1073, 1.3218, 1.2239, 1.2214, 1.2121, 1.2016, 1.169, 1.1417, 1.1417, 1.1417, 1.1416, 1.1416, 1.1416, 1.1416, 1.1416, 1.1416, 1.1416, 1.1416, 1.1415, 1.1415, 1.1414, 1.1412, 1.1288, 1.1288, 1.1276, 1.1241, 1.1239, 1.1235, 1.1226, 1.1226, 1.1216, 1.0898, 1.0078, 0.9716, 1.0023, 1.006, 0.8682, 0.7054, 0.1908, 0.8529, 0.6432, 0.7259, 0.5095, 0.5248, 0.2744, 0.2813, 0.8571, 0.9173, 0.4679, 0.8302, 0.6813, 0.0405, 0.5364, 0.2039, 0.2631, -0.1448, 0.1705, 0.2241, 0.3539, 0.105, 0.1157, 0.1649, 0.1484, -0.406, -0.0855, 0.2441, -0.4568, -0.2846, -0.4188], \"logprob\": [30.0, 29.0, 28.0, 27.0, 26.0, 25.0, 24.0, 23.0, 22.0, 21.0, 20.0, 19.0, 18.0, 17.0, 16.0, 15.0, 14.0, 13.0, 12.0, 11.0, 10.0, 9.0, 8.0, 7.0, 6.0, 5.0, 4.0, 3.0, 2.0, 1.0, -5.356599807739258, -5.358699798583984, -5.2042999267578125, -5.927800178527832, -5.9278998374938965, -5.9278998374938965, -5.643700122833252, -5.941500186920166, -5.944300174713135, -5.946000099182129, -5.659599781036377, -5.952400207519531, -5.960400104522705, -5.967400074005127, -5.962800025939941, -5.993800163269043, -6.016200065612793, -6.014900207519531, -6.035900115966797, -6.046800136566162, -5.747499942779541, -6.063700199127197, -4.251500129699707, -6.094799995422363, -6.53380012512207, -6.53380012512207, -6.53380012512207, -6.53380012512207, -6.53380012512207, -6.53380012512207, -5.441100120544434, -4.51800012588501, -5.624800205230713, -4.303999900817871, -5.10099983215332, -5.9278998374938965, -3.968600034713745, -4.740799903869629, -4.729800224304199, -3.9460999965667725, -4.514200210571289, -5.069900035858154, -4.8059000968933105, -3.5078999996185303, -5.383399963378906, -5.148799896240234, -4.775400161743164, -4.6392998695373535, -4.836699962615967, -4.92140007019043, -5.552599906921387, -4.8927001953125, -4.655099868774414, -4.80019998550415, -4.864699840545654, -5.066400051116943, -5.275599956512451, -4.9274001121521, -5.137800216674805, -5.181300163269043, -5.225800037384033, -5.301400184631348, -5.323500156402588, -5.373300075531006, -5.432600021362305, -5.434000015258789, -5.458499908447266, -5.478799819946289, -5.978600025177002, -5.978600025177002, -5.978600025177002, -5.978700160980225, -5.978700160980225, -5.978700160980225, -5.978700160980225, -5.978700160980225, -5.978700160980225, -5.978799819946289, -5.978799819946289, -5.978799819946289, -5.978899955749512, -5.979300022125244, -5.979300022125244, -5.979400157928467, -5.979499816894531, -5.979499816894531, -5.979599952697754, -5.979800224304199, -5.979800224304199, -5.979800224304199, -5.980000019073486, -5.980299949645996, -5.9807000160217285, -4.63670015335083, -5.59250020980835, -5.372499942779541, -5.625699996948242, -5.074900150299072, -5.434000015258789, -5.451600074768066, -4.870800018310547, -4.997000217437744, -5.420599937438965, -4.962200164794922, -4.752600193023682, -5.511199951171875, -4.5005998611450195, -4.4492998123168945, -4.223599910736084, -3.592600107192993, -4.9745001792907715, -4.985199928283691, -4.629700183868408, -4.254199981689453, -5.4070000648498535, -5.073699951171875, -5.294400215148926, -5.395299911499023, -5.0183000564575195, -5.339200019836426, -5.15500020980835, -5.085400104522705, -5.0954999923706055, -5.211400032043457, -5.315100193023682, -5.332699775695801, -5.318299770355225, -5.318299770355225, -5.351399898529053, -5.364200115203857, -5.360899925231934, -5.356900215148926, -5.0929999351501465, -5.9781999588012695, -5.980400085449219, -5.986100196838379, -5.987800121307373, -6.00540018081665, -5.307000160217285, -6.0289998054504395, -6.028800010681152, -5.758299827575684, -5.175300121307373, -6.134500026702881, -5.585100173950195, -5.822299957275391, -5.603799819946289, -6.138400077819824, -6.554999828338623, -6.554999828338623, -6.554999828338623, -6.554999828338623, -6.554999828338623, -6.554999828338623, -6.554999828338623, -6.554999828338623, -6.554999828338623, -6.554999828338623, -6.554999828338623, -6.554999828338623, -6.554999828338623, -5.707200050354004, -6.177299976348877, -4.994900226593018, -4.820099830627441, -4.93720006942749, -5.225200176239014, -5.667900085449219, -5.956600189208984, -5.960599899291992, -6.163899898529053, -6.171999931335449, -4.190199851989746, -4.998000144958496, -5.978099822998047, -4.00629997253418, -5.356200218200684, -4.790599822998047, -5.225299835205078, -4.158999919891357, -4.566199779510498, -4.341700077056885, -4.617300033569336, -4.519800186157227, -3.5699000358581543, -4.757999897003174, -4.270100116729736, -4.801000118255615, -4.85830020904541, -4.650899887084961, -5.157899856567383, -5.272900104522705, -4.924300193786621, -4.931000232696533, -4.904099941253662, -5.038899898529053, -5.1020002365112305, -5.186200141906738, -5.240699768066406, -5.276500225067139, -5.830999851226807, -5.830999851226807, -5.830999851226807, -5.831099987030029, -5.831099987030029, -5.831099987030029, -5.831099987030029, -5.831200122833252, -5.831200122833252, -5.831200122833252, -5.831200122833252, -5.831299781799316, -5.833099842071533, -5.833399772644043, -5.833499908447266, -5.833799839019775, -5.834099769592285, -5.834199905395508, -5.848199844360352, -5.848299980163574, -5.851600170135498, -5.851799964904785, -5.8520002365112305, -5.855299949645996, -5.8557000160217285, -5.856599807739258, -5.857699871063232, -5.859399795532227, -4.56850004196167, -5.224899768829346, -5.570000171661377, -5.236999988555908, -5.236800193786621, -5.236999988555908, -5.5868000984191895, -3.5917999744415283, -4.570300102233887, -5.204599857330322, -4.821199893951416, -5.241600036621094, -4.812300205230713, -5.136300086975098, -4.360799789428711, -4.649700164794922, -5.129899978637695, -5.279399871826172, -5.1905999183654785, -5.1132001876831055, -5.200500011444092, -4.835599899291992, -5.093200206756592, -4.690700054168701, -5.00570011138916, -4.685299873352051, -5.229700088500977, -5.265500068664551, -4.957699775695801, -5.254700183868408, -5.198599815368652, -5.222700119018555, -5.2129998207092285, -5.237299919128418, -5.6315999031066895, -5.727700233459473, -5.7291998863220215, -5.736400127410889, -5.457300186157227, -5.782899856567383, -6.228000164031982, -6.228000164031982, -6.228000164031982, -6.228099822998047, -6.228099822998047, -6.228099822998047, -6.228099822998047, -6.228099822998047, -6.228099822998047, -6.228099822998047, -6.2281999588012695, -6.2281999588012695, -6.2281999588012695, -6.228300094604492, -6.228499889373779, -6.240200042724609, -6.240699768066406, -6.241300106048584, -6.245299816131592, -6.245500087738037, -6.2459001541137695, -6.246799945831299, -6.246799945831299, -6.247700214385986, -5.255499839782715, -5.240900039672852, -5.097300052642822, -5.423299789428711, -5.651599884033203, -5.061800003051758, -4.857500076293945, -3.308799982070923, -5.36870002746582, -4.875, -5.144100189208984, -4.62529993057251, -4.693699836730957, -4.1869001388549805, -4.3618998527526855, -5.600900173187256, -5.729899883270264, -4.936299800872803, -5.630300045013428, -5.394899845123291, -4.275899887084961, -5.163300037384033, -4.610499858856201, -4.7266998291015625, -4.642899990081787, -4.959499835968018, -5.020899772644043, -5.190199851989746, -5.01230001449585, -5.047599792480469, -5.136000156402588, -5.225100040435791, -4.980400085449219, -5.148600101470947, -5.30210018157959, -5.219900131225586, -5.253499984741211, -5.259900093078613]}, \"token.table\": {\"Topic\": [4, 2, 1, 2, 3, 2, 3, 2, 3, 1, 2, 3, 4, 5, 1, 2, 5, 5, 1, 2, 3, 5, 1, 2, 3, 4, 5, 1, 3, 4, 5, 1, 3, 4, 4, 2, 2, 2, 3, 5, 5, 3, 1, 4, 1, 2, 3, 4, 5, 1, 2, 3, 4, 5, 2, 4, 3, 1, 1, 2, 3, 5, 1, 4, 1, 2, 3, 5, 2, 3, 2, 3, 1, 4, 1, 3, 4, 5, 1, 2, 3, 4, 5, 1, 3, 5, 1, 2, 3, 4, 5, 1, 2, 3, 4, 5, 1, 2, 3, 4, 5, 1, 2, 3, 4, 5, 4, 4, 1, 5, 4, 2, 1, 2, 3, 4, 5, 4, 1, 5, 2, 4, 1, 5, 3, 4, 5, 5, 2, 3, 5, 1, 3, 4, 5, 3, 5, 3, 1, 3, 4, 4, 1, 1, 2, 3, 5, 2, 3, 4, 2, 1, 3, 1, 2, 3, 5, 5, 4, 1, 2, 3, 4, 5, 1, 3, 5, 1, 2, 3, 4, 5, 1, 2, 3, 4, 1, 2, 3, 4, 5, 1, 2, 3, 5, 2, 1, 1, 2, 3, 4, 5, 5, 2, 3, 5, 3, 1, 3, 3, 1, 4, 5, 3, 4, 1, 1, 3, 1, 3, 4, 5, 4, 1, 5, 5, 3, 5, 4, 1, 5, 4, 1, 2, 1, 1, 2, 3, 4, 5, 1, 3, 4, 5, 1, 2, 3, 4, 5, 1, 1, 3, 5, 1, 3, 2, 2, 3, 3, 5, 1, 2, 3, 5, 4, 2, 1, 2, 3, 4, 5, 1, 2, 3, 4, 5, 1, 2, 3, 4, 5, 4, 1, 4, 2, 4, 1, 2, 3, 5, 1, 2, 3, 5, 4, 4, 2, 1, 3, 4, 2, 1, 2, 5, 4, 5, 5, 2, 1, 2, 3, 4, 5, 1, 5, 3, 2, 4, 5, 2, 5, 1, 1, 2, 3, 4, 5, 1, 3, 4, 5, 1, 1, 2, 3, 5, 1, 2, 3, 5, 5, 1, 2, 3, 5, 4, 5, 1, 3, 1, 3, 1, 3, 4, 4, 3, 4, 4, 2, 5, 4, 2, 5, 1, 1, 2, 3, 3, 3, 1, 3, 4, 5, 2, 5, 1, 1, 3, 4, 1, 5, 1, 2, 3, 5, 2, 3, 2, 5, 1, 2, 3, 4, 5, 5, 3, 5, 5, 3, 3, 2, 3, 5, 1, 4, 3, 1, 2, 1, 2, 3, 3, 4, 3, 1, 2, 5, 5, 1, 1, 3, 4, 4, 3, 5, 4, 3, 2, 5, 1, 2, 3, 4, 5, 1, 1, 3, 4, 5, 1, 2, 2, 2, 2, 3, 4, 5, 1, 2, 3, 4, 5, 3, 1, 1, 5, 5, 4, 5, 5, 2, 1, 2, 5, 1, 3, 5, 2, 1, 4, 5, 1, 3, 4, 5, 1, 1, 1, 2, 3, 5, 1, 3, 5, 1, 3, 5, 3, 5, 1, 2, 3, 4, 5, 1, 2, 3, 5, 2, 3, 5, 1, 2, 3, 5, 3, 5, 4], \"Freq\": [0.7926025152819414, 0.7399497949562773, 0.13298570908224389, 0.13298570908224389, 0.5319428363289755, 0.7398479322765853, 0.6703926848775529, 0.48484034450688507, 0.879066629872433, 0.5314200446016557, 0.08857000743360928, 0.17714001486721856, 0.08857000743360928, 0.17714001486721856, 0.3432554459127393, 0.17162772295636966, 0.3432554459127393, 0.6797693026400791, 0.30833345941160656, 0.12333338376464262, 0.43166684317624915, 0.12333338376464262, 0.36222076350544946, 0.21733245810326968, 0.07244415270108989, 0.07244415270108989, 0.21733245810326968, 0.21361637307878265, 0.10680818653939132, 0.21361637307878265, 0.4272327461575653, 0.2921676719884604, 0.2921676719884604, 0.2921676719884604, 0.7920277787157316, 0.7399537282039322, 0.5020880268945116, 0.2740605102380147, 0.2740605102380147, 0.5481210204760294, 0.6803057868918325, 0.6703940999126524, 0.6839975097196287, 0.34199875485981435, 0.2695823019062982, 0.07702351483037093, 0.38511757415185466, 0.11553527224555639, 0.15404702966074185, 0.21459064750426923, 0.07153021583475641, 0.42918129500853847, 0.14306043166951282, 0.21459064750426923, 0.4957227520702193, 0.7950653662885445, 0.6703956334480223, 0.8430630456589816, 0.12105805379298214, 0.12105805379298214, 0.48423221517192855, 0.12105805379298214, 0.8489468304716051, 0.7953241249529224, 0.4037440892542149, 0.2691627261694766, 0.2691627261694766, 0.1345813630847383, 0.3624492607477148, 0.3624492607477148, 0.7398252479239585, 0.44794972029679914, 0.6472884276327812, 0.7953326671616174, 0.8409693479630147, 0.5619393810819368, 0.2809696905409684, 0.6803068330896109, 0.07424232989550465, 0.1484846597910093, 0.4454539793730279, 0.07424232989550465, 0.25984815463426625, 0.14428066902187114, 0.5771226760874846, 0.2885613380437423, 0.2641949424382676, 0.10567797697530704, 0.3170339309259211, 0.05283898848765352, 0.2641949424382676, 0.30367245331107, 0.151836226655535, 0.151836226655535, 0.151836226655535, 0.45550867996660505, 0.1438224411713377, 0.1438224411713377, 0.2876448823426754, 0.1438224411713377, 0.1438224411713377, 0.5403513973223487, 0.16626196840687654, 0.08313098420343827, 0.08313098420343827, 0.1246964763051574, 0.7910995877245666, 0.5523454616898086, 0.3337634317617127, 0.6675268635234254, 0.7950391694567958, 0.7399505912446531, 0.301163224864987, 0.05019387081083116, 0.5019387081083116, 0.05019387081083116, 0.10038774162166232, 0.7949703382452831, 0.6472902479529821, 0.6803220015358292, 0.3230220235954344, 0.3230220235954344, 0.8546915061766832, 0.4464533782157036, 0.33538152689144296, 0.33538152689144296, 0.33538152689144296, 0.6800627755963592, 0.27337982816312323, 0.27337982816312323, 0.5467596563262465, 0.5544980728291605, 0.09241634547152676, 0.09241634547152676, 0.18483269094305352, 0.5246462449507621, 0.26232312247538103, 0.8878694395394449, 0.4443046775057136, 0.4443046775057136, 0.1110761693764284, 0.7953125693459148, 0.7522236167047379, 0.11168715818687165, 0.11168715818687165, 0.33506147456061497, 0.4467486327474866, 0.7398097051132448, 0.7113172696656825, 0.35565863483284127, 0.49329104677159064, 0.8373088905873141, 0.6703936393693477, 0.1735904564153434, 0.3471809128306868, 0.1735904564153434, 0.3471809128306868, 0.6800841013560996, 0.7953094016360274, 0.27103281160180026, 0.06775820290045007, 0.33879101450225035, 0.13551640580090013, 0.20327460870135022, 0.5667031223520763, 0.1259340271893503, 0.2518680543787006, 0.3474789263842746, 0.1389915705537098, 0.3474789263842746, 0.0694957852768549, 0.0694957852768549, 0.5317951425128047, 0.08863252375213411, 0.26589757125640234, 0.08863252375213411, 0.18418088923344442, 0.18418088923344442, 0.18418088923344442, 0.18418088923344442, 0.18418088923344442, 0.5710091294711352, 0.1427522823677838, 0.2855045647355676, 0.6798293092800197, 0.7399443456958094, 0.842793815441614, 0.417460537638416, 0.032112349049108924, 0.2890111414419803, 0.032112349049108924, 0.19267409429465354, 0.6800973512296347, 0.7399459316026031, 0.22176078960548662, 0.44352157921097324, 0.6703947336736739, 0.8426669367487482, 0.6703947248777735, 0.6703937184242477, 0.2951165710083333, 0.2951165710083333, 0.2951165710083333, 0.710254055249629, 0.3551270276248145, 0.8409609248211938, 0.8446398880405425, 0.6623418780847412, 0.5148510064114239, 0.3217818790071399, 0.06435637580142799, 0.12871275160285597, 0.7953060078676262, 0.37053977671048194, 0.5558096650657229, 0.6803127040839212, 0.6533881085784984, 0.21779603619283278, 0.7953416795327239, 0.5052159805067666, 0.2526079902533833, 0.7920610078057126, 0.545376677281379, 0.2726883386406895, 0.6324497636255199, 0.3798840732374879, 0.054269153319641134, 0.3798840732374879, 0.054269153319641134, 0.10853830663928227, 0.3288262830680264, 0.21921752204535094, 0.10960876102267547, 0.3288262830680264, 0.313961367979584, 0.313961367979584, 0.156980683989792, 0.156980683989792, 0.156980683989792, 0.6472886898516611, 0.18660781875687585, 0.3732156375137517, 0.3732156375137517, 0.6329774225364079, 0.21099247417880262, 0.7399495300179095, 0.7397894572098322, 0.6703939386631497, 0.6583300263135317, 0.32916501315676583, 0.21837166446612855, 0.07279055482204286, 0.29116221928817143, 0.36395277411021426, 0.5475254112208773, 0.7399502401863092, 0.11001182842282238, 0.3300354852684671, 0.22002365684564476, 0.11001182842282238, 0.22002365684564476, 0.07915194425406884, 0.15830388850813767, 0.2374558327622065, 0.15830388850813767, 0.31660777701627535, 0.19061695889458902, 0.09530847944729451, 0.38123391778917803, 0.09530847944729451, 0.2859254383418835, 0.7906867913442901, 0.8545385020015545, 0.79102436980743, 0.739838646306517, 0.7908489826634044, 0.29426120520905497, 0.22069590390679122, 0.3678265065113187, 0.07356530130226374, 0.1669266032382231, 0.1669266032382231, 0.6677064129528923, 0.6800834737148983, 0.7949935042126021, 0.7953440870644414, 0.7397906085117439, 0.17506365312507527, 0.5251909593752259, 0.17506365312507527, 0.4982603293395866, 0.3054316048474973, 0.3054316048474973, 0.3054316048474973, 0.7908751358586187, 0.6803132283684121, 0.6803047698038716, 0.7398406285908629, 0.2979561683676725, 0.11350711175911334, 0.2695793904278942, 0.085130333819335, 0.24120261248811584, 0.43161895403976464, 0.43161895403976464, 0.7830236604584242, 0.2566775414519994, 0.2566775414519994, 0.2566775414519994, 0.36427007963275726, 0.36427007963275726, 0.8424796553236025, 0.12806179358379077, 0.12806179358379077, 0.25612358716758155, 0.12806179358379077, 0.38418538075137226, 0.1236095777558077, 0.6180478887790385, 0.1236095777558077, 0.1236095777558077, 0.6472890712975604, 0.3295331561494719, 0.10984438538315729, 0.21968877076631457, 0.21968877076631457, 0.21911836358347248, 0.10955918179173624, 0.5477959089586812, 0.10955918179173624, 0.6683917222250888, 0.2541423221494896, 0.2541423221494896, 0.38121348322423443, 0.1270711610747448, 0.5084082473428182, 0.6803023875047005, 0.1844778560782862, 0.7379114243131448, 0.8477187135874276, 0.44180931553358543, 0.5410951850562665, 0.36073012337084437, 0.7953414315657381, 0.7953302934465977, 0.6703944465774165, 0.7920005573653555, 0.7952893420316751, 0.35897618762370603, 0.35897618762370603, 0.7950646136498656, 0.739944391775291, 0.4474030547178538, 0.6472875163098468, 0.2681761855252935, 0.2681761855252935, 0.4022642782879402, 0.6703937787147622, 0.881223936752756, 0.29275221082932834, 0.29275221082932834, 0.29275221082932834, 0.6803045482592481, 0.7399497661144846, 0.680303472117809, 0.6324474070140252, 0.20176113640770424, 0.4035222728154085, 0.20176113640770424, 0.4837120208687005, 0.4837120208687005, 0.6280882425038573, 0.7397674967922983, 0.526877689026476, 0.263438844513238, 0.7399523461660298, 0.6703958452899932, 0.7399391765089944, 0.6800734289578433, 0.22262748774482316, 0.044525497548964635, 0.4007294779406817, 0.08905099509792927, 0.2671529852937878, 0.8973525730948252, 0.8847916093473916, 0.6803054788608022, 0.6803133381678881, 0.4547142353785873, 0.45467992338160956, 0.3591389780190108, 0.3591389780190108, 0.8956564046937273, 0.5063242812487928, 0.5063242812487928, 0.6703951763458157, 0.35465386791934084, 0.5319808018790113, 0.5100674165970586, 0.12751685414926464, 0.2550337082985293, 0.7033655853183737, 0.17584139632959342, 0.4422966166656854, 0.2294133305298354, 0.2294133305298354, 0.4588266610596708, 0.6800884397224639, 0.8536468608018009, 0.8440044384259144, 0.7099065703417783, 0.35495328517088914, 0.7953281818450741, 0.2646573254191703, 0.5293146508383406, 0.795104634176126, 0.8789636271591198, 0.7399373566648894, 0.6803098628191767, 0.2995834747562336, 0.0748958686890584, 0.2995834747562336, 0.0748958686890584, 0.2246876060671752, 0.8409545696942807, 0.506267616757263, 0.3797007125679472, 0.2442439666723023, 0.4884879333446046, 0.8468351508445547, 0.49813195603024113, 0.7397884967211079, 0.7399398264200167, 0.4865875730641675, 0.4850329236762402, 0.2425164618381201, 0.2425164618381201, 0.41552588785414474, 0.06925431464235746, 0.3462715732117873, 0.06925431464235746, 0.1385086292847149, 0.8804238098270273, 0.8546582688620936, 0.3302927676812428, 0.3302927676812428, 0.6801445165693303, 0.792578569308725, 0.6803019631481665, 0.44800498963294944, 0.7397879985616894, 0.6472857610485995, 0.4847740358706217, 0.4847740358706217, 0.25784462836354344, 0.42974104727257234, 0.25784462836354344, 0.7397319670600803, 0.6502053379707496, 0.0812756672463437, 0.24382700173903113, 0.2645721864339184, 0.39685827965087755, 0.1322860932169592, 0.2645721864339184, 0.7514183129122454, 0.8491832417361264, 0.1956492773117581, 0.3912985546235162, 0.3912985546235162, 0.1956492773117581, 0.6941601727312114, 0.1388320345462423, 0.1388320345462423, 0.6324929111326677, 0.21083097037755588, 0.21083097037755588, 0.5270747658028369, 0.2635373829014184, 0.2376693885250187, 0.11883469426250935, 0.11883469426250935, 0.2376693885250187, 0.2376693885250187, 0.2725621631986738, 0.2725621631986738, 0.2725621631986738, 0.1362810815993369, 0.739825498292343, 0.8817427883124798, 0.680305655704033, 0.267457704497138, 0.133728852248569, 0.40118655674570697, 0.133728852248569, 0.6703954977879772, 0.6803076083771014, 0.7953079319573736], \"Term\": [\"accessible\", \"accessing\", \"activity\", \"activity\", \"activity\", \"added\", \"admission\", \"allowed\", \"along\", \"also\", \"also\", \"also\", \"also\", \"also\", \"amazing\", \"amazing\", \"amazing\", \"ampitheatre\", \"area\", \"area\", \"area\", \"area\", \"around\", \"around\", \"around\", \"around\", \"around\", \"art\", \"art\", \"art\", \"art\", \"artwork\", \"artwork\", \"artwork\", \"attactions\", \"attend\", \"attended\", \"attraction\", \"attraction\", \"attraction\", \"away\", \"bag\", \"bar\", \"bar\", \"bean\", \"bean\", \"bean\", \"bean\", \"bean\", \"beautiful\", \"beautiful\", \"beautiful\", \"beautiful\", \"beautiful\", \"beauty\", \"become\", \"beg\", \"beyond\", \"big\", \"big\", \"big\", \"big\", \"bit\", \"blossom\", \"blue\", \"blue\", \"blue\", \"blue\", \"breathtaking\", \"breathtaking\", \"brunch\", \"came\", \"camera\", \"cart\", \"central\", \"change\", \"change\", \"cheap\", \"chicago\", \"chicago\", \"chicago\", \"chicago\", \"chicago\", \"child\", \"child\", \"child\", \"city\", \"city\", \"city\", \"city\", \"city\", \"close\", \"close\", \"close\", \"close\", \"close\", \"cloud\", \"cloud\", \"cloud\", \"cloud\", \"cloud\", \"concert\", \"concert\", \"concert\", \"concert\", \"concert\", \"constant\", \"contemporary\", \"cool\", \"cool\", \"cooler\", \"culture\", \"day\", \"day\", \"day\", \"day\", \"day\", \"degree\", \"designed\", \"discovering\", \"dog\", \"dog\", \"done\", \"drive\", \"easy\", \"easy\", \"easy\", \"either\", \"else\", \"else\", \"else\", \"enjoy\", \"enjoy\", \"enjoy\", \"enjoy\", \"enjoying\", \"enjoying\", \"especially\", \"event\", \"event\", \"event\", \"exhibit\", \"explore\", \"family\", \"family\", \"family\", \"family\", \"fan\", \"fantastic\", \"fantastic\", \"favorite\", \"feature\", \"felt\", \"festival\", \"festival\", \"festival\", \"festival\", \"film\", \"flying\", \"fountain\", \"fountain\", \"fountain\", \"fountain\", \"fountain\", \"free\", \"free\", \"free\", \"fun\", \"fun\", \"fun\", \"fun\", \"fun\", \"garden\", \"garden\", \"garden\", \"garden\", \"gate\", \"gate\", \"gate\", \"gate\", \"gate\", \"going\", \"going\", \"going\", \"gorgous\", \"gospel\", \"grass\", \"great\", \"great\", \"great\", \"great\", \"great\", \"hang\", \"house\", \"huge\", \"huge\", \"hussle\", \"ice\", \"instagram\", \"instantly\", \"institute\", \"institute\", \"institute\", \"interesting\", \"interesting\", \"january\", \"june\", \"keep\", \"kid\", \"kid\", \"kid\", \"kid\", \"kit\", \"lake\", \"lake\", \"landscaping\", \"like\", \"like\", \"list\", \"little\", \"little\", \"local\", \"location\", \"location\", \"long\", \"lot\", \"lot\", \"lot\", \"lot\", \"lot\", \"loved\", \"loved\", \"loved\", \"loved\", \"lovely\", \"lovely\", \"lovely\", \"lovely\", \"lovely\", \"lunch\", \"made\", \"made\", \"made\", \"maggie\", \"maggie\", \"main\", \"mean\", \"memorial\", \"middle\", \"middle\", \"millennium\", \"millennium\", \"millennium\", \"millennium\", \"minute\", \"monument\", \"much\", \"much\", \"much\", \"much\", \"much\", \"music\", \"music\", \"music\", \"music\", \"music\", \"must\", \"must\", \"must\", \"must\", \"must\", \"nature\", \"nearby\", \"neat\", \"neighboring\", \"nestled\", \"nice\", \"nice\", \"nice\", \"nice\", \"night\", \"night\", \"night\", \"noise\", \"object\", \"obligatory\", \"occurring\", \"offer\", \"offer\", \"offer\", \"old\", \"one\", \"one\", \"one\", \"option\", \"outstanding\", \"paid\", \"pancake\", \"park\", \"park\", \"park\", \"park\", \"park\", \"parking\", \"parking\", \"part\", \"pavilion\", \"pavilion\", \"pavilion\", \"pavillion\", \"pavillion\", \"peaceful\", \"people\", \"people\", \"people\", \"people\", \"people\", \"photo\", \"photo\", \"photo\", \"photo\", \"pick\", \"picnic\", \"picnic\", \"picnic\", \"picnic\", \"picture\", \"picture\", \"picture\", \"picture\", \"piece\", \"place\", \"place\", \"place\", \"place\", \"plan\", \"plant\", \"play\", \"play\", \"playground\", \"playing\", \"plenty\", \"plenty\", \"plethora\", \"popular\", \"posted\", \"prairie\", \"prikster\", \"pritzker\", \"pritzker\", \"provides\", \"prytzker\", \"put\", \"quiet\", \"really\", \"really\", \"really\", \"received\", \"recommended\", \"reflection\", \"reflection\", \"reflection\", \"refreshment\", \"regardless\", \"remarkable\", \"rest\", \"restaurant\", \"restaurant\", \"restaurant\", \"right\", \"right\", \"rock\", \"room\", \"run\", \"run\", \"sculptor\", \"searched\", \"season\", \"second\", \"see\", \"see\", \"see\", \"see\", \"see\", \"series\", \"several\", \"showed\", \"silver\", \"sister\", \"sky\", \"slide\", \"slide\", \"solo\", \"sometimes\", \"sometimes\", \"son\", \"space\", \"space\", \"spend\", \"spend\", \"spend\", \"spent\", \"spent\", \"splash\", \"spot\", \"spot\", \"spot\", \"spotlessly\", \"stay\", \"staying\", \"stopped\", \"stopped\", \"strange\", \"street\", \"street\", \"strenuous\", \"strolled\", \"strolling\", \"structure\", \"summer\", \"summer\", \"summer\", \"summer\", \"summer\", \"sunny\", \"take\", \"take\", \"taking\", \"taking\", \"talk\", \"tall\", \"tasty\", \"terrific\", \"theatre\", \"thing\", \"thing\", \"thing\", \"time\", \"time\", \"time\", \"time\", \"time\", \"took\", \"tour\", \"tower\", \"tower\", \"traffic\", \"transportation\", \"traveling\", \"tree\", \"university\", \"usually\", \"venue\", \"venue\", \"visit\", \"visit\", \"visit\", \"waiting\", \"walk\", \"walk\", \"walk\", \"walking\", \"walking\", \"walking\", \"walking\", \"wall\", \"wander\", \"watching\", \"watching\", \"watching\", \"watching\", \"water\", \"water\", \"water\", \"way\", \"way\", \"way\", \"weekend\", \"weekend\", \"well\", \"well\", \"well\", \"well\", \"well\", \"went\", \"went\", \"went\", \"went\", \"wildberry\", \"wish\", \"wiz\", \"would\", \"would\", \"would\", \"would\", \"younger\", \"\\u00aaespecially\", \"\\u00aafeaturing\"]}, \"R\": 30, \"lambda.step\": 0.01, \"plot.opts\": {\"xlab\": \"PC1\", \"ylab\": \"PC2\"}, \"topic.order\": [1, 2, 3, 4, 5]};\n",
       "\n",
       "function LDAvis_load_lib(url, callback){\n",
       "  var s = document.createElement('script');\n",
       "  s.src = url;\n",
       "  s.async = true;\n",
       "  s.onreadystatechange = s.onload = callback;\n",
       "  s.onerror = function(){console.warn(\"failed to load library \" + url);};\n",
       "  document.getElementsByTagName(\"head\")[0].appendChild(s);\n",
       "}\n",
       "\n",
       "if(typeof(LDAvis) !== \"undefined\"){\n",
       "   // already loaded: just create the visualization\n",
       "   !function(LDAvis){\n",
       "       new LDAvis(\"#\" + \"ldavis_el660430750171540162594136553\", ldavis_el660430750171540162594136553_data);\n",
       "   }(LDAvis);\n",
       "}else if(typeof define === \"function\" && define.amd){\n",
       "   // require.js is available: use it to load d3/LDAvis\n",
       "   require.config({paths: {d3: \"https://cdnjs.cloudflare.com/ajax/libs/d3/3.5.5/d3.min\"}});\n",
       "   require([\"d3\"], function(d3){\n",
       "      window.d3 = d3;\n",
       "      LDAvis_load_lib(\"https://cdn.rawgit.com/bmabey/pyLDAvis/files/ldavis.v1.0.0.js\", function(){\n",
       "        new LDAvis(\"#\" + \"ldavis_el660430750171540162594136553\", ldavis_el660430750171540162594136553_data);\n",
       "      });\n",
       "    });\n",
       "}else{\n",
       "    // require.js not available: dynamically load d3 & LDAvis\n",
       "    LDAvis_load_lib(\"https://cdnjs.cloudflare.com/ajax/libs/d3/3.5.5/d3.min.js\", function(){\n",
       "         LDAvis_load_lib(\"https://cdn.rawgit.com/bmabey/pyLDAvis/files/ldavis.v1.0.0.js\", function(){\n",
       "                 new LDAvis(\"#\" + \"ldavis_el660430750171540162594136553\", ldavis_el660430750171540162594136553_data);\n",
       "            })\n",
       "         });\n",
       "}\n",
       "</script>"
      ],
      "text/plain": [
       "<IPython.core.display.HTML object>"
      ]
     },
     "execution_count": 33,
     "metadata": {},
     "output_type": "execute_result"
    }
   ],
   "source": [
    "import pyLDAvis.gensim\n",
    "lda_display = pyLDAvis.gensim.prepare(lda_model, doc_term_matrix, dictionary, sort_topics=False)\n",
    "pyLDAvis.display(lda_display)"
   ]
  },
  {
   "cell_type": "code",
   "execution_count": null,
   "metadata": {
    "collapsed": true
   },
   "outputs": [],
   "source": []
  }
 ],
 "metadata": {
  "kernelspec": {
   "display_name": "Python 3",
   "language": "python",
   "name": "python3"
  },
  "language_info": {
   "codemirror_mode": {
    "name": "ipython",
    "version": 3
   },
   "file_extension": ".py",
   "mimetype": "text/x-python",
   "name": "python",
   "nbconvert_exporter": "python",
   "pygments_lexer": "ipython3",
   "version": "3.6.5"
  }
 },
 "nbformat": 4,
 "nbformat_minor": 2
}
